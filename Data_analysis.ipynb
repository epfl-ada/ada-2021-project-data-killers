{
 "cells": [
  {
   "cell_type": "code",
   "execution_count": 1,
   "metadata": {
    "colab": {
     "base_uri": "https://localhost:8080/"
    },
    "executionInfo": {
     "elapsed": 15599,
     "status": "ok",
     "timestamp": 1636739465750,
     "user": {
      "displayName": "Taha Zakariya",
      "photoUrl": "https://lh3.googleusercontent.com/a/default-user=s64",
      "userId": "04695355770412779331"
     },
     "user_tz": -60
    },
    "id": "yi-WILNIhjBi",
    "outputId": "bc4d5455-a3a8-485e-d204-26252bb9afed"
   },
   "outputs": [
    {
     "name": "stdout",
     "output_type": "stream",
     "text": [
      "Drive already mounted at /content/drive; to attempt to forcibly remount, call drive.mount(\"/content/drive\", force_remount=True).\n"
     ]
    }
   ],
   "source": [
    "from google.colab import drive\n",
    "drive.mount('/content/drive')"
   ]
  },
  {
   "cell_type": "code",
   "execution_count": null,
   "metadata": {
    "id": "rKpwaSkqhpPn"
   },
   "outputs": [],
   "source": [
    "cd /content/drive/MyDrive/Shared_ADA/"
   ]
  },
  {
   "cell_type": "markdown",
   "metadata": {
    "id": "hppeD0UtTUIA"
   },
   "source": [
    "# Useful Imports"
   ]
  },
  {
   "cell_type": "code",
   "execution_count": 7,
   "metadata": {
    "executionInfo": {
     "elapsed": 219,
     "status": "ok",
     "timestamp": 1636742852505,
     "user": {
      "displayName": "Taha Zakariya",
      "photoUrl": "https://lh3.googleusercontent.com/a/default-user=s64",
      "userId": "04695355770412779331"
     },
     "user_tz": -60
    },
    "id": "xCudn0S5h5XY"
   },
   "outputs": [],
   "source": [
    "import pandas as pd\n",
    "import numpy as np\n",
    "import matplotlib.pyplot as plt\n",
    "import plotly.graph_objects as go\n",
    "import plotly.express as px\n",
    "import seaborn as sns\n",
    "import string\n",
    "from scipy.ndimage.filters import gaussian_filter1d\n",
    "from helpers import *\n",
    "from tqdm import tqdm\n",
    "from datetime import *\n",
    "\n",
    "# Imports we will use for Bert model for sentiment analysis\n",
    "\n",
    "try:\n",
    "  from transformers import AutoModelForSequenceClassification, AutoTokenizer,AutoModelForTokenClassification\n",
    "except:\n",
    "  !pip install transformers\n",
    "  from transformers import AutoModelForSequenceClassification, AutoTokenizer,AutoModelForTokenClassification\n",
    "\n",
    "import torch\n",
    "from torch.utils.data import IterableDataset, DataLoader\n",
    "\n",
    "import json\n",
    "import csv"
   ]
  },
  {
   "cell_type": "markdown",
   "metadata": {
    "id": "Ib4DOh0hiCmo"
   },
   "source": [
    "# Data Analysis"
   ]
  },
  {
   "cell_type": "markdown",
   "metadata": {
    "id": "81-rC4rQiFx9"
   },
   "source": [
    "## Basic statstics"
   ]
  },
  {
   "cell_type": "markdown",
   "metadata": {
    "id": "qTC12_KuVccY"
   },
   "source": [
    "This section will mainly show how are our data points spread over time to see how can conclusions be drawn."
   ]
  },
  {
   "cell_type": "code",
   "execution_count": 8,
   "metadata": {
    "colab": {
     "base_uri": "https://localhost:8080/",
     "height": 289
    },
    "executionInfo": {
     "elapsed": 1306,
     "status": "ok",
     "timestamp": 1636739948118,
     "user": {
      "displayName": "Taha Zakariya",
      "photoUrl": "https://lh3.googleusercontent.com/a/default-user=s64",
      "userId": "04695355770412779331"
     },
     "user_tz": -60
    },
    "id": "gXnowVeZiCB0",
    "outputId": "6f3a7e2b-7b31-4ec4-b9ba-a04b575a5189"
   },
   "outputs": [
    {
     "data": {
      "text/html": [
       "<div>\n",
       "<style scoped>\n",
       "    .dataframe tbody tr th:only-of-type {\n",
       "        vertical-align: middle;\n",
       "    }\n",
       "\n",
       "    .dataframe tbody tr th {\n",
       "        vertical-align: top;\n",
       "    }\n",
       "\n",
       "    .dataframe thead th {\n",
       "        text-align: right;\n",
       "    }\n",
       "</style>\n",
       "<table border=\"1\" class=\"dataframe\">\n",
       "  <thead>\n",
       "    <tr style=\"text-align: right;\">\n",
       "      <th></th>\n",
       "      <th>quoteID</th>\n",
       "      <th>quotation</th>\n",
       "      <th>speaker</th>\n",
       "      <th>qids</th>\n",
       "      <th>date</th>\n",
       "      <th>numOccurrences</th>\n",
       "      <th>probas</th>\n",
       "      <th>urls</th>\n",
       "      <th>phase</th>\n",
       "    </tr>\n",
       "  </thead>\n",
       "  <tbody>\n",
       "    <tr>\n",
       "      <th>0</th>\n",
       "      <td>2015-10-04-032770</td>\n",
       "      <td>Litecoin Shows There Is a Simple Fix for Spam ...</td>\n",
       "      <td>Charlie Lee</td>\n",
       "      <td>['Q2960866', 'Q357856', 'Q50326813', 'Q55607117']</td>\n",
       "      <td>2015-10-04 18:48:44</td>\n",
       "      <td>1</td>\n",
       "      <td>[['Charlie Lee', '0.9254'], ['None', '0.0746']]</td>\n",
       "      <td>['http://cointelegraph.com/news/115374/the-ong...</td>\n",
       "      <td>E</td>\n",
       "    </tr>\n",
       "    <tr>\n",
       "      <th>1</th>\n",
       "      <td>2015-09-15-114302</td>\n",
       "      <td>We believe that you deserve to reap the benefi...</td>\n",
       "      <td>Vishal Gupta</td>\n",
       "      <td>['Q57623555']</td>\n",
       "      <td>2015-09-15 20:32:32</td>\n",
       "      <td>1</td>\n",
       "      <td>[['Vishal Gupta', '0.5501'], ['None', '0.2781'...</td>\n",
       "      <td>['http://benzinga.com/news/15/09/5835310/bitco...</td>\n",
       "      <td>E</td>\n",
       "    </tr>\n",
       "    <tr>\n",
       "      <th>2</th>\n",
       "      <td>2015-02-06-003563</td>\n",
       "      <td>AmEx needs to get into Bitcoin or one of the o...</td>\n",
       "      <td>Porter Bibb</td>\n",
       "      <td>['Q7231593']</td>\n",
       "      <td>2015-02-06 21:39:00</td>\n",
       "      <td>2</td>\n",
       "      <td>[['Porter Bibb', '0.8712'], ['None', '0.1288']]</td>\n",
       "      <td>['http://us.rd.yahoo.com/finance/external/inve...</td>\n",
       "      <td>E</td>\n",
       "    </tr>\n",
       "    <tr>\n",
       "      <th>3</th>\n",
       "      <td>2015-06-22-017667</td>\n",
       "      <td>If each bitcoin has a history and people know ...</td>\n",
       "      <td>Greg Maxwell</td>\n",
       "      <td>['Q46997142']</td>\n",
       "      <td>2015-06-22 14:45:56</td>\n",
       "      <td>1</td>\n",
       "      <td>[['Greg Maxwell', '0.966'], ['None', '0.034']]</td>\n",
       "      <td>['http://www.newsbtc.com/2015/06/22/how-blocks...</td>\n",
       "      <td>E</td>\n",
       "    </tr>\n",
       "    <tr>\n",
       "      <th>4</th>\n",
       "      <td>2015-10-07-012201</td>\n",
       "      <td>Bitcoin in its current incarnation is slow in ...</td>\n",
       "      <td>Ann Cairns</td>\n",
       "      <td>['Q28870363']</td>\n",
       "      <td>2015-10-07 17:02:57</td>\n",
       "      <td>1</td>\n",
       "      <td>[['Ann Cairns', '0.8585'], ['None', '0.1415']]</td>\n",
       "      <td>['http://cointelegraph.com/news/115390/masterc...</td>\n",
       "      <td>E</td>\n",
       "    </tr>\n",
       "  </tbody>\n",
       "</table>\n",
       "</div>"
      ],
      "text/plain": [
       "             quoteID                                          quotation  \\\n",
       "0  2015-10-04-032770  Litecoin Shows There Is a Simple Fix for Spam ...   \n",
       "1  2015-09-15-114302  We believe that you deserve to reap the benefi...   \n",
       "2  2015-02-06-003563  AmEx needs to get into Bitcoin or one of the o...   \n",
       "3  2015-06-22-017667  If each bitcoin has a history and people know ...   \n",
       "4  2015-10-07-012201  Bitcoin in its current incarnation is slow in ...   \n",
       "\n",
       "        speaker                                               qids  \\\n",
       "0   Charlie Lee  ['Q2960866', 'Q357856', 'Q50326813', 'Q55607117']   \n",
       "1  Vishal Gupta                                      ['Q57623555']   \n",
       "2   Porter Bibb                                       ['Q7231593']   \n",
       "3  Greg Maxwell                                      ['Q46997142']   \n",
       "4    Ann Cairns                                      ['Q28870363']   \n",
       "\n",
       "                  date  numOccurrences  \\\n",
       "0  2015-10-04 18:48:44               1   \n",
       "1  2015-09-15 20:32:32               1   \n",
       "2  2015-02-06 21:39:00               2   \n",
       "3  2015-06-22 14:45:56               1   \n",
       "4  2015-10-07 17:02:57               1   \n",
       "\n",
       "                                              probas  \\\n",
       "0    [['Charlie Lee', '0.9254'], ['None', '0.0746']]   \n",
       "1  [['Vishal Gupta', '0.5501'], ['None', '0.2781'...   \n",
       "2    [['Porter Bibb', '0.8712'], ['None', '0.1288']]   \n",
       "3     [['Greg Maxwell', '0.966'], ['None', '0.034']]   \n",
       "4     [['Ann Cairns', '0.8585'], ['None', '0.1415']]   \n",
       "\n",
       "                                                urls phase  \n",
       "0  ['http://cointelegraph.com/news/115374/the-ong...     E  \n",
       "1  ['http://benzinga.com/news/15/09/5835310/bitco...     E  \n",
       "2  ['http://us.rd.yahoo.com/finance/external/inve...     E  \n",
       "3  ['http://www.newsbtc.com/2015/06/22/how-blocks...     E  \n",
       "4  ['http://cointelegraph.com/news/115390/masterc...     E  "
      ]
     },
     "execution_count": 8,
     "metadata": {},
     "output_type": "execute_result"
    }
   ],
   "source": [
    "df_bitcoin = pd.read_csv('./Data/bitcoin_data.csv')\n",
    "df_bitcoin.head()"
   ]
  },
  {
   "cell_type": "markdown",
   "metadata": {
    "id": "t_v8ihucc4LZ"
   },
   "source": [
    "We start by adding time columns which will be useful to compartmentalize data over time for further analysis and pattern recognition."
   ]
  },
  {
   "cell_type": "code",
   "execution_count": 9,
   "metadata": {
    "executionInfo": {
     "elapsed": 204,
     "status": "ok",
     "timestamp": 1636740629431,
     "user": {
      "displayName": "Taha Zakariya",
      "photoUrl": "https://lh3.googleusercontent.com/a/default-user=s64",
      "userId": "04695355770412779331"
     },
     "user_tz": -60
    },
    "id": "yUgSusSLpPOH"
   },
   "outputs": [],
   "source": [
    "df_bitcoin['month'] = pd.to_datetime(df_bitcoin['date']).dt.to_period('M')\n",
    "df_bitcoin['day'] = pd.to_datetime(df_bitcoin['date']).dt.to_period('D')\n",
    "df_bitcoin['year'] = pd.to_datetime(df_bitcoin['date']).dt.to_period('Y')\n",
    "df_bitcoin['month_nb'] = pd.to_datetime(df_bitcoin['date']).dt.month"
   ]
  },
  {
   "cell_type": "code",
   "execution_count": 10,
   "metadata": {
    "colab": {
     "base_uri": "https://localhost:8080/",
     "height": 542
    },
    "executionInfo": {
     "elapsed": 1335,
     "status": "ok",
     "timestamp": 1636740653283,
     "user": {
      "displayName": "Taha Zakariya",
      "photoUrl": "https://lh3.googleusercontent.com/a/default-user=s64",
      "userId": "04695355770412779331"
     },
     "user_tz": -60
    },
    "id": "LkSka_jB8r2E",
    "outputId": "26b202cf-5cf7-4784-b9d9-fc43b9568ac0"
   },
   "outputs": [
    {
     "data": {
      "application/vnd.plotly.v1+json": {
       "config": {
        "plotlyServerURL": "https://plot.ly"
       },
       "data": [
        {
         "marker": {
          "color": "lightslategrey"
         },
         "type": "bar",
         "x": [
          "2015-01-01T00:00:00",
          "2015-02-01T00:00:00",
          "2015-03-01T00:00:00",
          "2015-04-01T00:00:00",
          "2015-05-01T00:00:00",
          "2015-06-01T00:00:00",
          "2015-07-01T00:00:00",
          "2015-08-01T00:00:00",
          "2015-09-01T00:00:00",
          "2015-10-01T00:00:00",
          "2015-11-01T00:00:00",
          "2015-12-01T00:00:00",
          "2016-01-01T00:00:00",
          "2016-02-01T00:00:00",
          "2016-03-01T00:00:00",
          "2016-04-01T00:00:00",
          "2016-05-01T00:00:00",
          "2016-06-01T00:00:00",
          "2016-07-01T00:00:00",
          "2016-08-01T00:00:00",
          "2016-09-01T00:00:00",
          "2016-10-01T00:00:00",
          "2016-11-01T00:00:00",
          "2016-12-01T00:00:00",
          "2017-01-01T00:00:00",
          "2017-02-01T00:00:00",
          "2017-03-01T00:00:00",
          "2017-04-01T00:00:00",
          "2017-05-01T00:00:00",
          "2017-06-01T00:00:00",
          "2017-07-01T00:00:00",
          "2017-08-01T00:00:00",
          "2017-09-01T00:00:00",
          "2017-10-01T00:00:00",
          "2017-11-01T00:00:00",
          "2017-12-01T00:00:00",
          "2018-01-01T00:00:00",
          "2018-02-01T00:00:00",
          "2018-03-01T00:00:00",
          "2018-04-01T00:00:00",
          "2018-05-01T00:00:00",
          "2018-06-01T00:00:00",
          "2018-07-01T00:00:00",
          "2018-08-01T00:00:00",
          "2018-09-01T00:00:00",
          "2018-10-01T00:00:00",
          "2018-11-01T00:00:00",
          "2018-12-01T00:00:00",
          "2019-01-01T00:00:00",
          "2019-02-01T00:00:00",
          "2019-03-01T00:00:00",
          "2019-04-01T00:00:00",
          "2019-05-01T00:00:00",
          "2019-06-01T00:00:00",
          "2019-07-01T00:00:00",
          "2019-08-01T00:00:00",
          "2019-09-01T00:00:00",
          "2019-10-01T00:00:00",
          "2019-11-01T00:00:00",
          "2019-12-01T00:00:00",
          "2020-01-01T00:00:00",
          "2020-02-01T00:00:00",
          "2020-03-01T00:00:00",
          "2020-04-01T00:00:00"
         ],
         "y": [
          238,
          148,
          147,
          125,
          74,
          81,
          155,
          176,
          187,
          147,
          128,
          252,
          29,
          83,
          3,
          49,
          273,
          14,
          120,
          149,
          112,
          5,
          6,
          186,
          3,
          53,
          229,
          202,
          324,
          260,
          356,
          460,
          625,
          721,
          984,
          1892,
          1198,
          901,
          641,
          662,
          534,
          454,
          344,
          351,
          267,
          902,
          552,
          314,
          252,
          272,
          175,
          216,
          354,
          354,
          341,
          323,
          225,
          248,
          323,
          187,
          214,
          256,
          178,
          75
         ]
        }
       ],
       "layout": {
        "template": {
         "data": {
          "bar": [
           {
            "error_x": {
             "color": "#2a3f5f"
            },
            "error_y": {
             "color": "#2a3f5f"
            },
            "marker": {
             "line": {
              "color": "#E5ECF6",
              "width": 0.5
             },
             "pattern": {
              "fillmode": "overlay",
              "size": 10,
              "solidity": 0.2
             }
            },
            "type": "bar"
           }
          ],
          "barpolar": [
           {
            "marker": {
             "line": {
              "color": "#E5ECF6",
              "width": 0.5
             },
             "pattern": {
              "fillmode": "overlay",
              "size": 10,
              "solidity": 0.2
             }
            },
            "type": "barpolar"
           }
          ],
          "carpet": [
           {
            "aaxis": {
             "endlinecolor": "#2a3f5f",
             "gridcolor": "white",
             "linecolor": "white",
             "minorgridcolor": "white",
             "startlinecolor": "#2a3f5f"
            },
            "baxis": {
             "endlinecolor": "#2a3f5f",
             "gridcolor": "white",
             "linecolor": "white",
             "minorgridcolor": "white",
             "startlinecolor": "#2a3f5f"
            },
            "type": "carpet"
           }
          ],
          "choropleth": [
           {
            "colorbar": {
             "outlinewidth": 0,
             "ticks": ""
            },
            "type": "choropleth"
           }
          ],
          "contour": [
           {
            "colorbar": {
             "outlinewidth": 0,
             "ticks": ""
            },
            "colorscale": [
             [
              0,
              "#0d0887"
             ],
             [
              0.1111111111111111,
              "#46039f"
             ],
             [
              0.2222222222222222,
              "#7201a8"
             ],
             [
              0.3333333333333333,
              "#9c179e"
             ],
             [
              0.4444444444444444,
              "#bd3786"
             ],
             [
              0.5555555555555556,
              "#d8576b"
             ],
             [
              0.6666666666666666,
              "#ed7953"
             ],
             [
              0.7777777777777778,
              "#fb9f3a"
             ],
             [
              0.8888888888888888,
              "#fdca26"
             ],
             [
              1,
              "#f0f921"
             ]
            ],
            "type": "contour"
           }
          ],
          "contourcarpet": [
           {
            "colorbar": {
             "outlinewidth": 0,
             "ticks": ""
            },
            "type": "contourcarpet"
           }
          ],
          "heatmap": [
           {
            "colorbar": {
             "outlinewidth": 0,
             "ticks": ""
            },
            "colorscale": [
             [
              0,
              "#0d0887"
             ],
             [
              0.1111111111111111,
              "#46039f"
             ],
             [
              0.2222222222222222,
              "#7201a8"
             ],
             [
              0.3333333333333333,
              "#9c179e"
             ],
             [
              0.4444444444444444,
              "#bd3786"
             ],
             [
              0.5555555555555556,
              "#d8576b"
             ],
             [
              0.6666666666666666,
              "#ed7953"
             ],
             [
              0.7777777777777778,
              "#fb9f3a"
             ],
             [
              0.8888888888888888,
              "#fdca26"
             ],
             [
              1,
              "#f0f921"
             ]
            ],
            "type": "heatmap"
           }
          ],
          "heatmapgl": [
           {
            "colorbar": {
             "outlinewidth": 0,
             "ticks": ""
            },
            "colorscale": [
             [
              0,
              "#0d0887"
             ],
             [
              0.1111111111111111,
              "#46039f"
             ],
             [
              0.2222222222222222,
              "#7201a8"
             ],
             [
              0.3333333333333333,
              "#9c179e"
             ],
             [
              0.4444444444444444,
              "#bd3786"
             ],
             [
              0.5555555555555556,
              "#d8576b"
             ],
             [
              0.6666666666666666,
              "#ed7953"
             ],
             [
              0.7777777777777778,
              "#fb9f3a"
             ],
             [
              0.8888888888888888,
              "#fdca26"
             ],
             [
              1,
              "#f0f921"
             ]
            ],
            "type": "heatmapgl"
           }
          ],
          "histogram": [
           {
            "marker": {
             "pattern": {
              "fillmode": "overlay",
              "size": 10,
              "solidity": 0.2
             }
            },
            "type": "histogram"
           }
          ],
          "histogram2d": [
           {
            "colorbar": {
             "outlinewidth": 0,
             "ticks": ""
            },
            "colorscale": [
             [
              0,
              "#0d0887"
             ],
             [
              0.1111111111111111,
              "#46039f"
             ],
             [
              0.2222222222222222,
              "#7201a8"
             ],
             [
              0.3333333333333333,
              "#9c179e"
             ],
             [
              0.4444444444444444,
              "#bd3786"
             ],
             [
              0.5555555555555556,
              "#d8576b"
             ],
             [
              0.6666666666666666,
              "#ed7953"
             ],
             [
              0.7777777777777778,
              "#fb9f3a"
             ],
             [
              0.8888888888888888,
              "#fdca26"
             ],
             [
              1,
              "#f0f921"
             ]
            ],
            "type": "histogram2d"
           }
          ],
          "histogram2dcontour": [
           {
            "colorbar": {
             "outlinewidth": 0,
             "ticks": ""
            },
            "colorscale": [
             [
              0,
              "#0d0887"
             ],
             [
              0.1111111111111111,
              "#46039f"
             ],
             [
              0.2222222222222222,
              "#7201a8"
             ],
             [
              0.3333333333333333,
              "#9c179e"
             ],
             [
              0.4444444444444444,
              "#bd3786"
             ],
             [
              0.5555555555555556,
              "#d8576b"
             ],
             [
              0.6666666666666666,
              "#ed7953"
             ],
             [
              0.7777777777777778,
              "#fb9f3a"
             ],
             [
              0.8888888888888888,
              "#fdca26"
             ],
             [
              1,
              "#f0f921"
             ]
            ],
            "type": "histogram2dcontour"
           }
          ],
          "mesh3d": [
           {
            "colorbar": {
             "outlinewidth": 0,
             "ticks": ""
            },
            "type": "mesh3d"
           }
          ],
          "parcoords": [
           {
            "line": {
             "colorbar": {
              "outlinewidth": 0,
              "ticks": ""
             }
            },
            "type": "parcoords"
           }
          ],
          "pie": [
           {
            "automargin": true,
            "type": "pie"
           }
          ],
          "scatter": [
           {
            "marker": {
             "colorbar": {
              "outlinewidth": 0,
              "ticks": ""
             }
            },
            "type": "scatter"
           }
          ],
          "scatter3d": [
           {
            "line": {
             "colorbar": {
              "outlinewidth": 0,
              "ticks": ""
             }
            },
            "marker": {
             "colorbar": {
              "outlinewidth": 0,
              "ticks": ""
             }
            },
            "type": "scatter3d"
           }
          ],
          "scattercarpet": [
           {
            "marker": {
             "colorbar": {
              "outlinewidth": 0,
              "ticks": ""
             }
            },
            "type": "scattercarpet"
           }
          ],
          "scattergeo": [
           {
            "marker": {
             "colorbar": {
              "outlinewidth": 0,
              "ticks": ""
             }
            },
            "type": "scattergeo"
           }
          ],
          "scattergl": [
           {
            "marker": {
             "colorbar": {
              "outlinewidth": 0,
              "ticks": ""
             }
            },
            "type": "scattergl"
           }
          ],
          "scattermapbox": [
           {
            "marker": {
             "colorbar": {
              "outlinewidth": 0,
              "ticks": ""
             }
            },
            "type": "scattermapbox"
           }
          ],
          "scatterpolar": [
           {
            "marker": {
             "colorbar": {
              "outlinewidth": 0,
              "ticks": ""
             }
            },
            "type": "scatterpolar"
           }
          ],
          "scatterpolargl": [
           {
            "marker": {
             "colorbar": {
              "outlinewidth": 0,
              "ticks": ""
             }
            },
            "type": "scatterpolargl"
           }
          ],
          "scatterternary": [
           {
            "marker": {
             "colorbar": {
              "outlinewidth": 0,
              "ticks": ""
             }
            },
            "type": "scatterternary"
           }
          ],
          "surface": [
           {
            "colorbar": {
             "outlinewidth": 0,
             "ticks": ""
            },
            "colorscale": [
             [
              0,
              "#0d0887"
             ],
             [
              0.1111111111111111,
              "#46039f"
             ],
             [
              0.2222222222222222,
              "#7201a8"
             ],
             [
              0.3333333333333333,
              "#9c179e"
             ],
             [
              0.4444444444444444,
              "#bd3786"
             ],
             [
              0.5555555555555556,
              "#d8576b"
             ],
             [
              0.6666666666666666,
              "#ed7953"
             ],
             [
              0.7777777777777778,
              "#fb9f3a"
             ],
             [
              0.8888888888888888,
              "#fdca26"
             ],
             [
              1,
              "#f0f921"
             ]
            ],
            "type": "surface"
           }
          ],
          "table": [
           {
            "cells": {
             "fill": {
              "color": "#EBF0F8"
             },
             "line": {
              "color": "white"
             }
            },
            "header": {
             "fill": {
              "color": "#C8D4E3"
             },
             "line": {
              "color": "white"
             }
            },
            "type": "table"
           }
          ]
         },
         "layout": {
          "annotationdefaults": {
           "arrowcolor": "#2a3f5f",
           "arrowhead": 0,
           "arrowwidth": 1
          },
          "autotypenumbers": "strict",
          "coloraxis": {
           "colorbar": {
            "outlinewidth": 0,
            "ticks": ""
           }
          },
          "colorscale": {
           "diverging": [
            [
             0,
             "#8e0152"
            ],
            [
             0.1,
             "#c51b7d"
            ],
            [
             0.2,
             "#de77ae"
            ],
            [
             0.3,
             "#f1b6da"
            ],
            [
             0.4,
             "#fde0ef"
            ],
            [
             0.5,
             "#f7f7f7"
            ],
            [
             0.6,
             "#e6f5d0"
            ],
            [
             0.7,
             "#b8e186"
            ],
            [
             0.8,
             "#7fbc41"
            ],
            [
             0.9,
             "#4d9221"
            ],
            [
             1,
             "#276419"
            ]
           ],
           "sequential": [
            [
             0,
             "#0d0887"
            ],
            [
             0.1111111111111111,
             "#46039f"
            ],
            [
             0.2222222222222222,
             "#7201a8"
            ],
            [
             0.3333333333333333,
             "#9c179e"
            ],
            [
             0.4444444444444444,
             "#bd3786"
            ],
            [
             0.5555555555555556,
             "#d8576b"
            ],
            [
             0.6666666666666666,
             "#ed7953"
            ],
            [
             0.7777777777777778,
             "#fb9f3a"
            ],
            [
             0.8888888888888888,
             "#fdca26"
            ],
            [
             1,
             "#f0f921"
            ]
           ],
           "sequentialminus": [
            [
             0,
             "#0d0887"
            ],
            [
             0.1111111111111111,
             "#46039f"
            ],
            [
             0.2222222222222222,
             "#7201a8"
            ],
            [
             0.3333333333333333,
             "#9c179e"
            ],
            [
             0.4444444444444444,
             "#bd3786"
            ],
            [
             0.5555555555555556,
             "#d8576b"
            ],
            [
             0.6666666666666666,
             "#ed7953"
            ],
            [
             0.7777777777777778,
             "#fb9f3a"
            ],
            [
             0.8888888888888888,
             "#fdca26"
            ],
            [
             1,
             "#f0f921"
            ]
           ]
          },
          "colorway": [
           "#636efa",
           "#EF553B",
           "#00cc96",
           "#ab63fa",
           "#FFA15A",
           "#19d3f3",
           "#FF6692",
           "#B6E880",
           "#FF97FF",
           "#FECB52"
          ],
          "font": {
           "color": "#2a3f5f"
          },
          "geo": {
           "bgcolor": "white",
           "lakecolor": "white",
           "landcolor": "#E5ECF6",
           "showlakes": true,
           "showland": true,
           "subunitcolor": "white"
          },
          "hoverlabel": {
           "align": "left"
          },
          "hovermode": "closest",
          "mapbox": {
           "style": "light"
          },
          "paper_bgcolor": "white",
          "plot_bgcolor": "#E5ECF6",
          "polar": {
           "angularaxis": {
            "gridcolor": "white",
            "linecolor": "white",
            "ticks": ""
           },
           "bgcolor": "#E5ECF6",
           "radialaxis": {
            "gridcolor": "white",
            "linecolor": "white",
            "ticks": ""
           }
          },
          "scene": {
           "xaxis": {
            "backgroundcolor": "#E5ECF6",
            "gridcolor": "white",
            "gridwidth": 2,
            "linecolor": "white",
            "showbackground": true,
            "ticks": "",
            "zerolinecolor": "white"
           },
           "yaxis": {
            "backgroundcolor": "#E5ECF6",
            "gridcolor": "white",
            "gridwidth": 2,
            "linecolor": "white",
            "showbackground": true,
            "ticks": "",
            "zerolinecolor": "white"
           },
           "zaxis": {
            "backgroundcolor": "#E5ECF6",
            "gridcolor": "white",
            "gridwidth": 2,
            "linecolor": "white",
            "showbackground": true,
            "ticks": "",
            "zerolinecolor": "white"
           }
          },
          "shapedefaults": {
           "line": {
            "color": "#2a3f5f"
           }
          },
          "ternary": {
           "aaxis": {
            "gridcolor": "white",
            "linecolor": "white",
            "ticks": ""
           },
           "baxis": {
            "gridcolor": "white",
            "linecolor": "white",
            "ticks": ""
           },
           "bgcolor": "#E5ECF6",
           "caxis": {
            "gridcolor": "white",
            "linecolor": "white",
            "ticks": ""
           }
          },
          "title": {
           "x": 0.05
          },
          "xaxis": {
           "automargin": true,
           "gridcolor": "white",
           "linecolor": "white",
           "ticks": "",
           "title": {
            "standoff": 15
           },
           "zerolinecolor": "white",
           "zerolinewidth": 2
          },
          "yaxis": {
           "automargin": true,
           "gridcolor": "white",
           "linecolor": "white",
           "ticks": "",
           "title": {
            "standoff": 15
           },
           "zerolinecolor": "white",
           "zerolinewidth": 2
          }
         }
        },
        "title": {
         "text": "Number of bitcoin quotations over 2015-2020 period in the Quotebank dataset"
        },
        "xaxis": {
         "title": {
          "text": "Date"
         }
        },
        "yaxis": {
         "title": {
          "text": "Number of quotes"
         }
        }
       }
      },
      "text/html": [
       "<div>                            <div id=\"a046ffe1-3324-40c9-a24a-5e4567eb0953\" class=\"plotly-graph-div\" style=\"height:525px; width:100%;\"></div>            <script type=\"text/javascript\">                require([\"plotly\"], function(Plotly) {                    window.PLOTLYENV=window.PLOTLYENV || {};                                    if (document.getElementById(\"a046ffe1-3324-40c9-a24a-5e4567eb0953\")) {                    Plotly.newPlot(                        \"a046ffe1-3324-40c9-a24a-5e4567eb0953\",                        [{\"marker\":{\"color\":\"lightslategrey\"},\"type\":\"bar\",\"x\":[\"2015-01-01T00:00:00\",\"2015-02-01T00:00:00\",\"2015-03-01T00:00:00\",\"2015-04-01T00:00:00\",\"2015-05-01T00:00:00\",\"2015-06-01T00:00:00\",\"2015-07-01T00:00:00\",\"2015-08-01T00:00:00\",\"2015-09-01T00:00:00\",\"2015-10-01T00:00:00\",\"2015-11-01T00:00:00\",\"2015-12-01T00:00:00\",\"2016-01-01T00:00:00\",\"2016-02-01T00:00:00\",\"2016-03-01T00:00:00\",\"2016-04-01T00:00:00\",\"2016-05-01T00:00:00\",\"2016-06-01T00:00:00\",\"2016-07-01T00:00:00\",\"2016-08-01T00:00:00\",\"2016-09-01T00:00:00\",\"2016-10-01T00:00:00\",\"2016-11-01T00:00:00\",\"2016-12-01T00:00:00\",\"2017-01-01T00:00:00\",\"2017-02-01T00:00:00\",\"2017-03-01T00:00:00\",\"2017-04-01T00:00:00\",\"2017-05-01T00:00:00\",\"2017-06-01T00:00:00\",\"2017-07-01T00:00:00\",\"2017-08-01T00:00:00\",\"2017-09-01T00:00:00\",\"2017-10-01T00:00:00\",\"2017-11-01T00:00:00\",\"2017-12-01T00:00:00\",\"2018-01-01T00:00:00\",\"2018-02-01T00:00:00\",\"2018-03-01T00:00:00\",\"2018-04-01T00:00:00\",\"2018-05-01T00:00:00\",\"2018-06-01T00:00:00\",\"2018-07-01T00:00:00\",\"2018-08-01T00:00:00\",\"2018-09-01T00:00:00\",\"2018-10-01T00:00:00\",\"2018-11-01T00:00:00\",\"2018-12-01T00:00:00\",\"2019-01-01T00:00:00\",\"2019-02-01T00:00:00\",\"2019-03-01T00:00:00\",\"2019-04-01T00:00:00\",\"2019-05-01T00:00:00\",\"2019-06-01T00:00:00\",\"2019-07-01T00:00:00\",\"2019-08-01T00:00:00\",\"2019-09-01T00:00:00\",\"2019-10-01T00:00:00\",\"2019-11-01T00:00:00\",\"2019-12-01T00:00:00\",\"2020-01-01T00:00:00\",\"2020-02-01T00:00:00\",\"2020-03-01T00:00:00\",\"2020-04-01T00:00:00\"],\"y\":[238,148,147,125,74,81,155,176,187,147,128,252,29,83,3,49,273,14,120,149,112,5,6,186,3,53,229,202,324,260,356,460,625,721,984,1892,1198,901,641,662,534,454,344,351,267,902,552,314,252,272,175,216,354,354,341,323,225,248,323,187,214,256,178,75]}],                        {\"template\":{\"data\":{\"bar\":[{\"error_x\":{\"color\":\"#2a3f5f\"},\"error_y\":{\"color\":\"#2a3f5f\"},\"marker\":{\"line\":{\"color\":\"#E5ECF6\",\"width\":0.5},\"pattern\":{\"fillmode\":\"overlay\",\"size\":10,\"solidity\":0.2}},\"type\":\"bar\"}],\"barpolar\":[{\"marker\":{\"line\":{\"color\":\"#E5ECF6\",\"width\":0.5},\"pattern\":{\"fillmode\":\"overlay\",\"size\":10,\"solidity\":0.2}},\"type\":\"barpolar\"}],\"carpet\":[{\"aaxis\":{\"endlinecolor\":\"#2a3f5f\",\"gridcolor\":\"white\",\"linecolor\":\"white\",\"minorgridcolor\":\"white\",\"startlinecolor\":\"#2a3f5f\"},\"baxis\":{\"endlinecolor\":\"#2a3f5f\",\"gridcolor\":\"white\",\"linecolor\":\"white\",\"minorgridcolor\":\"white\",\"startlinecolor\":\"#2a3f5f\"},\"type\":\"carpet\"}],\"choropleth\":[{\"colorbar\":{\"outlinewidth\":0,\"ticks\":\"\"},\"type\":\"choropleth\"}],\"contour\":[{\"colorbar\":{\"outlinewidth\":0,\"ticks\":\"\"},\"colorscale\":[[0.0,\"#0d0887\"],[0.1111111111111111,\"#46039f\"],[0.2222222222222222,\"#7201a8\"],[0.3333333333333333,\"#9c179e\"],[0.4444444444444444,\"#bd3786\"],[0.5555555555555556,\"#d8576b\"],[0.6666666666666666,\"#ed7953\"],[0.7777777777777778,\"#fb9f3a\"],[0.8888888888888888,\"#fdca26\"],[1.0,\"#f0f921\"]],\"type\":\"contour\"}],\"contourcarpet\":[{\"colorbar\":{\"outlinewidth\":0,\"ticks\":\"\"},\"type\":\"contourcarpet\"}],\"heatmap\":[{\"colorbar\":{\"outlinewidth\":0,\"ticks\":\"\"},\"colorscale\":[[0.0,\"#0d0887\"],[0.1111111111111111,\"#46039f\"],[0.2222222222222222,\"#7201a8\"],[0.3333333333333333,\"#9c179e\"],[0.4444444444444444,\"#bd3786\"],[0.5555555555555556,\"#d8576b\"],[0.6666666666666666,\"#ed7953\"],[0.7777777777777778,\"#fb9f3a\"],[0.8888888888888888,\"#fdca26\"],[1.0,\"#f0f921\"]],\"type\":\"heatmap\"}],\"heatmapgl\":[{\"colorbar\":{\"outlinewidth\":0,\"ticks\":\"\"},\"colorscale\":[[0.0,\"#0d0887\"],[0.1111111111111111,\"#46039f\"],[0.2222222222222222,\"#7201a8\"],[0.3333333333333333,\"#9c179e\"],[0.4444444444444444,\"#bd3786\"],[0.5555555555555556,\"#d8576b\"],[0.6666666666666666,\"#ed7953\"],[0.7777777777777778,\"#fb9f3a\"],[0.8888888888888888,\"#fdca26\"],[1.0,\"#f0f921\"]],\"type\":\"heatmapgl\"}],\"histogram\":[{\"marker\":{\"pattern\":{\"fillmode\":\"overlay\",\"size\":10,\"solidity\":0.2}},\"type\":\"histogram\"}],\"histogram2d\":[{\"colorbar\":{\"outlinewidth\":0,\"ticks\":\"\"},\"colorscale\":[[0.0,\"#0d0887\"],[0.1111111111111111,\"#46039f\"],[0.2222222222222222,\"#7201a8\"],[0.3333333333333333,\"#9c179e\"],[0.4444444444444444,\"#bd3786\"],[0.5555555555555556,\"#d8576b\"],[0.6666666666666666,\"#ed7953\"],[0.7777777777777778,\"#fb9f3a\"],[0.8888888888888888,\"#fdca26\"],[1.0,\"#f0f921\"]],\"type\":\"histogram2d\"}],\"histogram2dcontour\":[{\"colorbar\":{\"outlinewidth\":0,\"ticks\":\"\"},\"colorscale\":[[0.0,\"#0d0887\"],[0.1111111111111111,\"#46039f\"],[0.2222222222222222,\"#7201a8\"],[0.3333333333333333,\"#9c179e\"],[0.4444444444444444,\"#bd3786\"],[0.5555555555555556,\"#d8576b\"],[0.6666666666666666,\"#ed7953\"],[0.7777777777777778,\"#fb9f3a\"],[0.8888888888888888,\"#fdca26\"],[1.0,\"#f0f921\"]],\"type\":\"histogram2dcontour\"}],\"mesh3d\":[{\"colorbar\":{\"outlinewidth\":0,\"ticks\":\"\"},\"type\":\"mesh3d\"}],\"parcoords\":[{\"line\":{\"colorbar\":{\"outlinewidth\":0,\"ticks\":\"\"}},\"type\":\"parcoords\"}],\"pie\":[{\"automargin\":true,\"type\":\"pie\"}],\"scatter\":[{\"marker\":{\"colorbar\":{\"outlinewidth\":0,\"ticks\":\"\"}},\"type\":\"scatter\"}],\"scatter3d\":[{\"line\":{\"colorbar\":{\"outlinewidth\":0,\"ticks\":\"\"}},\"marker\":{\"colorbar\":{\"outlinewidth\":0,\"ticks\":\"\"}},\"type\":\"scatter3d\"}],\"scattercarpet\":[{\"marker\":{\"colorbar\":{\"outlinewidth\":0,\"ticks\":\"\"}},\"type\":\"scattercarpet\"}],\"scattergeo\":[{\"marker\":{\"colorbar\":{\"outlinewidth\":0,\"ticks\":\"\"}},\"type\":\"scattergeo\"}],\"scattergl\":[{\"marker\":{\"colorbar\":{\"outlinewidth\":0,\"ticks\":\"\"}},\"type\":\"scattergl\"}],\"scattermapbox\":[{\"marker\":{\"colorbar\":{\"outlinewidth\":0,\"ticks\":\"\"}},\"type\":\"scattermapbox\"}],\"scatterpolar\":[{\"marker\":{\"colorbar\":{\"outlinewidth\":0,\"ticks\":\"\"}},\"type\":\"scatterpolar\"}],\"scatterpolargl\":[{\"marker\":{\"colorbar\":{\"outlinewidth\":0,\"ticks\":\"\"}},\"type\":\"scatterpolargl\"}],\"scatterternary\":[{\"marker\":{\"colorbar\":{\"outlinewidth\":0,\"ticks\":\"\"}},\"type\":\"scatterternary\"}],\"surface\":[{\"colorbar\":{\"outlinewidth\":0,\"ticks\":\"\"},\"colorscale\":[[0.0,\"#0d0887\"],[0.1111111111111111,\"#46039f\"],[0.2222222222222222,\"#7201a8\"],[0.3333333333333333,\"#9c179e\"],[0.4444444444444444,\"#bd3786\"],[0.5555555555555556,\"#d8576b\"],[0.6666666666666666,\"#ed7953\"],[0.7777777777777778,\"#fb9f3a\"],[0.8888888888888888,\"#fdca26\"],[1.0,\"#f0f921\"]],\"type\":\"surface\"}],\"table\":[{\"cells\":{\"fill\":{\"color\":\"#EBF0F8\"},\"line\":{\"color\":\"white\"}},\"header\":{\"fill\":{\"color\":\"#C8D4E3\"},\"line\":{\"color\":\"white\"}},\"type\":\"table\"}]},\"layout\":{\"annotationdefaults\":{\"arrowcolor\":\"#2a3f5f\",\"arrowhead\":0,\"arrowwidth\":1},\"autotypenumbers\":\"strict\",\"coloraxis\":{\"colorbar\":{\"outlinewidth\":0,\"ticks\":\"\"}},\"colorscale\":{\"diverging\":[[0,\"#8e0152\"],[0.1,\"#c51b7d\"],[0.2,\"#de77ae\"],[0.3,\"#f1b6da\"],[0.4,\"#fde0ef\"],[0.5,\"#f7f7f7\"],[0.6,\"#e6f5d0\"],[0.7,\"#b8e186\"],[0.8,\"#7fbc41\"],[0.9,\"#4d9221\"],[1,\"#276419\"]],\"sequential\":[[0.0,\"#0d0887\"],[0.1111111111111111,\"#46039f\"],[0.2222222222222222,\"#7201a8\"],[0.3333333333333333,\"#9c179e\"],[0.4444444444444444,\"#bd3786\"],[0.5555555555555556,\"#d8576b\"],[0.6666666666666666,\"#ed7953\"],[0.7777777777777778,\"#fb9f3a\"],[0.8888888888888888,\"#fdca26\"],[1.0,\"#f0f921\"]],\"sequentialminus\":[[0.0,\"#0d0887\"],[0.1111111111111111,\"#46039f\"],[0.2222222222222222,\"#7201a8\"],[0.3333333333333333,\"#9c179e\"],[0.4444444444444444,\"#bd3786\"],[0.5555555555555556,\"#d8576b\"],[0.6666666666666666,\"#ed7953\"],[0.7777777777777778,\"#fb9f3a\"],[0.8888888888888888,\"#fdca26\"],[1.0,\"#f0f921\"]]},\"colorway\":[\"#636efa\",\"#EF553B\",\"#00cc96\",\"#ab63fa\",\"#FFA15A\",\"#19d3f3\",\"#FF6692\",\"#B6E880\",\"#FF97FF\",\"#FECB52\"],\"font\":{\"color\":\"#2a3f5f\"},\"geo\":{\"bgcolor\":\"white\",\"lakecolor\":\"white\",\"landcolor\":\"#E5ECF6\",\"showlakes\":true,\"showland\":true,\"subunitcolor\":\"white\"},\"hoverlabel\":{\"align\":\"left\"},\"hovermode\":\"closest\",\"mapbox\":{\"style\":\"light\"},\"paper_bgcolor\":\"white\",\"plot_bgcolor\":\"#E5ECF6\",\"polar\":{\"angularaxis\":{\"gridcolor\":\"white\",\"linecolor\":\"white\",\"ticks\":\"\"},\"bgcolor\":\"#E5ECF6\",\"radialaxis\":{\"gridcolor\":\"white\",\"linecolor\":\"white\",\"ticks\":\"\"}},\"scene\":{\"xaxis\":{\"backgroundcolor\":\"#E5ECF6\",\"gridcolor\":\"white\",\"gridwidth\":2,\"linecolor\":\"white\",\"showbackground\":true,\"ticks\":\"\",\"zerolinecolor\":\"white\"},\"yaxis\":{\"backgroundcolor\":\"#E5ECF6\",\"gridcolor\":\"white\",\"gridwidth\":2,\"linecolor\":\"white\",\"showbackground\":true,\"ticks\":\"\",\"zerolinecolor\":\"white\"},\"zaxis\":{\"backgroundcolor\":\"#E5ECF6\",\"gridcolor\":\"white\",\"gridwidth\":2,\"linecolor\":\"white\",\"showbackground\":true,\"ticks\":\"\",\"zerolinecolor\":\"white\"}},\"shapedefaults\":{\"line\":{\"color\":\"#2a3f5f\"}},\"ternary\":{\"aaxis\":{\"gridcolor\":\"white\",\"linecolor\":\"white\",\"ticks\":\"\"},\"baxis\":{\"gridcolor\":\"white\",\"linecolor\":\"white\",\"ticks\":\"\"},\"bgcolor\":\"#E5ECF6\",\"caxis\":{\"gridcolor\":\"white\",\"linecolor\":\"white\",\"ticks\":\"\"}},\"title\":{\"x\":0.05},\"xaxis\":{\"automargin\":true,\"gridcolor\":\"white\",\"linecolor\":\"white\",\"ticks\":\"\",\"title\":{\"standoff\":15},\"zerolinecolor\":\"white\",\"zerolinewidth\":2},\"yaxis\":{\"automargin\":true,\"gridcolor\":\"white\",\"linecolor\":\"white\",\"ticks\":\"\",\"title\":{\"standoff\":15},\"zerolinecolor\":\"white\",\"zerolinewidth\":2}}},\"title\":{\"text\":\"Number of bitcoin quotations over 2015-2020 period in the Quotebank dataset\"},\"xaxis\":{\"title\":{\"text\":\"Date\"}},\"yaxis\":{\"title\":{\"text\":\"Number of quotes\"}}},                        {\"responsive\": true}                    ).then(function(){\n",
       "                            \n",
       "var gd = document.getElementById('a046ffe1-3324-40c9-a24a-5e4567eb0953');\n",
       "var x = new MutationObserver(function (mutations, observer) {{\n",
       "        var display = window.getComputedStyle(gd).display;\n",
       "        if (!display || display === 'none') {{\n",
       "            console.log([gd, 'removed!']);\n",
       "            Plotly.purge(gd);\n",
       "            observer.disconnect();\n",
       "        }}\n",
       "}});\n",
       "\n",
       "// Listen for the removal of the full notebook cells\n",
       "var notebookContainer = gd.closest('#notebook-container');\n",
       "if (notebookContainer) {{\n",
       "    x.observe(notebookContainer, {childList: true});\n",
       "}}\n",
       "\n",
       "// Listen for the clearing of the current output cell\n",
       "var outputEl = gd.closest('.output');\n",
       "if (outputEl) {{\n",
       "    x.observe(outputEl, {childList: true});\n",
       "}}\n",
       "\n",
       "                        })                };                });            </script>        </div>"
      ]
     },
     "metadata": {},
     "output_type": "display_data"
    }
   ],
   "source": [
    "df_time = df_bitcoin.groupby('month')['quotation'].count()\n",
    "df_time = pd.DataFrame(df_time).rename(columns={'quotation':'count'}).reset_index()\n",
    "df_time['month'] = df_time['month'].apply(lambda x : x.to_timestamp())\n",
    "df_time['month'] = pd.to_datetime(df_time['month'])\n",
    "fig = go.Figure(data=[go.Bar(x=df_time['month'],y=df_time['count'], marker_color='lightslategrey')])\n",
    "fig.update_layout(\n",
    "  title=\"Number of bitcoin quotations over 2015-2020 period in the Quotebank dataset\",\n",
    "  xaxis_title=\"Date\",\n",
    "  yaxis_title=\"Number of quotes\",\n",
    "  )\n",
    "fig.show()"
   ]
  },
  {
   "cell_type": "markdown",
   "metadata": {
    "id": "qcCU69piAefR"
   },
   "source": [
    "## Basis stastics about speakers"
   ]
  },
  {
   "cell_type": "markdown",
   "metadata": {
    "id": "HlRAZW0RWJLM"
   },
   "source": [
    "When we talk about a subject as serious as bitcoin and crypto in general, the identity of the speaker is as important as the quote itself, so it's only natural to see how is data distributed over speakers over time. \n",
    "<br> In this subsection we first analyse the amount of data to see who are the most important and potentially influential speakers. Later on, we will leverage this information to analyse the behaviour and the feeling of these speakers independetly to make the best out of it."
   ]
  },
  {
   "cell_type": "code",
   "execution_count": 11,
   "metadata": {
    "executionInfo": {
     "elapsed": 338,
     "status": "ok",
     "timestamp": 1636741219308,
     "user": {
      "displayName": "Taha Zakariya",
      "photoUrl": "https://lh3.googleusercontent.com/a/default-user=s64",
      "userId": "04695355770412779331"
     },
     "user_tz": -60
    },
    "id": "PgIpaKIxAjNl"
   },
   "outputs": [],
   "source": [
    "speakers = df_bitcoin['probas'].apply(lambda x: split_speakers(x))\n",
    "\n",
    "# Take only the most probable speaker of each quote\n",
    "most_likely_speakers = speakers.apply(lambda x: x[0])\n",
    "counts_most_likely = most_likely_speakers.value_counts()\n",
    "\n",
    "# A new column of the most likely speaker so that we can groupby them if necessary\n",
    "df_bitcoin['most_likely_speaker'] = most_likely_speakers"
   ]
  },
  {
   "cell_type": "code",
   "execution_count": 12,
   "metadata": {
    "colab": {
     "base_uri": "https://localhost:8080/"
    },
    "executionInfo": {
     "elapsed": 215,
     "status": "ok",
     "timestamp": 1636741220634,
     "user": {
      "displayName": "Taha Zakariya",
      "photoUrl": "https://lh3.googleusercontent.com/a/default-user=s64",
      "userId": "04695355770412779331"
     },
     "user_tz": -60
    },
    "id": "rEhcmHFYAvZp",
    "outputId": "3f76499e-3eb6-4022-a978-00e0a3397c8c"
   },
   "outputs": [
    {
     "data": {
      "text/plain": [
       "Tom Lee         303\n",
       "Jamie Dimon     189\n",
       "Roger Ver       184\n",
       "Tim Draper      161\n",
       "Craig Wright    157\n",
       "Brian Kelly     150\n",
       "Charlie Lee     149\n",
       "Bobby Lee       148\n",
       "Jack Dorsey     145\n",
       "Name: probas, dtype: int64"
      ]
     },
     "execution_count": 12,
     "metadata": {},
     "output_type": "execute_result"
    }
   ],
   "source": [
    "counts_most_likely[1:10]"
   ]
  },
  {
   "cell_type": "markdown",
   "metadata": {
    "id": "NZ2Yd6kpBMS0"
   },
   "source": [
    "Distribution of quotations about bitcoin over most influential speakers during the 2015-2020 period."
   ]
  },
  {
   "cell_type": "code",
   "execution_count": 13,
   "metadata": {
    "colab": {
     "base_uri": "https://localhost:8080/",
     "height": 542
    },
    "executionInfo": {
     "elapsed": 543,
     "status": "ok",
     "timestamp": 1636741319447,
     "user": {
      "displayName": "Taha Zakariya",
      "photoUrl": "https://lh3.googleusercontent.com/a/default-user=s64",
      "userId": "04695355770412779331"
     },
     "user_tz": -60
    },
    "id": "dQe6RXV-BLTO",
    "outputId": "78a63c67-90a4-483c-bab8-0be8b6d60f29"
   },
   "outputs": [
    {
     "data": {
      "application/vnd.plotly.v1+json": {
       "config": {
        "plotlyServerURL": "https://plot.ly"
       },
       "data": [
        {
         "name": "Tom Lee",
         "type": "scatter",
         "x": [
          "2017-07-01T00:00:00",
          "2017-08-01T00:00:00",
          "2017-09-01T00:00:00",
          "2017-10-01T00:00:00",
          "2017-11-01T00:00:00",
          "2017-12-01T00:00:00",
          "2018-01-01T00:00:00",
          "2018-02-01T00:00:00",
          "2018-03-01T00:00:00",
          "2018-04-01T00:00:00",
          "2018-05-01T00:00:00",
          "2018-06-01T00:00:00",
          "2018-07-01T00:00:00",
          "2018-08-01T00:00:00",
          "2018-10-01T00:00:00",
          "2018-11-01T00:00:00",
          "2018-12-01T00:00:00",
          "2019-01-01T00:00:00",
          "2019-03-01T00:00:00",
          "2019-04-01T00:00:00",
          "2019-05-01T00:00:00",
          "2019-06-01T00:00:00",
          "2019-07-01T00:00:00",
          "2019-08-01T00:00:00",
          "2019-09-01T00:00:00",
          "2019-10-01T00:00:00",
          "2019-11-01T00:00:00",
          "2019-12-01T00:00:00",
          "2020-01-01T00:00:00",
          "2020-02-01T00:00:00"
         ],
         "y": [
          10,
          14,
          5,
          19,
          15,
          14,
          9,
          4,
          10,
          22,
          22,
          4,
          17,
          16,
          4,
          12,
          5,
          3,
          12,
          14,
          15,
          13,
          5,
          3,
          12,
          8,
          4,
          2,
          2,
          8
         ]
        },
        {
         "name": "Craig Wright",
         "type": "scatter",
         "x": [
          "2015-12-01T00:00:00",
          "2016-04-01T00:00:00",
          "2016-05-01T00:00:00",
          "2016-09-01T00:00:00",
          "2017-03-01T00:00:00",
          "2017-04-01T00:00:00",
          "2017-08-01T00:00:00",
          "2017-10-01T00:00:00",
          "2017-11-01T00:00:00",
          "2017-12-01T00:00:00",
          "2018-02-01T00:00:00",
          "2018-04-01T00:00:00",
          "2018-07-01T00:00:00",
          "2018-08-01T00:00:00",
          "2018-09-01T00:00:00",
          "2018-10-01T00:00:00",
          "2018-11-01T00:00:00",
          "2018-12-01T00:00:00",
          "2019-02-01T00:00:00",
          "2019-03-01T00:00:00",
          "2019-04-01T00:00:00",
          "2019-05-01T00:00:00",
          "2019-06-01T00:00:00",
          "2019-07-01T00:00:00",
          "2019-10-01T00:00:00",
          "2019-11-01T00:00:00",
          "2019-12-01T00:00:00",
          "2020-01-01T00:00:00",
          "2020-02-01T00:00:00",
          "2020-03-01T00:00:00",
          "2020-04-01T00:00:00"
         ],
         "y": [
          17,
          1,
          42,
          1,
          2,
          4,
          1,
          1,
          3,
          3,
          6,
          6,
          1,
          1,
          1,
          2,
          7,
          4,
          2,
          1,
          3,
          16,
          11,
          5,
          1,
          1,
          2,
          1,
          8,
          2,
          1
         ]
        },
        {
         "name": "Roger Ver",
         "type": "scatter",
         "x": [
          "2015-01-01T00:00:00",
          "2015-02-01T00:00:00",
          "2015-05-01T00:00:00",
          "2015-08-01T00:00:00",
          "2015-10-01T00:00:00",
          "2015-11-01T00:00:00",
          "2015-12-01T00:00:00",
          "2016-02-01T00:00:00",
          "2016-05-01T00:00:00",
          "2016-08-01T00:00:00",
          "2016-09-01T00:00:00",
          "2016-12-01T00:00:00",
          "2017-03-01T00:00:00",
          "2017-04-01T00:00:00",
          "2017-06-01T00:00:00",
          "2017-07-01T00:00:00",
          "2017-08-01T00:00:00",
          "2017-09-01T00:00:00",
          "2017-10-01T00:00:00",
          "2017-11-01T00:00:00",
          "2017-12-01T00:00:00",
          "2018-01-01T00:00:00",
          "2018-02-01T00:00:00",
          "2018-04-01T00:00:00",
          "2018-05-01T00:00:00",
          "2018-06-01T00:00:00",
          "2018-07-01T00:00:00",
          "2018-08-01T00:00:00",
          "2018-09-01T00:00:00",
          "2018-10-01T00:00:00",
          "2018-11-01T00:00:00",
          "2018-12-01T00:00:00",
          "2019-02-01T00:00:00",
          "2019-04-01T00:00:00",
          "2019-05-01T00:00:00",
          "2019-06-01T00:00:00",
          "2019-07-01T00:00:00",
          "2019-08-01T00:00:00",
          "2019-09-01T00:00:00",
          "2019-11-01T00:00:00",
          "2019-12-01T00:00:00",
          "2020-01-01T00:00:00",
          "2020-02-01T00:00:00"
         ],
         "y": [
          1,
          1,
          4,
          1,
          3,
          1,
          2,
          1,
          1,
          4,
          6,
          3,
          6,
          3,
          1,
          4,
          2,
          11,
          6,
          1,
          18,
          4,
          1,
          11,
          12,
          3,
          1,
          8,
          1,
          15,
          4,
          6,
          2,
          3,
          10,
          1,
          5,
          5,
          4,
          3,
          2,
          1,
          2
         ]
        },
        {
         "name": "Jamie Dimon",
         "type": "scatter",
         "x": [
          "2015-04-01T00:00:00",
          "2015-09-01T00:00:00",
          "2015-11-01T00:00:00",
          "2016-01-01T00:00:00",
          "2016-05-01T00:00:00",
          "2017-04-01T00:00:00",
          "2017-09-01T00:00:00",
          "2017-10-01T00:00:00",
          "2017-11-01T00:00:00",
          "2017-12-01T00:00:00",
          "2018-01-01T00:00:00",
          "2018-02-01T00:00:00",
          "2018-03-01T00:00:00",
          "2018-04-01T00:00:00",
          "2018-05-01T00:00:00",
          "2018-06-01T00:00:00",
          "2018-08-01T00:00:00",
          "2018-09-01T00:00:00",
          "2018-10-01T00:00:00",
          "2018-11-01T00:00:00",
          "2018-12-01T00:00:00",
          "2019-01-01T00:00:00",
          "2019-02-01T00:00:00"
         ],
         "y": [
          2,
          1,
          5,
          1,
          1,
          1,
          48,
          36,
          17,
          14,
          21,
          2,
          2,
          2,
          2,
          8,
          2,
          1,
          7,
          8,
          2,
          2,
          4
         ]
        }
       ],
       "layout": {
        "template": {
         "data": {
          "bar": [
           {
            "error_x": {
             "color": "#2a3f5f"
            },
            "error_y": {
             "color": "#2a3f5f"
            },
            "marker": {
             "line": {
              "color": "#E5ECF6",
              "width": 0.5
             },
             "pattern": {
              "fillmode": "overlay",
              "size": 10,
              "solidity": 0.2
             }
            },
            "type": "bar"
           }
          ],
          "barpolar": [
           {
            "marker": {
             "line": {
              "color": "#E5ECF6",
              "width": 0.5
             },
             "pattern": {
              "fillmode": "overlay",
              "size": 10,
              "solidity": 0.2
             }
            },
            "type": "barpolar"
           }
          ],
          "carpet": [
           {
            "aaxis": {
             "endlinecolor": "#2a3f5f",
             "gridcolor": "white",
             "linecolor": "white",
             "minorgridcolor": "white",
             "startlinecolor": "#2a3f5f"
            },
            "baxis": {
             "endlinecolor": "#2a3f5f",
             "gridcolor": "white",
             "linecolor": "white",
             "minorgridcolor": "white",
             "startlinecolor": "#2a3f5f"
            },
            "type": "carpet"
           }
          ],
          "choropleth": [
           {
            "colorbar": {
             "outlinewidth": 0,
             "ticks": ""
            },
            "type": "choropleth"
           }
          ],
          "contour": [
           {
            "colorbar": {
             "outlinewidth": 0,
             "ticks": ""
            },
            "colorscale": [
             [
              0,
              "#0d0887"
             ],
             [
              0.1111111111111111,
              "#46039f"
             ],
             [
              0.2222222222222222,
              "#7201a8"
             ],
             [
              0.3333333333333333,
              "#9c179e"
             ],
             [
              0.4444444444444444,
              "#bd3786"
             ],
             [
              0.5555555555555556,
              "#d8576b"
             ],
             [
              0.6666666666666666,
              "#ed7953"
             ],
             [
              0.7777777777777778,
              "#fb9f3a"
             ],
             [
              0.8888888888888888,
              "#fdca26"
             ],
             [
              1,
              "#f0f921"
             ]
            ],
            "type": "contour"
           }
          ],
          "contourcarpet": [
           {
            "colorbar": {
             "outlinewidth": 0,
             "ticks": ""
            },
            "type": "contourcarpet"
           }
          ],
          "heatmap": [
           {
            "colorbar": {
             "outlinewidth": 0,
             "ticks": ""
            },
            "colorscale": [
             [
              0,
              "#0d0887"
             ],
             [
              0.1111111111111111,
              "#46039f"
             ],
             [
              0.2222222222222222,
              "#7201a8"
             ],
             [
              0.3333333333333333,
              "#9c179e"
             ],
             [
              0.4444444444444444,
              "#bd3786"
             ],
             [
              0.5555555555555556,
              "#d8576b"
             ],
             [
              0.6666666666666666,
              "#ed7953"
             ],
             [
              0.7777777777777778,
              "#fb9f3a"
             ],
             [
              0.8888888888888888,
              "#fdca26"
             ],
             [
              1,
              "#f0f921"
             ]
            ],
            "type": "heatmap"
           }
          ],
          "heatmapgl": [
           {
            "colorbar": {
             "outlinewidth": 0,
             "ticks": ""
            },
            "colorscale": [
             [
              0,
              "#0d0887"
             ],
             [
              0.1111111111111111,
              "#46039f"
             ],
             [
              0.2222222222222222,
              "#7201a8"
             ],
             [
              0.3333333333333333,
              "#9c179e"
             ],
             [
              0.4444444444444444,
              "#bd3786"
             ],
             [
              0.5555555555555556,
              "#d8576b"
             ],
             [
              0.6666666666666666,
              "#ed7953"
             ],
             [
              0.7777777777777778,
              "#fb9f3a"
             ],
             [
              0.8888888888888888,
              "#fdca26"
             ],
             [
              1,
              "#f0f921"
             ]
            ],
            "type": "heatmapgl"
           }
          ],
          "histogram": [
           {
            "marker": {
             "pattern": {
              "fillmode": "overlay",
              "size": 10,
              "solidity": 0.2
             }
            },
            "type": "histogram"
           }
          ],
          "histogram2d": [
           {
            "colorbar": {
             "outlinewidth": 0,
             "ticks": ""
            },
            "colorscale": [
             [
              0,
              "#0d0887"
             ],
             [
              0.1111111111111111,
              "#46039f"
             ],
             [
              0.2222222222222222,
              "#7201a8"
             ],
             [
              0.3333333333333333,
              "#9c179e"
             ],
             [
              0.4444444444444444,
              "#bd3786"
             ],
             [
              0.5555555555555556,
              "#d8576b"
             ],
             [
              0.6666666666666666,
              "#ed7953"
             ],
             [
              0.7777777777777778,
              "#fb9f3a"
             ],
             [
              0.8888888888888888,
              "#fdca26"
             ],
             [
              1,
              "#f0f921"
             ]
            ],
            "type": "histogram2d"
           }
          ],
          "histogram2dcontour": [
           {
            "colorbar": {
             "outlinewidth": 0,
             "ticks": ""
            },
            "colorscale": [
             [
              0,
              "#0d0887"
             ],
             [
              0.1111111111111111,
              "#46039f"
             ],
             [
              0.2222222222222222,
              "#7201a8"
             ],
             [
              0.3333333333333333,
              "#9c179e"
             ],
             [
              0.4444444444444444,
              "#bd3786"
             ],
             [
              0.5555555555555556,
              "#d8576b"
             ],
             [
              0.6666666666666666,
              "#ed7953"
             ],
             [
              0.7777777777777778,
              "#fb9f3a"
             ],
             [
              0.8888888888888888,
              "#fdca26"
             ],
             [
              1,
              "#f0f921"
             ]
            ],
            "type": "histogram2dcontour"
           }
          ],
          "mesh3d": [
           {
            "colorbar": {
             "outlinewidth": 0,
             "ticks": ""
            },
            "type": "mesh3d"
           }
          ],
          "parcoords": [
           {
            "line": {
             "colorbar": {
              "outlinewidth": 0,
              "ticks": ""
             }
            },
            "type": "parcoords"
           }
          ],
          "pie": [
           {
            "automargin": true,
            "type": "pie"
           }
          ],
          "scatter": [
           {
            "marker": {
             "colorbar": {
              "outlinewidth": 0,
              "ticks": ""
             }
            },
            "type": "scatter"
           }
          ],
          "scatter3d": [
           {
            "line": {
             "colorbar": {
              "outlinewidth": 0,
              "ticks": ""
             }
            },
            "marker": {
             "colorbar": {
              "outlinewidth": 0,
              "ticks": ""
             }
            },
            "type": "scatter3d"
           }
          ],
          "scattercarpet": [
           {
            "marker": {
             "colorbar": {
              "outlinewidth": 0,
              "ticks": ""
             }
            },
            "type": "scattercarpet"
           }
          ],
          "scattergeo": [
           {
            "marker": {
             "colorbar": {
              "outlinewidth": 0,
              "ticks": ""
             }
            },
            "type": "scattergeo"
           }
          ],
          "scattergl": [
           {
            "marker": {
             "colorbar": {
              "outlinewidth": 0,
              "ticks": ""
             }
            },
            "type": "scattergl"
           }
          ],
          "scattermapbox": [
           {
            "marker": {
             "colorbar": {
              "outlinewidth": 0,
              "ticks": ""
             }
            },
            "type": "scattermapbox"
           }
          ],
          "scatterpolar": [
           {
            "marker": {
             "colorbar": {
              "outlinewidth": 0,
              "ticks": ""
             }
            },
            "type": "scatterpolar"
           }
          ],
          "scatterpolargl": [
           {
            "marker": {
             "colorbar": {
              "outlinewidth": 0,
              "ticks": ""
             }
            },
            "type": "scatterpolargl"
           }
          ],
          "scatterternary": [
           {
            "marker": {
             "colorbar": {
              "outlinewidth": 0,
              "ticks": ""
             }
            },
            "type": "scatterternary"
           }
          ],
          "surface": [
           {
            "colorbar": {
             "outlinewidth": 0,
             "ticks": ""
            },
            "colorscale": [
             [
              0,
              "#0d0887"
             ],
             [
              0.1111111111111111,
              "#46039f"
             ],
             [
              0.2222222222222222,
              "#7201a8"
             ],
             [
              0.3333333333333333,
              "#9c179e"
             ],
             [
              0.4444444444444444,
              "#bd3786"
             ],
             [
              0.5555555555555556,
              "#d8576b"
             ],
             [
              0.6666666666666666,
              "#ed7953"
             ],
             [
              0.7777777777777778,
              "#fb9f3a"
             ],
             [
              0.8888888888888888,
              "#fdca26"
             ],
             [
              1,
              "#f0f921"
             ]
            ],
            "type": "surface"
           }
          ],
          "table": [
           {
            "cells": {
             "fill": {
              "color": "#EBF0F8"
             },
             "line": {
              "color": "white"
             }
            },
            "header": {
             "fill": {
              "color": "#C8D4E3"
             },
             "line": {
              "color": "white"
             }
            },
            "type": "table"
           }
          ]
         },
         "layout": {
          "annotationdefaults": {
           "arrowcolor": "#2a3f5f",
           "arrowhead": 0,
           "arrowwidth": 1
          },
          "autotypenumbers": "strict",
          "coloraxis": {
           "colorbar": {
            "outlinewidth": 0,
            "ticks": ""
           }
          },
          "colorscale": {
           "diverging": [
            [
             0,
             "#8e0152"
            ],
            [
             0.1,
             "#c51b7d"
            ],
            [
             0.2,
             "#de77ae"
            ],
            [
             0.3,
             "#f1b6da"
            ],
            [
             0.4,
             "#fde0ef"
            ],
            [
             0.5,
             "#f7f7f7"
            ],
            [
             0.6,
             "#e6f5d0"
            ],
            [
             0.7,
             "#b8e186"
            ],
            [
             0.8,
             "#7fbc41"
            ],
            [
             0.9,
             "#4d9221"
            ],
            [
             1,
             "#276419"
            ]
           ],
           "sequential": [
            [
             0,
             "#0d0887"
            ],
            [
             0.1111111111111111,
             "#46039f"
            ],
            [
             0.2222222222222222,
             "#7201a8"
            ],
            [
             0.3333333333333333,
             "#9c179e"
            ],
            [
             0.4444444444444444,
             "#bd3786"
            ],
            [
             0.5555555555555556,
             "#d8576b"
            ],
            [
             0.6666666666666666,
             "#ed7953"
            ],
            [
             0.7777777777777778,
             "#fb9f3a"
            ],
            [
             0.8888888888888888,
             "#fdca26"
            ],
            [
             1,
             "#f0f921"
            ]
           ],
           "sequentialminus": [
            [
             0,
             "#0d0887"
            ],
            [
             0.1111111111111111,
             "#46039f"
            ],
            [
             0.2222222222222222,
             "#7201a8"
            ],
            [
             0.3333333333333333,
             "#9c179e"
            ],
            [
             0.4444444444444444,
             "#bd3786"
            ],
            [
             0.5555555555555556,
             "#d8576b"
            ],
            [
             0.6666666666666666,
             "#ed7953"
            ],
            [
             0.7777777777777778,
             "#fb9f3a"
            ],
            [
             0.8888888888888888,
             "#fdca26"
            ],
            [
             1,
             "#f0f921"
            ]
           ]
          },
          "colorway": [
           "#636efa",
           "#EF553B",
           "#00cc96",
           "#ab63fa",
           "#FFA15A",
           "#19d3f3",
           "#FF6692",
           "#B6E880",
           "#FF97FF",
           "#FECB52"
          ],
          "font": {
           "color": "#2a3f5f"
          },
          "geo": {
           "bgcolor": "white",
           "lakecolor": "white",
           "landcolor": "#E5ECF6",
           "showlakes": true,
           "showland": true,
           "subunitcolor": "white"
          },
          "hoverlabel": {
           "align": "left"
          },
          "hovermode": "closest",
          "mapbox": {
           "style": "light"
          },
          "paper_bgcolor": "white",
          "plot_bgcolor": "#E5ECF6",
          "polar": {
           "angularaxis": {
            "gridcolor": "white",
            "linecolor": "white",
            "ticks": ""
           },
           "bgcolor": "#E5ECF6",
           "radialaxis": {
            "gridcolor": "white",
            "linecolor": "white",
            "ticks": ""
           }
          },
          "scene": {
           "xaxis": {
            "backgroundcolor": "#E5ECF6",
            "gridcolor": "white",
            "gridwidth": 2,
            "linecolor": "white",
            "showbackground": true,
            "ticks": "",
            "zerolinecolor": "white"
           },
           "yaxis": {
            "backgroundcolor": "#E5ECF6",
            "gridcolor": "white",
            "gridwidth": 2,
            "linecolor": "white",
            "showbackground": true,
            "ticks": "",
            "zerolinecolor": "white"
           },
           "zaxis": {
            "backgroundcolor": "#E5ECF6",
            "gridcolor": "white",
            "gridwidth": 2,
            "linecolor": "white",
            "showbackground": true,
            "ticks": "",
            "zerolinecolor": "white"
           }
          },
          "shapedefaults": {
           "line": {
            "color": "#2a3f5f"
           }
          },
          "ternary": {
           "aaxis": {
            "gridcolor": "white",
            "linecolor": "white",
            "ticks": ""
           },
           "baxis": {
            "gridcolor": "white",
            "linecolor": "white",
            "ticks": ""
           },
           "bgcolor": "#E5ECF6",
           "caxis": {
            "gridcolor": "white",
            "linecolor": "white",
            "ticks": ""
           }
          },
          "title": {
           "x": 0.05
          },
          "xaxis": {
           "automargin": true,
           "gridcolor": "white",
           "linecolor": "white",
           "ticks": "",
           "title": {
            "standoff": 15
           },
           "zerolinecolor": "white",
           "zerolinewidth": 2
          },
          "yaxis": {
           "automargin": true,
           "gridcolor": "white",
           "linecolor": "white",
           "ticks": "",
           "title": {
            "standoff": 15
           },
           "zerolinecolor": "white",
           "zerolinewidth": 2
          }
         }
        },
        "title": {
         "text": "Number of quotations by speaker over the years"
        },
        "xaxis": {
         "title": {
          "text": "Date"
         }
        },
        "yaxis": {
         "title": {
          "text": "Number of quotes"
         }
        }
       }
      },
      "text/html": [
       "<div>                            <div id=\"a6298e2c-b0b4-4bef-9253-5b39aaec0745\" class=\"plotly-graph-div\" style=\"height:525px; width:100%;\"></div>            <script type=\"text/javascript\">                require([\"plotly\"], function(Plotly) {                    window.PLOTLYENV=window.PLOTLYENV || {};                                    if (document.getElementById(\"a6298e2c-b0b4-4bef-9253-5b39aaec0745\")) {                    Plotly.newPlot(                        \"a6298e2c-b0b4-4bef-9253-5b39aaec0745\",                        [{\"name\":\"Tom Lee\",\"type\":\"scatter\",\"x\":[\"2017-07-01T00:00:00\",\"2017-08-01T00:00:00\",\"2017-09-01T00:00:00\",\"2017-10-01T00:00:00\",\"2017-11-01T00:00:00\",\"2017-12-01T00:00:00\",\"2018-01-01T00:00:00\",\"2018-02-01T00:00:00\",\"2018-03-01T00:00:00\",\"2018-04-01T00:00:00\",\"2018-05-01T00:00:00\",\"2018-06-01T00:00:00\",\"2018-07-01T00:00:00\",\"2018-08-01T00:00:00\",\"2018-10-01T00:00:00\",\"2018-11-01T00:00:00\",\"2018-12-01T00:00:00\",\"2019-01-01T00:00:00\",\"2019-03-01T00:00:00\",\"2019-04-01T00:00:00\",\"2019-05-01T00:00:00\",\"2019-06-01T00:00:00\",\"2019-07-01T00:00:00\",\"2019-08-01T00:00:00\",\"2019-09-01T00:00:00\",\"2019-10-01T00:00:00\",\"2019-11-01T00:00:00\",\"2019-12-01T00:00:00\",\"2020-01-01T00:00:00\",\"2020-02-01T00:00:00\"],\"y\":[10,14,5,19,15,14,9,4,10,22,22,4,17,16,4,12,5,3,12,14,15,13,5,3,12,8,4,2,2,8]},{\"name\":\"Craig Wright\",\"type\":\"scatter\",\"x\":[\"2015-12-01T00:00:00\",\"2016-04-01T00:00:00\",\"2016-05-01T00:00:00\",\"2016-09-01T00:00:00\",\"2017-03-01T00:00:00\",\"2017-04-01T00:00:00\",\"2017-08-01T00:00:00\",\"2017-10-01T00:00:00\",\"2017-11-01T00:00:00\",\"2017-12-01T00:00:00\",\"2018-02-01T00:00:00\",\"2018-04-01T00:00:00\",\"2018-07-01T00:00:00\",\"2018-08-01T00:00:00\",\"2018-09-01T00:00:00\",\"2018-10-01T00:00:00\",\"2018-11-01T00:00:00\",\"2018-12-01T00:00:00\",\"2019-02-01T00:00:00\",\"2019-03-01T00:00:00\",\"2019-04-01T00:00:00\",\"2019-05-01T00:00:00\",\"2019-06-01T00:00:00\",\"2019-07-01T00:00:00\",\"2019-10-01T00:00:00\",\"2019-11-01T00:00:00\",\"2019-12-01T00:00:00\",\"2020-01-01T00:00:00\",\"2020-02-01T00:00:00\",\"2020-03-01T00:00:00\",\"2020-04-01T00:00:00\"],\"y\":[17,1,42,1,2,4,1,1,3,3,6,6,1,1,1,2,7,4,2,1,3,16,11,5,1,1,2,1,8,2,1]},{\"name\":\"Roger Ver\",\"type\":\"scatter\",\"x\":[\"2015-01-01T00:00:00\",\"2015-02-01T00:00:00\",\"2015-05-01T00:00:00\",\"2015-08-01T00:00:00\",\"2015-10-01T00:00:00\",\"2015-11-01T00:00:00\",\"2015-12-01T00:00:00\",\"2016-02-01T00:00:00\",\"2016-05-01T00:00:00\",\"2016-08-01T00:00:00\",\"2016-09-01T00:00:00\",\"2016-12-01T00:00:00\",\"2017-03-01T00:00:00\",\"2017-04-01T00:00:00\",\"2017-06-01T00:00:00\",\"2017-07-01T00:00:00\",\"2017-08-01T00:00:00\",\"2017-09-01T00:00:00\",\"2017-10-01T00:00:00\",\"2017-11-01T00:00:00\",\"2017-12-01T00:00:00\",\"2018-01-01T00:00:00\",\"2018-02-01T00:00:00\",\"2018-04-01T00:00:00\",\"2018-05-01T00:00:00\",\"2018-06-01T00:00:00\",\"2018-07-01T00:00:00\",\"2018-08-01T00:00:00\",\"2018-09-01T00:00:00\",\"2018-10-01T00:00:00\",\"2018-11-01T00:00:00\",\"2018-12-01T00:00:00\",\"2019-02-01T00:00:00\",\"2019-04-01T00:00:00\",\"2019-05-01T00:00:00\",\"2019-06-01T00:00:00\",\"2019-07-01T00:00:00\",\"2019-08-01T00:00:00\",\"2019-09-01T00:00:00\",\"2019-11-01T00:00:00\",\"2019-12-01T00:00:00\",\"2020-01-01T00:00:00\",\"2020-02-01T00:00:00\"],\"y\":[1,1,4,1,3,1,2,1,1,4,6,3,6,3,1,4,2,11,6,1,18,4,1,11,12,3,1,8,1,15,4,6,2,3,10,1,5,5,4,3,2,1,2]},{\"name\":\"Jamie Dimon\",\"type\":\"scatter\",\"x\":[\"2015-04-01T00:00:00\",\"2015-09-01T00:00:00\",\"2015-11-01T00:00:00\",\"2016-01-01T00:00:00\",\"2016-05-01T00:00:00\",\"2017-04-01T00:00:00\",\"2017-09-01T00:00:00\",\"2017-10-01T00:00:00\",\"2017-11-01T00:00:00\",\"2017-12-01T00:00:00\",\"2018-01-01T00:00:00\",\"2018-02-01T00:00:00\",\"2018-03-01T00:00:00\",\"2018-04-01T00:00:00\",\"2018-05-01T00:00:00\",\"2018-06-01T00:00:00\",\"2018-08-01T00:00:00\",\"2018-09-01T00:00:00\",\"2018-10-01T00:00:00\",\"2018-11-01T00:00:00\",\"2018-12-01T00:00:00\",\"2019-01-01T00:00:00\",\"2019-02-01T00:00:00\"],\"y\":[2,1,5,1,1,1,48,36,17,14,21,2,2,2,2,8,2,1,7,8,2,2,4]}],                        {\"template\":{\"data\":{\"bar\":[{\"error_x\":{\"color\":\"#2a3f5f\"},\"error_y\":{\"color\":\"#2a3f5f\"},\"marker\":{\"line\":{\"color\":\"#E5ECF6\",\"width\":0.5},\"pattern\":{\"fillmode\":\"overlay\",\"size\":10,\"solidity\":0.2}},\"type\":\"bar\"}],\"barpolar\":[{\"marker\":{\"line\":{\"color\":\"#E5ECF6\",\"width\":0.5},\"pattern\":{\"fillmode\":\"overlay\",\"size\":10,\"solidity\":0.2}},\"type\":\"barpolar\"}],\"carpet\":[{\"aaxis\":{\"endlinecolor\":\"#2a3f5f\",\"gridcolor\":\"white\",\"linecolor\":\"white\",\"minorgridcolor\":\"white\",\"startlinecolor\":\"#2a3f5f\"},\"baxis\":{\"endlinecolor\":\"#2a3f5f\",\"gridcolor\":\"white\",\"linecolor\":\"white\",\"minorgridcolor\":\"white\",\"startlinecolor\":\"#2a3f5f\"},\"type\":\"carpet\"}],\"choropleth\":[{\"colorbar\":{\"outlinewidth\":0,\"ticks\":\"\"},\"type\":\"choropleth\"}],\"contour\":[{\"colorbar\":{\"outlinewidth\":0,\"ticks\":\"\"},\"colorscale\":[[0.0,\"#0d0887\"],[0.1111111111111111,\"#46039f\"],[0.2222222222222222,\"#7201a8\"],[0.3333333333333333,\"#9c179e\"],[0.4444444444444444,\"#bd3786\"],[0.5555555555555556,\"#d8576b\"],[0.6666666666666666,\"#ed7953\"],[0.7777777777777778,\"#fb9f3a\"],[0.8888888888888888,\"#fdca26\"],[1.0,\"#f0f921\"]],\"type\":\"contour\"}],\"contourcarpet\":[{\"colorbar\":{\"outlinewidth\":0,\"ticks\":\"\"},\"type\":\"contourcarpet\"}],\"heatmap\":[{\"colorbar\":{\"outlinewidth\":0,\"ticks\":\"\"},\"colorscale\":[[0.0,\"#0d0887\"],[0.1111111111111111,\"#46039f\"],[0.2222222222222222,\"#7201a8\"],[0.3333333333333333,\"#9c179e\"],[0.4444444444444444,\"#bd3786\"],[0.5555555555555556,\"#d8576b\"],[0.6666666666666666,\"#ed7953\"],[0.7777777777777778,\"#fb9f3a\"],[0.8888888888888888,\"#fdca26\"],[1.0,\"#f0f921\"]],\"type\":\"heatmap\"}],\"heatmapgl\":[{\"colorbar\":{\"outlinewidth\":0,\"ticks\":\"\"},\"colorscale\":[[0.0,\"#0d0887\"],[0.1111111111111111,\"#46039f\"],[0.2222222222222222,\"#7201a8\"],[0.3333333333333333,\"#9c179e\"],[0.4444444444444444,\"#bd3786\"],[0.5555555555555556,\"#d8576b\"],[0.6666666666666666,\"#ed7953\"],[0.7777777777777778,\"#fb9f3a\"],[0.8888888888888888,\"#fdca26\"],[1.0,\"#f0f921\"]],\"type\":\"heatmapgl\"}],\"histogram\":[{\"marker\":{\"pattern\":{\"fillmode\":\"overlay\",\"size\":10,\"solidity\":0.2}},\"type\":\"histogram\"}],\"histogram2d\":[{\"colorbar\":{\"outlinewidth\":0,\"ticks\":\"\"},\"colorscale\":[[0.0,\"#0d0887\"],[0.1111111111111111,\"#46039f\"],[0.2222222222222222,\"#7201a8\"],[0.3333333333333333,\"#9c179e\"],[0.4444444444444444,\"#bd3786\"],[0.5555555555555556,\"#d8576b\"],[0.6666666666666666,\"#ed7953\"],[0.7777777777777778,\"#fb9f3a\"],[0.8888888888888888,\"#fdca26\"],[1.0,\"#f0f921\"]],\"type\":\"histogram2d\"}],\"histogram2dcontour\":[{\"colorbar\":{\"outlinewidth\":0,\"ticks\":\"\"},\"colorscale\":[[0.0,\"#0d0887\"],[0.1111111111111111,\"#46039f\"],[0.2222222222222222,\"#7201a8\"],[0.3333333333333333,\"#9c179e\"],[0.4444444444444444,\"#bd3786\"],[0.5555555555555556,\"#d8576b\"],[0.6666666666666666,\"#ed7953\"],[0.7777777777777778,\"#fb9f3a\"],[0.8888888888888888,\"#fdca26\"],[1.0,\"#f0f921\"]],\"type\":\"histogram2dcontour\"}],\"mesh3d\":[{\"colorbar\":{\"outlinewidth\":0,\"ticks\":\"\"},\"type\":\"mesh3d\"}],\"parcoords\":[{\"line\":{\"colorbar\":{\"outlinewidth\":0,\"ticks\":\"\"}},\"type\":\"parcoords\"}],\"pie\":[{\"automargin\":true,\"type\":\"pie\"}],\"scatter\":[{\"marker\":{\"colorbar\":{\"outlinewidth\":0,\"ticks\":\"\"}},\"type\":\"scatter\"}],\"scatter3d\":[{\"line\":{\"colorbar\":{\"outlinewidth\":0,\"ticks\":\"\"}},\"marker\":{\"colorbar\":{\"outlinewidth\":0,\"ticks\":\"\"}},\"type\":\"scatter3d\"}],\"scattercarpet\":[{\"marker\":{\"colorbar\":{\"outlinewidth\":0,\"ticks\":\"\"}},\"type\":\"scattercarpet\"}],\"scattergeo\":[{\"marker\":{\"colorbar\":{\"outlinewidth\":0,\"ticks\":\"\"}},\"type\":\"scattergeo\"}],\"scattergl\":[{\"marker\":{\"colorbar\":{\"outlinewidth\":0,\"ticks\":\"\"}},\"type\":\"scattergl\"}],\"scattermapbox\":[{\"marker\":{\"colorbar\":{\"outlinewidth\":0,\"ticks\":\"\"}},\"type\":\"scattermapbox\"}],\"scatterpolar\":[{\"marker\":{\"colorbar\":{\"outlinewidth\":0,\"ticks\":\"\"}},\"type\":\"scatterpolar\"}],\"scatterpolargl\":[{\"marker\":{\"colorbar\":{\"outlinewidth\":0,\"ticks\":\"\"}},\"type\":\"scatterpolargl\"}],\"scatterternary\":[{\"marker\":{\"colorbar\":{\"outlinewidth\":0,\"ticks\":\"\"}},\"type\":\"scatterternary\"}],\"surface\":[{\"colorbar\":{\"outlinewidth\":0,\"ticks\":\"\"},\"colorscale\":[[0.0,\"#0d0887\"],[0.1111111111111111,\"#46039f\"],[0.2222222222222222,\"#7201a8\"],[0.3333333333333333,\"#9c179e\"],[0.4444444444444444,\"#bd3786\"],[0.5555555555555556,\"#d8576b\"],[0.6666666666666666,\"#ed7953\"],[0.7777777777777778,\"#fb9f3a\"],[0.8888888888888888,\"#fdca26\"],[1.0,\"#f0f921\"]],\"type\":\"surface\"}],\"table\":[{\"cells\":{\"fill\":{\"color\":\"#EBF0F8\"},\"line\":{\"color\":\"white\"}},\"header\":{\"fill\":{\"color\":\"#C8D4E3\"},\"line\":{\"color\":\"white\"}},\"type\":\"table\"}]},\"layout\":{\"annotationdefaults\":{\"arrowcolor\":\"#2a3f5f\",\"arrowhead\":0,\"arrowwidth\":1},\"autotypenumbers\":\"strict\",\"coloraxis\":{\"colorbar\":{\"outlinewidth\":0,\"ticks\":\"\"}},\"colorscale\":{\"diverging\":[[0,\"#8e0152\"],[0.1,\"#c51b7d\"],[0.2,\"#de77ae\"],[0.3,\"#f1b6da\"],[0.4,\"#fde0ef\"],[0.5,\"#f7f7f7\"],[0.6,\"#e6f5d0\"],[0.7,\"#b8e186\"],[0.8,\"#7fbc41\"],[0.9,\"#4d9221\"],[1,\"#276419\"]],\"sequential\":[[0.0,\"#0d0887\"],[0.1111111111111111,\"#46039f\"],[0.2222222222222222,\"#7201a8\"],[0.3333333333333333,\"#9c179e\"],[0.4444444444444444,\"#bd3786\"],[0.5555555555555556,\"#d8576b\"],[0.6666666666666666,\"#ed7953\"],[0.7777777777777778,\"#fb9f3a\"],[0.8888888888888888,\"#fdca26\"],[1.0,\"#f0f921\"]],\"sequentialminus\":[[0.0,\"#0d0887\"],[0.1111111111111111,\"#46039f\"],[0.2222222222222222,\"#7201a8\"],[0.3333333333333333,\"#9c179e\"],[0.4444444444444444,\"#bd3786\"],[0.5555555555555556,\"#d8576b\"],[0.6666666666666666,\"#ed7953\"],[0.7777777777777778,\"#fb9f3a\"],[0.8888888888888888,\"#fdca26\"],[1.0,\"#f0f921\"]]},\"colorway\":[\"#636efa\",\"#EF553B\",\"#00cc96\",\"#ab63fa\",\"#FFA15A\",\"#19d3f3\",\"#FF6692\",\"#B6E880\",\"#FF97FF\",\"#FECB52\"],\"font\":{\"color\":\"#2a3f5f\"},\"geo\":{\"bgcolor\":\"white\",\"lakecolor\":\"white\",\"landcolor\":\"#E5ECF6\",\"showlakes\":true,\"showland\":true,\"subunitcolor\":\"white\"},\"hoverlabel\":{\"align\":\"left\"},\"hovermode\":\"closest\",\"mapbox\":{\"style\":\"light\"},\"paper_bgcolor\":\"white\",\"plot_bgcolor\":\"#E5ECF6\",\"polar\":{\"angularaxis\":{\"gridcolor\":\"white\",\"linecolor\":\"white\",\"ticks\":\"\"},\"bgcolor\":\"#E5ECF6\",\"radialaxis\":{\"gridcolor\":\"white\",\"linecolor\":\"white\",\"ticks\":\"\"}},\"scene\":{\"xaxis\":{\"backgroundcolor\":\"#E5ECF6\",\"gridcolor\":\"white\",\"gridwidth\":2,\"linecolor\":\"white\",\"showbackground\":true,\"ticks\":\"\",\"zerolinecolor\":\"white\"},\"yaxis\":{\"backgroundcolor\":\"#E5ECF6\",\"gridcolor\":\"white\",\"gridwidth\":2,\"linecolor\":\"white\",\"showbackground\":true,\"ticks\":\"\",\"zerolinecolor\":\"white\"},\"zaxis\":{\"backgroundcolor\":\"#E5ECF6\",\"gridcolor\":\"white\",\"gridwidth\":2,\"linecolor\":\"white\",\"showbackground\":true,\"ticks\":\"\",\"zerolinecolor\":\"white\"}},\"shapedefaults\":{\"line\":{\"color\":\"#2a3f5f\"}},\"ternary\":{\"aaxis\":{\"gridcolor\":\"white\",\"linecolor\":\"white\",\"ticks\":\"\"},\"baxis\":{\"gridcolor\":\"white\",\"linecolor\":\"white\",\"ticks\":\"\"},\"bgcolor\":\"#E5ECF6\",\"caxis\":{\"gridcolor\":\"white\",\"linecolor\":\"white\",\"ticks\":\"\"}},\"title\":{\"x\":0.05},\"xaxis\":{\"automargin\":true,\"gridcolor\":\"white\",\"linecolor\":\"white\",\"ticks\":\"\",\"title\":{\"standoff\":15},\"zerolinecolor\":\"white\",\"zerolinewidth\":2},\"yaxis\":{\"automargin\":true,\"gridcolor\":\"white\",\"linecolor\":\"white\",\"ticks\":\"\",\"title\":{\"standoff\":15},\"zerolinecolor\":\"white\",\"zerolinewidth\":2}}},\"title\":{\"text\":\"Number of quotations by speaker over the years\"},\"xaxis\":{\"title\":{\"text\":\"Date\"}},\"yaxis\":{\"title\":{\"text\":\"Number of quotes\"}}},                        {\"responsive\": true}                    ).then(function(){\n",
       "                            \n",
       "var gd = document.getElementById('a6298e2c-b0b4-4bef-9253-5b39aaec0745');\n",
       "var x = new MutationObserver(function (mutations, observer) {{\n",
       "        var display = window.getComputedStyle(gd).display;\n",
       "        if (!display || display === 'none') {{\n",
       "            console.log([gd, 'removed!']);\n",
       "            Plotly.purge(gd);\n",
       "            observer.disconnect();\n",
       "        }}\n",
       "}});\n",
       "\n",
       "// Listen for the removal of the full notebook cells\n",
       "var notebookContainer = gd.closest('#notebook-container');\n",
       "if (notebookContainer) {{\n",
       "    x.observe(notebookContainer, {childList: true});\n",
       "}}\n",
       "\n",
       "// Listen for the clearing of the current output cell\n",
       "var outputEl = gd.closest('.output');\n",
       "if (outputEl) {{\n",
       "    x.observe(outputEl, {childList: true});\n",
       "}}\n",
       "\n",
       "                        })                };                });            </script>        </div>"
      ]
     },
     "metadata": {},
     "output_type": "display_data"
    }
   ],
   "source": [
    "plot_count_speaker(['Tom Lee', 'Craig Wright', 'Roger Ver', 'Jamie Dimon'], df_bitcoin)"
   ]
  },
  {
   "cell_type": "markdown",
   "metadata": {
    "id": "dkrxhfVvHury"
   },
   "source": [
    "## Data Preprocessing"
   ]
  },
  {
   "cell_type": "markdown",
   "metadata": {
    "id": "tGQhP1QSZBmp"
   },
   "source": [
    "This section is about preprocessing data, in particular textual data (quotations). In order to make the best out of the sentiment analysis algorithm, we wanted to normalize data by lemmatizing it. We didn't apply other modifications as lowering, removing stopewords ... because Bert algorithm takes these into account to determine the sentiment."
   ]
  },
  {
   "cell_type": "code",
   "execution_count": 14,
   "metadata": {
    "colab": {
     "base_uri": "https://localhost:8080/",
     "height": 578
    },
    "executionInfo": {
     "elapsed": 5842,
     "status": "ok",
     "timestamp": 1636741586130,
     "user": {
      "displayName": "Taha Zakariya",
      "photoUrl": "https://lh3.googleusercontent.com/a/default-user=s64",
      "userId": "04695355770412779331"
     },
     "user_tz": -60
    },
    "id": "u9ZEegtzIB-m",
    "outputId": "fe30f863-00ae-4346-cbe5-6d6794e08582"
   },
   "outputs": [
    {
     "name": "stderr",
     "output_type": "stream",
     "text": [
      "[nltk_data] Downloading package wordnet to\n",
      "[nltk_data]     /Users/tahazakariya/nltk_data...\n",
      "[nltk_data]   Package wordnet is already up-to-date!\n"
     ]
    },
    {
     "data": {
      "text/html": [
       "<div>\n",
       "<style scoped>\n",
       "    .dataframe tbody tr th:only-of-type {\n",
       "        vertical-align: middle;\n",
       "    }\n",
       "\n",
       "    .dataframe tbody tr th {\n",
       "        vertical-align: top;\n",
       "    }\n",
       "\n",
       "    .dataframe thead th {\n",
       "        text-align: right;\n",
       "    }\n",
       "</style>\n",
       "<table border=\"1\" class=\"dataframe\">\n",
       "  <thead>\n",
       "    <tr style=\"text-align: right;\">\n",
       "      <th></th>\n",
       "      <th>quoteID</th>\n",
       "      <th>quotation</th>\n",
       "      <th>speaker</th>\n",
       "      <th>qids</th>\n",
       "      <th>date</th>\n",
       "      <th>numOccurrences</th>\n",
       "      <th>probas</th>\n",
       "      <th>urls</th>\n",
       "      <th>phase</th>\n",
       "      <th>month</th>\n",
       "      <th>day</th>\n",
       "      <th>year</th>\n",
       "      <th>month_nb</th>\n",
       "      <th>most_likely_speaker</th>\n",
       "    </tr>\n",
       "  </thead>\n",
       "  <tbody>\n",
       "    <tr>\n",
       "      <th>0</th>\n",
       "      <td>2015-10-04-032770</td>\n",
       "      <td>Litecoin Shows There Is a Simple Fix for Spam ...</td>\n",
       "      <td>Charlie Lee</td>\n",
       "      <td>['Q2960866', 'Q357856', 'Q50326813', 'Q55607117']</td>\n",
       "      <td>2015-10-04 18:48:44</td>\n",
       "      <td>1</td>\n",
       "      <td>[['Charlie Lee', '0.9254'], ['None', '0.0746']]</td>\n",
       "      <td>['http://cointelegraph.com/news/115374/the-ong...</td>\n",
       "      <td>E</td>\n",
       "      <td>2015-10</td>\n",
       "      <td>2015-10-04</td>\n",
       "      <td>2015</td>\n",
       "      <td>10</td>\n",
       "      <td>Charlie Lee</td>\n",
       "    </tr>\n",
       "    <tr>\n",
       "      <th>1</th>\n",
       "      <td>2015-09-15-114302</td>\n",
       "      <td>We believe that you deserve to reap the benefi...</td>\n",
       "      <td>Vishal Gupta</td>\n",
       "      <td>['Q57623555']</td>\n",
       "      <td>2015-09-15 20:32:32</td>\n",
       "      <td>1</td>\n",
       "      <td>[['Vishal Gupta', '0.5501'], ['None', '0.2781'...</td>\n",
       "      <td>['http://benzinga.com/news/15/09/5835310/bitco...</td>\n",
       "      <td>E</td>\n",
       "      <td>2015-09</td>\n",
       "      <td>2015-09-15</td>\n",
       "      <td>2015</td>\n",
       "      <td>9</td>\n",
       "      <td>Vishal Gupta</td>\n",
       "    </tr>\n",
       "    <tr>\n",
       "      <th>2</th>\n",
       "      <td>2015-02-06-003563</td>\n",
       "      <td>AmEx need to get into Bitcoin or one of the ot...</td>\n",
       "      <td>Porter Bibb</td>\n",
       "      <td>['Q7231593']</td>\n",
       "      <td>2015-02-06 21:39:00</td>\n",
       "      <td>2</td>\n",
       "      <td>[['Porter Bibb', '0.8712'], ['None', '0.1288']]</td>\n",
       "      <td>['http://us.rd.yahoo.com/finance/external/inve...</td>\n",
       "      <td>E</td>\n",
       "      <td>2015-02</td>\n",
       "      <td>2015-02-06</td>\n",
       "      <td>2015</td>\n",
       "      <td>2</td>\n",
       "      <td>Porter Bibb</td>\n",
       "    </tr>\n",
       "    <tr>\n",
       "      <th>3</th>\n",
       "      <td>2015-06-22-017667</td>\n",
       "      <td>If each bitcoin ha a history and people know h...</td>\n",
       "      <td>Greg Maxwell</td>\n",
       "      <td>['Q46997142']</td>\n",
       "      <td>2015-06-22 14:45:56</td>\n",
       "      <td>1</td>\n",
       "      <td>[['Greg Maxwell', '0.966'], ['None', '0.034']]</td>\n",
       "      <td>['http://www.newsbtc.com/2015/06/22/how-blocks...</td>\n",
       "      <td>E</td>\n",
       "      <td>2015-06</td>\n",
       "      <td>2015-06-22</td>\n",
       "      <td>2015</td>\n",
       "      <td>6</td>\n",
       "      <td>Greg Maxwell</td>\n",
       "    </tr>\n",
       "    <tr>\n",
       "      <th>4</th>\n",
       "      <td>2015-10-07-012201</td>\n",
       "      <td>Bitcoin in it current incarnation is slow in t...</td>\n",
       "      <td>Ann Cairns</td>\n",
       "      <td>['Q28870363']</td>\n",
       "      <td>2015-10-07 17:02:57</td>\n",
       "      <td>1</td>\n",
       "      <td>[['Ann Cairns', '0.8585'], ['None', '0.1415']]</td>\n",
       "      <td>['http://cointelegraph.com/news/115390/masterc...</td>\n",
       "      <td>E</td>\n",
       "      <td>2015-10</td>\n",
       "      <td>2015-10-07</td>\n",
       "      <td>2015</td>\n",
       "      <td>10</td>\n",
       "      <td>Ann Cairns</td>\n",
       "    </tr>\n",
       "  </tbody>\n",
       "</table>\n",
       "</div>"
      ],
      "text/plain": [
       "             quoteID                                          quotation  \\\n",
       "0  2015-10-04-032770  Litecoin Shows There Is a Simple Fix for Spam ...   \n",
       "1  2015-09-15-114302  We believe that you deserve to reap the benefi...   \n",
       "2  2015-02-06-003563  AmEx need to get into Bitcoin or one of the ot...   \n",
       "3  2015-06-22-017667  If each bitcoin ha a history and people know h...   \n",
       "4  2015-10-07-012201  Bitcoin in it current incarnation is slow in t...   \n",
       "\n",
       "        speaker                                               qids  \\\n",
       "0   Charlie Lee  ['Q2960866', 'Q357856', 'Q50326813', 'Q55607117']   \n",
       "1  Vishal Gupta                                      ['Q57623555']   \n",
       "2   Porter Bibb                                       ['Q7231593']   \n",
       "3  Greg Maxwell                                      ['Q46997142']   \n",
       "4    Ann Cairns                                      ['Q28870363']   \n",
       "\n",
       "                  date  numOccurrences  \\\n",
       "0  2015-10-04 18:48:44               1   \n",
       "1  2015-09-15 20:32:32               1   \n",
       "2  2015-02-06 21:39:00               2   \n",
       "3  2015-06-22 14:45:56               1   \n",
       "4  2015-10-07 17:02:57               1   \n",
       "\n",
       "                                              probas  \\\n",
       "0    [['Charlie Lee', '0.9254'], ['None', '0.0746']]   \n",
       "1  [['Vishal Gupta', '0.5501'], ['None', '0.2781'...   \n",
       "2    [['Porter Bibb', '0.8712'], ['None', '0.1288']]   \n",
       "3     [['Greg Maxwell', '0.966'], ['None', '0.034']]   \n",
       "4     [['Ann Cairns', '0.8585'], ['None', '0.1415']]   \n",
       "\n",
       "                                                urls phase    month  \\\n",
       "0  ['http://cointelegraph.com/news/115374/the-ong...     E  2015-10   \n",
       "1  ['http://benzinga.com/news/15/09/5835310/bitco...     E  2015-09   \n",
       "2  ['http://us.rd.yahoo.com/finance/external/inve...     E  2015-02   \n",
       "3  ['http://www.newsbtc.com/2015/06/22/how-blocks...     E  2015-06   \n",
       "4  ['http://cointelegraph.com/news/115390/masterc...     E  2015-10   \n",
       "\n",
       "          day  year  month_nb most_likely_speaker  \n",
       "0  2015-10-04  2015        10         Charlie Lee  \n",
       "1  2015-09-15  2015         9        Vishal Gupta  \n",
       "2  2015-02-06  2015         2         Porter Bibb  \n",
       "3  2015-06-22  2015         6        Greg Maxwell  \n",
       "4  2015-10-07  2015        10          Ann Cairns  "
      ]
     },
     "execution_count": 14,
     "metadata": {},
     "output_type": "execute_result"
    }
   ],
   "source": [
    "df_lemmatized = process(df_bitcoin)\n",
    "df_lemmatized.head()"
   ]
  },
  {
   "cell_type": "markdown",
   "metadata": {
    "id": "ffB_-qniIkX3"
   },
   "source": [
    "## Sentiment Analysis"
   ]
  },
  {
   "cell_type": "markdown",
   "metadata": {
    "id": "LneNym7_Zvv7"
   },
   "source": [
    "Bert algorithm is one of our main focuses in this project, it will allow us to determine if there exists some pattern linking  some important people's opinion about bitcoin to the volume/price eventual changes, as well as bear and bullish markets occurences.\n",
    "<br> Hence, we start by apllying the trained Bert model which compares two sentences to our quotations: to test people sentiment about bitcoin, we see how each quotation is \"near\" or \"far\" from the sentences \"The sentiment about bitcoin is positive\" and \"The sentiment about bitcoin is negative\" which tells us if the sentiment is indeed positive or negative (based on a score).\n",
    "<br> Later on, we will explore another algotrithm which does sentiment analysis too but in an aspect based manner."
   ]
  },
  {
   "cell_type": "code",
   "execution_count": null,
   "metadata": {
    "colab": {
     "base_uri": "https://localhost:8080/",
     "height": 209,
     "referenced_widgets": [
      "1da704f8965c4bc198413bb9029c0828",
      "c5644db15e1a46b685aaf65ddbaf63d4",
      "c7fb01e48ef74094bfa72bec82061e1d",
      "c174dd0f984244098541958d8b0bebbd",
      "4a8cc930d1ad44a0805244e59293546e",
      "d4356335097344119689f12a1ae906fe",
      "dc89498eba4646e3af2ed75f359b4923",
      "1410cc62f5c74502aaead6d1cd788351",
      "c0f5a2ae438f4d2f91a463772985d087",
      "9d673768c61c4ac49e9e7722d3966bba",
      "4c0106561ead454d9a0d089ae33f7466",
      "c873982133014b12b143d7def0ba2a6d",
      "78cb8889a45646868bf0989b6b0b3666",
      "7729380ee9cd429f8961f40a60c3efe8",
      "511c45fff608433db4c08cf8e28ad54b",
      "7baeab9f739b434b83706542b418c9e3",
      "e8846ea40bc74bca8416c350fce3d6ba",
      "4f3955d8f5bb4dc7af4088d0f31d0a94",
      "fa9f81f4575242eda96f987f5111416c",
      "db3f2c8951774db5922d1cf37809ab25",
      "438bad4996ca4496a40db6b72c23f4f5",
      "437fee24ffc34267b23048d1deb927cc",
      "4435297dcdc74407b298268f8f665ffc",
      "62ff4a7357b947889293a94091fb05f9",
      "e0fcd28a38f74020962296ac936f3e12",
      "8ef79ae23c9549f0810c0f292e05a109",
      "564c0d2dd2aa432986789e0c23e8c0cc",
      "18c610d7e96245d2a45bec5e1dbed135",
      "b6b68c3fef6d44009637515d816633bc",
      "4967e10393184868839170bdb60e0d76",
      "1323a57d2385429b8684e7d649bbb8e1",
      "6ebf87b07e1042e6b117a6fb3e559219",
      "b581aa2264324944b0912796b2b67ec8",
      "29e199878e5f409f981dbf3cf3b61e2c",
      "846a041e5afe4bba9db44dad9570fdf4",
      "0190b0d50e5a495496ea09a7ff96b3d0",
      "00591ed9ec7f442f8247b99008d5f93b",
      "04947c2f22544e0784975951526badea",
      "5afbb10062ec410ca8ed707536abd97e",
      "63eb24d2e9f942d3bb5f78354fbd230e",
      "62497a9f9a8c42d993482c47afb5a4ab",
      "b13458b570744e3fbcb59a220596fa02",
      "767170bd54084e0aa54a1b3f34d22dfb",
      "a47423e121134574871abda5a531a5ae",
      "a0eb47fd14af45bfa9a1e488b6e7de5a",
      "42ac3a761f2e467b96ac5833fd9c9f49",
      "20e9efbdea3e4b8aaadd50ed371ba2d0",
      "bf926fdbf6cb40da99ef45dbf65d7ec7",
      "86eba3e64c864ea99a18fb393a33df5f",
      "0dfcced65f3e4ae59e3fde99146fe976",
      "aa0a0756da4847f49d8e84d9fc553a4d",
      "099bc0ca014746258f63ec14caf3d707",
      "794b5b10bbe9403092c32e56fa58fb4d",
      "89e781b9fc734a01b7c744d4ceeda910",
      "9bfa05d7950d4b058eb10a1f72bc87a3",
      "7847ed9c7aec40e29789a5c5ad40f43f",
      "0eda545e6fce43bda8d0ea9e4afbf0b5",
      "0f9a374b51e142e5a7901444239e9a5e",
      "821b2c4cd83d4165b803bd0db4e088dc",
      "f01a29cc8c7d4cf8bb5cd5b64bc59566",
      "9a8b1e1574564b7fa42bfd46b2863328",
      "9034b48590684745b62edf747013b679",
      "544553ec05094d78b36c0451cb508cdf",
      "77a5d234b61f402daca9f7acea9a8cd3",
      "a42d682ffe8e4c04ba939a02731f63ed",
      "9f176141c03d4800a57da44843b3cb87"
     ]
    },
    "executionInfo": {
     "elapsed": 88324,
     "status": "ok",
     "timestamp": 1636642234211,
     "user": {
      "displayName": "Taha Zakariya",
      "photoUrl": "https://lh3.googleusercontent.com/a/default-user=s64",
      "userId": "04695355770412779331"
     },
     "user_tz": -60
    },
    "id": "y1D9qSZPInw8",
    "outputId": "fc9fe985-f764-459c-b02e-f268800ca3b7"
   },
   "outputs": [
    {
     "data": {
      "application/vnd.jupyter.widget-view+json": {
       "model_id": "1da704f8965c4bc198413bb9029c0828",
       "version_major": 2,
       "version_minor": 0
      },
      "text/plain": [
       "Downloading:   0%|          | 0.00/1.13k [00:00<?, ?B/s]"
      ]
     },
     "metadata": {},
     "output_type": "display_data"
    },
    {
     "data": {
      "application/vnd.jupyter.widget-view+json": {
       "model_id": "c873982133014b12b143d7def0ba2a6d",
       "version_major": 2,
       "version_minor": 0
      },
      "text/plain": [
       "Downloading:   0%|          | 0.00/1.52G [00:00<?, ?B/s]"
      ]
     },
     "metadata": {},
     "output_type": "display_data"
    },
    {
     "data": {
      "application/vnd.jupyter.widget-view+json": {
       "model_id": "4435297dcdc74407b298268f8f665ffc",
       "version_major": 2,
       "version_minor": 0
      },
      "text/plain": [
       "Downloading:   0%|          | 0.00/26.0 [00:00<?, ?B/s]"
      ]
     },
     "metadata": {},
     "output_type": "display_data"
    },
    {
     "data": {
      "application/vnd.jupyter.widget-view+json": {
       "model_id": "29e199878e5f409f981dbf3cf3b61e2c",
       "version_major": 2,
       "version_minor": 0
      },
      "text/plain": [
       "Downloading:   0%|          | 0.00/878k [00:00<?, ?B/s]"
      ]
     },
     "metadata": {},
     "output_type": "display_data"
    },
    {
     "data": {
      "application/vnd.jupyter.widget-view+json": {
       "model_id": "a0eb47fd14af45bfa9a1e488b6e7de5a",
       "version_major": 2,
       "version_minor": 0
      },
      "text/plain": [
       "Downloading:   0%|          | 0.00/446k [00:00<?, ?B/s]"
      ]
     },
     "metadata": {},
     "output_type": "display_data"
    },
    {
     "data": {
      "application/vnd.jupyter.widget-view+json": {
       "model_id": "7847ed9c7aec40e29789a5c5ad40f43f",
       "version_major": 2,
       "version_minor": 0
      },
      "text/plain": [
       "Downloading:   0%|          | 0.00/1.29M [00:00<?, ?B/s]"
      ]
     },
     "metadata": {},
     "output_type": "display_data"
    }
   ],
   "source": [
    "nli_model = AutoModelForSequenceClassification.from_pretrained('facebook/bart-large-mnli',output_attentions=True).cuda()\n",
    "tokenizer = AutoTokenizer.from_pretrained('facebook/bart-large-mnli')"
   ]
  },
  {
   "cell_type": "code",
   "execution_count": null,
   "metadata": {
    "colab": {
     "base_uri": "https://localhost:8080/"
    },
    "executionInfo": {
     "elapsed": 2561861,
     "status": "ok",
     "timestamp": 1636644796060,
     "user": {
      "displayName": "Taha Zakariya",
      "photoUrl": "https://lh3.googleusercontent.com/a/default-user=s64",
      "userId": "04695355770412779331"
     },
     "user_tz": -60
    },
    "id": "Jl94_YlWIp7N",
    "outputId": "9bf8c094-75c6-4673-fcfe-560e7d27da33"
   },
   "outputs": [
    {
     "name": "stderr",
     "output_type": "stream",
     "text": [
      "  0%|          | 0/20109 [00:00<?, ?it/s]/usr/local/lib/python3.7/dist-packages/transformers/tokenization_utils_base.py:2254: FutureWarning:\n",
      "\n",
      "The `truncation_strategy` argument is deprecated and will be removed in a future version, use `truncation=True` to truncate examples to a max length. You can give a specific length with `max_length` (e.g. `max_length=45`) or leave max_length to None to truncate to the maximal input size of the model (e.g. 512 for Bert).  If you have pairs of inputs, you can give a specific truncation strategy selected among `truncation='only_first'` (will only truncate the first sentence in the pairs) `truncation='only_second'` (will only truncate the second sentence in the pairs) or `truncation='longest_first'` (will iteratively remove tokens from the longest sentence in the pairs).\n",
      "\n",
      "100%|██████████| 20109/20109 [42:41<00:00,  7.85it/s]\n"
     ]
    }
   ],
   "source": [
    "statements = df_lemmatized['quotation']\n",
    "\n",
    "with torch.no_grad():\n",
    "  positives = []\n",
    "  negatives = []\n",
    "\n",
    "  for statement in tqdm(statements):\n",
    "      for sentiment in ['positive','negative']:\n",
    "        hypothesis = 'The sentiment about bitcoin is {}.'.format(sentiment)\n",
    "        x = tokenizer.encode(statement, hypothesis,return_tensors='pt',truncation_strategy='only_first')\n",
    "        out=nli_model(x.cuda())\n",
    "        logits = out[0]\n",
    "        entail_contradiction_logits = logits[:,[0,2]]\n",
    "        probs = entail_contradiction_logits.softmax(dim=1)\n",
    "        prob_label_is_true = probs[:,1]\n",
    "        if sentiment == 'positive':\n",
    "          positives.append(prob_label_is_true.item())\n",
    "        else:\n",
    "          negatives.append(prob_label_is_true.item())"
   ]
  },
  {
   "cell_type": "markdown",
   "metadata": {
    "id": "lxf2V2LobPrP"
   },
   "source": [
    "Add the columns of sentiment score to the dataframe."
   ]
  },
  {
   "cell_type": "code",
   "execution_count": null,
   "metadata": {
    "id": "5FhtrbBsb2-1"
   },
   "outputs": [],
   "source": [
    "df_lemmatized['positive_score_btc'] = positives\n",
    "df_lemmatized['negative_score_btc'] = negatives"
   ]
  },
  {
   "cell_type": "code",
   "execution_count": null,
   "metadata": {
    "id": "ao2E7Zn8I7b7"
   },
   "outputs": [],
   "source": [
    "df_lemmatized.to_csv('./Data/score_btc.csv', index=False)"
   ]
  },
  {
   "cell_type": "markdown",
   "metadata": {
    "id": "jhzASh1jaeJT"
   },
   "source": [
    "### Visualization and comparison with greed/fear index"
   ]
  },
  {
   "cell_type": "markdown",
   "metadata": {
    "id": "uGZaQLuNbmbh"
   },
   "source": [
    "This section treats about a metric that will very likely be our main sanity check index as we took from an online dataset. It gives who much are people greedy or fearful concerning bitcoin at a certain point of point, which is obvisouly related to our sentiment analysis problem over quotes."
   ]
  },
  {
   "cell_type": "code",
   "execution_count": 15,
   "metadata": {
    "colab": {
     "base_uri": "https://localhost:8080/",
     "height": 564
    },
    "executionInfo": {
     "elapsed": 1015,
     "status": "ok",
     "timestamp": 1636742477278,
     "user": {
      "displayName": "Taha Zakariya",
      "photoUrl": "https://lh3.googleusercontent.com/a/default-user=s64",
      "userId": "04695355770412779331"
     },
     "user_tz": -60
    },
    "id": "rzn86HWFJZUV",
    "outputId": "adc8f387-fead-4c0f-fce7-276b9f039af6"
   },
   "outputs": [
    {
     "data": {
      "text/html": [
       "<div>\n",
       "<style scoped>\n",
       "    .dataframe tbody tr th:only-of-type {\n",
       "        vertical-align: middle;\n",
       "    }\n",
       "\n",
       "    .dataframe tbody tr th {\n",
       "        vertical-align: top;\n",
       "    }\n",
       "\n",
       "    .dataframe thead th {\n",
       "        text-align: right;\n",
       "    }\n",
       "</style>\n",
       "<table border=\"1\" class=\"dataframe\">\n",
       "  <thead>\n",
       "    <tr style=\"text-align: right;\">\n",
       "      <th></th>\n",
       "      <th>quoteID</th>\n",
       "      <th>quotation</th>\n",
       "      <th>speaker</th>\n",
       "      <th>qids</th>\n",
       "      <th>date</th>\n",
       "      <th>numOccurrences</th>\n",
       "      <th>probas</th>\n",
       "      <th>urls</th>\n",
       "      <th>phase</th>\n",
       "      <th>month</th>\n",
       "      <th>day</th>\n",
       "      <th>year</th>\n",
       "      <th>month_nb</th>\n",
       "      <th>most_likely_speaker</th>\n",
       "      <th>positive_score_btc</th>\n",
       "      <th>negative_score_btc</th>\n",
       "    </tr>\n",
       "  </thead>\n",
       "  <tbody>\n",
       "    <tr>\n",
       "      <th>0</th>\n",
       "      <td>2015-10-04-032770</td>\n",
       "      <td>Litecoin Shows There Is a Simple Fix for Spam ...</td>\n",
       "      <td>Charlie Lee</td>\n",
       "      <td>['Q2960866', 'Q357856', 'Q50326813', 'Q55607117']</td>\n",
       "      <td>2015-10-04 18:48:44</td>\n",
       "      <td>1</td>\n",
       "      <td>[['Charlie Lee', '0.9254'], ['None', '0.0746']]</td>\n",
       "      <td>['http://cointelegraph.com/news/115374/the-ong...</td>\n",
       "      <td>E</td>\n",
       "      <td>2015-10</td>\n",
       "      <td>2015-10-04</td>\n",
       "      <td>2015</td>\n",
       "      <td>10</td>\n",
       "      <td>Charlie Lee</td>\n",
       "      <td>0.052878</td>\n",
       "      <td>0.104096</td>\n",
       "    </tr>\n",
       "    <tr>\n",
       "      <th>1</th>\n",
       "      <td>2015-09-15-114302</td>\n",
       "      <td>We believe that you deserve to reap the benefi...</td>\n",
       "      <td>Vishal Gupta</td>\n",
       "      <td>['Q57623555']</td>\n",
       "      <td>2015-09-15 20:32:32</td>\n",
       "      <td>1</td>\n",
       "      <td>[['Vishal Gupta', '0.5501'], ['None', '0.2781'...</td>\n",
       "      <td>['http://benzinga.com/news/15/09/5835310/bitco...</td>\n",
       "      <td>E</td>\n",
       "      <td>2015-09</td>\n",
       "      <td>2015-09-15</td>\n",
       "      <td>2015</td>\n",
       "      <td>9</td>\n",
       "      <td>Vishal Gupta</td>\n",
       "      <td>0.303506</td>\n",
       "      <td>0.000175</td>\n",
       "    </tr>\n",
       "    <tr>\n",
       "      <th>2</th>\n",
       "      <td>2015-02-06-003563</td>\n",
       "      <td>AmEx need to get into Bitcoin or one of the ot...</td>\n",
       "      <td>Porter Bibb</td>\n",
       "      <td>['Q7231593']</td>\n",
       "      <td>2015-02-06 21:39:00</td>\n",
       "      <td>2</td>\n",
       "      <td>[['Porter Bibb', '0.8712'], ['None', '0.1288']]</td>\n",
       "      <td>['http://us.rd.yahoo.com/finance/external/inve...</td>\n",
       "      <td>E</td>\n",
       "      <td>2015-02</td>\n",
       "      <td>2015-02-06</td>\n",
       "      <td>2015</td>\n",
       "      <td>2</td>\n",
       "      <td>Porter Bibb</td>\n",
       "      <td>0.361056</td>\n",
       "      <td>0.015906</td>\n",
       "    </tr>\n",
       "    <tr>\n",
       "      <th>3</th>\n",
       "      <td>2015-06-22-017667</td>\n",
       "      <td>If each bitcoin ha a history and people know h...</td>\n",
       "      <td>Greg Maxwell</td>\n",
       "      <td>['Q46997142']</td>\n",
       "      <td>2015-06-22 14:45:56</td>\n",
       "      <td>1</td>\n",
       "      <td>[['Greg Maxwell', '0.966'], ['None', '0.034']]</td>\n",
       "      <td>['http://www.newsbtc.com/2015/06/22/how-blocks...</td>\n",
       "      <td>E</td>\n",
       "      <td>2015-06</td>\n",
       "      <td>2015-06-22</td>\n",
       "      <td>2015</td>\n",
       "      <td>6</td>\n",
       "      <td>Greg Maxwell</td>\n",
       "      <td>0.006091</td>\n",
       "      <td>0.211665</td>\n",
       "    </tr>\n",
       "    <tr>\n",
       "      <th>4</th>\n",
       "      <td>2015-10-07-012201</td>\n",
       "      <td>Bitcoin in it current incarnation is slow in t...</td>\n",
       "      <td>Ann Cairns</td>\n",
       "      <td>['Q28870363']</td>\n",
       "      <td>2015-10-07 17:02:57</td>\n",
       "      <td>1</td>\n",
       "      <td>[['Ann Cairns', '0.8585'], ['None', '0.1415']]</td>\n",
       "      <td>['http://cointelegraph.com/news/115390/masterc...</td>\n",
       "      <td>E</td>\n",
       "      <td>2015-10</td>\n",
       "      <td>2015-10-07</td>\n",
       "      <td>2015</td>\n",
       "      <td>10</td>\n",
       "      <td>Ann Cairns</td>\n",
       "      <td>0.008056</td>\n",
       "      <td>0.947546</td>\n",
       "    </tr>\n",
       "  </tbody>\n",
       "</table>\n",
       "</div>"
      ],
      "text/plain": [
       "             quoteID                                          quotation  \\\n",
       "0  2015-10-04-032770  Litecoin Shows There Is a Simple Fix for Spam ...   \n",
       "1  2015-09-15-114302  We believe that you deserve to reap the benefi...   \n",
       "2  2015-02-06-003563  AmEx need to get into Bitcoin or one of the ot...   \n",
       "3  2015-06-22-017667  If each bitcoin ha a history and people know h...   \n",
       "4  2015-10-07-012201  Bitcoin in it current incarnation is slow in t...   \n",
       "\n",
       "        speaker                                               qids  \\\n",
       "0   Charlie Lee  ['Q2960866', 'Q357856', 'Q50326813', 'Q55607117']   \n",
       "1  Vishal Gupta                                      ['Q57623555']   \n",
       "2   Porter Bibb                                       ['Q7231593']   \n",
       "3  Greg Maxwell                                      ['Q46997142']   \n",
       "4    Ann Cairns                                      ['Q28870363']   \n",
       "\n",
       "                  date  numOccurrences  \\\n",
       "0  2015-10-04 18:48:44               1   \n",
       "1  2015-09-15 20:32:32               1   \n",
       "2  2015-02-06 21:39:00               2   \n",
       "3  2015-06-22 14:45:56               1   \n",
       "4  2015-10-07 17:02:57               1   \n",
       "\n",
       "                                              probas  \\\n",
       "0    [['Charlie Lee', '0.9254'], ['None', '0.0746']]   \n",
       "1  [['Vishal Gupta', '0.5501'], ['None', '0.2781'...   \n",
       "2    [['Porter Bibb', '0.8712'], ['None', '0.1288']]   \n",
       "3     [['Greg Maxwell', '0.966'], ['None', '0.034']]   \n",
       "4     [['Ann Cairns', '0.8585'], ['None', '0.1415']]   \n",
       "\n",
       "                                                urls phase    month  \\\n",
       "0  ['http://cointelegraph.com/news/115374/the-ong...     E  2015-10   \n",
       "1  ['http://benzinga.com/news/15/09/5835310/bitco...     E  2015-09   \n",
       "2  ['http://us.rd.yahoo.com/finance/external/inve...     E  2015-02   \n",
       "3  ['http://www.newsbtc.com/2015/06/22/how-blocks...     E  2015-06   \n",
       "4  ['http://cointelegraph.com/news/115390/masterc...     E  2015-10   \n",
       "\n",
       "          day  year  month_nb most_likely_speaker  positive_score_btc  \\\n",
       "0  2015-10-04  2015        10         Charlie Lee            0.052878   \n",
       "1  2015-09-15  2015         9        Vishal Gupta            0.303506   \n",
       "2  2015-02-06  2015         2         Porter Bibb            0.361056   \n",
       "3  2015-06-22  2015         6        Greg Maxwell            0.006091   \n",
       "4  2015-10-07  2015        10          Ann Cairns            0.008056   \n",
       "\n",
       "   negative_score_btc  \n",
       "0            0.104096  \n",
       "1            0.000175  \n",
       "2            0.015906  \n",
       "3            0.211665  \n",
       "4            0.947546  "
      ]
     },
     "execution_count": 15,
     "metadata": {},
     "output_type": "execute_result"
    }
   ],
   "source": [
    "df_lemmatized = pd.read_csv('./Data/score_btc.csv')\n",
    "df_lemmatized.head()"
   ]
  },
  {
   "cell_type": "markdown",
   "metadata": {
    "id": "sWAuAmvbcmVH"
   },
   "source": [
    "We first visualizd positive and negative scores of the sentiment model application."
   ]
  },
  {
   "cell_type": "code",
   "execution_count": 16,
   "metadata": {
    "colab": {
     "base_uri": "https://localhost:8080/",
     "height": 610
    },
    "executionInfo": {
     "elapsed": 255,
     "status": "ok",
     "timestamp": 1636742479319,
     "user": {
      "displayName": "Taha Zakariya",
      "photoUrl": "https://lh3.googleusercontent.com/a/default-user=s64",
      "userId": "04695355770412779331"
     },
     "user_tz": -60
    },
    "id": "w-vl32KdbfG-",
    "outputId": "e2b5454d-6662-452f-8179-a3dd96128c45"
   },
   "outputs": [
    {
     "name": "stderr",
     "output_type": "stream",
     "text": [
      "<ipython-input-16-005f65c44363>:1: FutureWarning:\n",
      "\n",
      "Indexing with multiple keys (implicitly converted to a tuple of keys) will be deprecated, use a list instead.\n",
      "\n"
     ]
    },
    {
     "data": {
      "application/vnd.plotly.v1+json": {
       "config": {
        "plotlyServerURL": "https://plot.ly"
       },
       "data": [
        {
         "name": "Positive sentiment score btc",
         "type": "scatter",
         "x": [
          "2015-01",
          "2015-02",
          "2015-03",
          "2015-04",
          "2015-05",
          "2015-06",
          "2015-07",
          "2015-08",
          "2015-09",
          "2015-10",
          "2015-11",
          "2015-12",
          "2016-01",
          "2016-02",
          "2016-03",
          "2016-04",
          "2016-05",
          "2016-06",
          "2016-07",
          "2016-08",
          "2016-09",
          "2016-10",
          "2016-11",
          "2016-12",
          "2017-01",
          "2017-02",
          "2017-03",
          "2017-04",
          "2017-05",
          "2017-06",
          "2017-07",
          "2017-08",
          "2017-09",
          "2017-10",
          "2017-11",
          "2017-12",
          "2018-01",
          "2018-02",
          "2018-03",
          "2018-04",
          "2018-05",
          "2018-06",
          "2018-07",
          "2018-08",
          "2018-09",
          "2018-10",
          "2018-11",
          "2018-12",
          "2019-01",
          "2019-02",
          "2019-03",
          "2019-04",
          "2019-05",
          "2019-06",
          "2019-07",
          "2019-08",
          "2019-09",
          "2019-10",
          "2019-11",
          "2019-12",
          "2020-01",
          "2020-02",
          "2020-03",
          "2020-04"
         ],
         "y": [
          0.42032989594809506,
          0.5016609299879772,
          0.5702119867683058,
          0.4277420432437211,
          0.583896773720905,
          0.47946146982881876,
          0.5119490673526138,
          0.49669156476172494,
          0.4149006904237642,
          0.44279581104905336,
          0.4416968833654664,
          0.3925743840616575,
          0.40714318767879437,
          0.38008824269631275,
          0.5613759259382883,
          0.4117844125329593,
          0.40905652971149464,
          0.8332654610276222,
          0.37634011214959173,
          0.3447091434308759,
          0.4406192234815275,
          0.7493733257055283,
          0.3627954175074895,
          0.5446566479579531,
          0.18792988484104475,
          0.45061173904434565,
          0.41305711395995576,
          0.4344333954353769,
          0.4135791054578465,
          0.3924626693235321,
          0.3872268820790585,
          0.4690792302512858,
          0.3845451366382069,
          0.3639737954152315,
          0.4151703821910859,
          0.3896751156838153,
          0.34387883042886425,
          0.32220736119422017,
          0.39985053382976293,
          0.36186794319957444,
          0.3752033114424841,
          0.35688304786162917,
          0.3831404041285739,
          0.38658277304938254,
          0.33963857039531054,
          0.4454097698347841,
          0.3702050009422079,
          0.3709452849730824,
          0.4200604689927021,
          0.36749948901971197,
          0.4530687711278941,
          0.5125731728660159,
          0.4900038372423933,
          0.49422505146312534,
          0.3921650234569451,
          0.4412214442963211,
          0.4444352076771449,
          0.38170802052750774,
          0.4462974562516405,
          0.430988335299737,
          0.46585167599273813,
          0.4712748118782031,
          0.33270356577286087,
          0.42761598189322586
         ]
        },
        {
         "name": "Negative sentiment score btc",
         "type": "scatter",
         "x": [
          "2015-01",
          "2015-02",
          "2015-03",
          "2015-04",
          "2015-05",
          "2015-06",
          "2015-07",
          "2015-08",
          "2015-09",
          "2015-10",
          "2015-11",
          "2015-12",
          "2016-01",
          "2016-02",
          "2016-03",
          "2016-04",
          "2016-05",
          "2016-06",
          "2016-07",
          "2016-08",
          "2016-09",
          "2016-10",
          "2016-11",
          "2016-12",
          "2017-01",
          "2017-02",
          "2017-03",
          "2017-04",
          "2017-05",
          "2017-06",
          "2017-07",
          "2017-08",
          "2017-09",
          "2017-10",
          "2017-11",
          "2017-12",
          "2018-01",
          "2018-02",
          "2018-03",
          "2018-04",
          "2018-05",
          "2018-06",
          "2018-07",
          "2018-08",
          "2018-09",
          "2018-10",
          "2018-11",
          "2018-12",
          "2019-01",
          "2019-02",
          "2019-03",
          "2019-04",
          "2019-05",
          "2019-06",
          "2019-07",
          "2019-08",
          "2019-09",
          "2019-10",
          "2019-11",
          "2019-12",
          "2020-01",
          "2020-02",
          "2020-03",
          "2020-04"
         ],
         "y": [
          0.2551793178147153,
          0.14165182239588142,
          0.1457710827542752,
          0.21153215516806814,
          0.11433974084571379,
          0.20650976598631973,
          0.15092197169304258,
          0.17116549886691246,
          0.2321252029463245,
          0.21691977980573976,
          0.22822863955721573,
          0.2070312678135509,
          0.2626115848174307,
          0.2347458616581185,
          0.016807909822091464,
          0.19593859700703153,
          0.2258585706344419,
          0.06981680413628055,
          0.20095277330747194,
          0.28527113283497413,
          0.25519736019204436,
          0.011272106040269136,
          0.2673178383120103,
          0.14483148502280999,
          0.315925968112424,
          0.28142282114867206,
          0.28626771930999284,
          0.1916007407550508,
          0.21391259357965786,
          0.23951568089798037,
          0.22767130569199448,
          0.21192189565092676,
          0.34385559667102644,
          0.3251309751012312,
          0.2775652509664716,
          0.29439348443177593,
          0.30355691893982445,
          0.3415377180857797,
          0.2757143491316541,
          0.2800225513567491,
          0.2922627461927633,
          0.30277739170439383,
          0.2763090328066831,
          0.29322411312889657,
          0.2650726892748894,
          0.21234456347456157,
          0.2901881990764446,
          0.2858888328648425,
          0.28696533180503875,
          0.29179501496589505,
          0.2812803040186658,
          0.20868044422724308,
          0.22593750634834867,
          0.210193720478167,
          0.3405168717043104,
          0.2333997353677488,
          0.22607352851455087,
          0.2758361006650786,
          0.22083413684908257,
          0.27312252770886086,
          0.24361374109175132,
          0.21127833401223484,
          0.3488637998588877,
          0.21022140529414174
         ]
        }
       ],
       "layout": {
        "template": {
         "data": {
          "bar": [
           {
            "error_x": {
             "color": "#2a3f5f"
            },
            "error_y": {
             "color": "#2a3f5f"
            },
            "marker": {
             "line": {
              "color": "#E5ECF6",
              "width": 0.5
             },
             "pattern": {
              "fillmode": "overlay",
              "size": 10,
              "solidity": 0.2
             }
            },
            "type": "bar"
           }
          ],
          "barpolar": [
           {
            "marker": {
             "line": {
              "color": "#E5ECF6",
              "width": 0.5
             },
             "pattern": {
              "fillmode": "overlay",
              "size": 10,
              "solidity": 0.2
             }
            },
            "type": "barpolar"
           }
          ],
          "carpet": [
           {
            "aaxis": {
             "endlinecolor": "#2a3f5f",
             "gridcolor": "white",
             "linecolor": "white",
             "minorgridcolor": "white",
             "startlinecolor": "#2a3f5f"
            },
            "baxis": {
             "endlinecolor": "#2a3f5f",
             "gridcolor": "white",
             "linecolor": "white",
             "minorgridcolor": "white",
             "startlinecolor": "#2a3f5f"
            },
            "type": "carpet"
           }
          ],
          "choropleth": [
           {
            "colorbar": {
             "outlinewidth": 0,
             "ticks": ""
            },
            "type": "choropleth"
           }
          ],
          "contour": [
           {
            "colorbar": {
             "outlinewidth": 0,
             "ticks": ""
            },
            "colorscale": [
             [
              0,
              "#0d0887"
             ],
             [
              0.1111111111111111,
              "#46039f"
             ],
             [
              0.2222222222222222,
              "#7201a8"
             ],
             [
              0.3333333333333333,
              "#9c179e"
             ],
             [
              0.4444444444444444,
              "#bd3786"
             ],
             [
              0.5555555555555556,
              "#d8576b"
             ],
             [
              0.6666666666666666,
              "#ed7953"
             ],
             [
              0.7777777777777778,
              "#fb9f3a"
             ],
             [
              0.8888888888888888,
              "#fdca26"
             ],
             [
              1,
              "#f0f921"
             ]
            ],
            "type": "contour"
           }
          ],
          "contourcarpet": [
           {
            "colorbar": {
             "outlinewidth": 0,
             "ticks": ""
            },
            "type": "contourcarpet"
           }
          ],
          "heatmap": [
           {
            "colorbar": {
             "outlinewidth": 0,
             "ticks": ""
            },
            "colorscale": [
             [
              0,
              "#0d0887"
             ],
             [
              0.1111111111111111,
              "#46039f"
             ],
             [
              0.2222222222222222,
              "#7201a8"
             ],
             [
              0.3333333333333333,
              "#9c179e"
             ],
             [
              0.4444444444444444,
              "#bd3786"
             ],
             [
              0.5555555555555556,
              "#d8576b"
             ],
             [
              0.6666666666666666,
              "#ed7953"
             ],
             [
              0.7777777777777778,
              "#fb9f3a"
             ],
             [
              0.8888888888888888,
              "#fdca26"
             ],
             [
              1,
              "#f0f921"
             ]
            ],
            "type": "heatmap"
           }
          ],
          "heatmapgl": [
           {
            "colorbar": {
             "outlinewidth": 0,
             "ticks": ""
            },
            "colorscale": [
             [
              0,
              "#0d0887"
             ],
             [
              0.1111111111111111,
              "#46039f"
             ],
             [
              0.2222222222222222,
              "#7201a8"
             ],
             [
              0.3333333333333333,
              "#9c179e"
             ],
             [
              0.4444444444444444,
              "#bd3786"
             ],
             [
              0.5555555555555556,
              "#d8576b"
             ],
             [
              0.6666666666666666,
              "#ed7953"
             ],
             [
              0.7777777777777778,
              "#fb9f3a"
             ],
             [
              0.8888888888888888,
              "#fdca26"
             ],
             [
              1,
              "#f0f921"
             ]
            ],
            "type": "heatmapgl"
           }
          ],
          "histogram": [
           {
            "marker": {
             "pattern": {
              "fillmode": "overlay",
              "size": 10,
              "solidity": 0.2
             }
            },
            "type": "histogram"
           }
          ],
          "histogram2d": [
           {
            "colorbar": {
             "outlinewidth": 0,
             "ticks": ""
            },
            "colorscale": [
             [
              0,
              "#0d0887"
             ],
             [
              0.1111111111111111,
              "#46039f"
             ],
             [
              0.2222222222222222,
              "#7201a8"
             ],
             [
              0.3333333333333333,
              "#9c179e"
             ],
             [
              0.4444444444444444,
              "#bd3786"
             ],
             [
              0.5555555555555556,
              "#d8576b"
             ],
             [
              0.6666666666666666,
              "#ed7953"
             ],
             [
              0.7777777777777778,
              "#fb9f3a"
             ],
             [
              0.8888888888888888,
              "#fdca26"
             ],
             [
              1,
              "#f0f921"
             ]
            ],
            "type": "histogram2d"
           }
          ],
          "histogram2dcontour": [
           {
            "colorbar": {
             "outlinewidth": 0,
             "ticks": ""
            },
            "colorscale": [
             [
              0,
              "#0d0887"
             ],
             [
              0.1111111111111111,
              "#46039f"
             ],
             [
              0.2222222222222222,
              "#7201a8"
             ],
             [
              0.3333333333333333,
              "#9c179e"
             ],
             [
              0.4444444444444444,
              "#bd3786"
             ],
             [
              0.5555555555555556,
              "#d8576b"
             ],
             [
              0.6666666666666666,
              "#ed7953"
             ],
             [
              0.7777777777777778,
              "#fb9f3a"
             ],
             [
              0.8888888888888888,
              "#fdca26"
             ],
             [
              1,
              "#f0f921"
             ]
            ],
            "type": "histogram2dcontour"
           }
          ],
          "mesh3d": [
           {
            "colorbar": {
             "outlinewidth": 0,
             "ticks": ""
            },
            "type": "mesh3d"
           }
          ],
          "parcoords": [
           {
            "line": {
             "colorbar": {
              "outlinewidth": 0,
              "ticks": ""
             }
            },
            "type": "parcoords"
           }
          ],
          "pie": [
           {
            "automargin": true,
            "type": "pie"
           }
          ],
          "scatter": [
           {
            "marker": {
             "colorbar": {
              "outlinewidth": 0,
              "ticks": ""
             }
            },
            "type": "scatter"
           }
          ],
          "scatter3d": [
           {
            "line": {
             "colorbar": {
              "outlinewidth": 0,
              "ticks": ""
             }
            },
            "marker": {
             "colorbar": {
              "outlinewidth": 0,
              "ticks": ""
             }
            },
            "type": "scatter3d"
           }
          ],
          "scattercarpet": [
           {
            "marker": {
             "colorbar": {
              "outlinewidth": 0,
              "ticks": ""
             }
            },
            "type": "scattercarpet"
           }
          ],
          "scattergeo": [
           {
            "marker": {
             "colorbar": {
              "outlinewidth": 0,
              "ticks": ""
             }
            },
            "type": "scattergeo"
           }
          ],
          "scattergl": [
           {
            "marker": {
             "colorbar": {
              "outlinewidth": 0,
              "ticks": ""
             }
            },
            "type": "scattergl"
           }
          ],
          "scattermapbox": [
           {
            "marker": {
             "colorbar": {
              "outlinewidth": 0,
              "ticks": ""
             }
            },
            "type": "scattermapbox"
           }
          ],
          "scatterpolar": [
           {
            "marker": {
             "colorbar": {
              "outlinewidth": 0,
              "ticks": ""
             }
            },
            "type": "scatterpolar"
           }
          ],
          "scatterpolargl": [
           {
            "marker": {
             "colorbar": {
              "outlinewidth": 0,
              "ticks": ""
             }
            },
            "type": "scatterpolargl"
           }
          ],
          "scatterternary": [
           {
            "marker": {
             "colorbar": {
              "outlinewidth": 0,
              "ticks": ""
             }
            },
            "type": "scatterternary"
           }
          ],
          "surface": [
           {
            "colorbar": {
             "outlinewidth": 0,
             "ticks": ""
            },
            "colorscale": [
             [
              0,
              "#0d0887"
             ],
             [
              0.1111111111111111,
              "#46039f"
             ],
             [
              0.2222222222222222,
              "#7201a8"
             ],
             [
              0.3333333333333333,
              "#9c179e"
             ],
             [
              0.4444444444444444,
              "#bd3786"
             ],
             [
              0.5555555555555556,
              "#d8576b"
             ],
             [
              0.6666666666666666,
              "#ed7953"
             ],
             [
              0.7777777777777778,
              "#fb9f3a"
             ],
             [
              0.8888888888888888,
              "#fdca26"
             ],
             [
              1,
              "#f0f921"
             ]
            ],
            "type": "surface"
           }
          ],
          "table": [
           {
            "cells": {
             "fill": {
              "color": "#EBF0F8"
             },
             "line": {
              "color": "white"
             }
            },
            "header": {
             "fill": {
              "color": "#C8D4E3"
             },
             "line": {
              "color": "white"
             }
            },
            "type": "table"
           }
          ]
         },
         "layout": {
          "annotationdefaults": {
           "arrowcolor": "#2a3f5f",
           "arrowhead": 0,
           "arrowwidth": 1
          },
          "autotypenumbers": "strict",
          "coloraxis": {
           "colorbar": {
            "outlinewidth": 0,
            "ticks": ""
           }
          },
          "colorscale": {
           "diverging": [
            [
             0,
             "#8e0152"
            ],
            [
             0.1,
             "#c51b7d"
            ],
            [
             0.2,
             "#de77ae"
            ],
            [
             0.3,
             "#f1b6da"
            ],
            [
             0.4,
             "#fde0ef"
            ],
            [
             0.5,
             "#f7f7f7"
            ],
            [
             0.6,
             "#e6f5d0"
            ],
            [
             0.7,
             "#b8e186"
            ],
            [
             0.8,
             "#7fbc41"
            ],
            [
             0.9,
             "#4d9221"
            ],
            [
             1,
             "#276419"
            ]
           ],
           "sequential": [
            [
             0,
             "#0d0887"
            ],
            [
             0.1111111111111111,
             "#46039f"
            ],
            [
             0.2222222222222222,
             "#7201a8"
            ],
            [
             0.3333333333333333,
             "#9c179e"
            ],
            [
             0.4444444444444444,
             "#bd3786"
            ],
            [
             0.5555555555555556,
             "#d8576b"
            ],
            [
             0.6666666666666666,
             "#ed7953"
            ],
            [
             0.7777777777777778,
             "#fb9f3a"
            ],
            [
             0.8888888888888888,
             "#fdca26"
            ],
            [
             1,
             "#f0f921"
            ]
           ],
           "sequentialminus": [
            [
             0,
             "#0d0887"
            ],
            [
             0.1111111111111111,
             "#46039f"
            ],
            [
             0.2222222222222222,
             "#7201a8"
            ],
            [
             0.3333333333333333,
             "#9c179e"
            ],
            [
             0.4444444444444444,
             "#bd3786"
            ],
            [
             0.5555555555555556,
             "#d8576b"
            ],
            [
             0.6666666666666666,
             "#ed7953"
            ],
            [
             0.7777777777777778,
             "#fb9f3a"
            ],
            [
             0.8888888888888888,
             "#fdca26"
            ],
            [
             1,
             "#f0f921"
            ]
           ]
          },
          "colorway": [
           "#636efa",
           "#EF553B",
           "#00cc96",
           "#ab63fa",
           "#FFA15A",
           "#19d3f3",
           "#FF6692",
           "#B6E880",
           "#FF97FF",
           "#FECB52"
          ],
          "font": {
           "color": "#2a3f5f"
          },
          "geo": {
           "bgcolor": "white",
           "lakecolor": "white",
           "landcolor": "#E5ECF6",
           "showlakes": true,
           "showland": true,
           "subunitcolor": "white"
          },
          "hoverlabel": {
           "align": "left"
          },
          "hovermode": "closest",
          "mapbox": {
           "style": "light"
          },
          "paper_bgcolor": "white",
          "plot_bgcolor": "#E5ECF6",
          "polar": {
           "angularaxis": {
            "gridcolor": "white",
            "linecolor": "white",
            "ticks": ""
           },
           "bgcolor": "#E5ECF6",
           "radialaxis": {
            "gridcolor": "white",
            "linecolor": "white",
            "ticks": ""
           }
          },
          "scene": {
           "xaxis": {
            "backgroundcolor": "#E5ECF6",
            "gridcolor": "white",
            "gridwidth": 2,
            "linecolor": "white",
            "showbackground": true,
            "ticks": "",
            "zerolinecolor": "white"
           },
           "yaxis": {
            "backgroundcolor": "#E5ECF6",
            "gridcolor": "white",
            "gridwidth": 2,
            "linecolor": "white",
            "showbackground": true,
            "ticks": "",
            "zerolinecolor": "white"
           },
           "zaxis": {
            "backgroundcolor": "#E5ECF6",
            "gridcolor": "white",
            "gridwidth": 2,
            "linecolor": "white",
            "showbackground": true,
            "ticks": "",
            "zerolinecolor": "white"
           }
          },
          "shapedefaults": {
           "line": {
            "color": "#2a3f5f"
           }
          },
          "ternary": {
           "aaxis": {
            "gridcolor": "white",
            "linecolor": "white",
            "ticks": ""
           },
           "baxis": {
            "gridcolor": "white",
            "linecolor": "white",
            "ticks": ""
           },
           "bgcolor": "#E5ECF6",
           "caxis": {
            "gridcolor": "white",
            "linecolor": "white",
            "ticks": ""
           }
          },
          "title": {
           "x": 0.05
          },
          "xaxis": {
           "automargin": true,
           "gridcolor": "white",
           "linecolor": "white",
           "ticks": "",
           "title": {
            "standoff": 15
           },
           "zerolinecolor": "white",
           "zerolinewidth": 2
          },
          "yaxis": {
           "automargin": true,
           "gridcolor": "white",
           "linecolor": "white",
           "ticks": "",
           "title": {
            "standoff": 15
           },
           "zerolinecolor": "white",
           "zerolinewidth": 2
          }
         }
        },
        "title": {
         "text": "Positive and negative sentiment scores of bitcoin quotes"
        },
        "xaxis": {
         "title": {
          "text": "Date"
         }
        },
        "yaxis": {
         "title": {
          "text": "Score"
         }
        }
       }
      },
      "text/html": [
       "<div>                            <div id=\"6a169e80-18a5-4179-bfdd-9dc333315022\" class=\"plotly-graph-div\" style=\"height:525px; width:100%;\"></div>            <script type=\"text/javascript\">                require([\"plotly\"], function(Plotly) {                    window.PLOTLYENV=window.PLOTLYENV || {};                                    if (document.getElementById(\"6a169e80-18a5-4179-bfdd-9dc333315022\")) {                    Plotly.newPlot(                        \"6a169e80-18a5-4179-bfdd-9dc333315022\",                        [{\"name\":\"Positive sentiment score btc\",\"type\":\"scatter\",\"x\":[\"2015-01\",\"2015-02\",\"2015-03\",\"2015-04\",\"2015-05\",\"2015-06\",\"2015-07\",\"2015-08\",\"2015-09\",\"2015-10\",\"2015-11\",\"2015-12\",\"2016-01\",\"2016-02\",\"2016-03\",\"2016-04\",\"2016-05\",\"2016-06\",\"2016-07\",\"2016-08\",\"2016-09\",\"2016-10\",\"2016-11\",\"2016-12\",\"2017-01\",\"2017-02\",\"2017-03\",\"2017-04\",\"2017-05\",\"2017-06\",\"2017-07\",\"2017-08\",\"2017-09\",\"2017-10\",\"2017-11\",\"2017-12\",\"2018-01\",\"2018-02\",\"2018-03\",\"2018-04\",\"2018-05\",\"2018-06\",\"2018-07\",\"2018-08\",\"2018-09\",\"2018-10\",\"2018-11\",\"2018-12\",\"2019-01\",\"2019-02\",\"2019-03\",\"2019-04\",\"2019-05\",\"2019-06\",\"2019-07\",\"2019-08\",\"2019-09\",\"2019-10\",\"2019-11\",\"2019-12\",\"2020-01\",\"2020-02\",\"2020-03\",\"2020-04\"],\"y\":[0.42032989594809506,0.5016609299879772,0.5702119867683058,0.4277420432437211,0.583896773720905,0.47946146982881876,0.5119490673526138,0.49669156476172494,0.4149006904237642,0.44279581104905336,0.4416968833654664,0.3925743840616575,0.40714318767879437,0.38008824269631275,0.5613759259382883,0.4117844125329593,0.40905652971149464,0.8332654610276222,0.37634011214959173,0.3447091434308759,0.4406192234815275,0.7493733257055283,0.3627954175074895,0.5446566479579531,0.18792988484104475,0.45061173904434565,0.41305711395995576,0.4344333954353769,0.4135791054578465,0.3924626693235321,0.3872268820790585,0.4690792302512858,0.3845451366382069,0.3639737954152315,0.4151703821910859,0.3896751156838153,0.34387883042886425,0.32220736119422017,0.39985053382976293,0.36186794319957444,0.3752033114424841,0.35688304786162917,0.3831404041285739,0.38658277304938254,0.33963857039531054,0.4454097698347841,0.3702050009422079,0.3709452849730824,0.4200604689927021,0.36749948901971197,0.4530687711278941,0.5125731728660159,0.4900038372423933,0.49422505146312534,0.3921650234569451,0.4412214442963211,0.4444352076771449,0.38170802052750774,0.4462974562516405,0.430988335299737,0.46585167599273813,0.4712748118782031,0.33270356577286087,0.42761598189322586]},{\"name\":\"Negative sentiment score btc\",\"type\":\"scatter\",\"x\":[\"2015-01\",\"2015-02\",\"2015-03\",\"2015-04\",\"2015-05\",\"2015-06\",\"2015-07\",\"2015-08\",\"2015-09\",\"2015-10\",\"2015-11\",\"2015-12\",\"2016-01\",\"2016-02\",\"2016-03\",\"2016-04\",\"2016-05\",\"2016-06\",\"2016-07\",\"2016-08\",\"2016-09\",\"2016-10\",\"2016-11\",\"2016-12\",\"2017-01\",\"2017-02\",\"2017-03\",\"2017-04\",\"2017-05\",\"2017-06\",\"2017-07\",\"2017-08\",\"2017-09\",\"2017-10\",\"2017-11\",\"2017-12\",\"2018-01\",\"2018-02\",\"2018-03\",\"2018-04\",\"2018-05\",\"2018-06\",\"2018-07\",\"2018-08\",\"2018-09\",\"2018-10\",\"2018-11\",\"2018-12\",\"2019-01\",\"2019-02\",\"2019-03\",\"2019-04\",\"2019-05\",\"2019-06\",\"2019-07\",\"2019-08\",\"2019-09\",\"2019-10\",\"2019-11\",\"2019-12\",\"2020-01\",\"2020-02\",\"2020-03\",\"2020-04\"],\"y\":[0.2551793178147153,0.14165182239588142,0.1457710827542752,0.21153215516806814,0.11433974084571379,0.20650976598631973,0.15092197169304258,0.17116549886691246,0.2321252029463245,0.21691977980573976,0.22822863955721573,0.2070312678135509,0.2626115848174307,0.2347458616581185,0.016807909822091464,0.19593859700703153,0.2258585706344419,0.06981680413628055,0.20095277330747194,0.28527113283497413,0.25519736019204436,0.011272106040269136,0.2673178383120103,0.14483148502280999,0.315925968112424,0.28142282114867206,0.28626771930999284,0.1916007407550508,0.21391259357965786,0.23951568089798037,0.22767130569199448,0.21192189565092676,0.34385559667102644,0.3251309751012312,0.2775652509664716,0.29439348443177593,0.30355691893982445,0.3415377180857797,0.2757143491316541,0.2800225513567491,0.2922627461927633,0.30277739170439383,0.2763090328066831,0.29322411312889657,0.2650726892748894,0.21234456347456157,0.2901881990764446,0.2858888328648425,0.28696533180503875,0.29179501496589505,0.2812803040186658,0.20868044422724308,0.22593750634834867,0.210193720478167,0.3405168717043104,0.2333997353677488,0.22607352851455087,0.2758361006650786,0.22083413684908257,0.27312252770886086,0.24361374109175132,0.21127833401223484,0.3488637998588877,0.21022140529414174]}],                        {\"template\":{\"data\":{\"bar\":[{\"error_x\":{\"color\":\"#2a3f5f\"},\"error_y\":{\"color\":\"#2a3f5f\"},\"marker\":{\"line\":{\"color\":\"#E5ECF6\",\"width\":0.5},\"pattern\":{\"fillmode\":\"overlay\",\"size\":10,\"solidity\":0.2}},\"type\":\"bar\"}],\"barpolar\":[{\"marker\":{\"line\":{\"color\":\"#E5ECF6\",\"width\":0.5},\"pattern\":{\"fillmode\":\"overlay\",\"size\":10,\"solidity\":0.2}},\"type\":\"barpolar\"}],\"carpet\":[{\"aaxis\":{\"endlinecolor\":\"#2a3f5f\",\"gridcolor\":\"white\",\"linecolor\":\"white\",\"minorgridcolor\":\"white\",\"startlinecolor\":\"#2a3f5f\"},\"baxis\":{\"endlinecolor\":\"#2a3f5f\",\"gridcolor\":\"white\",\"linecolor\":\"white\",\"minorgridcolor\":\"white\",\"startlinecolor\":\"#2a3f5f\"},\"type\":\"carpet\"}],\"choropleth\":[{\"colorbar\":{\"outlinewidth\":0,\"ticks\":\"\"},\"type\":\"choropleth\"}],\"contour\":[{\"colorbar\":{\"outlinewidth\":0,\"ticks\":\"\"},\"colorscale\":[[0.0,\"#0d0887\"],[0.1111111111111111,\"#46039f\"],[0.2222222222222222,\"#7201a8\"],[0.3333333333333333,\"#9c179e\"],[0.4444444444444444,\"#bd3786\"],[0.5555555555555556,\"#d8576b\"],[0.6666666666666666,\"#ed7953\"],[0.7777777777777778,\"#fb9f3a\"],[0.8888888888888888,\"#fdca26\"],[1.0,\"#f0f921\"]],\"type\":\"contour\"}],\"contourcarpet\":[{\"colorbar\":{\"outlinewidth\":0,\"ticks\":\"\"},\"type\":\"contourcarpet\"}],\"heatmap\":[{\"colorbar\":{\"outlinewidth\":0,\"ticks\":\"\"},\"colorscale\":[[0.0,\"#0d0887\"],[0.1111111111111111,\"#46039f\"],[0.2222222222222222,\"#7201a8\"],[0.3333333333333333,\"#9c179e\"],[0.4444444444444444,\"#bd3786\"],[0.5555555555555556,\"#d8576b\"],[0.6666666666666666,\"#ed7953\"],[0.7777777777777778,\"#fb9f3a\"],[0.8888888888888888,\"#fdca26\"],[1.0,\"#f0f921\"]],\"type\":\"heatmap\"}],\"heatmapgl\":[{\"colorbar\":{\"outlinewidth\":0,\"ticks\":\"\"},\"colorscale\":[[0.0,\"#0d0887\"],[0.1111111111111111,\"#46039f\"],[0.2222222222222222,\"#7201a8\"],[0.3333333333333333,\"#9c179e\"],[0.4444444444444444,\"#bd3786\"],[0.5555555555555556,\"#d8576b\"],[0.6666666666666666,\"#ed7953\"],[0.7777777777777778,\"#fb9f3a\"],[0.8888888888888888,\"#fdca26\"],[1.0,\"#f0f921\"]],\"type\":\"heatmapgl\"}],\"histogram\":[{\"marker\":{\"pattern\":{\"fillmode\":\"overlay\",\"size\":10,\"solidity\":0.2}},\"type\":\"histogram\"}],\"histogram2d\":[{\"colorbar\":{\"outlinewidth\":0,\"ticks\":\"\"},\"colorscale\":[[0.0,\"#0d0887\"],[0.1111111111111111,\"#46039f\"],[0.2222222222222222,\"#7201a8\"],[0.3333333333333333,\"#9c179e\"],[0.4444444444444444,\"#bd3786\"],[0.5555555555555556,\"#d8576b\"],[0.6666666666666666,\"#ed7953\"],[0.7777777777777778,\"#fb9f3a\"],[0.8888888888888888,\"#fdca26\"],[1.0,\"#f0f921\"]],\"type\":\"histogram2d\"}],\"histogram2dcontour\":[{\"colorbar\":{\"outlinewidth\":0,\"ticks\":\"\"},\"colorscale\":[[0.0,\"#0d0887\"],[0.1111111111111111,\"#46039f\"],[0.2222222222222222,\"#7201a8\"],[0.3333333333333333,\"#9c179e\"],[0.4444444444444444,\"#bd3786\"],[0.5555555555555556,\"#d8576b\"],[0.6666666666666666,\"#ed7953\"],[0.7777777777777778,\"#fb9f3a\"],[0.8888888888888888,\"#fdca26\"],[1.0,\"#f0f921\"]],\"type\":\"histogram2dcontour\"}],\"mesh3d\":[{\"colorbar\":{\"outlinewidth\":0,\"ticks\":\"\"},\"type\":\"mesh3d\"}],\"parcoords\":[{\"line\":{\"colorbar\":{\"outlinewidth\":0,\"ticks\":\"\"}},\"type\":\"parcoords\"}],\"pie\":[{\"automargin\":true,\"type\":\"pie\"}],\"scatter\":[{\"marker\":{\"colorbar\":{\"outlinewidth\":0,\"ticks\":\"\"}},\"type\":\"scatter\"}],\"scatter3d\":[{\"line\":{\"colorbar\":{\"outlinewidth\":0,\"ticks\":\"\"}},\"marker\":{\"colorbar\":{\"outlinewidth\":0,\"ticks\":\"\"}},\"type\":\"scatter3d\"}],\"scattercarpet\":[{\"marker\":{\"colorbar\":{\"outlinewidth\":0,\"ticks\":\"\"}},\"type\":\"scattercarpet\"}],\"scattergeo\":[{\"marker\":{\"colorbar\":{\"outlinewidth\":0,\"ticks\":\"\"}},\"type\":\"scattergeo\"}],\"scattergl\":[{\"marker\":{\"colorbar\":{\"outlinewidth\":0,\"ticks\":\"\"}},\"type\":\"scattergl\"}],\"scattermapbox\":[{\"marker\":{\"colorbar\":{\"outlinewidth\":0,\"ticks\":\"\"}},\"type\":\"scattermapbox\"}],\"scatterpolar\":[{\"marker\":{\"colorbar\":{\"outlinewidth\":0,\"ticks\":\"\"}},\"type\":\"scatterpolar\"}],\"scatterpolargl\":[{\"marker\":{\"colorbar\":{\"outlinewidth\":0,\"ticks\":\"\"}},\"type\":\"scatterpolargl\"}],\"scatterternary\":[{\"marker\":{\"colorbar\":{\"outlinewidth\":0,\"ticks\":\"\"}},\"type\":\"scatterternary\"}],\"surface\":[{\"colorbar\":{\"outlinewidth\":0,\"ticks\":\"\"},\"colorscale\":[[0.0,\"#0d0887\"],[0.1111111111111111,\"#46039f\"],[0.2222222222222222,\"#7201a8\"],[0.3333333333333333,\"#9c179e\"],[0.4444444444444444,\"#bd3786\"],[0.5555555555555556,\"#d8576b\"],[0.6666666666666666,\"#ed7953\"],[0.7777777777777778,\"#fb9f3a\"],[0.8888888888888888,\"#fdca26\"],[1.0,\"#f0f921\"]],\"type\":\"surface\"}],\"table\":[{\"cells\":{\"fill\":{\"color\":\"#EBF0F8\"},\"line\":{\"color\":\"white\"}},\"header\":{\"fill\":{\"color\":\"#C8D4E3\"},\"line\":{\"color\":\"white\"}},\"type\":\"table\"}]},\"layout\":{\"annotationdefaults\":{\"arrowcolor\":\"#2a3f5f\",\"arrowhead\":0,\"arrowwidth\":1},\"autotypenumbers\":\"strict\",\"coloraxis\":{\"colorbar\":{\"outlinewidth\":0,\"ticks\":\"\"}},\"colorscale\":{\"diverging\":[[0,\"#8e0152\"],[0.1,\"#c51b7d\"],[0.2,\"#de77ae\"],[0.3,\"#f1b6da\"],[0.4,\"#fde0ef\"],[0.5,\"#f7f7f7\"],[0.6,\"#e6f5d0\"],[0.7,\"#b8e186\"],[0.8,\"#7fbc41\"],[0.9,\"#4d9221\"],[1,\"#276419\"]],\"sequential\":[[0.0,\"#0d0887\"],[0.1111111111111111,\"#46039f\"],[0.2222222222222222,\"#7201a8\"],[0.3333333333333333,\"#9c179e\"],[0.4444444444444444,\"#bd3786\"],[0.5555555555555556,\"#d8576b\"],[0.6666666666666666,\"#ed7953\"],[0.7777777777777778,\"#fb9f3a\"],[0.8888888888888888,\"#fdca26\"],[1.0,\"#f0f921\"]],\"sequentialminus\":[[0.0,\"#0d0887\"],[0.1111111111111111,\"#46039f\"],[0.2222222222222222,\"#7201a8\"],[0.3333333333333333,\"#9c179e\"],[0.4444444444444444,\"#bd3786\"],[0.5555555555555556,\"#d8576b\"],[0.6666666666666666,\"#ed7953\"],[0.7777777777777778,\"#fb9f3a\"],[0.8888888888888888,\"#fdca26\"],[1.0,\"#f0f921\"]]},\"colorway\":[\"#636efa\",\"#EF553B\",\"#00cc96\",\"#ab63fa\",\"#FFA15A\",\"#19d3f3\",\"#FF6692\",\"#B6E880\",\"#FF97FF\",\"#FECB52\"],\"font\":{\"color\":\"#2a3f5f\"},\"geo\":{\"bgcolor\":\"white\",\"lakecolor\":\"white\",\"landcolor\":\"#E5ECF6\",\"showlakes\":true,\"showland\":true,\"subunitcolor\":\"white\"},\"hoverlabel\":{\"align\":\"left\"},\"hovermode\":\"closest\",\"mapbox\":{\"style\":\"light\"},\"paper_bgcolor\":\"white\",\"plot_bgcolor\":\"#E5ECF6\",\"polar\":{\"angularaxis\":{\"gridcolor\":\"white\",\"linecolor\":\"white\",\"ticks\":\"\"},\"bgcolor\":\"#E5ECF6\",\"radialaxis\":{\"gridcolor\":\"white\",\"linecolor\":\"white\",\"ticks\":\"\"}},\"scene\":{\"xaxis\":{\"backgroundcolor\":\"#E5ECF6\",\"gridcolor\":\"white\",\"gridwidth\":2,\"linecolor\":\"white\",\"showbackground\":true,\"ticks\":\"\",\"zerolinecolor\":\"white\"},\"yaxis\":{\"backgroundcolor\":\"#E5ECF6\",\"gridcolor\":\"white\",\"gridwidth\":2,\"linecolor\":\"white\",\"showbackground\":true,\"ticks\":\"\",\"zerolinecolor\":\"white\"},\"zaxis\":{\"backgroundcolor\":\"#E5ECF6\",\"gridcolor\":\"white\",\"gridwidth\":2,\"linecolor\":\"white\",\"showbackground\":true,\"ticks\":\"\",\"zerolinecolor\":\"white\"}},\"shapedefaults\":{\"line\":{\"color\":\"#2a3f5f\"}},\"ternary\":{\"aaxis\":{\"gridcolor\":\"white\",\"linecolor\":\"white\",\"ticks\":\"\"},\"baxis\":{\"gridcolor\":\"white\",\"linecolor\":\"white\",\"ticks\":\"\"},\"bgcolor\":\"#E5ECF6\",\"caxis\":{\"gridcolor\":\"white\",\"linecolor\":\"white\",\"ticks\":\"\"}},\"title\":{\"x\":0.05},\"xaxis\":{\"automargin\":true,\"gridcolor\":\"white\",\"linecolor\":\"white\",\"ticks\":\"\",\"title\":{\"standoff\":15},\"zerolinecolor\":\"white\",\"zerolinewidth\":2},\"yaxis\":{\"automargin\":true,\"gridcolor\":\"white\",\"linecolor\":\"white\",\"ticks\":\"\",\"title\":{\"standoff\":15},\"zerolinecolor\":\"white\",\"zerolinewidth\":2}}},\"title\":{\"text\":\"Positive and negative sentiment scores of bitcoin quotes\"},\"xaxis\":{\"title\":{\"text\":\"Date\"}},\"yaxis\":{\"title\":{\"text\":\"Score\"}}},                        {\"responsive\": true}                    ).then(function(){\n",
       "                            \n",
       "var gd = document.getElementById('6a169e80-18a5-4179-bfdd-9dc333315022');\n",
       "var x = new MutationObserver(function (mutations, observer) {{\n",
       "        var display = window.getComputedStyle(gd).display;\n",
       "        if (!display || display === 'none') {{\n",
       "            console.log([gd, 'removed!']);\n",
       "            Plotly.purge(gd);\n",
       "            observer.disconnect();\n",
       "        }}\n",
       "}});\n",
       "\n",
       "// Listen for the removal of the full notebook cells\n",
       "var notebookContainer = gd.closest('#notebook-container');\n",
       "if (notebookContainer) {{\n",
       "    x.observe(notebookContainer, {childList: true});\n",
       "}}\n",
       "\n",
       "// Listen for the clearing of the current output cell\n",
       "var outputEl = gd.closest('.output');\n",
       "if (outputEl) {{\n",
       "    x.observe(outputEl, {childList: true});\n",
       "}}\n",
       "\n",
       "                        })                };                });            </script>        </div>"
      ]
     },
     "metadata": {},
     "output_type": "display_data"
    }
   ],
   "source": [
    "pos_neg_comp = df_lemmatized.groupby('month')['positive_score_btc','negative_score_btc'].mean()\n",
    "fig = go.Figure([go.Scatter(x=pos_neg_comp.index, y=pos_neg_comp['positive_score_btc'].values, name='Positive sentiment score btc')])\n",
    "fig.add_trace(go.Scatter(x=pos_neg_comp.index, y=pos_neg_comp['negative_score_btc'].values, name='Negative sentiment score btc'))\n",
    "fig.update_layout(\n",
    "  title=\"Positive and negative sentiment scores of bitcoin quotes\",\n",
    "  xaxis_title=\"Date\",\n",
    "  yaxis_title=\"Score\",\n",
    "  )\n",
    "fig.show()"
   ]
  },
  {
   "cell_type": "markdown",
   "metadata": {
    "id": "aflK38pjc4ud"
   },
   "source": [
    "Then, we visualize the greed index over time"
   ]
  },
  {
   "cell_type": "code",
   "execution_count": 17,
   "metadata": {
    "colab": {
     "base_uri": "https://localhost:8080/",
     "height": 542
    },
    "executionInfo": {
     "elapsed": 1144,
     "status": "ok",
     "timestamp": 1636742482051,
     "user": {
      "displayName": "Taha Zakariya",
      "photoUrl": "https://lh3.googleusercontent.com/a/default-user=s64",
      "userId": "04695355770412779331"
     },
     "user_tz": -60
    },
    "id": "1KrFNZ1kcPjM",
    "outputId": "e9654d6e-54f5-4255-87f6-1628bc1b28e0"
   },
   "outputs": [
    {
     "data": {
      "application/vnd.plotly.v1+json": {
       "config": {
        "plotlyServerURL": "https://plot.ly"
       },
       "data": [
        {
         "type": "scatter",
         "x": [
          "2021-11-07T00:00:00",
          "2021-11-06T00:00:00",
          "2021-11-05T00:00:00",
          "2021-11-04T00:00:00",
          "2021-11-03T00:00:00",
          "2021-11-02T00:00:00",
          "2021-11-01T00:00:00",
          "2021-10-31T00:00:00",
          "2021-10-30T00:00:00",
          "2021-10-29T00:00:00",
          "2021-10-28T00:00:00",
          "2021-10-27T00:00:00",
          "2021-10-26T00:00:00",
          "2021-10-25T00:00:00",
          "2021-10-24T00:00:00",
          "2021-10-23T00:00:00",
          "2021-10-22T00:00:00",
          "2021-10-21T00:00:00",
          "2021-10-20T00:00:00",
          "2021-10-19T00:00:00",
          "2021-10-18T00:00:00",
          "2021-10-17T00:00:00",
          "2021-10-16T00:00:00",
          "2021-10-15T00:00:00",
          "2021-10-14T00:00:00",
          "2021-10-13T00:00:00",
          "2021-10-12T00:00:00",
          "2021-10-11T00:00:00",
          "2021-10-10T00:00:00",
          "2021-10-09T00:00:00",
          "2021-10-08T00:00:00",
          "2021-10-07T00:00:00",
          "2021-10-06T00:00:00",
          "2021-10-05T00:00:00",
          "2021-10-04T00:00:00",
          "2021-10-03T00:00:00",
          "2021-10-02T00:00:00",
          "2021-10-01T00:00:00",
          "2021-09-30T00:00:00",
          "2021-09-29T00:00:00",
          "2021-09-28T00:00:00",
          "2021-09-27T00:00:00",
          "2021-09-26T00:00:00",
          "2021-09-25T00:00:00",
          "2021-09-24T00:00:00",
          "2021-09-23T00:00:00",
          "2021-09-22T00:00:00",
          "2021-09-21T00:00:00",
          "2021-09-20T00:00:00",
          "2021-09-19T00:00:00",
          "2021-09-18T00:00:00",
          "2021-09-17T00:00:00",
          "2021-09-16T00:00:00",
          "2021-09-15T00:00:00",
          "2021-09-14T00:00:00",
          "2021-09-13T00:00:00",
          "2021-09-12T00:00:00",
          "2021-09-11T00:00:00",
          "2021-09-10T00:00:00",
          "2021-09-09T00:00:00",
          "2021-09-08T00:00:00",
          "2021-09-07T00:00:00",
          "2021-09-06T00:00:00",
          "2021-09-05T00:00:00",
          "2021-09-04T00:00:00",
          "2021-09-03T00:00:00",
          "2021-09-02T00:00:00",
          "2021-09-01T00:00:00",
          "2021-08-31T00:00:00",
          "2021-08-30T00:00:00",
          "2021-08-29T00:00:00",
          "2021-08-28T00:00:00",
          "2021-08-27T00:00:00",
          "2021-08-26T00:00:00",
          "2021-08-25T00:00:00",
          "2021-08-24T00:00:00",
          "2021-08-23T00:00:00",
          "2021-08-22T00:00:00",
          "2021-08-21T00:00:00",
          "2021-08-20T00:00:00",
          "2021-08-19T00:00:00",
          "2021-08-18T00:00:00",
          "2021-08-17T00:00:00",
          "2021-08-16T00:00:00",
          "2021-08-15T00:00:00",
          "2021-08-14T00:00:00",
          "2021-08-13T00:00:00",
          "2021-08-12T00:00:00",
          "2021-08-11T00:00:00",
          "2021-08-10T00:00:00",
          "2021-08-09T00:00:00",
          "2021-08-08T00:00:00",
          "2021-08-07T00:00:00",
          "2021-08-06T00:00:00",
          "2021-08-05T00:00:00",
          "2021-08-04T00:00:00",
          "2021-08-03T00:00:00",
          "2021-08-02T00:00:00",
          "2021-08-01T00:00:00",
          "2021-07-31T00:00:00",
          "2021-07-30T00:00:00",
          "2021-07-29T00:00:00",
          "2021-07-28T00:00:00",
          "2021-07-27T00:00:00",
          "2021-07-26T00:00:00",
          "2021-07-25T00:00:00",
          "2021-07-24T00:00:00",
          "2021-07-23T00:00:00",
          "2021-07-22T00:00:00",
          "2021-07-21T00:00:00",
          "2021-07-20T00:00:00",
          "2021-07-19T00:00:00",
          "2021-07-18T00:00:00",
          "2021-07-17T00:00:00",
          "2021-07-16T00:00:00",
          "2021-07-15T00:00:00",
          "2021-07-14T00:00:00",
          "2021-07-13T00:00:00",
          "2021-07-12T00:00:00",
          "2021-07-11T00:00:00",
          "2021-07-10T00:00:00",
          "2021-07-09T00:00:00",
          "2021-07-08T00:00:00",
          "2021-07-07T00:00:00",
          "2021-07-06T00:00:00",
          "2021-07-05T00:00:00",
          "2021-07-04T00:00:00",
          "2021-07-03T00:00:00",
          "2021-07-02T00:00:00",
          "2021-07-01T00:00:00",
          "2021-06-30T00:00:00",
          "2021-06-29T00:00:00",
          "2021-06-28T00:00:00",
          "2021-06-27T00:00:00",
          "2021-06-26T00:00:00",
          "2021-06-25T00:00:00",
          "2021-06-24T00:00:00",
          "2021-06-23T00:00:00",
          "2021-06-22T00:00:00",
          "2021-06-21T00:00:00",
          "2021-06-20T00:00:00",
          "2021-06-19T00:00:00",
          "2021-06-18T00:00:00",
          "2021-06-17T00:00:00",
          "2021-06-16T00:00:00",
          "2021-06-15T00:00:00",
          "2021-06-14T00:00:00",
          "2021-06-13T00:00:00",
          "2021-06-12T00:00:00",
          "2021-06-11T00:00:00",
          "2021-06-10T00:00:00",
          "2021-06-09T00:00:00",
          "2021-06-08T00:00:00",
          "2021-06-07T00:00:00",
          "2021-06-06T00:00:00",
          "2021-06-05T00:00:00",
          "2021-06-04T00:00:00",
          "2021-06-03T00:00:00",
          "2021-06-02T00:00:00",
          "2021-06-01T00:00:00",
          "2021-05-31T00:00:00",
          "2021-05-30T00:00:00",
          "2021-05-29T00:00:00",
          "2021-05-28T00:00:00",
          "2021-05-27T00:00:00",
          "2021-05-26T00:00:00",
          "2021-05-25T00:00:00",
          "2021-05-24T00:00:00",
          "2021-05-23T00:00:00",
          "2021-05-22T00:00:00",
          "2021-05-21T00:00:00",
          "2021-05-20T00:00:00",
          "2021-05-19T00:00:00",
          "2021-05-18T00:00:00",
          "2021-05-17T00:00:00",
          "2021-05-16T00:00:00",
          "2021-05-15T00:00:00",
          "2021-05-14T00:00:00",
          "2021-05-13T00:00:00",
          "2021-05-12T00:00:00",
          "2021-05-11T00:00:00",
          "2021-05-10T00:00:00",
          "2021-05-09T00:00:00",
          "2021-05-08T00:00:00",
          "2021-05-07T00:00:00",
          "2021-05-06T00:00:00",
          "2021-05-05T00:00:00",
          "2021-05-04T00:00:00",
          "2021-05-03T00:00:00",
          "2021-05-02T00:00:00",
          "2021-05-01T00:00:00",
          "2021-04-30T00:00:00",
          "2021-04-29T00:00:00",
          "2021-04-28T00:00:00",
          "2021-04-27T00:00:00",
          "2021-04-26T00:00:00",
          "2021-04-25T00:00:00",
          "2021-04-24T00:00:00",
          "2021-04-23T00:00:00",
          "2021-04-22T00:00:00",
          "2021-04-21T00:00:00",
          "2021-04-20T00:00:00",
          "2021-04-19T00:00:00",
          "2021-04-18T00:00:00",
          "2021-04-17T00:00:00",
          "2021-04-16T00:00:00",
          "2021-04-15T00:00:00",
          "2021-04-14T00:00:00",
          "2021-04-13T00:00:00",
          "2021-04-12T00:00:00",
          "2021-04-11T00:00:00",
          "2021-04-10T00:00:00",
          "2021-04-09T00:00:00",
          "2021-04-08T00:00:00",
          "2021-04-07T00:00:00",
          "2021-04-06T00:00:00",
          "2021-04-05T00:00:00",
          "2021-04-04T00:00:00",
          "2021-04-03T00:00:00",
          "2021-04-02T00:00:00",
          "2021-04-01T00:00:00",
          "2021-03-31T00:00:00",
          "2021-03-30T00:00:00",
          "2021-03-29T00:00:00",
          "2021-03-28T00:00:00",
          "2021-03-27T00:00:00",
          "2021-03-26T00:00:00",
          "2021-03-25T00:00:00",
          "2021-03-24T00:00:00",
          "2021-03-23T00:00:00",
          "2021-03-22T00:00:00",
          "2021-03-21T00:00:00",
          "2021-03-20T00:00:00",
          "2021-03-19T00:00:00",
          "2021-03-18T00:00:00",
          "2021-03-17T00:00:00",
          "2021-03-16T00:00:00",
          "2021-03-15T00:00:00",
          "2021-03-14T00:00:00",
          "2021-03-13T00:00:00",
          "2021-03-12T00:00:00",
          "2021-03-11T00:00:00",
          "2021-03-10T00:00:00",
          "2021-03-09T00:00:00",
          "2021-03-08T00:00:00",
          "2021-03-07T00:00:00",
          "2021-03-06T00:00:00",
          "2021-03-05T00:00:00",
          "2021-03-04T00:00:00",
          "2021-03-03T00:00:00",
          "2021-03-02T00:00:00",
          "2021-03-01T00:00:00",
          "2021-02-28T00:00:00",
          "2021-02-27T00:00:00",
          "2021-02-26T00:00:00",
          "2021-02-25T00:00:00",
          "2021-02-24T00:00:00",
          "2021-02-23T00:00:00",
          "2021-02-22T00:00:00",
          "2021-02-21T00:00:00",
          "2021-02-20T00:00:00",
          "2021-02-19T00:00:00",
          "2021-02-18T00:00:00",
          "2021-02-17T00:00:00",
          "2021-02-16T00:00:00",
          "2021-02-15T00:00:00",
          "2021-02-14T00:00:00",
          "2021-02-13T00:00:00",
          "2021-02-12T00:00:00",
          "2021-02-11T00:00:00",
          "2021-02-10T00:00:00",
          "2021-02-09T00:00:00",
          "2021-02-08T00:00:00",
          "2021-02-07T00:00:00",
          "2021-02-06T00:00:00",
          "2021-02-05T00:00:00",
          "2021-02-04T00:00:00",
          "2021-02-03T00:00:00",
          "2021-02-02T00:00:00",
          "2021-02-01T00:00:00",
          "2021-01-31T00:00:00",
          "2021-01-30T00:00:00",
          "2021-01-29T00:00:00",
          "2021-01-28T00:00:00",
          "2021-01-27T00:00:00",
          "2021-01-26T00:00:00",
          "2021-01-25T00:00:00",
          "2021-01-24T00:00:00",
          "2021-01-23T00:00:00",
          "2021-01-22T00:00:00",
          "2021-01-21T00:00:00",
          "2021-01-20T00:00:00",
          "2021-01-19T00:00:00",
          "2021-01-18T00:00:00",
          "2021-01-17T00:00:00",
          "2021-01-16T00:00:00",
          "2021-01-15T00:00:00",
          "2021-01-14T00:00:00",
          "2021-01-13T00:00:00",
          "2021-01-12T00:00:00",
          "2021-01-11T00:00:00",
          "2021-01-10T00:00:00",
          "2021-01-09T00:00:00",
          "2021-01-08T00:00:00",
          "2021-01-07T00:00:00",
          "2021-01-06T00:00:00",
          "2021-01-05T00:00:00",
          "2021-01-04T00:00:00",
          "2021-01-03T00:00:00",
          "2021-01-02T00:00:00",
          "2021-01-01T00:00:00",
          "2020-12-31T00:00:00",
          "2020-12-30T00:00:00",
          "2020-12-29T00:00:00",
          "2020-12-28T00:00:00",
          "2020-12-27T00:00:00",
          "2020-12-26T00:00:00",
          "2020-12-25T00:00:00",
          "2020-12-24T00:00:00",
          "2020-12-23T00:00:00",
          "2020-12-22T00:00:00",
          "2020-12-21T00:00:00",
          "2020-12-20T00:00:00",
          "2020-12-19T00:00:00",
          "2020-12-18T00:00:00",
          "2020-12-17T00:00:00",
          "2020-12-16T00:00:00",
          "2020-12-15T00:00:00",
          "2020-12-14T00:00:00",
          "2020-12-13T00:00:00",
          "2020-12-12T00:00:00",
          "2020-12-11T00:00:00",
          "2020-12-10T00:00:00",
          "2020-12-09T00:00:00",
          "2020-12-08T00:00:00",
          "2020-12-07T00:00:00",
          "2020-12-06T00:00:00",
          "2020-12-05T00:00:00",
          "2020-12-04T00:00:00",
          "2020-12-03T00:00:00",
          "2020-12-02T00:00:00",
          "2020-12-01T00:00:00",
          "2020-11-30T00:00:00",
          "2020-11-29T00:00:00",
          "2020-11-28T00:00:00",
          "2020-11-27T00:00:00",
          "2020-11-26T00:00:00",
          "2020-11-25T00:00:00",
          "2020-11-24T00:00:00",
          "2020-11-23T00:00:00",
          "2020-11-22T00:00:00",
          "2020-11-21T00:00:00",
          "2020-11-20T00:00:00",
          "2020-11-19T00:00:00",
          "2020-11-18T00:00:00",
          "2020-11-17T00:00:00",
          "2020-11-16T00:00:00",
          "2020-11-15T00:00:00",
          "2020-11-14T00:00:00",
          "2020-11-13T00:00:00",
          "2020-11-12T00:00:00",
          "2020-11-11T00:00:00",
          "2020-11-10T00:00:00",
          "2020-11-09T00:00:00",
          "2020-11-08T00:00:00",
          "2020-11-07T00:00:00",
          "2020-11-06T00:00:00",
          "2020-11-05T00:00:00",
          "2020-11-04T00:00:00",
          "2020-11-03T00:00:00",
          "2020-11-02T00:00:00",
          "2020-11-01T00:00:00",
          "2020-10-31T00:00:00",
          "2020-10-30T00:00:00",
          "2020-10-29T00:00:00",
          "2020-10-28T00:00:00",
          "2020-10-27T00:00:00",
          "2020-10-26T00:00:00",
          "2020-10-25T00:00:00",
          "2020-10-24T00:00:00",
          "2020-10-23T00:00:00",
          "2020-10-22T00:00:00",
          "2020-10-21T00:00:00",
          "2020-10-20T00:00:00",
          "2020-10-19T00:00:00",
          "2020-10-18T00:00:00",
          "2020-10-17T00:00:00",
          "2020-10-16T00:00:00",
          "2020-10-15T00:00:00",
          "2020-10-14T00:00:00",
          "2020-10-13T00:00:00",
          "2020-10-12T00:00:00",
          "2020-10-11T00:00:00",
          "2020-10-10T00:00:00",
          "2020-10-09T00:00:00",
          "2020-10-08T00:00:00",
          "2020-10-07T00:00:00",
          "2020-10-06T00:00:00",
          "2020-10-05T00:00:00",
          "2020-10-04T00:00:00",
          "2020-10-03T00:00:00",
          "2020-10-02T00:00:00",
          "2020-10-01T00:00:00",
          "2020-09-30T00:00:00",
          "2020-09-29T00:00:00",
          "2020-09-28T00:00:00",
          "2020-09-27T00:00:00",
          "2020-09-26T00:00:00",
          "2020-09-25T00:00:00",
          "2020-09-24T00:00:00",
          "2020-09-23T00:00:00",
          "2020-09-22T00:00:00",
          "2020-09-21T00:00:00",
          "2020-09-20T00:00:00",
          "2020-09-19T00:00:00",
          "2020-09-18T00:00:00",
          "2020-09-17T00:00:00",
          "2020-09-16T00:00:00",
          "2020-09-15T00:00:00",
          "2020-09-14T00:00:00",
          "2020-09-13T00:00:00",
          "2020-09-12T00:00:00",
          "2020-09-11T00:00:00",
          "2020-09-10T00:00:00",
          "2020-09-09T00:00:00",
          "2020-09-08T00:00:00",
          "2020-09-07T00:00:00",
          "2020-09-06T00:00:00",
          "2020-09-05T00:00:00",
          "2020-09-04T00:00:00",
          "2020-09-03T00:00:00",
          "2020-09-02T00:00:00",
          "2020-09-01T00:00:00",
          "2020-08-31T00:00:00",
          "2020-08-30T00:00:00",
          "2020-08-29T00:00:00",
          "2020-08-28T00:00:00",
          "2020-08-27T00:00:00",
          "2020-08-26T00:00:00",
          "2020-08-25T00:00:00",
          "2020-08-24T00:00:00",
          "2020-08-23T00:00:00",
          "2020-08-22T00:00:00",
          "2020-08-21T00:00:00",
          "2020-08-20T00:00:00",
          "2020-08-19T00:00:00",
          "2020-08-18T00:00:00",
          "2020-08-17T00:00:00",
          "2020-08-16T00:00:00",
          "2020-08-15T00:00:00",
          "2020-08-14T00:00:00",
          "2020-08-13T00:00:00",
          "2020-08-12T00:00:00",
          "2020-08-11T00:00:00",
          "2020-08-10T00:00:00",
          "2020-08-09T00:00:00",
          "2020-08-08T00:00:00",
          "2020-08-07T00:00:00",
          "2020-08-06T00:00:00",
          "2020-08-05T00:00:00",
          "2020-08-04T00:00:00",
          "2020-08-03T00:00:00",
          "2020-08-02T00:00:00",
          "2020-08-01T00:00:00",
          "2020-07-31T00:00:00",
          "2020-07-30T00:00:00",
          "2020-07-29T00:00:00",
          "2020-07-28T00:00:00",
          "2020-07-27T00:00:00",
          "2020-07-26T00:00:00",
          "2020-07-25T00:00:00",
          "2020-07-24T00:00:00",
          "2020-07-23T00:00:00",
          "2020-07-22T00:00:00",
          "2020-07-21T00:00:00",
          "2020-07-20T00:00:00",
          "2020-07-19T00:00:00",
          "2020-07-18T00:00:00",
          "2020-07-17T00:00:00",
          "2020-07-16T00:00:00",
          "2020-07-15T00:00:00",
          "2020-07-14T00:00:00",
          "2020-07-13T00:00:00",
          "2020-07-12T00:00:00",
          "2020-07-11T00:00:00",
          "2020-07-10T00:00:00",
          "2020-07-09T00:00:00",
          "2020-07-08T00:00:00",
          "2020-07-07T00:00:00",
          "2020-07-06T00:00:00",
          "2020-07-05T00:00:00",
          "2020-07-04T00:00:00",
          "2020-07-03T00:00:00",
          "2020-07-02T00:00:00",
          "2020-07-01T00:00:00",
          "2020-06-30T00:00:00",
          "2020-06-29T00:00:00",
          "2020-06-28T00:00:00",
          "2020-06-27T00:00:00",
          "2020-06-26T00:00:00",
          "2020-06-25T00:00:00",
          "2020-06-24T00:00:00",
          "2020-06-23T00:00:00",
          "2020-06-22T00:00:00",
          "2020-06-21T00:00:00",
          "2020-06-20T00:00:00",
          "2020-06-19T00:00:00",
          "2020-06-18T00:00:00",
          "2020-06-17T00:00:00",
          "2020-06-16T00:00:00",
          "2020-06-15T00:00:00",
          "2020-06-14T00:00:00",
          "2020-06-13T00:00:00",
          "2020-06-12T00:00:00",
          "2020-06-11T00:00:00",
          "2020-06-10T00:00:00",
          "2020-06-09T00:00:00",
          "2020-06-08T00:00:00",
          "2020-06-07T00:00:00",
          "2020-06-06T00:00:00",
          "2020-06-05T00:00:00",
          "2020-06-04T00:00:00",
          "2020-06-03T00:00:00",
          "2020-06-02T00:00:00",
          "2020-06-01T00:00:00",
          "2020-05-31T00:00:00",
          "2020-05-30T00:00:00",
          "2020-05-29T00:00:00",
          "2020-05-28T00:00:00",
          "2020-05-27T00:00:00",
          "2020-05-26T00:00:00",
          "2020-05-25T00:00:00",
          "2020-05-24T00:00:00",
          "2020-05-23T00:00:00",
          "2020-05-22T00:00:00",
          "2020-05-21T00:00:00",
          "2020-05-20T00:00:00",
          "2020-05-19T00:00:00",
          "2020-05-18T00:00:00",
          "2020-05-17T00:00:00",
          "2020-05-16T00:00:00",
          "2020-05-15T00:00:00",
          "2020-05-14T00:00:00",
          "2020-05-13T00:00:00",
          "2020-05-12T00:00:00",
          "2020-05-11T00:00:00",
          "2020-05-10T00:00:00",
          "2020-05-09T00:00:00",
          "2020-05-08T00:00:00",
          "2020-05-07T00:00:00",
          "2020-05-06T00:00:00",
          "2020-05-05T00:00:00",
          "2020-05-04T00:00:00",
          "2020-05-03T00:00:00",
          "2020-05-02T00:00:00",
          "2020-05-01T00:00:00",
          "2020-04-30T00:00:00",
          "2020-04-29T00:00:00",
          "2020-04-28T00:00:00",
          "2020-04-27T00:00:00",
          "2020-04-26T00:00:00",
          "2020-04-25T00:00:00",
          "2020-04-24T00:00:00",
          "2020-04-23T00:00:00",
          "2020-04-22T00:00:00",
          "2020-04-21T00:00:00",
          "2020-04-20T00:00:00",
          "2020-04-19T00:00:00",
          "2020-04-18T00:00:00",
          "2020-04-17T00:00:00",
          "2020-04-16T00:00:00",
          "2020-04-15T00:00:00",
          "2020-04-14T00:00:00",
          "2020-04-13T00:00:00",
          "2020-04-12T00:00:00",
          "2020-04-11T00:00:00",
          "2020-04-10T00:00:00",
          "2020-04-09T00:00:00",
          "2020-04-08T00:00:00",
          "2020-04-07T00:00:00",
          "2020-04-06T00:00:00",
          "2020-04-05T00:00:00",
          "2020-04-04T00:00:00",
          "2020-04-03T00:00:00",
          "2020-04-02T00:00:00",
          "2020-04-01T00:00:00",
          "2020-03-31T00:00:00",
          "2020-03-30T00:00:00",
          "2020-03-29T00:00:00",
          "2020-03-28T00:00:00",
          "2020-03-27T00:00:00",
          "2020-03-26T00:00:00",
          "2020-03-25T00:00:00",
          "2020-03-24T00:00:00",
          "2020-03-23T00:00:00",
          "2020-03-22T00:00:00",
          "2020-03-21T00:00:00",
          "2020-03-20T00:00:00",
          "2020-03-19T00:00:00",
          "2020-03-18T00:00:00",
          "2020-03-17T00:00:00",
          "2020-03-16T00:00:00",
          "2020-03-15T00:00:00",
          "2020-03-14T00:00:00",
          "2020-03-13T00:00:00",
          "2020-03-12T00:00:00",
          "2020-03-11T00:00:00",
          "2020-03-10T00:00:00",
          "2020-03-09T00:00:00",
          "2020-03-08T00:00:00",
          "2020-03-07T00:00:00",
          "2020-03-06T00:00:00",
          "2020-03-05T00:00:00",
          "2020-03-04T00:00:00",
          "2020-03-03T00:00:00",
          "2020-03-02T00:00:00",
          "2020-03-01T00:00:00",
          "2020-02-29T00:00:00",
          "2020-02-28T00:00:00",
          "2020-02-27T00:00:00",
          "2020-02-26T00:00:00",
          "2020-02-25T00:00:00",
          "2020-02-24T00:00:00",
          "2020-02-23T00:00:00",
          "2020-02-22T00:00:00",
          "2020-02-21T00:00:00",
          "2020-02-20T00:00:00",
          "2020-02-19T00:00:00",
          "2020-02-18T00:00:00",
          "2020-02-17T00:00:00",
          "2020-02-16T00:00:00",
          "2020-02-15T00:00:00",
          "2020-02-14T00:00:00",
          "2020-02-13T00:00:00",
          "2020-02-12T00:00:00",
          "2020-02-11T00:00:00",
          "2020-02-10T00:00:00",
          "2020-02-09T00:00:00",
          "2020-02-08T00:00:00",
          "2020-02-07T00:00:00",
          "2020-02-06T00:00:00",
          "2020-02-05T00:00:00",
          "2020-02-04T00:00:00",
          "2020-02-03T00:00:00",
          "2020-02-02T00:00:00",
          "2020-02-01T00:00:00",
          "2020-01-31T00:00:00",
          "2020-01-30T00:00:00",
          "2020-01-29T00:00:00",
          "2020-01-28T00:00:00",
          "2020-01-27T00:00:00",
          "2020-01-26T00:00:00",
          "2020-01-25T00:00:00",
          "2020-01-24T00:00:00",
          "2020-01-23T00:00:00",
          "2020-01-22T00:00:00",
          "2020-01-21T00:00:00",
          "2020-01-20T00:00:00",
          "2020-01-19T00:00:00",
          "2020-01-18T00:00:00",
          "2020-01-17T00:00:00",
          "2020-01-16T00:00:00",
          "2020-01-15T00:00:00",
          "2020-01-14T00:00:00",
          "2020-01-13T00:00:00",
          "2020-01-12T00:00:00",
          "2020-01-11T00:00:00",
          "2020-01-10T00:00:00",
          "2020-01-09T00:00:00",
          "2020-01-08T00:00:00",
          "2020-01-07T00:00:00",
          "2020-01-06T00:00:00",
          "2020-01-05T00:00:00",
          "2020-01-04T00:00:00",
          "2020-01-03T00:00:00",
          "2020-01-02T00:00:00",
          "2020-01-01T00:00:00",
          "2019-12-31T00:00:00",
          "2019-12-30T00:00:00",
          "2019-12-29T00:00:00",
          "2019-12-28T00:00:00",
          "2019-12-27T00:00:00",
          "2019-12-26T00:00:00",
          "2019-12-25T00:00:00",
          "2019-12-24T00:00:00",
          "2019-12-23T00:00:00",
          "2019-12-22T00:00:00",
          "2019-12-21T00:00:00",
          "2019-12-20T00:00:00",
          "2019-12-19T00:00:00",
          "2019-12-18T00:00:00",
          "2019-12-17T00:00:00",
          "2019-12-16T00:00:00",
          "2019-12-15T00:00:00",
          "2019-12-14T00:00:00",
          "2019-12-13T00:00:00",
          "2019-12-12T00:00:00",
          "2019-12-11T00:00:00",
          "2019-12-10T00:00:00",
          "2019-12-09T00:00:00",
          "2019-12-08T00:00:00",
          "2019-12-07T00:00:00",
          "2019-12-06T00:00:00",
          "2019-12-05T00:00:00",
          "2019-12-04T00:00:00",
          "2019-12-03T00:00:00",
          "2019-12-02T00:00:00",
          "2019-12-01T00:00:00",
          "2019-11-30T00:00:00",
          "2019-11-29T00:00:00",
          "2019-11-28T00:00:00",
          "2019-11-27T00:00:00",
          "2019-11-26T00:00:00",
          "2019-11-25T00:00:00",
          "2019-11-24T00:00:00",
          "2019-11-23T00:00:00",
          "2019-11-22T00:00:00",
          "2019-11-21T00:00:00",
          "2019-11-20T00:00:00",
          "2019-11-19T00:00:00",
          "2019-11-18T00:00:00",
          "2019-11-17T00:00:00",
          "2019-11-16T00:00:00",
          "2019-11-15T00:00:00",
          "2019-11-14T00:00:00",
          "2019-11-13T00:00:00",
          "2019-11-12T00:00:00",
          "2019-11-11T00:00:00",
          "2019-11-10T00:00:00",
          "2019-11-09T00:00:00",
          "2019-11-08T00:00:00",
          "2019-11-07T00:00:00",
          "2019-11-06T00:00:00",
          "2019-11-05T00:00:00",
          "2019-11-04T00:00:00",
          "2019-11-03T00:00:00",
          "2019-11-02T00:00:00",
          "2019-11-01T00:00:00",
          "2019-10-31T00:00:00",
          "2019-10-30T00:00:00",
          "2019-10-29T00:00:00",
          "2019-10-28T00:00:00",
          "2019-10-27T00:00:00",
          "2019-10-26T00:00:00",
          "2019-10-25T00:00:00",
          "2019-10-24T00:00:00",
          "2019-10-23T00:00:00",
          "2019-10-22T00:00:00",
          "2019-10-21T00:00:00",
          "2019-10-20T00:00:00",
          "2019-10-19T00:00:00",
          "2019-10-18T00:00:00",
          "2019-10-17T00:00:00",
          "2019-10-16T00:00:00",
          "2019-10-15T00:00:00",
          "2019-10-14T00:00:00",
          "2019-10-13T00:00:00",
          "2019-10-12T00:00:00",
          "2019-10-11T00:00:00",
          "2019-10-10T00:00:00",
          "2019-10-09T00:00:00",
          "2019-10-08T00:00:00",
          "2019-10-07T00:00:00",
          "2019-10-06T00:00:00",
          "2019-10-05T00:00:00",
          "2019-10-04T00:00:00",
          "2019-10-03T00:00:00",
          "2019-10-02T00:00:00",
          "2019-10-01T00:00:00",
          "2019-09-30T00:00:00",
          "2019-09-29T00:00:00",
          "2019-09-28T00:00:00",
          "2019-09-27T00:00:00",
          "2019-09-26T00:00:00",
          "2019-09-25T00:00:00",
          "2019-09-24T00:00:00",
          "2019-09-23T00:00:00",
          "2019-09-22T00:00:00",
          "2019-09-21T00:00:00",
          "2019-09-20T00:00:00",
          "2019-09-19T00:00:00",
          "2019-09-18T00:00:00",
          "2019-09-17T00:00:00",
          "2019-09-16T00:00:00",
          "2019-09-15T00:00:00",
          "2019-09-14T00:00:00",
          "2019-09-13T00:00:00",
          "2019-09-12T00:00:00",
          "2019-09-11T00:00:00",
          "2019-09-10T00:00:00",
          "2019-09-09T00:00:00",
          "2019-09-08T00:00:00",
          "2019-09-07T00:00:00",
          "2019-09-06T00:00:00",
          "2019-09-05T00:00:00",
          "2019-09-04T00:00:00",
          "2019-09-03T00:00:00",
          "2019-09-02T00:00:00",
          "2019-09-01T00:00:00",
          "2019-08-31T00:00:00",
          "2019-08-30T00:00:00",
          "2019-08-29T00:00:00",
          "2019-08-28T00:00:00",
          "2019-08-27T00:00:00",
          "2019-08-26T00:00:00",
          "2019-08-25T00:00:00",
          "2019-08-24T00:00:00",
          "2019-08-23T00:00:00",
          "2019-08-22T00:00:00",
          "2019-08-21T00:00:00",
          "2019-08-20T00:00:00",
          "2019-08-19T00:00:00",
          "2019-08-18T00:00:00",
          "2019-08-17T00:00:00",
          "2019-08-16T00:00:00",
          "2019-08-15T00:00:00",
          "2019-08-14T00:00:00",
          "2019-08-13T00:00:00",
          "2019-08-12T00:00:00",
          "2019-08-11T00:00:00",
          "2019-08-10T00:00:00",
          "2019-08-09T00:00:00",
          "2019-08-08T00:00:00",
          "2019-08-07T00:00:00",
          "2019-08-06T00:00:00",
          "2019-08-05T00:00:00",
          "2019-08-04T00:00:00",
          "2019-08-03T00:00:00",
          "2019-08-02T00:00:00",
          "2019-08-01T00:00:00",
          "2019-07-31T00:00:00",
          "2019-07-30T00:00:00",
          "2019-07-29T00:00:00",
          "2019-07-28T00:00:00",
          "2019-07-27T00:00:00",
          "2019-07-26T00:00:00",
          "2019-07-25T00:00:00",
          "2019-07-24T00:00:00",
          "2019-07-23T00:00:00",
          "2019-07-22T00:00:00",
          "2019-07-21T00:00:00",
          "2019-07-20T00:00:00",
          "2019-07-19T00:00:00",
          "2019-07-18T00:00:00",
          "2019-07-17T00:00:00",
          "2019-07-16T00:00:00",
          "2019-07-15T00:00:00",
          "2019-07-14T00:00:00",
          "2019-07-13T00:00:00",
          "2019-07-12T00:00:00",
          "2019-07-11T00:00:00",
          "2019-07-10T00:00:00",
          "2019-07-09T00:00:00",
          "2019-07-08T00:00:00",
          "2019-07-07T00:00:00",
          "2019-07-06T00:00:00",
          "2019-07-05T00:00:00",
          "2019-07-04T00:00:00",
          "2019-07-03T00:00:00",
          "2019-07-02T00:00:00",
          "2019-07-01T00:00:00",
          "2019-06-30T00:00:00",
          "2019-06-29T00:00:00",
          "2019-06-28T00:00:00",
          "2019-06-27T00:00:00",
          "2019-06-26T00:00:00",
          "2019-06-25T00:00:00",
          "2019-06-24T00:00:00",
          "2019-06-23T00:00:00",
          "2019-06-22T00:00:00",
          "2019-06-21T00:00:00",
          "2019-06-20T00:00:00",
          "2019-06-19T00:00:00",
          "2019-06-18T00:00:00",
          "2019-06-17T00:00:00",
          "2019-06-16T00:00:00",
          "2019-06-15T00:00:00",
          "2019-06-14T00:00:00",
          "2019-06-13T00:00:00",
          "2019-06-12T00:00:00",
          "2019-06-11T00:00:00",
          "2019-06-10T00:00:00",
          "2019-06-09T00:00:00",
          "2019-06-08T00:00:00",
          "2019-06-07T00:00:00",
          "2019-06-06T00:00:00",
          "2019-06-05T00:00:00",
          "2019-06-04T00:00:00",
          "2019-06-03T00:00:00",
          "2019-06-02T00:00:00",
          "2019-06-01T00:00:00",
          "2019-05-31T00:00:00",
          "2019-05-30T00:00:00",
          "2019-05-29T00:00:00",
          "2019-05-28T00:00:00",
          "2019-05-27T00:00:00",
          "2019-05-26T00:00:00",
          "2019-05-25T00:00:00",
          "2019-05-24T00:00:00",
          "2019-05-23T00:00:00",
          "2019-05-22T00:00:00",
          "2019-05-21T00:00:00",
          "2019-05-20T00:00:00",
          "2019-05-19T00:00:00",
          "2019-05-18T00:00:00",
          "2019-05-17T00:00:00",
          "2019-05-16T00:00:00",
          "2019-05-15T00:00:00",
          "2019-05-14T00:00:00",
          "2019-05-13T00:00:00",
          "2019-05-12T00:00:00",
          "2019-05-11T00:00:00",
          "2019-05-10T00:00:00",
          "2019-05-09T00:00:00",
          "2019-05-08T00:00:00",
          "2019-05-07T00:00:00",
          "2019-05-06T00:00:00",
          "2019-05-05T00:00:00",
          "2019-05-04T00:00:00",
          "2019-05-03T00:00:00",
          "2019-05-02T00:00:00",
          "2019-05-01T00:00:00",
          "2019-04-30T00:00:00",
          "2019-04-29T00:00:00",
          "2019-04-28T00:00:00",
          "2019-04-27T00:00:00",
          "2019-04-26T00:00:00",
          "2019-04-25T00:00:00",
          "2019-04-24T00:00:00",
          "2019-04-23T00:00:00",
          "2019-04-22T00:00:00",
          "2019-04-21T00:00:00",
          "2019-04-20T00:00:00",
          "2019-04-19T00:00:00",
          "2019-04-18T00:00:00",
          "2019-04-17T00:00:00",
          "2019-04-16T00:00:00",
          "2019-04-15T00:00:00",
          "2019-04-14T00:00:00",
          "2019-04-13T00:00:00",
          "2019-04-12T00:00:00",
          "2019-04-11T00:00:00",
          "2019-04-10T00:00:00",
          "2019-04-09T00:00:00",
          "2019-04-08T00:00:00",
          "2019-04-07T00:00:00",
          "2019-04-06T00:00:00",
          "2019-04-05T00:00:00",
          "2019-04-04T00:00:00",
          "2019-04-03T00:00:00",
          "2019-04-02T00:00:00",
          "2019-04-01T00:00:00",
          "2019-03-31T00:00:00",
          "2019-03-30T00:00:00",
          "2019-03-29T00:00:00",
          "2019-03-28T00:00:00",
          "2019-03-27T00:00:00",
          "2019-03-26T00:00:00",
          "2019-03-25T00:00:00",
          "2019-03-24T00:00:00",
          "2019-03-23T00:00:00",
          "2019-03-22T00:00:00",
          "2019-03-21T00:00:00",
          "2019-03-20T00:00:00",
          "2019-03-19T00:00:00",
          "2019-03-18T00:00:00",
          "2019-03-17T00:00:00",
          "2019-03-16T00:00:00",
          "2019-03-15T00:00:00",
          "2019-03-14T00:00:00",
          "2019-03-13T00:00:00",
          "2019-03-12T00:00:00",
          "2019-03-11T00:00:00",
          "2019-03-10T00:00:00",
          "2019-03-09T00:00:00",
          "2019-03-08T00:00:00",
          "2019-03-07T00:00:00",
          "2019-03-06T00:00:00",
          "2019-03-05T00:00:00",
          "2019-03-04T00:00:00",
          "2019-03-03T00:00:00",
          "2019-03-02T00:00:00",
          "2019-03-01T00:00:00",
          "2019-02-28T00:00:00",
          "2019-02-27T00:00:00",
          "2019-02-26T00:00:00",
          "2019-02-25T00:00:00",
          "2019-02-24T00:00:00",
          "2019-02-23T00:00:00",
          "2019-02-22T00:00:00",
          "2019-02-21T00:00:00",
          "2019-02-20T00:00:00",
          "2019-02-19T00:00:00",
          "2019-02-18T00:00:00",
          "2019-02-17T00:00:00",
          "2019-02-16T00:00:00",
          "2019-02-15T00:00:00",
          "2019-02-14T00:00:00",
          "2019-02-13T00:00:00",
          "2019-02-12T00:00:00",
          "2019-02-11T00:00:00",
          "2019-02-10T00:00:00",
          "2019-02-09T00:00:00",
          "2019-02-08T00:00:00",
          "2019-02-07T00:00:00",
          "2019-02-06T00:00:00",
          "2019-02-05T00:00:00",
          "2019-02-04T00:00:00",
          "2019-02-03T00:00:00",
          "2019-02-02T00:00:00",
          "2019-02-01T00:00:00",
          "2019-01-31T00:00:00",
          "2019-01-30T00:00:00",
          "2019-01-29T00:00:00",
          "2019-01-28T00:00:00",
          "2019-01-27T00:00:00",
          "2019-01-26T00:00:00",
          "2019-01-25T00:00:00",
          "2019-01-24T00:00:00",
          "2019-01-23T00:00:00",
          "2019-01-22T00:00:00",
          "2019-01-21T00:00:00",
          "2019-01-20T00:00:00",
          "2019-01-19T00:00:00",
          "2019-01-18T00:00:00",
          "2019-01-17T00:00:00",
          "2019-01-16T00:00:00",
          "2019-01-15T00:00:00",
          "2019-01-14T00:00:00",
          "2019-01-13T00:00:00",
          "2019-01-12T00:00:00",
          "2019-01-11T00:00:00",
          "2019-01-10T00:00:00",
          "2019-01-09T00:00:00",
          "2019-01-08T00:00:00",
          "2019-01-07T00:00:00",
          "2019-01-06T00:00:00",
          "2019-01-05T00:00:00",
          "2019-01-04T00:00:00",
          "2019-01-03T00:00:00",
          "2019-01-02T00:00:00",
          "2019-01-01T00:00:00",
          "2018-12-31T00:00:00",
          "2018-12-30T00:00:00",
          "2018-12-29T00:00:00",
          "2018-12-28T00:00:00",
          "2018-12-27T00:00:00",
          "2018-12-26T00:00:00",
          "2018-12-25T00:00:00",
          "2018-12-24T00:00:00",
          "2018-12-23T00:00:00",
          "2018-12-22T00:00:00",
          "2018-12-21T00:00:00",
          "2018-12-20T00:00:00",
          "2018-12-19T00:00:00",
          "2018-12-18T00:00:00",
          "2018-12-17T00:00:00",
          "2018-12-16T00:00:00",
          "2018-12-15T00:00:00",
          "2018-12-14T00:00:00",
          "2018-12-13T00:00:00",
          "2018-12-12T00:00:00",
          "2018-12-11T00:00:00",
          "2018-12-10T00:00:00",
          "2018-12-09T00:00:00",
          "2018-12-08T00:00:00",
          "2018-12-07T00:00:00",
          "2018-12-06T00:00:00",
          "2018-12-05T00:00:00",
          "2018-12-04T00:00:00",
          "2018-12-03T00:00:00",
          "2018-12-02T00:00:00",
          "2018-12-01T00:00:00",
          "2018-11-30T00:00:00",
          "2018-11-29T00:00:00",
          "2018-11-28T00:00:00",
          "2018-11-27T00:00:00",
          "2018-11-26T00:00:00",
          "2018-11-25T00:00:00",
          "2018-11-24T00:00:00",
          "2018-11-23T00:00:00",
          "2018-11-22T00:00:00",
          "2018-11-21T00:00:00",
          "2018-11-20T00:00:00",
          "2018-11-19T00:00:00",
          "2018-11-18T00:00:00",
          "2018-11-17T00:00:00",
          "2018-11-16T00:00:00",
          "2018-11-15T00:00:00",
          "2018-11-14T00:00:00",
          "2018-11-13T00:00:00",
          "2018-11-12T00:00:00",
          "2018-11-11T00:00:00",
          "2018-11-10T00:00:00",
          "2018-11-09T00:00:00",
          "2018-11-08T00:00:00",
          "2018-11-07T00:00:00",
          "2018-11-06T00:00:00",
          "2018-11-05T00:00:00",
          "2018-11-04T00:00:00",
          "2018-11-03T00:00:00",
          "2018-11-02T00:00:00",
          "2018-11-01T00:00:00",
          "2018-10-31T00:00:00",
          "2018-10-30T00:00:00",
          "2018-10-29T00:00:00",
          "2018-10-28T00:00:00",
          "2018-10-27T00:00:00",
          "2018-10-26T00:00:00",
          "2018-10-25T00:00:00",
          "2018-10-24T00:00:00",
          "2018-10-23T00:00:00",
          "2018-10-22T00:00:00",
          "2018-10-21T00:00:00",
          "2018-10-20T00:00:00",
          "2018-10-19T00:00:00",
          "2018-10-18T00:00:00",
          "2018-10-17T00:00:00",
          "2018-10-16T00:00:00",
          "2018-10-15T00:00:00",
          "2018-10-14T00:00:00",
          "2018-10-13T00:00:00",
          "2018-10-12T00:00:00",
          "2018-10-11T00:00:00",
          "2018-10-10T00:00:00",
          "2018-10-09T00:00:00",
          "2018-10-08T00:00:00",
          "2018-10-07T00:00:00",
          "2018-10-06T00:00:00",
          "2018-10-05T00:00:00",
          "2018-10-04T00:00:00",
          "2018-10-03T00:00:00",
          "2018-10-02T00:00:00",
          "2018-10-01T00:00:00",
          "2018-09-30T00:00:00",
          "2018-09-29T00:00:00",
          "2018-09-28T00:00:00",
          "2018-09-27T00:00:00",
          "2018-09-26T00:00:00",
          "2018-09-25T00:00:00",
          "2018-09-24T00:00:00",
          "2018-09-23T00:00:00",
          "2018-09-22T00:00:00",
          "2018-09-21T00:00:00",
          "2018-09-20T00:00:00",
          "2018-09-19T00:00:00",
          "2018-09-18T00:00:00",
          "2018-09-17T00:00:00",
          "2018-09-16T00:00:00",
          "2018-09-15T00:00:00",
          "2018-09-14T00:00:00",
          "2018-09-13T00:00:00",
          "2018-09-12T00:00:00",
          "2018-09-11T00:00:00",
          "2018-09-10T00:00:00",
          "2018-09-09T00:00:00",
          "2018-09-08T00:00:00",
          "2018-09-07T00:00:00",
          "2018-09-06T00:00:00",
          "2018-09-05T00:00:00",
          "2018-09-04T00:00:00",
          "2018-09-03T00:00:00",
          "2018-09-02T00:00:00",
          "2018-09-01T00:00:00",
          "2018-08-31T00:00:00",
          "2018-08-30T00:00:00",
          "2018-08-29T00:00:00",
          "2018-08-28T00:00:00",
          "2018-08-27T00:00:00",
          "2018-08-26T00:00:00",
          "2018-08-25T00:00:00",
          "2018-08-24T00:00:00",
          "2018-08-23T00:00:00",
          "2018-08-22T00:00:00",
          "2018-08-21T00:00:00",
          "2018-08-20T00:00:00",
          "2018-08-19T00:00:00",
          "2018-08-18T00:00:00",
          "2018-08-17T00:00:00",
          "2018-08-16T00:00:00",
          "2018-08-15T00:00:00",
          "2018-08-14T00:00:00",
          "2018-08-13T00:00:00",
          "2018-08-12T00:00:00",
          "2018-08-11T00:00:00",
          "2018-08-10T00:00:00",
          "2018-08-09T00:00:00",
          "2018-08-08T00:00:00",
          "2018-08-07T00:00:00",
          "2018-08-06T00:00:00",
          "2018-08-05T00:00:00",
          "2018-08-04T00:00:00",
          "2018-08-03T00:00:00",
          "2018-08-02T00:00:00",
          "2018-08-01T00:00:00",
          "2018-07-31T00:00:00",
          "2018-07-30T00:00:00",
          "2018-07-29T00:00:00",
          "2018-07-28T00:00:00",
          "2018-07-27T00:00:00",
          "2018-07-26T00:00:00",
          "2018-07-25T00:00:00",
          "2018-07-24T00:00:00",
          "2018-07-23T00:00:00",
          "2018-07-22T00:00:00",
          "2018-07-21T00:00:00",
          "2018-07-20T00:00:00",
          "2018-07-19T00:00:00",
          "2018-07-18T00:00:00",
          "2018-07-17T00:00:00",
          "2018-07-16T00:00:00",
          "2018-07-15T00:00:00",
          "2018-07-14T00:00:00",
          "2018-07-13T00:00:00",
          "2018-07-12T00:00:00",
          "2018-07-11T00:00:00",
          "2018-07-10T00:00:00",
          "2018-07-09T00:00:00",
          "2018-07-08T00:00:00",
          "2018-07-07T00:00:00",
          "2018-07-06T00:00:00",
          "2018-07-05T00:00:00",
          "2018-07-04T00:00:00",
          "2018-07-03T00:00:00",
          "2018-07-02T00:00:00",
          "2018-07-01T00:00:00",
          "2018-06-30T00:00:00",
          "2018-06-29T00:00:00",
          "2018-06-28T00:00:00",
          "2018-06-27T00:00:00",
          "2018-06-26T00:00:00",
          "2018-06-25T00:00:00",
          "2018-06-24T00:00:00",
          "2018-06-23T00:00:00",
          "2018-06-22T00:00:00",
          "2018-06-21T00:00:00",
          "2018-06-20T00:00:00",
          "2018-06-19T00:00:00",
          "2018-06-18T00:00:00",
          "2018-06-17T00:00:00",
          "2018-06-16T00:00:00",
          "2018-06-15T00:00:00",
          "2018-06-14T00:00:00",
          "2018-06-13T00:00:00",
          "2018-06-12T00:00:00",
          "2018-06-11T00:00:00",
          "2018-06-10T00:00:00",
          "2018-06-09T00:00:00",
          "2018-06-08T00:00:00",
          "2018-06-07T00:00:00",
          "2018-06-06T00:00:00",
          "2018-06-05T00:00:00",
          "2018-06-04T00:00:00",
          "2018-06-03T00:00:00",
          "2018-06-02T00:00:00",
          "2018-06-01T00:00:00",
          "2018-05-31T00:00:00",
          "2018-05-30T00:00:00",
          "2018-05-29T00:00:00",
          "2018-05-28T00:00:00",
          "2018-05-27T00:00:00",
          "2018-05-26T00:00:00",
          "2018-05-25T00:00:00",
          "2018-05-24T00:00:00",
          "2018-05-23T00:00:00",
          "2018-05-22T00:00:00",
          "2018-05-21T00:00:00",
          "2018-05-20T00:00:00",
          "2018-05-19T00:00:00",
          "2018-05-18T00:00:00",
          "2018-05-17T00:00:00",
          "2018-05-16T00:00:00",
          "2018-05-15T00:00:00",
          "2018-05-14T00:00:00",
          "2018-05-13T00:00:00",
          "2018-05-12T00:00:00",
          "2018-05-11T00:00:00",
          "2018-05-10T00:00:00",
          "2018-05-09T00:00:00",
          "2018-05-08T00:00:00",
          "2018-05-07T00:00:00",
          "2018-05-06T00:00:00",
          "2018-05-05T00:00:00",
          "2018-05-04T00:00:00",
          "2018-05-03T00:00:00",
          "2018-05-02T00:00:00",
          "2018-05-01T00:00:00",
          "2018-04-30T00:00:00",
          "2018-04-29T00:00:00",
          "2018-04-28T00:00:00",
          "2018-04-27T00:00:00",
          "2018-04-26T00:00:00",
          "2018-04-25T00:00:00",
          "2018-04-24T00:00:00",
          "2018-04-23T00:00:00",
          "2018-04-22T00:00:00",
          "2018-04-21T00:00:00",
          "2018-04-20T00:00:00",
          "2018-04-19T00:00:00",
          "2018-04-18T00:00:00",
          "2018-04-17T00:00:00",
          "2018-04-13T00:00:00",
          "2018-04-12T00:00:00",
          "2018-04-11T00:00:00",
          "2018-04-10T00:00:00",
          "2018-04-09T00:00:00",
          "2018-04-08T00:00:00",
          "2018-04-07T00:00:00",
          "2018-04-06T00:00:00",
          "2018-04-05T00:00:00",
          "2018-04-04T00:00:00",
          "2018-04-03T00:00:00",
          "2018-04-02T00:00:00",
          "2018-04-01T00:00:00",
          "2018-03-31T00:00:00",
          "2018-03-30T00:00:00",
          "2018-03-29T00:00:00",
          "2018-03-28T00:00:00",
          "2018-03-27T00:00:00",
          "2018-03-26T00:00:00",
          "2018-03-25T00:00:00",
          "2018-03-24T00:00:00",
          "2018-03-23T00:00:00",
          "2018-03-22T00:00:00",
          "2018-03-21T00:00:00",
          "2018-03-20T00:00:00",
          "2018-03-19T00:00:00",
          "2018-03-18T00:00:00",
          "2018-03-17T00:00:00",
          "2018-03-16T00:00:00",
          "2018-03-15T00:00:00",
          "2018-03-14T00:00:00",
          "2018-03-13T00:00:00",
          "2018-03-12T00:00:00",
          "2018-03-11T00:00:00",
          "2018-03-10T00:00:00",
          "2018-03-09T00:00:00",
          "2018-03-08T00:00:00",
          "2018-03-07T00:00:00",
          "2018-03-06T00:00:00",
          "2018-03-05T00:00:00",
          "2018-03-04T00:00:00",
          "2018-03-03T00:00:00",
          "2018-03-02T00:00:00",
          "2018-03-01T00:00:00",
          "2018-02-28T00:00:00",
          "2018-02-27T00:00:00",
          "2018-02-26T00:00:00",
          "2018-02-25T00:00:00",
          "2018-02-24T00:00:00",
          "2018-02-23T00:00:00",
          "2018-02-22T00:00:00",
          "2018-02-21T00:00:00",
          "2018-02-20T00:00:00",
          "2018-02-19T00:00:00",
          "2018-02-18T00:00:00",
          "2018-02-17T00:00:00",
          "2018-02-16T00:00:00",
          "2018-02-15T00:00:00",
          "2018-02-14T00:00:00",
          "2018-02-13T00:00:00",
          "2018-02-12T00:00:00",
          "2018-02-11T00:00:00",
          "2018-02-10T00:00:00",
          "2018-02-09T00:00:00",
          "2018-02-08T00:00:00",
          "2018-02-07T00:00:00",
          "2018-02-06T00:00:00",
          "2018-02-05T00:00:00",
          "2018-02-04T00:00:00",
          "2018-02-03T00:00:00",
          "2018-02-02T00:00:00",
          "2018-02-01T00:00:00"
         ],
         "y": [
          73,
          71.99,
          72.33342221925936,
          72.505098990101,
          73.23231514650608,
          73.19163444818427,
          73.31415837144749,
          73.40600845195125,
          73.35720412340879,
          72.99047182387243,
          72.28953898629497,
          72.35547130556749,
          72.67068108241457,
          72.61630128814113,
          72.645615760537,
          72.74354761011817,
          72.89856625847143,
          73.62568193696619,
          74.15020991758854,
          74.2012505404017,
          74.4205829398433,
          74.6753256296072,
          74.8538731956995,
          74.65369215147344,
          74.4194935931696,
          74.20366884548878,
          74.38383102544981,
          74.2275663215053,
          74.08234842747486,
          73.99095950331684,
          73.99134693600539,
          74.0754885145914,
          73.82648881656729,
          73.23143993985155,
          72.47498243027387,
          71.56929787175984,
          70.90395398865114,
          69.27083159661296,
          67.46941101100873,
          65.90629686536155,
          64.45873776051316,
          63.118676056573456,
          61.87880217698138,
          60.73246958483587,
          59.80709302604357,
          58.72703854282013,
          57.50109632276774,
          56.52238436270724,
          56.315635706097694,
          56.21177121700593,
          56.01940018376304,
          55.77379173279209,
          55.68974915236876,
          55.489163249281745,
          54.732597825237704,
          54.417151078559435,
          53.76453645927359,
          53.107921940851895,
          52.90473996630005,
          52.68074811013424,
          52.52113834826238,
          53.25898442689984,
          53.97053250865726,
          54.49246383115842,
          54.969018343128866,
          55.483226598376525,
          55.979956014935716,
          56.380072070573306,
          56.81980077703656,
          57.24506464673577,
          57.630371161292004,
          58.158961972793584,
          58.490150109313916,
          58.913426804813184,
          59.27248056547402,
          59.77247333620946,
          60.257107513687544,
          60.651778191970585,
          61.084415065857726,
          61.30561928101883,
          61.52026007613246,
          61.802286085174586,
          62.05162801005777,
          62.29374777058056,
          62.50468056792403,
          62.8302009559962,
          63.00239983845353,
          63.16975751827851,
          63.332443234571514,
          63.514341881860894,
          63.549448721449465,
          63.7954585883857,
          63.91751912029916,
          63.63903781363632,
          63.321461399565074,
          62.82672744281908,
          62.48386077089019,
          62.15003214597588,
          62.10063787244283,
          62.05253095342816,
          61.84585853504044,
          61.57623001399839,
          61.31351610515353,
          60.650186245357744,
          59.86830415818046,
          59.128673899527726,
          58.29542370698867,
          57.50540158935759,
          56.69040001995198,
          55.65063707379549,
          54.83646154987474,
          54.15309365724418,
          53.37589817739748,
          52.52940288232262,
          51.85750134439167,
          51.15791410389863,
          50.4970756431774,
          49.83021276695539,
          49.28838267598448,
          48.65055710051106,
          48.02785184432297,
          47.419855728155966,
          46.82617102360704,
          46.41930620193144,
          45.84937251655045,
          45.48652984969678,
          45.08912034879557,
          44.63652957890596,
          44.130109295845116,
          43.78507659900945,
          43.44795990802319,
          43.054584470986775,
          42.67018206629651,
          42.2307450328469,
          41.75881908939975,
          41.44595742968072,
          41.03431125726366,
          40.46281038826871,
          39.819692013416216,
          39.46506598710566,
          39.07624739596921,
          38.73815442647877,
          38.44958746809392,
          38.188400735842656,
          38.079678455549406,
          38.07801072631848,
          37.86730831245233,
          37.55681850977239,
          37.35744904468107,
          37.016569464816726,
          36.6831395241329,
          36.21140538045727,
          35.72916474517363,
          35.298914273672544,
          34.919467528741315,
          34.69325247144622,
          34.534019511705715,
          34.31618421553509,
          34.08237946677125,
          33.791671848178055,
          33.465952746105216,
          32.98234239497815,
          32.67381995224461,
          32.4336178006724,
          32.32190140739751,
          32.109841606246356,
          31.90229263778329,
          31.452978580548596,
          31.09519478933229,
          30.704018777130898,
          30.464419031500835,
          30.066218273354597,
          29.92175317917329,
          29.73946977092551,
          29.6835339256661,
          29.48593257657209,
          29.43523547076983,
          29.36522008706144,
          29.39852011734918,
          30.184375782991072,
          30.811376905421795,
          31.64897956956919,
          32.48943607656429,
          33.19049418186297,
          33.81604737957115,
          34.44888567302919,
          34.723752983047575,
          35.3983947833112,
          35.917196215966385,
          36.52652472321336,
          37.16373264671475,
          37.443735641263444,
          37.73818107800891,
          38.16808389499853,
          38.40721918960228,
          38.17676173028427,
          38.0318293303621,
          38.01100004781376,
          38.35382086475981,
          38.89131114157682,
          39.57907649567683,
          40.25272996301053,
          40.93272031526955,
          41.69949020626628,
          42.3901527844126,
          43.106940543862876,
          43.82919292687359,
          44.456221661552895,
          45.05033475240693,
          45.632321454885115,
          46.24263108654009,
          46.71995008062582,
          47.18754372936421,
          47.705855265148145,
          48.19354371922573,
          48.73151860874799,
          49.17830230191251,
          49.67618224653264,
          50.14389746942751,
          50.62216655021335,
          51.09073193921497,
          51.58987172291763,
          51.99875968724388,
          52.39936338103157,
          52.83190312135131,
          53.075507751721,
          53.0940120024169,
          53.232209854301814,
          53.467649441700544,
          53.71833425549313,
          54.04395122165813,
          54.42297848878579,
          54.834337773612965,
          55.15744756948927,
          55.49402423767719,
          55.80383484500499,
          56.107401347622016,
          56.50471690209889,
          56.933969502517535,
          57.27471449692947,
          57.52874926362572,
          57.837551990274235,
          58.04036019158725,
          58.49848634914094,
          58.94740322771431,
          59.28756085920544,
          59.640829305999816,
          59.98700254692398,
          60.46579817172359,
          60.815365059727846,
          61.157916874571036,
          60.6963567410311,
          60.582837375247955,
          60.491520232147174,
          60.38211032617945,
          60.75299746057483,
          61.05669697567491,
          61.71280614368526,
          62.35577452243716,
          62.92613278084229,
          63.485072790312394,
          64.07264051034676,
          64.60863974084366,
          65.21352866775663,
          65.80631822525426,
          66.34745414857147,
          66.91756498533844,
          67.41659232838327,
          67.90564554632873,
          68.40481760148683,
          68.87412625900134,
          69.39372467324688,
          69.66430659365432,
          69.98913976019142,
          70.26772082564105,
          70.48109579574768,
          70.67033185154864,
          70.81603446794615,
          70.91907590904529,
          71.0399370922403,
          71.17826140217561,
          71.27408174748729,
          71.38786243575329,
          71.06223898407305,
          71.20008151906163,
          71.19610647427108,
          71.25180815207113,
          71.22694152937301,
          71.28202367860156,
          70.66069692807807,
          70.74687942759567,
          70.89092450042902,
          71.0718179035231,
          71.22925151530846,
          71.38355033289604,
          71.63405353789234,
          71.95898675017648,
          72.17818607854251,
          72.29376173503366,
          72.52614433703117,
          72.8730038657973,
          73.2923587421671,
          73.6835220115425,
          74.06690359316872,
          74.40296602322927,
          74.81172654085739,
          75.17266801385323,
          75.54627546054346,
          75.8926106826379,
          76.25190185316113,
          76.60404970441381,
          76.96903747328611,
          77.24741024317176,
          77.52024978397243,
          77.80750488817507,
          78.06921337640357,
          78.36539496086887,
          78.67552731913699,
          78.82081260617734,
          79.1020557961553,
          79.27854008180748,
          79.53085288658225,
          79.77815358255192,
          80.040374433763,
          80.33705058090652,
          80.56834084559722,
          80.79503772345304,
          80.99740264732824,
          81.2750670746891,
          81.46790227303451,
          81.6370802406317,
          81.78307140410288,
          82.02530104497454,
          82.10410689559181,
          82.35978576335926,
          82.59056343488578,
          82.83658574423632,
          83.03807499165823,
          83.215740684655,
          83.38988032211199,
          83.56056403810115,
          83.7873301303372,
          83.87083690707048,
          83.97250900265702,
          84.03251978351744,
          84.07151830282355,
          84.24849123846401,
          84.44177382314321,
          84.51229934228934,
          84.6210658411135,
          84.80695342178758,
          84.92969551987315,
          84.95090788041827,
          85.13024875208495,
          85.24657741069767,
          85.26150874299101,
          85.35541467944213,
          85.36818866891355,
          85.45997760111916,
          85.53012941634293,
          85.55925707509563,
          85.56799092114565,
          85.65581521218473,
          85.74189798593873,
          85.66775091908707,
          85.71396466273266,
          85.79889175809906,
          85.52547247049378,
          85.29710291643501,
          85.01381885213786,
          84.73615116551686,
          84.4838019881533,
          84.25626902039727,
          84.05305995071258,
          83.71518877069892,
          83.44345359468615,
          82.99879253858539,
          82.84031808250738,
          82.70479706499427,
          82.5125266680663,
          82.34387907586313,
          82.15876278091478,
          81.73957986573936,
          81.22964970029915,
          80.71001545221083,
          80.2006802196638,
          79.72125029665523,
          79.17208051072217,
          78.7130355946974,
          78.2036579174291,
          77.76380491456607,
          77.2534296934016,
          76.81259765827531,
          76.34088269965316,
          75.77946901594987,
          75.18956224328541,
          74.55191809629511,
          74.00614505193276,
          73.37214307864282,
          72.75070410866795,
          72.10196205208223,
          71.4858831008596,
          70.96124446528873,
          70.52623366329699,
          70.02061025470827,
          69.48538946508022,
          69.04000437252846,
          68.5638285982582,
          68.11689491362233,
          67.54016437930778,
          67.05408970744075,
          66.498416585468,
          66.13201655997891,
          65.85210369916287,
          65.49850884525785,
          65.17172611896137,
          64.8316107508192,
          64.39920045206003,
          64.05458279261047,
          63.558340882933486,
          63.052123576477165,
          62.61535352440175,
          62.18723608418652,
          61.7081815007802,
          61.23861704572476,
          60.83777243023253,
          60.444868466361264,
          60.059747790540285,
          59.6822561601322,
          59.292436765959735,
          59.68275595973531,
          60.144565228979914,
          60.43878325221221,
          60.72717317590674,
          61.00985048642127,
          61.366149232960765,
          61.61636453193953,
          61.88142858878477,
          62.16104724693246,
          62.41532225152358,
          62.723975321270245,
          62.98690496604082,
          63.284236171820424,
          63.6350921814562,
          63.86017055012208,
          64.17981385313543,
          64.53273505972224,
          64.89847043769105,
          65.23715721630666,
          65.50972238370146,
          65.75708452717157,
          65.94013425415608,
          66.11955838316125,
          66.47366686238827,
          66.70193656512471,
          66.94548922361048,
          67.14460980351257,
          67.33978656411445,
          67.57070567565854,
          67.71783527608278,
          67.80263901342029,
          67.94517484592828,
          68.18390696454097,
          68.31889169013981,
          68.45120295729886,
          68.60069747948448,
          68.64821259288627,
          68.7938050731582,
          68.5800483244341,
          68.3111142360745,
          68.047506447363,
          67.74951234542183,
          67.49702709035996,
          67.1505248544781,
          66.69206431399144,
          66.24268354533916,
          65.7427924864715,
          65.31221179703837,
          64.83074860344864,
          64.3984272806871,
          63.99447121852226,
          63.57871206916,
          63.17118683483265,
          62.73212599027499,
          62.36117007622357,
          61.93815120685619,
          61.582919382419234,
          61.23472267148083,
          60.87361863257869,
          60.46025673566396,
          60.015475008973496,
          59.619107858741636,
          59.25039340481076,
          58.90878397556051,
          58.57393977494621,
          58.285332718779706,
          57.94303240665771,
          57.5877080497743,
          57.29882916826565,
          56.95626254830985,
          56.67988861889458,
          56.54760782861104,
          56.23972124666402,
          55.878523515219406,
          55.504676014083905,
          55.1580348130901,
          54.838061102971224,
          54.544226747034074,
          54.216605877033636,
          53.91527575204653,
          53.58030759638832,
          53.31138101342485,
          53.008174739478065,
          52.71097296622814,
          52.696893820266865,
          52.72269875345545,
          52.70838742474887,
          52.714162114036476,
          52.73962504067279,
          52.76458371995077,
          52.76924556748065,
          52.79361765475459,
          52.698691813229985,
          52.76406608847185,
          52.70933059982837,
          52.675481555833024,
          52.582895313979535,
          52.49214255907314,
          52.26456959696942,
          52.001898310066835,
          51.744428691332224,
          51.53166263553877,
          51.362714858020134,
          51.13770542994665,
          50.95675668994424,
          50.918008176738844,
          50.939434221339575,
          50.92083116865248,
          50.90259650872899,
          50.68669910594165,
          50.49487944790213,
          50.36626545381061,
          50.16098892831839,
          49.979579792068,
          49.762158358685156,
          49.56884479587816,
          49.53777801154415,
          49.6657450270725,
          49.771375637609204,
          49.756100617482744,
          49.602511953167294,
          49.41236015141087,
          49.30518301769292,
          49.21993055492362,
          49.03735491452646,
          48.85839474149771,
          48.76218750864503,
          48.311444709636866,
          47.86962776206628,
          47.476164408293165,
          46.95187690033818,
          46.497378319474336,
          45.97267100411441,
          45.438551967420686,
          44.91500980958968,
          44.362230636578225,
          43.780793417560595,
          43.23067228862668,
          42.73104931123086,
          42.18191347639352,
          41.6040474646216,
          41.136635558333175,
          40.61907296372179,
          40.032550608176564,
          39.43784061357859,
          38.95391817440112,
          38.479578546128316,
          38.15324714603095,
          37.813575710585205,
          37.46082840504557,
          36.95664905705477,
          36.4624536360854,
          35.97804443364989,
          35.54283195192524,
          35.116237683487896,
          34.65848668275215,
          34.20980020413289,
          33.73039447680619,
          33.30008634246684,
          32.799090775433505,
          32.38722456328464,
          32.023118482307844,
          31.646420405545328,
          31.257379683669107,
          30.836438614884703,
          30.443635236794208,
          30.019006027219763,
          29.602785425432582,
          29.25421323291377,
          28.89274144387401,
          28.4790213008685,
          28.09329583065464,
          27.774614862020368,
          27.38303611002804,
          27.038815660269403,
          26.780619884308308,
          26.58694320892531,
          26.377299671947807,
          26.19160961694409,
          26.326429906421467,
          26.557590849609475,
          26.80397637956805,
          27.085087089409598,
          27.340829126226435,
          27.55190277715568,
          27.758796714171268,
          27.981395772124134,
          28.179784824734703,
          28.41384947465629,
          28.623477080745488,
          28.868557731502563,
          29.168191436858734,
          29.501495868987547,
          29.82820016267916,
          30.08902885384319,
          30.364494634832806,
          30.63450560844191,
          31.017982090205507,
          31.453271070392557,
          31.80073222034894,
          32.339333361782124,
          32.966279285929836,
          33.56100831663371,
          34.183564544444096,
          34.71458468783984,
          35.05687116281113,
          35.4913898387737,
          35.8975020975189,
          36.29557248361973,
          36.68576024387254,
          37.167231640409035,
          37.480752637210685,
          37.847471359830045,
          38.266334380120895,
          38.637298982051895,
          39.00091771395967,
          39.31773198463245,
          39.66787672911488,
          40.01108788201407,
          40.28809666862609,
          40.480412011982615,
          40.51050292855055,
          40.52019596049094,
          40.5098950288982,
          40.678016263111644,
          40.90221441013255,
          41.062566914991365,
          41.1999420920516,
          41.43360704604262,
          41.623040920295686,
          41.868129663288215,
          42.128167161811305,
          42.36325337012168,
          42.633288417954105,
          42.759362125644266,
          42.80373126525553,
          42.94623186539865,
          42.90769255979068,
          42.92932244351138,
          43.089138082705155,
          43.02796694075526,
          42.987809121119255,
          42.90884249124172,
          42.81163755353993,
          42.71635747141836,
          42.6427661355122,
          42.53102804511939,
          42.44130460170182,
          42.39296187516891,
          42.2861704184939,
          42.18149364932151,
          42.09869169623647,
          42.03733139297603,
          41.6405520993579,
          41.31103584650685,
          41.146460698263134,
          40.727718450878584,
          40.376674150246416,
          40.032581236448145,
          39.65569805708842,
          39.16746592657232,
          38.847317774183146,
          38.55331120054188,
          38.20572055400759,
          37.98382489366908,
          37.66731322465955,
          37.37687112230068,
          37.03277436676852,
          36.81430340198015,
          36.718970582111886,
          36.54631755864039,
          36.45629139647988,
          36.30864194632538,
          36.005500289064,
          35.76776743128689,
          35.613950141042885,
          35.46317874218051,
          35.2559869371764,
          35.31032386723149,
          35.22497086128485,
          35.16111000955523,
          34.860889813084086,
          34.58641657158316,
          34.23817048012539,
          33.976028329014284,
          33.758681102215625,
          33.486231810304595,
          33.41719747700097,
          33.38913414467414,
          33.361626522523785,
          33.453475552433694,
          33.543505787705335,
          33.691159215914276,
          33.77648283967806,
          33.91952285555385,
          34.00032442309245,
          34.099327947813975,
          34.21617299441812,
          34.310902286135246,
          34.383953759334766,
          34.534766623607794,
          34.920216958398576,
          35.278232617964484,
          35.64896084103449,
          35.91333796319773,
          36.3110938080069,
          36.60196335289245,
          36.84746912449764,
          37.1079153796756,
          37.42261024215395,
          37.7508755060354,
          38.033036488343974,
          38.27000614617377,
          38.561689293336954,
          38.27333891286512,
          37.91149049771114,
          37.8142332285575,
          37.83771376615723,
          37.82112536957382,
          37.80486545629397,
          37.868135466220146,
          37.91035061790405,
          37.95172982550399,
          37.99228964238722,
          38.01224430845452,
          37.9921998612674,
          37.99235431950118,
          37.992505719154465,
          38.012456106048354,
          38.071615405886135,
          38.05039529363215,
          38.069199351746136,
          37.85000723370115,
          37.734165479532614,
          37.60081563785265,
          37.450304403687,
          37.4413874828616,
          37.47225110364593,
          37.48270157902612,
          37.275123287393896,
          37.1904673637064,
          37.08768581151301,
          36.82852366621422,
          36.33686963921394,
          35.91435729077841,
          35.975459137711134,
          36.074955014097675,
          36.09327273978987,
          36.11122773811518,
          36.208035125881494,
          36.10490570048621,
          36.14243232632845,
          36.238621800413235,
          36.2735005820452,
          36.30768869452212,
          36.361001797614186,
          36.39345721229681,
          36.44507192834433,
          36.47586258754403,
          36.565449479305904,
          36.65326237272852,
          36.77894036213421,
          36.82292174679206,
          36.94524014355562,
          37.02553242792137,
          37.143838730892206,
          37.220198369103116,
          37.03762016220271,
          36.77944943629705,
          36.447183073454106,
          36.20070417353865,
          35.879898115632415,
          35.80306844183815,
          35.688156183534076,
          35.79334122030754,
          35.738027527258815,
          35.802621047886525,
          35.747123596074594,
          35.1382696062793,
          34.66028402550539,
          34.746219003054094,
          34.652234460024836,
          34.24327928673657,
          33.96123412837019,
          33.90259582391259,
          33.488683001514815,
          33.04336251038888,
          33.280127627772096,
          33.57161027142414,
          33.79791503558653,
          34.29696625988075,
          34.80593726189998,
          35.3246316103742,
          35.51622307696824,
          36.11986226513832,
          36.671944237398534,
          37.17348992893699,
          37.64530203986397,
          38.1077713355246,
          38.48187489652709,
          38.33371894901795,
          38.01027895064753,
          37.63383776142483,
          37.20544491005587,
          37.399396506827976,
          37.134061908008285,
          37.230417122921324,
          36.889220726302845,
          36.95082031905695,
          37.05080408016811,
          37.148807964623494,
          37.0864553286331,
          37.183753247548374,
          37.23952051257478,
          36.87834187204756,
          36.82134500073942,
          36.40904112122425,
          36.89599082296236,
          37.45250587966253,
          37.364337442753836,
          37.85217236466245,
          38.746188789021296,
          39.64230389742431,
          40.32265434128287,
          40.850918631529865,
          41.46773214661003,
          41.97332162723961,
          42.64711726233813,
          43.36697635132848,
          43.75574911001661,
          44.17642735943033,
          44.846201096884435,
          45.423504063878504,
          45.75175151842274,
          46.667558447119106,
          47.62463652642639,
          48.40434671718226,
          49.03000323589273,
          49.72247843893401,
          50.381439280201526,
          51.0471533719587,
          51.640279063566645,
          52.24146167206992,
          52.85054165455349,
          53.4673626273684,
          53.99276140014647,
          54.40874633294579,
          54.658078094621715,
          54.82326467083214,
          54.925774283638404,
          55.04605598366927,
          54.86692615830245,
          55.00817514828733,
          55.146627128451094,
          54.58926816396085,
          54.181559875275404,
          53.64331115424859,
          53.41275053287151,
          53.662003002294576,
          53.84691383736997,
          54.00836109105713,
          54.14680938875668,
          54.52013990244636,
          54.84647377136464,
          55.166345583253054,
          55.46008131912104,
          55.688594564019816,
          55.952186755046746,
          56.11154939603531,
          56.2875583215651,
          56.53928984370564,
          56.766234602594665,
          57.08769530814134,
          57.343384513552905,
          57.53460462482897,
          57.68243423821414,
          58.02535633704458,
          58.4010918599963,
          58.78918905582151,
          59.16960115846661,
          59.48307440668246,
          59.8101422441295,
          60.03172358843038,
          60.20931322238557,
          60.264574347317875,
          60.437553075025406,
          60.36948271636666,
          60.500780089714056,
          60.60967553461557,
          60.65700869282888,
          60.445978815612925,
          60.25892972832167,
          59.89736675993032,
          59.54296345441562,
          59.15597407550807,
          58.81625181351299,
          58.46345474476965,
          58.45427742301125,
          58.58389569296712,
          58.77035320555499,
          58.814504627588676,
          58.877583744380296,
          58.93941376973045,
          58.98021745777319,
          59.079619093024036,
          59.11764643799835,
          58.93709898246945,
          58.95814652752087,
          58.80055946647045,
          58.863914724993435,
          58.52997581730944,
          58.65809510889763,
          58.724271443801136,
          58.82874131686065,
          58.95094445985724,
          59.14993565987895,
          59.26577851878792,
          59.26051557779115,
          59.29496081407127,
          59.52674376954588,
          59.53611518010136,
          59.58490497877767,
          59.5139167610018,
          59.46413623082367,
          59.27672759164005,
          59.07322803435935,
          58.77474826984981,
          58.462377015491064,
          58.2155972714559,
          57.93410029449305,
          57.77698939686642,
          57.741801487862595,
          57.82612225084321,
          57.77015943375801,
          57.735106771557994,
          57.70074822148646,
          57.70667399930242,
          57.633274513880984,
          57.581130463901495,
          57.53001896937497,
          57.460117603387616,
          57.43120438341429,
          57.402863702454425,
          57.355282242835024,
          57.308642990343266,
          57.24312530714808,
          57.21850896435195,
          56.91715235023264,
          56.48314933203577,
          56.07754241332334,
          55.83838315689361,
          55.54455378658268,
          55.27634479993358,
          54.954040941594904,
          54.63811933791264,
          54.348255587857054,
          54.202745575827606,
          54.495760515687394,
          54.6641612979872,
          54.78962345081795,
          54.872997244076664,
          54.95472007112417,
          55.15363650583064,
          55.30901004072949,
          54.96625736587539,
          54.72930177394319,
          54.49703837197097,
          54.368384146507616,
          54.24227752948009,
          53.920648270808094,
          53.76380375027741,
          53.49125318042561,
          53.26370361205498,
          52.94165007457025,
          52.24973621041791,
          51.492315690016035,
          50.888507457449336,
          50.41546770498638,
          49.79337923451043,
          49.24301528834447,
          48.72335161840934,
          48.09516643682895,
          47.57843046696215,
          47.05212491234161,
          46.81346897311919,
          46.65874681500423,
          46.54669242246363,
          46.318045047432804,
          46.13352930365938,
          45.87345941609913,
          45.499727545967616,
          45.19280224762051,
          44.990964579088356,
          44.713915775188944,
          44.402749125786556,
          44.0779422120069,
          43.68035919743053,
          43.35005505451854,
          42.80846980528964,
          42.37661891756802,
          41.973121512812654,
          41.518208215035166,
          41.42873874533526,
          41.44005084939983,
          41.39173301074843,
          41.34437196098315,
          41.13953291204951,
          41.037759983,
          41.175626122080665,
          41.013732535354976,
          40.79563882158575,
          40.46305191393188,
          40.17665484607964,
          39.83652306665876,
          39.52292855022469,
          39.156137885562735,
          38.95502624410265,
          38.69849107074978,
          38.58564966332097,
          38.31662689750681,
          38.17174319645847,
          37.970322538956225,
          37.91150427081611,
          37.69543487916367,
          37.364832208062474,
          37.08038008493938,
          36.682748795866765,
          36.21378347287353,
          35.71450063151053,
          35.2053025988875,
          34.785395616475974,
          34.37380362382518,
          33.99016394788173,
          33.69332901805072,
          33.303362106583286,
          32.86171137155645,
          32.4288061956486,
          32.044077359887815,
          31.785778798172036,
          31.393981198009236,
          31.108951867213683,
          30.7899627211726,
          30.437686231475926,
          30.211197395102882,
          29.969391505979818,
          29.65316593146153,
          29.283796308893255,
          29.040552817522762,
          28.643710187304446,
          28.373537708235574,
          28.049309238633406,
          27.77110509518298,
          27.518211924882298,
          27.389138421369736,
          27.401234690258054,
          27.373487468658553,
          27.30668573658176,
          27.22140483087665,
          27.23682255700326,
          27.667776565922196,
          28.228810693516905,
          28.69952731360124,
          29.20052677289849,
          29.652001490408725,
          29.995526213476754,
          30.411456387592906,
          30.759744380020887,
          30.98232369929297,
          31.200495507289805,
          31.394545101258945,
          31.485742227991604,
          31.575133471025612,
          31.52414072901172,
          31.533563684875297,
          31.52299806735035,
          31.572047610583258,
          31.63992785593469,
          31.666859977605746,
          31.61405086912601,
          31.48307956475699,
          31.31509779115987,
          31.170244369520983,
          31.08766527307708,
          30.88790952505327,
          30.692109336397923,
          30.559592319808765,
          30.469303362962954,
          30.321396365647797,
          30.19622019996754,
          29.99431484943541,
          29.756803664254576,
          29.464589730256485,
          29.138558250392055,
          28.937794720646696,
          28.9192245281555,
          28.960428002852318,
          28.90180566615265,
          28.903750108407362,
          29.00466594786059,
          29.162989394461828,
          29.159761881699723,
          29.29521214148795,
          29.368574277310643,
          29.4800876579737,
          29.56959087267968,
          29.716727687102026,
          29.959960802241262,
          30.19837742004974,
          30.333063015709527,
          30.465081569870428,
          30.713297776438118,
          30.85758890959532,
          30.93961685198925,
          30.94081255789059,
          30.8033707250455,
          30.668650512653393,
          30.47719208663941,
          30.36873283738745,
          30.321827236642196,
          30.19664253887407,
          30.054134765812734,
          29.855042988252276,
          29.541081740929833,
          29.31254546881058,
          29.02912872682764,
          28.711720237158623,
          28.499606965116772,
          28.27189197568862,
          27.989280253373554,
          27.771670743387492,
          27.736588154406633,
          27.563586408760862,
          27.374208460057556,
          27.247986510343665,
          27.04505608438085,
          26.945153983692602,
          26.78782420182582,
          26.633609861184574,
          26.462647289663977,
          26.314872095799085,
          26.229429083995324,
          26.086272072421604,
          25.926147872957348,
          25.828600390318343,
          25.693380580600657,
          25.6994522522723,
          25.725205673020923,
          25.69104318444425,
          25.558547279794183,
          25.46827901682288,
          25.32039230361031,
          25.135830079766464,
          25.053932454420213,
          24.91425062363236,
          24.77733476969207,
          24.702536061377604,
          24.589614555206186,
          24.55813703926,
          24.566886800859223,
          24.575463299852505,
          24.54426600678471,
          24.672102323487703,
          24.896417128972928,
          25.175695997718016,
          25.449444591834023,
          25.895990243499124,
          26.432703308005788,
          26.978590371235025,
          27.513667789647005,
          27.899535754223006,
          28.396574650197365,
          28.903573171994008,
          29.301522218107273,
          29.592581184095483,
          29.91748056659973,
          30.1765403573688,
          30.509678172085295,
          30.776813257795162,
          30.99905457942998,
          31.15748914221844,
          31.25338044633583,
          31.26816499195338,
          31.22325083369557,
          31.179226064710242,
          31.215280994122928,
          31.171414043743056,
          31.286831587434413,
          31.43956759560805,
          31.56947714817362,
          31.617606313557534,
          31.664782426161523,
          31.770430298913364,
          31.794778213786948,
          31.779040031335352,
          31.68440557526714,
          31.591645068824125,
          31.40171150310066,
          31.096727116894076,
          30.876989946257872,
          30.622000046326693,
          30.431465391940122,
          30.145693800014833,
          29.84577907129582,
          29.59140720849302,
          29.559894194462867,
          29.707223022297992,
          29.792228507006495,
          29.835946754393277,
          29.77978939291917,
          29.645536137611565,
          29.49413938240882,
          29.424948503548116,
          29.17890991931551,
          28.977347346652643,
          28.77977611206243,
          28.50690925835412,
          28.41766353046461,
          28.627214747686157,
          28.852418416051993,
          29.03355864543962,
          29.2903198603849,
          29.225165011663538,
          29.458330060940575,
          29.667076000330564,
          29.61426261418474,
          29.503089097070802,
          29.41391901593961,
          29.583940421566577,
          29.31495150232452,
          29.170100977524367,
          28.968712839353326,
          28.850520505899492,
          28.774272575088787,
          28.739138464690622,
          28.684898099052624,
          28.710939720853826,
          28.954287449156155,
          29.01459858877741,
          29.053913468207934,
          29.211261716363694,
          29.246682276436022,
          29.30120341947738,
          29.513060777509388,
          29.720722940332767,
          29.924272981119973,
          30.203000248822867,
          30.41680222409543,
          31.062014061247172,
          31.496429624394167,
          32.10046072094542,
          32.57371892449459,
          33.25542746064821,
          33.84442889707524,
          34.28315307733426,
          34.693387669865125,
          35.036092864523575,
          35.45121973849615,
          35.917532218925,
          36.414214749246476,
          36.7624481205507,
          37.12358776173012,
          37.319160281300995,
          37.847493741080314,
          37.672295845216325,
          37.48076523441888,
          37.35243324957819,
          37.24644447235824,
          37.023742601617286,
          36.78564868871273,
          36.53246752655871,
          36.32390381316046,
          36.060064133690645,
          35.70243910133862,
          35.391499713191834,
          35.04711358025575,
          34.768952915298925,
          34.417092461529066,
          34.13160548209161,
          33.83196972996971,
          33.498663398681785,
          33.27096709375646,
          33.04777962655247,
          32.61118993097545,
          32.28225547689546,
          31.959834576361654,
          31.564590327323327,
          31.295984578266445,
          31.151509636122043,
          31.009895583921114,
          31.009699631764263,
          30.989705579650053,
          31.009711409756058,
          30.950113164018124,
          31.050110923146793,
          31.14812852862934,
          31.264007171627128,
          31.21917534644626,
          31.17523128017987,
          31.171761353839663,
          31.20796409930829,
          31.22364797852995,
          31.39743712747042,
          31.58758688732299,
          31.773971305396284,
          31.936862962715583,
          32.07672706246414,
          32.174217615682906,
          32.30938162329347,
          32.402265155505695,
          32.92895297420976,
          33.366003410365,
          33.576577600259235,
          34.02060576659169,
          34.27762347418448,
          34.351333900438405,
          34.48299065488544,
          34.67144628548215,
          34.717556260027145,
          34.68354524497703,
          34.61060375497735,
          34.697522492502706,
          34.88172996789903,
          35.26030957249576,
          36.02743215521994,
          36.640750330365144,
          37.162715670358786,
          37.89216684520436,
          38.468559580943804,
          39.112746519936024,
          39.42734559874965,
          39.33967538887329,
          39.3923550841432,
          39.226169834952,
          39.5187209273296,
          39.60745912678855,
          39.41721241140634,
          39.34954483890315,
          38.72876177278544,
          38.179677381244424,
          37.89889169052636,
          37.940497795664506,
          37.48623051258149,
          37.33798832421337
         ]
        }
       ],
       "layout": {
        "template": {
         "data": {
          "bar": [
           {
            "error_x": {
             "color": "#2a3f5f"
            },
            "error_y": {
             "color": "#2a3f5f"
            },
            "marker": {
             "line": {
              "color": "#E5ECF6",
              "width": 0.5
             },
             "pattern": {
              "fillmode": "overlay",
              "size": 10,
              "solidity": 0.2
             }
            },
            "type": "bar"
           }
          ],
          "barpolar": [
           {
            "marker": {
             "line": {
              "color": "#E5ECF6",
              "width": 0.5
             },
             "pattern": {
              "fillmode": "overlay",
              "size": 10,
              "solidity": 0.2
             }
            },
            "type": "barpolar"
           }
          ],
          "carpet": [
           {
            "aaxis": {
             "endlinecolor": "#2a3f5f",
             "gridcolor": "white",
             "linecolor": "white",
             "minorgridcolor": "white",
             "startlinecolor": "#2a3f5f"
            },
            "baxis": {
             "endlinecolor": "#2a3f5f",
             "gridcolor": "white",
             "linecolor": "white",
             "minorgridcolor": "white",
             "startlinecolor": "#2a3f5f"
            },
            "type": "carpet"
           }
          ],
          "choropleth": [
           {
            "colorbar": {
             "outlinewidth": 0,
             "ticks": ""
            },
            "type": "choropleth"
           }
          ],
          "contour": [
           {
            "colorbar": {
             "outlinewidth": 0,
             "ticks": ""
            },
            "colorscale": [
             [
              0,
              "#0d0887"
             ],
             [
              0.1111111111111111,
              "#46039f"
             ],
             [
              0.2222222222222222,
              "#7201a8"
             ],
             [
              0.3333333333333333,
              "#9c179e"
             ],
             [
              0.4444444444444444,
              "#bd3786"
             ],
             [
              0.5555555555555556,
              "#d8576b"
             ],
             [
              0.6666666666666666,
              "#ed7953"
             ],
             [
              0.7777777777777778,
              "#fb9f3a"
             ],
             [
              0.8888888888888888,
              "#fdca26"
             ],
             [
              1,
              "#f0f921"
             ]
            ],
            "type": "contour"
           }
          ],
          "contourcarpet": [
           {
            "colorbar": {
             "outlinewidth": 0,
             "ticks": ""
            },
            "type": "contourcarpet"
           }
          ],
          "heatmap": [
           {
            "colorbar": {
             "outlinewidth": 0,
             "ticks": ""
            },
            "colorscale": [
             [
              0,
              "#0d0887"
             ],
             [
              0.1111111111111111,
              "#46039f"
             ],
             [
              0.2222222222222222,
              "#7201a8"
             ],
             [
              0.3333333333333333,
              "#9c179e"
             ],
             [
              0.4444444444444444,
              "#bd3786"
             ],
             [
              0.5555555555555556,
              "#d8576b"
             ],
             [
              0.6666666666666666,
              "#ed7953"
             ],
             [
              0.7777777777777778,
              "#fb9f3a"
             ],
             [
              0.8888888888888888,
              "#fdca26"
             ],
             [
              1,
              "#f0f921"
             ]
            ],
            "type": "heatmap"
           }
          ],
          "heatmapgl": [
           {
            "colorbar": {
             "outlinewidth": 0,
             "ticks": ""
            },
            "colorscale": [
             [
              0,
              "#0d0887"
             ],
             [
              0.1111111111111111,
              "#46039f"
             ],
             [
              0.2222222222222222,
              "#7201a8"
             ],
             [
              0.3333333333333333,
              "#9c179e"
             ],
             [
              0.4444444444444444,
              "#bd3786"
             ],
             [
              0.5555555555555556,
              "#d8576b"
             ],
             [
              0.6666666666666666,
              "#ed7953"
             ],
             [
              0.7777777777777778,
              "#fb9f3a"
             ],
             [
              0.8888888888888888,
              "#fdca26"
             ],
             [
              1,
              "#f0f921"
             ]
            ],
            "type": "heatmapgl"
           }
          ],
          "histogram": [
           {
            "marker": {
             "pattern": {
              "fillmode": "overlay",
              "size": 10,
              "solidity": 0.2
             }
            },
            "type": "histogram"
           }
          ],
          "histogram2d": [
           {
            "colorbar": {
             "outlinewidth": 0,
             "ticks": ""
            },
            "colorscale": [
             [
              0,
              "#0d0887"
             ],
             [
              0.1111111111111111,
              "#46039f"
             ],
             [
              0.2222222222222222,
              "#7201a8"
             ],
             [
              0.3333333333333333,
              "#9c179e"
             ],
             [
              0.4444444444444444,
              "#bd3786"
             ],
             [
              0.5555555555555556,
              "#d8576b"
             ],
             [
              0.6666666666666666,
              "#ed7953"
             ],
             [
              0.7777777777777778,
              "#fb9f3a"
             ],
             [
              0.8888888888888888,
              "#fdca26"
             ],
             [
              1,
              "#f0f921"
             ]
            ],
            "type": "histogram2d"
           }
          ],
          "histogram2dcontour": [
           {
            "colorbar": {
             "outlinewidth": 0,
             "ticks": ""
            },
            "colorscale": [
             [
              0,
              "#0d0887"
             ],
             [
              0.1111111111111111,
              "#46039f"
             ],
             [
              0.2222222222222222,
              "#7201a8"
             ],
             [
              0.3333333333333333,
              "#9c179e"
             ],
             [
              0.4444444444444444,
              "#bd3786"
             ],
             [
              0.5555555555555556,
              "#d8576b"
             ],
             [
              0.6666666666666666,
              "#ed7953"
             ],
             [
              0.7777777777777778,
              "#fb9f3a"
             ],
             [
              0.8888888888888888,
              "#fdca26"
             ],
             [
              1,
              "#f0f921"
             ]
            ],
            "type": "histogram2dcontour"
           }
          ],
          "mesh3d": [
           {
            "colorbar": {
             "outlinewidth": 0,
             "ticks": ""
            },
            "type": "mesh3d"
           }
          ],
          "parcoords": [
           {
            "line": {
             "colorbar": {
              "outlinewidth": 0,
              "ticks": ""
             }
            },
            "type": "parcoords"
           }
          ],
          "pie": [
           {
            "automargin": true,
            "type": "pie"
           }
          ],
          "scatter": [
           {
            "marker": {
             "colorbar": {
              "outlinewidth": 0,
              "ticks": ""
             }
            },
            "type": "scatter"
           }
          ],
          "scatter3d": [
           {
            "line": {
             "colorbar": {
              "outlinewidth": 0,
              "ticks": ""
             }
            },
            "marker": {
             "colorbar": {
              "outlinewidth": 0,
              "ticks": ""
             }
            },
            "type": "scatter3d"
           }
          ],
          "scattercarpet": [
           {
            "marker": {
             "colorbar": {
              "outlinewidth": 0,
              "ticks": ""
             }
            },
            "type": "scattercarpet"
           }
          ],
          "scattergeo": [
           {
            "marker": {
             "colorbar": {
              "outlinewidth": 0,
              "ticks": ""
             }
            },
            "type": "scattergeo"
           }
          ],
          "scattergl": [
           {
            "marker": {
             "colorbar": {
              "outlinewidth": 0,
              "ticks": ""
             }
            },
            "type": "scattergl"
           }
          ],
          "scattermapbox": [
           {
            "marker": {
             "colorbar": {
              "outlinewidth": 0,
              "ticks": ""
             }
            },
            "type": "scattermapbox"
           }
          ],
          "scatterpolar": [
           {
            "marker": {
             "colorbar": {
              "outlinewidth": 0,
              "ticks": ""
             }
            },
            "type": "scatterpolar"
           }
          ],
          "scatterpolargl": [
           {
            "marker": {
             "colorbar": {
              "outlinewidth": 0,
              "ticks": ""
             }
            },
            "type": "scatterpolargl"
           }
          ],
          "scatterternary": [
           {
            "marker": {
             "colorbar": {
              "outlinewidth": 0,
              "ticks": ""
             }
            },
            "type": "scatterternary"
           }
          ],
          "surface": [
           {
            "colorbar": {
             "outlinewidth": 0,
             "ticks": ""
            },
            "colorscale": [
             [
              0,
              "#0d0887"
             ],
             [
              0.1111111111111111,
              "#46039f"
             ],
             [
              0.2222222222222222,
              "#7201a8"
             ],
             [
              0.3333333333333333,
              "#9c179e"
             ],
             [
              0.4444444444444444,
              "#bd3786"
             ],
             [
              0.5555555555555556,
              "#d8576b"
             ],
             [
              0.6666666666666666,
              "#ed7953"
             ],
             [
              0.7777777777777778,
              "#fb9f3a"
             ],
             [
              0.8888888888888888,
              "#fdca26"
             ],
             [
              1,
              "#f0f921"
             ]
            ],
            "type": "surface"
           }
          ],
          "table": [
           {
            "cells": {
             "fill": {
              "color": "#EBF0F8"
             },
             "line": {
              "color": "white"
             }
            },
            "header": {
             "fill": {
              "color": "#C8D4E3"
             },
             "line": {
              "color": "white"
             }
            },
            "type": "table"
           }
          ]
         },
         "layout": {
          "annotationdefaults": {
           "arrowcolor": "#2a3f5f",
           "arrowhead": 0,
           "arrowwidth": 1
          },
          "autotypenumbers": "strict",
          "coloraxis": {
           "colorbar": {
            "outlinewidth": 0,
            "ticks": ""
           }
          },
          "colorscale": {
           "diverging": [
            [
             0,
             "#8e0152"
            ],
            [
             0.1,
             "#c51b7d"
            ],
            [
             0.2,
             "#de77ae"
            ],
            [
             0.3,
             "#f1b6da"
            ],
            [
             0.4,
             "#fde0ef"
            ],
            [
             0.5,
             "#f7f7f7"
            ],
            [
             0.6,
             "#e6f5d0"
            ],
            [
             0.7,
             "#b8e186"
            ],
            [
             0.8,
             "#7fbc41"
            ],
            [
             0.9,
             "#4d9221"
            ],
            [
             1,
             "#276419"
            ]
           ],
           "sequential": [
            [
             0,
             "#0d0887"
            ],
            [
             0.1111111111111111,
             "#46039f"
            ],
            [
             0.2222222222222222,
             "#7201a8"
            ],
            [
             0.3333333333333333,
             "#9c179e"
            ],
            [
             0.4444444444444444,
             "#bd3786"
            ],
            [
             0.5555555555555556,
             "#d8576b"
            ],
            [
             0.6666666666666666,
             "#ed7953"
            ],
            [
             0.7777777777777778,
             "#fb9f3a"
            ],
            [
             0.8888888888888888,
             "#fdca26"
            ],
            [
             1,
             "#f0f921"
            ]
           ],
           "sequentialminus": [
            [
             0,
             "#0d0887"
            ],
            [
             0.1111111111111111,
             "#46039f"
            ],
            [
             0.2222222222222222,
             "#7201a8"
            ],
            [
             0.3333333333333333,
             "#9c179e"
            ],
            [
             0.4444444444444444,
             "#bd3786"
            ],
            [
             0.5555555555555556,
             "#d8576b"
            ],
            [
             0.6666666666666666,
             "#ed7953"
            ],
            [
             0.7777777777777778,
             "#fb9f3a"
            ],
            [
             0.8888888888888888,
             "#fdca26"
            ],
            [
             1,
             "#f0f921"
            ]
           ]
          },
          "colorway": [
           "#636efa",
           "#EF553B",
           "#00cc96",
           "#ab63fa",
           "#FFA15A",
           "#19d3f3",
           "#FF6692",
           "#B6E880",
           "#FF97FF",
           "#FECB52"
          ],
          "font": {
           "color": "#2a3f5f"
          },
          "geo": {
           "bgcolor": "white",
           "lakecolor": "white",
           "landcolor": "#E5ECF6",
           "showlakes": true,
           "showland": true,
           "subunitcolor": "white"
          },
          "hoverlabel": {
           "align": "left"
          },
          "hovermode": "closest",
          "mapbox": {
           "style": "light"
          },
          "paper_bgcolor": "white",
          "plot_bgcolor": "#E5ECF6",
          "polar": {
           "angularaxis": {
            "gridcolor": "white",
            "linecolor": "white",
            "ticks": ""
           },
           "bgcolor": "#E5ECF6",
           "radialaxis": {
            "gridcolor": "white",
            "linecolor": "white",
            "ticks": ""
           }
          },
          "scene": {
           "xaxis": {
            "backgroundcolor": "#E5ECF6",
            "gridcolor": "white",
            "gridwidth": 2,
            "linecolor": "white",
            "showbackground": true,
            "ticks": "",
            "zerolinecolor": "white"
           },
           "yaxis": {
            "backgroundcolor": "#E5ECF6",
            "gridcolor": "white",
            "gridwidth": 2,
            "linecolor": "white",
            "showbackground": true,
            "ticks": "",
            "zerolinecolor": "white"
           },
           "zaxis": {
            "backgroundcolor": "#E5ECF6",
            "gridcolor": "white",
            "gridwidth": 2,
            "linecolor": "white",
            "showbackground": true,
            "ticks": "",
            "zerolinecolor": "white"
           }
          },
          "shapedefaults": {
           "line": {
            "color": "#2a3f5f"
           }
          },
          "ternary": {
           "aaxis": {
            "gridcolor": "white",
            "linecolor": "white",
            "ticks": ""
           },
           "baxis": {
            "gridcolor": "white",
            "linecolor": "white",
            "ticks": ""
           },
           "bgcolor": "#E5ECF6",
           "caxis": {
            "gridcolor": "white",
            "linecolor": "white",
            "ticks": ""
           }
          },
          "title": {
           "x": 0.05
          },
          "xaxis": {
           "automargin": true,
           "gridcolor": "white",
           "linecolor": "white",
           "ticks": "",
           "title": {
            "standoff": 15
           },
           "zerolinecolor": "white",
           "zerolinewidth": 2
          },
          "yaxis": {
           "automargin": true,
           "gridcolor": "white",
           "linecolor": "white",
           "ticks": "",
           "title": {
            "standoff": 15
           },
           "zerolinecolor": "white",
           "zerolinewidth": 2
          }
         }
        },
        "title": {
         "text": "Crypto Greed Index"
        },
        "xaxis": {
         "title": {
          "text": "Date"
         }
        },
        "yaxis": {
         "title": {
          "text": "Greed Index"
         }
        }
       }
      },
      "text/html": [
       "<div>                            <div id=\"d941d5fb-aa29-4ec4-b983-2e039c80008c\" class=\"plotly-graph-div\" style=\"height:525px; width:100%;\"></div>            <script type=\"text/javascript\">                require([\"plotly\"], function(Plotly) {                    window.PLOTLYENV=window.PLOTLYENV || {};                                    if (document.getElementById(\"d941d5fb-aa29-4ec4-b983-2e039c80008c\")) {                    Plotly.newPlot(                        \"d941d5fb-aa29-4ec4-b983-2e039c80008c\",                        [{\"type\":\"scatter\",\"x\":[\"2021-11-07T00:00:00\",\"2021-11-06T00:00:00\",\"2021-11-05T00:00:00\",\"2021-11-04T00:00:00\",\"2021-11-03T00:00:00\",\"2021-11-02T00:00:00\",\"2021-11-01T00:00:00\",\"2021-10-31T00:00:00\",\"2021-10-30T00:00:00\",\"2021-10-29T00:00:00\",\"2021-10-28T00:00:00\",\"2021-10-27T00:00:00\",\"2021-10-26T00:00:00\",\"2021-10-25T00:00:00\",\"2021-10-24T00:00:00\",\"2021-10-23T00:00:00\",\"2021-10-22T00:00:00\",\"2021-10-21T00:00:00\",\"2021-10-20T00:00:00\",\"2021-10-19T00:00:00\",\"2021-10-18T00:00:00\",\"2021-10-17T00:00:00\",\"2021-10-16T00:00:00\",\"2021-10-15T00:00:00\",\"2021-10-14T00:00:00\",\"2021-10-13T00:00:00\",\"2021-10-12T00:00:00\",\"2021-10-11T00:00:00\",\"2021-10-10T00:00:00\",\"2021-10-09T00:00:00\",\"2021-10-08T00:00:00\",\"2021-10-07T00:00:00\",\"2021-10-06T00:00:00\",\"2021-10-05T00:00:00\",\"2021-10-04T00:00:00\",\"2021-10-03T00:00:00\",\"2021-10-02T00:00:00\",\"2021-10-01T00:00:00\",\"2021-09-30T00:00:00\",\"2021-09-29T00:00:00\",\"2021-09-28T00:00:00\",\"2021-09-27T00:00:00\",\"2021-09-26T00:00:00\",\"2021-09-25T00:00:00\",\"2021-09-24T00:00:00\",\"2021-09-23T00:00:00\",\"2021-09-22T00:00:00\",\"2021-09-21T00:00:00\",\"2021-09-20T00:00:00\",\"2021-09-19T00:00:00\",\"2021-09-18T00:00:00\",\"2021-09-17T00:00:00\",\"2021-09-16T00:00:00\",\"2021-09-15T00:00:00\",\"2021-09-14T00:00:00\",\"2021-09-13T00:00:00\",\"2021-09-12T00:00:00\",\"2021-09-11T00:00:00\",\"2021-09-10T00:00:00\",\"2021-09-09T00:00:00\",\"2021-09-08T00:00:00\",\"2021-09-07T00:00:00\",\"2021-09-06T00:00:00\",\"2021-09-05T00:00:00\",\"2021-09-04T00:00:00\",\"2021-09-03T00:00:00\",\"2021-09-02T00:00:00\",\"2021-09-01T00:00:00\",\"2021-08-31T00:00:00\",\"2021-08-30T00:00:00\",\"2021-08-29T00:00:00\",\"2021-08-28T00:00:00\",\"2021-08-27T00:00:00\",\"2021-08-26T00:00:00\",\"2021-08-25T00:00:00\",\"2021-08-24T00:00:00\",\"2021-08-23T00:00:00\",\"2021-08-22T00:00:00\",\"2021-08-21T00:00:00\",\"2021-08-20T00:00:00\",\"2021-08-19T00:00:00\",\"2021-08-18T00:00:00\",\"2021-08-17T00:00:00\",\"2021-08-16T00:00:00\",\"2021-08-15T00:00:00\",\"2021-08-14T00:00:00\",\"2021-08-13T00:00:00\",\"2021-08-12T00:00:00\",\"2021-08-11T00:00:00\",\"2021-08-10T00:00:00\",\"2021-08-09T00:00:00\",\"2021-08-08T00:00:00\",\"2021-08-07T00:00:00\",\"2021-08-06T00:00:00\",\"2021-08-05T00:00:00\",\"2021-08-04T00:00:00\",\"2021-08-03T00:00:00\",\"2021-08-02T00:00:00\",\"2021-08-01T00:00:00\",\"2021-07-31T00:00:00\",\"2021-07-30T00:00:00\",\"2021-07-29T00:00:00\",\"2021-07-28T00:00:00\",\"2021-07-27T00:00:00\",\"2021-07-26T00:00:00\",\"2021-07-25T00:00:00\",\"2021-07-24T00:00:00\",\"2021-07-23T00:00:00\",\"2021-07-22T00:00:00\",\"2021-07-21T00:00:00\",\"2021-07-20T00:00:00\",\"2021-07-19T00:00:00\",\"2021-07-18T00:00:00\",\"2021-07-17T00:00:00\",\"2021-07-16T00:00:00\",\"2021-07-15T00:00:00\",\"2021-07-14T00:00:00\",\"2021-07-13T00:00:00\",\"2021-07-12T00:00:00\",\"2021-07-11T00:00:00\",\"2021-07-10T00:00:00\",\"2021-07-09T00:00:00\",\"2021-07-08T00:00:00\",\"2021-07-07T00:00:00\",\"2021-07-06T00:00:00\",\"2021-07-05T00:00:00\",\"2021-07-04T00:00:00\",\"2021-07-03T00:00:00\",\"2021-07-02T00:00:00\",\"2021-07-01T00:00:00\",\"2021-06-30T00:00:00\",\"2021-06-29T00:00:00\",\"2021-06-28T00:00:00\",\"2021-06-27T00:00:00\",\"2021-06-26T00:00:00\",\"2021-06-25T00:00:00\",\"2021-06-24T00:00:00\",\"2021-06-23T00:00:00\",\"2021-06-22T00:00:00\",\"2021-06-21T00:00:00\",\"2021-06-20T00:00:00\",\"2021-06-19T00:00:00\",\"2021-06-18T00:00:00\",\"2021-06-17T00:00:00\",\"2021-06-16T00:00:00\",\"2021-06-15T00:00:00\",\"2021-06-14T00:00:00\",\"2021-06-13T00:00:00\",\"2021-06-12T00:00:00\",\"2021-06-11T00:00:00\",\"2021-06-10T00:00:00\",\"2021-06-09T00:00:00\",\"2021-06-08T00:00:00\",\"2021-06-07T00:00:00\",\"2021-06-06T00:00:00\",\"2021-06-05T00:00:00\",\"2021-06-04T00:00:00\",\"2021-06-03T00:00:00\",\"2021-06-02T00:00:00\",\"2021-06-01T00:00:00\",\"2021-05-31T00:00:00\",\"2021-05-30T00:00:00\",\"2021-05-29T00:00:00\",\"2021-05-28T00:00:00\",\"2021-05-27T00:00:00\",\"2021-05-26T00:00:00\",\"2021-05-25T00:00:00\",\"2021-05-24T00:00:00\",\"2021-05-23T00:00:00\",\"2021-05-22T00:00:00\",\"2021-05-21T00:00:00\",\"2021-05-20T00:00:00\",\"2021-05-19T00:00:00\",\"2021-05-18T00:00:00\",\"2021-05-17T00:00:00\",\"2021-05-16T00:00:00\",\"2021-05-15T00:00:00\",\"2021-05-14T00:00:00\",\"2021-05-13T00:00:00\",\"2021-05-12T00:00:00\",\"2021-05-11T00:00:00\",\"2021-05-10T00:00:00\",\"2021-05-09T00:00:00\",\"2021-05-08T00:00:00\",\"2021-05-07T00:00:00\",\"2021-05-06T00:00:00\",\"2021-05-05T00:00:00\",\"2021-05-04T00:00:00\",\"2021-05-03T00:00:00\",\"2021-05-02T00:00:00\",\"2021-05-01T00:00:00\",\"2021-04-30T00:00:00\",\"2021-04-29T00:00:00\",\"2021-04-28T00:00:00\",\"2021-04-27T00:00:00\",\"2021-04-26T00:00:00\",\"2021-04-25T00:00:00\",\"2021-04-24T00:00:00\",\"2021-04-23T00:00:00\",\"2021-04-22T00:00:00\",\"2021-04-21T00:00:00\",\"2021-04-20T00:00:00\",\"2021-04-19T00:00:00\",\"2021-04-18T00:00:00\",\"2021-04-17T00:00:00\",\"2021-04-16T00:00:00\",\"2021-04-15T00:00:00\",\"2021-04-14T00:00:00\",\"2021-04-13T00:00:00\",\"2021-04-12T00:00:00\",\"2021-04-11T00:00:00\",\"2021-04-10T00:00:00\",\"2021-04-09T00:00:00\",\"2021-04-08T00:00:00\",\"2021-04-07T00:00:00\",\"2021-04-06T00:00:00\",\"2021-04-05T00:00:00\",\"2021-04-04T00:00:00\",\"2021-04-03T00:00:00\",\"2021-04-02T00:00:00\",\"2021-04-01T00:00:00\",\"2021-03-31T00:00:00\",\"2021-03-30T00:00:00\",\"2021-03-29T00:00:00\",\"2021-03-28T00:00:00\",\"2021-03-27T00:00:00\",\"2021-03-26T00:00:00\",\"2021-03-25T00:00:00\",\"2021-03-24T00:00:00\",\"2021-03-23T00:00:00\",\"2021-03-22T00:00:00\",\"2021-03-21T00:00:00\",\"2021-03-20T00:00:00\",\"2021-03-19T00:00:00\",\"2021-03-18T00:00:00\",\"2021-03-17T00:00:00\",\"2021-03-16T00:00:00\",\"2021-03-15T00:00:00\",\"2021-03-14T00:00:00\",\"2021-03-13T00:00:00\",\"2021-03-12T00:00:00\",\"2021-03-11T00:00:00\",\"2021-03-10T00:00:00\",\"2021-03-09T00:00:00\",\"2021-03-08T00:00:00\",\"2021-03-07T00:00:00\",\"2021-03-06T00:00:00\",\"2021-03-05T00:00:00\",\"2021-03-04T00:00:00\",\"2021-03-03T00:00:00\",\"2021-03-02T00:00:00\",\"2021-03-01T00:00:00\",\"2021-02-28T00:00:00\",\"2021-02-27T00:00:00\",\"2021-02-26T00:00:00\",\"2021-02-25T00:00:00\",\"2021-02-24T00:00:00\",\"2021-02-23T00:00:00\",\"2021-02-22T00:00:00\",\"2021-02-21T00:00:00\",\"2021-02-20T00:00:00\",\"2021-02-19T00:00:00\",\"2021-02-18T00:00:00\",\"2021-02-17T00:00:00\",\"2021-02-16T00:00:00\",\"2021-02-15T00:00:00\",\"2021-02-14T00:00:00\",\"2021-02-13T00:00:00\",\"2021-02-12T00:00:00\",\"2021-02-11T00:00:00\",\"2021-02-10T00:00:00\",\"2021-02-09T00:00:00\",\"2021-02-08T00:00:00\",\"2021-02-07T00:00:00\",\"2021-02-06T00:00:00\",\"2021-02-05T00:00:00\",\"2021-02-04T00:00:00\",\"2021-02-03T00:00:00\",\"2021-02-02T00:00:00\",\"2021-02-01T00:00:00\",\"2021-01-31T00:00:00\",\"2021-01-30T00:00:00\",\"2021-01-29T00:00:00\",\"2021-01-28T00:00:00\",\"2021-01-27T00:00:00\",\"2021-01-26T00:00:00\",\"2021-01-25T00:00:00\",\"2021-01-24T00:00:00\",\"2021-01-23T00:00:00\",\"2021-01-22T00:00:00\",\"2021-01-21T00:00:00\",\"2021-01-20T00:00:00\",\"2021-01-19T00:00:00\",\"2021-01-18T00:00:00\",\"2021-01-17T00:00:00\",\"2021-01-16T00:00:00\",\"2021-01-15T00:00:00\",\"2021-01-14T00:00:00\",\"2021-01-13T00:00:00\",\"2021-01-12T00:00:00\",\"2021-01-11T00:00:00\",\"2021-01-10T00:00:00\",\"2021-01-09T00:00:00\",\"2021-01-08T00:00:00\",\"2021-01-07T00:00:00\",\"2021-01-06T00:00:00\",\"2021-01-05T00:00:00\",\"2021-01-04T00:00:00\",\"2021-01-03T00:00:00\",\"2021-01-02T00:00:00\",\"2021-01-01T00:00:00\",\"2020-12-31T00:00:00\",\"2020-12-30T00:00:00\",\"2020-12-29T00:00:00\",\"2020-12-28T00:00:00\",\"2020-12-27T00:00:00\",\"2020-12-26T00:00:00\",\"2020-12-25T00:00:00\",\"2020-12-24T00:00:00\",\"2020-12-23T00:00:00\",\"2020-12-22T00:00:00\",\"2020-12-21T00:00:00\",\"2020-12-20T00:00:00\",\"2020-12-19T00:00:00\",\"2020-12-18T00:00:00\",\"2020-12-17T00:00:00\",\"2020-12-16T00:00:00\",\"2020-12-15T00:00:00\",\"2020-12-14T00:00:00\",\"2020-12-13T00:00:00\",\"2020-12-12T00:00:00\",\"2020-12-11T00:00:00\",\"2020-12-10T00:00:00\",\"2020-12-09T00:00:00\",\"2020-12-08T00:00:00\",\"2020-12-07T00:00:00\",\"2020-12-06T00:00:00\",\"2020-12-05T00:00:00\",\"2020-12-04T00:00:00\",\"2020-12-03T00:00:00\",\"2020-12-02T00:00:00\",\"2020-12-01T00:00:00\",\"2020-11-30T00:00:00\",\"2020-11-29T00:00:00\",\"2020-11-28T00:00:00\",\"2020-11-27T00:00:00\",\"2020-11-26T00:00:00\",\"2020-11-25T00:00:00\",\"2020-11-24T00:00:00\",\"2020-11-23T00:00:00\",\"2020-11-22T00:00:00\",\"2020-11-21T00:00:00\",\"2020-11-20T00:00:00\",\"2020-11-19T00:00:00\",\"2020-11-18T00:00:00\",\"2020-11-17T00:00:00\",\"2020-11-16T00:00:00\",\"2020-11-15T00:00:00\",\"2020-11-14T00:00:00\",\"2020-11-13T00:00:00\",\"2020-11-12T00:00:00\",\"2020-11-11T00:00:00\",\"2020-11-10T00:00:00\",\"2020-11-09T00:00:00\",\"2020-11-08T00:00:00\",\"2020-11-07T00:00:00\",\"2020-11-06T00:00:00\",\"2020-11-05T00:00:00\",\"2020-11-04T00:00:00\",\"2020-11-03T00:00:00\",\"2020-11-02T00:00:00\",\"2020-11-01T00:00:00\",\"2020-10-31T00:00:00\",\"2020-10-30T00:00:00\",\"2020-10-29T00:00:00\",\"2020-10-28T00:00:00\",\"2020-10-27T00:00:00\",\"2020-10-26T00:00:00\",\"2020-10-25T00:00:00\",\"2020-10-24T00:00:00\",\"2020-10-23T00:00:00\",\"2020-10-22T00:00:00\",\"2020-10-21T00:00:00\",\"2020-10-20T00:00:00\",\"2020-10-19T00:00:00\",\"2020-10-18T00:00:00\",\"2020-10-17T00:00:00\",\"2020-10-16T00:00:00\",\"2020-10-15T00:00:00\",\"2020-10-14T00:00:00\",\"2020-10-13T00:00:00\",\"2020-10-12T00:00:00\",\"2020-10-11T00:00:00\",\"2020-10-10T00:00:00\",\"2020-10-09T00:00:00\",\"2020-10-08T00:00:00\",\"2020-10-07T00:00:00\",\"2020-10-06T00:00:00\",\"2020-10-05T00:00:00\",\"2020-10-04T00:00:00\",\"2020-10-03T00:00:00\",\"2020-10-02T00:00:00\",\"2020-10-01T00:00:00\",\"2020-09-30T00:00:00\",\"2020-09-29T00:00:00\",\"2020-09-28T00:00:00\",\"2020-09-27T00:00:00\",\"2020-09-26T00:00:00\",\"2020-09-25T00:00:00\",\"2020-09-24T00:00:00\",\"2020-09-23T00:00:00\",\"2020-09-22T00:00:00\",\"2020-09-21T00:00:00\",\"2020-09-20T00:00:00\",\"2020-09-19T00:00:00\",\"2020-09-18T00:00:00\",\"2020-09-17T00:00:00\",\"2020-09-16T00:00:00\",\"2020-09-15T00:00:00\",\"2020-09-14T00:00:00\",\"2020-09-13T00:00:00\",\"2020-09-12T00:00:00\",\"2020-09-11T00:00:00\",\"2020-09-10T00:00:00\",\"2020-09-09T00:00:00\",\"2020-09-08T00:00:00\",\"2020-09-07T00:00:00\",\"2020-09-06T00:00:00\",\"2020-09-05T00:00:00\",\"2020-09-04T00:00:00\",\"2020-09-03T00:00:00\",\"2020-09-02T00:00:00\",\"2020-09-01T00:00:00\",\"2020-08-31T00:00:00\",\"2020-08-30T00:00:00\",\"2020-08-29T00:00:00\",\"2020-08-28T00:00:00\",\"2020-08-27T00:00:00\",\"2020-08-26T00:00:00\",\"2020-08-25T00:00:00\",\"2020-08-24T00:00:00\",\"2020-08-23T00:00:00\",\"2020-08-22T00:00:00\",\"2020-08-21T00:00:00\",\"2020-08-20T00:00:00\",\"2020-08-19T00:00:00\",\"2020-08-18T00:00:00\",\"2020-08-17T00:00:00\",\"2020-08-16T00:00:00\",\"2020-08-15T00:00:00\",\"2020-08-14T00:00:00\",\"2020-08-13T00:00:00\",\"2020-08-12T00:00:00\",\"2020-08-11T00:00:00\",\"2020-08-10T00:00:00\",\"2020-08-09T00:00:00\",\"2020-08-08T00:00:00\",\"2020-08-07T00:00:00\",\"2020-08-06T00:00:00\",\"2020-08-05T00:00:00\",\"2020-08-04T00:00:00\",\"2020-08-03T00:00:00\",\"2020-08-02T00:00:00\",\"2020-08-01T00:00:00\",\"2020-07-31T00:00:00\",\"2020-07-30T00:00:00\",\"2020-07-29T00:00:00\",\"2020-07-28T00:00:00\",\"2020-07-27T00:00:00\",\"2020-07-26T00:00:00\",\"2020-07-25T00:00:00\",\"2020-07-24T00:00:00\",\"2020-07-23T00:00:00\",\"2020-07-22T00:00:00\",\"2020-07-21T00:00:00\",\"2020-07-20T00:00:00\",\"2020-07-19T00:00:00\",\"2020-07-18T00:00:00\",\"2020-07-17T00:00:00\",\"2020-07-16T00:00:00\",\"2020-07-15T00:00:00\",\"2020-07-14T00:00:00\",\"2020-07-13T00:00:00\",\"2020-07-12T00:00:00\",\"2020-07-11T00:00:00\",\"2020-07-10T00:00:00\",\"2020-07-09T00:00:00\",\"2020-07-08T00:00:00\",\"2020-07-07T00:00:00\",\"2020-07-06T00:00:00\",\"2020-07-05T00:00:00\",\"2020-07-04T00:00:00\",\"2020-07-03T00:00:00\",\"2020-07-02T00:00:00\",\"2020-07-01T00:00:00\",\"2020-06-30T00:00:00\",\"2020-06-29T00:00:00\",\"2020-06-28T00:00:00\",\"2020-06-27T00:00:00\",\"2020-06-26T00:00:00\",\"2020-06-25T00:00:00\",\"2020-06-24T00:00:00\",\"2020-06-23T00:00:00\",\"2020-06-22T00:00:00\",\"2020-06-21T00:00:00\",\"2020-06-20T00:00:00\",\"2020-06-19T00:00:00\",\"2020-06-18T00:00:00\",\"2020-06-17T00:00:00\",\"2020-06-16T00:00:00\",\"2020-06-15T00:00:00\",\"2020-06-14T00:00:00\",\"2020-06-13T00:00:00\",\"2020-06-12T00:00:00\",\"2020-06-11T00:00:00\",\"2020-06-10T00:00:00\",\"2020-06-09T00:00:00\",\"2020-06-08T00:00:00\",\"2020-06-07T00:00:00\",\"2020-06-06T00:00:00\",\"2020-06-05T00:00:00\",\"2020-06-04T00:00:00\",\"2020-06-03T00:00:00\",\"2020-06-02T00:00:00\",\"2020-06-01T00:00:00\",\"2020-05-31T00:00:00\",\"2020-05-30T00:00:00\",\"2020-05-29T00:00:00\",\"2020-05-28T00:00:00\",\"2020-05-27T00:00:00\",\"2020-05-26T00:00:00\",\"2020-05-25T00:00:00\",\"2020-05-24T00:00:00\",\"2020-05-23T00:00:00\",\"2020-05-22T00:00:00\",\"2020-05-21T00:00:00\",\"2020-05-20T00:00:00\",\"2020-05-19T00:00:00\",\"2020-05-18T00:00:00\",\"2020-05-17T00:00:00\",\"2020-05-16T00:00:00\",\"2020-05-15T00:00:00\",\"2020-05-14T00:00:00\",\"2020-05-13T00:00:00\",\"2020-05-12T00:00:00\",\"2020-05-11T00:00:00\",\"2020-05-10T00:00:00\",\"2020-05-09T00:00:00\",\"2020-05-08T00:00:00\",\"2020-05-07T00:00:00\",\"2020-05-06T00:00:00\",\"2020-05-05T00:00:00\",\"2020-05-04T00:00:00\",\"2020-05-03T00:00:00\",\"2020-05-02T00:00:00\",\"2020-05-01T00:00:00\",\"2020-04-30T00:00:00\",\"2020-04-29T00:00:00\",\"2020-04-28T00:00:00\",\"2020-04-27T00:00:00\",\"2020-04-26T00:00:00\",\"2020-04-25T00:00:00\",\"2020-04-24T00:00:00\",\"2020-04-23T00:00:00\",\"2020-04-22T00:00:00\",\"2020-04-21T00:00:00\",\"2020-04-20T00:00:00\",\"2020-04-19T00:00:00\",\"2020-04-18T00:00:00\",\"2020-04-17T00:00:00\",\"2020-04-16T00:00:00\",\"2020-04-15T00:00:00\",\"2020-04-14T00:00:00\",\"2020-04-13T00:00:00\",\"2020-04-12T00:00:00\",\"2020-04-11T00:00:00\",\"2020-04-10T00:00:00\",\"2020-04-09T00:00:00\",\"2020-04-08T00:00:00\",\"2020-04-07T00:00:00\",\"2020-04-06T00:00:00\",\"2020-04-05T00:00:00\",\"2020-04-04T00:00:00\",\"2020-04-03T00:00:00\",\"2020-04-02T00:00:00\",\"2020-04-01T00:00:00\",\"2020-03-31T00:00:00\",\"2020-03-30T00:00:00\",\"2020-03-29T00:00:00\",\"2020-03-28T00:00:00\",\"2020-03-27T00:00:00\",\"2020-03-26T00:00:00\",\"2020-03-25T00:00:00\",\"2020-03-24T00:00:00\",\"2020-03-23T00:00:00\",\"2020-03-22T00:00:00\",\"2020-03-21T00:00:00\",\"2020-03-20T00:00:00\",\"2020-03-19T00:00:00\",\"2020-03-18T00:00:00\",\"2020-03-17T00:00:00\",\"2020-03-16T00:00:00\",\"2020-03-15T00:00:00\",\"2020-03-14T00:00:00\",\"2020-03-13T00:00:00\",\"2020-03-12T00:00:00\",\"2020-03-11T00:00:00\",\"2020-03-10T00:00:00\",\"2020-03-09T00:00:00\",\"2020-03-08T00:00:00\",\"2020-03-07T00:00:00\",\"2020-03-06T00:00:00\",\"2020-03-05T00:00:00\",\"2020-03-04T00:00:00\",\"2020-03-03T00:00:00\",\"2020-03-02T00:00:00\",\"2020-03-01T00:00:00\",\"2020-02-29T00:00:00\",\"2020-02-28T00:00:00\",\"2020-02-27T00:00:00\",\"2020-02-26T00:00:00\",\"2020-02-25T00:00:00\",\"2020-02-24T00:00:00\",\"2020-02-23T00:00:00\",\"2020-02-22T00:00:00\",\"2020-02-21T00:00:00\",\"2020-02-20T00:00:00\",\"2020-02-19T00:00:00\",\"2020-02-18T00:00:00\",\"2020-02-17T00:00:00\",\"2020-02-16T00:00:00\",\"2020-02-15T00:00:00\",\"2020-02-14T00:00:00\",\"2020-02-13T00:00:00\",\"2020-02-12T00:00:00\",\"2020-02-11T00:00:00\",\"2020-02-10T00:00:00\",\"2020-02-09T00:00:00\",\"2020-02-08T00:00:00\",\"2020-02-07T00:00:00\",\"2020-02-06T00:00:00\",\"2020-02-05T00:00:00\",\"2020-02-04T00:00:00\",\"2020-02-03T00:00:00\",\"2020-02-02T00:00:00\",\"2020-02-01T00:00:00\",\"2020-01-31T00:00:00\",\"2020-01-30T00:00:00\",\"2020-01-29T00:00:00\",\"2020-01-28T00:00:00\",\"2020-01-27T00:00:00\",\"2020-01-26T00:00:00\",\"2020-01-25T00:00:00\",\"2020-01-24T00:00:00\",\"2020-01-23T00:00:00\",\"2020-01-22T00:00:00\",\"2020-01-21T00:00:00\",\"2020-01-20T00:00:00\",\"2020-01-19T00:00:00\",\"2020-01-18T00:00:00\",\"2020-01-17T00:00:00\",\"2020-01-16T00:00:00\",\"2020-01-15T00:00:00\",\"2020-01-14T00:00:00\",\"2020-01-13T00:00:00\",\"2020-01-12T00:00:00\",\"2020-01-11T00:00:00\",\"2020-01-10T00:00:00\",\"2020-01-09T00:00:00\",\"2020-01-08T00:00:00\",\"2020-01-07T00:00:00\",\"2020-01-06T00:00:00\",\"2020-01-05T00:00:00\",\"2020-01-04T00:00:00\",\"2020-01-03T00:00:00\",\"2020-01-02T00:00:00\",\"2020-01-01T00:00:00\",\"2019-12-31T00:00:00\",\"2019-12-30T00:00:00\",\"2019-12-29T00:00:00\",\"2019-12-28T00:00:00\",\"2019-12-27T00:00:00\",\"2019-12-26T00:00:00\",\"2019-12-25T00:00:00\",\"2019-12-24T00:00:00\",\"2019-12-23T00:00:00\",\"2019-12-22T00:00:00\",\"2019-12-21T00:00:00\",\"2019-12-20T00:00:00\",\"2019-12-19T00:00:00\",\"2019-12-18T00:00:00\",\"2019-12-17T00:00:00\",\"2019-12-16T00:00:00\",\"2019-12-15T00:00:00\",\"2019-12-14T00:00:00\",\"2019-12-13T00:00:00\",\"2019-12-12T00:00:00\",\"2019-12-11T00:00:00\",\"2019-12-10T00:00:00\",\"2019-12-09T00:00:00\",\"2019-12-08T00:00:00\",\"2019-12-07T00:00:00\",\"2019-12-06T00:00:00\",\"2019-12-05T00:00:00\",\"2019-12-04T00:00:00\",\"2019-12-03T00:00:00\",\"2019-12-02T00:00:00\",\"2019-12-01T00:00:00\",\"2019-11-30T00:00:00\",\"2019-11-29T00:00:00\",\"2019-11-28T00:00:00\",\"2019-11-27T00:00:00\",\"2019-11-26T00:00:00\",\"2019-11-25T00:00:00\",\"2019-11-24T00:00:00\",\"2019-11-23T00:00:00\",\"2019-11-22T00:00:00\",\"2019-11-21T00:00:00\",\"2019-11-20T00:00:00\",\"2019-11-19T00:00:00\",\"2019-11-18T00:00:00\",\"2019-11-17T00:00:00\",\"2019-11-16T00:00:00\",\"2019-11-15T00:00:00\",\"2019-11-14T00:00:00\",\"2019-11-13T00:00:00\",\"2019-11-12T00:00:00\",\"2019-11-11T00:00:00\",\"2019-11-10T00:00:00\",\"2019-11-09T00:00:00\",\"2019-11-08T00:00:00\",\"2019-11-07T00:00:00\",\"2019-11-06T00:00:00\",\"2019-11-05T00:00:00\",\"2019-11-04T00:00:00\",\"2019-11-03T00:00:00\",\"2019-11-02T00:00:00\",\"2019-11-01T00:00:00\",\"2019-10-31T00:00:00\",\"2019-10-30T00:00:00\",\"2019-10-29T00:00:00\",\"2019-10-28T00:00:00\",\"2019-10-27T00:00:00\",\"2019-10-26T00:00:00\",\"2019-10-25T00:00:00\",\"2019-10-24T00:00:00\",\"2019-10-23T00:00:00\",\"2019-10-22T00:00:00\",\"2019-10-21T00:00:00\",\"2019-10-20T00:00:00\",\"2019-10-19T00:00:00\",\"2019-10-18T00:00:00\",\"2019-10-17T00:00:00\",\"2019-10-16T00:00:00\",\"2019-10-15T00:00:00\",\"2019-10-14T00:00:00\",\"2019-10-13T00:00:00\",\"2019-10-12T00:00:00\",\"2019-10-11T00:00:00\",\"2019-10-10T00:00:00\",\"2019-10-09T00:00:00\",\"2019-10-08T00:00:00\",\"2019-10-07T00:00:00\",\"2019-10-06T00:00:00\",\"2019-10-05T00:00:00\",\"2019-10-04T00:00:00\",\"2019-10-03T00:00:00\",\"2019-10-02T00:00:00\",\"2019-10-01T00:00:00\",\"2019-09-30T00:00:00\",\"2019-09-29T00:00:00\",\"2019-09-28T00:00:00\",\"2019-09-27T00:00:00\",\"2019-09-26T00:00:00\",\"2019-09-25T00:00:00\",\"2019-09-24T00:00:00\",\"2019-09-23T00:00:00\",\"2019-09-22T00:00:00\",\"2019-09-21T00:00:00\",\"2019-09-20T00:00:00\",\"2019-09-19T00:00:00\",\"2019-09-18T00:00:00\",\"2019-09-17T00:00:00\",\"2019-09-16T00:00:00\",\"2019-09-15T00:00:00\",\"2019-09-14T00:00:00\",\"2019-09-13T00:00:00\",\"2019-09-12T00:00:00\",\"2019-09-11T00:00:00\",\"2019-09-10T00:00:00\",\"2019-09-09T00:00:00\",\"2019-09-08T00:00:00\",\"2019-09-07T00:00:00\",\"2019-09-06T00:00:00\",\"2019-09-05T00:00:00\",\"2019-09-04T00:00:00\",\"2019-09-03T00:00:00\",\"2019-09-02T00:00:00\",\"2019-09-01T00:00:00\",\"2019-08-31T00:00:00\",\"2019-08-30T00:00:00\",\"2019-08-29T00:00:00\",\"2019-08-28T00:00:00\",\"2019-08-27T00:00:00\",\"2019-08-26T00:00:00\",\"2019-08-25T00:00:00\",\"2019-08-24T00:00:00\",\"2019-08-23T00:00:00\",\"2019-08-22T00:00:00\",\"2019-08-21T00:00:00\",\"2019-08-20T00:00:00\",\"2019-08-19T00:00:00\",\"2019-08-18T00:00:00\",\"2019-08-17T00:00:00\",\"2019-08-16T00:00:00\",\"2019-08-15T00:00:00\",\"2019-08-14T00:00:00\",\"2019-08-13T00:00:00\",\"2019-08-12T00:00:00\",\"2019-08-11T00:00:00\",\"2019-08-10T00:00:00\",\"2019-08-09T00:00:00\",\"2019-08-08T00:00:00\",\"2019-08-07T00:00:00\",\"2019-08-06T00:00:00\",\"2019-08-05T00:00:00\",\"2019-08-04T00:00:00\",\"2019-08-03T00:00:00\",\"2019-08-02T00:00:00\",\"2019-08-01T00:00:00\",\"2019-07-31T00:00:00\",\"2019-07-30T00:00:00\",\"2019-07-29T00:00:00\",\"2019-07-28T00:00:00\",\"2019-07-27T00:00:00\",\"2019-07-26T00:00:00\",\"2019-07-25T00:00:00\",\"2019-07-24T00:00:00\",\"2019-07-23T00:00:00\",\"2019-07-22T00:00:00\",\"2019-07-21T00:00:00\",\"2019-07-20T00:00:00\",\"2019-07-19T00:00:00\",\"2019-07-18T00:00:00\",\"2019-07-17T00:00:00\",\"2019-07-16T00:00:00\",\"2019-07-15T00:00:00\",\"2019-07-14T00:00:00\",\"2019-07-13T00:00:00\",\"2019-07-12T00:00:00\",\"2019-07-11T00:00:00\",\"2019-07-10T00:00:00\",\"2019-07-09T00:00:00\",\"2019-07-08T00:00:00\",\"2019-07-07T00:00:00\",\"2019-07-06T00:00:00\",\"2019-07-05T00:00:00\",\"2019-07-04T00:00:00\",\"2019-07-03T00:00:00\",\"2019-07-02T00:00:00\",\"2019-07-01T00:00:00\",\"2019-06-30T00:00:00\",\"2019-06-29T00:00:00\",\"2019-06-28T00:00:00\",\"2019-06-27T00:00:00\",\"2019-06-26T00:00:00\",\"2019-06-25T00:00:00\",\"2019-06-24T00:00:00\",\"2019-06-23T00:00:00\",\"2019-06-22T00:00:00\",\"2019-06-21T00:00:00\",\"2019-06-20T00:00:00\",\"2019-06-19T00:00:00\",\"2019-06-18T00:00:00\",\"2019-06-17T00:00:00\",\"2019-06-16T00:00:00\",\"2019-06-15T00:00:00\",\"2019-06-14T00:00:00\",\"2019-06-13T00:00:00\",\"2019-06-12T00:00:00\",\"2019-06-11T00:00:00\",\"2019-06-10T00:00:00\",\"2019-06-09T00:00:00\",\"2019-06-08T00:00:00\",\"2019-06-07T00:00:00\",\"2019-06-06T00:00:00\",\"2019-06-05T00:00:00\",\"2019-06-04T00:00:00\",\"2019-06-03T00:00:00\",\"2019-06-02T00:00:00\",\"2019-06-01T00:00:00\",\"2019-05-31T00:00:00\",\"2019-05-30T00:00:00\",\"2019-05-29T00:00:00\",\"2019-05-28T00:00:00\",\"2019-05-27T00:00:00\",\"2019-05-26T00:00:00\",\"2019-05-25T00:00:00\",\"2019-05-24T00:00:00\",\"2019-05-23T00:00:00\",\"2019-05-22T00:00:00\",\"2019-05-21T00:00:00\",\"2019-05-20T00:00:00\",\"2019-05-19T00:00:00\",\"2019-05-18T00:00:00\",\"2019-05-17T00:00:00\",\"2019-05-16T00:00:00\",\"2019-05-15T00:00:00\",\"2019-05-14T00:00:00\",\"2019-05-13T00:00:00\",\"2019-05-12T00:00:00\",\"2019-05-11T00:00:00\",\"2019-05-10T00:00:00\",\"2019-05-09T00:00:00\",\"2019-05-08T00:00:00\",\"2019-05-07T00:00:00\",\"2019-05-06T00:00:00\",\"2019-05-05T00:00:00\",\"2019-05-04T00:00:00\",\"2019-05-03T00:00:00\",\"2019-05-02T00:00:00\",\"2019-05-01T00:00:00\",\"2019-04-30T00:00:00\",\"2019-04-29T00:00:00\",\"2019-04-28T00:00:00\",\"2019-04-27T00:00:00\",\"2019-04-26T00:00:00\",\"2019-04-25T00:00:00\",\"2019-04-24T00:00:00\",\"2019-04-23T00:00:00\",\"2019-04-22T00:00:00\",\"2019-04-21T00:00:00\",\"2019-04-20T00:00:00\",\"2019-04-19T00:00:00\",\"2019-04-18T00:00:00\",\"2019-04-17T00:00:00\",\"2019-04-16T00:00:00\",\"2019-04-15T00:00:00\",\"2019-04-14T00:00:00\",\"2019-04-13T00:00:00\",\"2019-04-12T00:00:00\",\"2019-04-11T00:00:00\",\"2019-04-10T00:00:00\",\"2019-04-09T00:00:00\",\"2019-04-08T00:00:00\",\"2019-04-07T00:00:00\",\"2019-04-06T00:00:00\",\"2019-04-05T00:00:00\",\"2019-04-04T00:00:00\",\"2019-04-03T00:00:00\",\"2019-04-02T00:00:00\",\"2019-04-01T00:00:00\",\"2019-03-31T00:00:00\",\"2019-03-30T00:00:00\",\"2019-03-29T00:00:00\",\"2019-03-28T00:00:00\",\"2019-03-27T00:00:00\",\"2019-03-26T00:00:00\",\"2019-03-25T00:00:00\",\"2019-03-24T00:00:00\",\"2019-03-23T00:00:00\",\"2019-03-22T00:00:00\",\"2019-03-21T00:00:00\",\"2019-03-20T00:00:00\",\"2019-03-19T00:00:00\",\"2019-03-18T00:00:00\",\"2019-03-17T00:00:00\",\"2019-03-16T00:00:00\",\"2019-03-15T00:00:00\",\"2019-03-14T00:00:00\",\"2019-03-13T00:00:00\",\"2019-03-12T00:00:00\",\"2019-03-11T00:00:00\",\"2019-03-10T00:00:00\",\"2019-03-09T00:00:00\",\"2019-03-08T00:00:00\",\"2019-03-07T00:00:00\",\"2019-03-06T00:00:00\",\"2019-03-05T00:00:00\",\"2019-03-04T00:00:00\",\"2019-03-03T00:00:00\",\"2019-03-02T00:00:00\",\"2019-03-01T00:00:00\",\"2019-02-28T00:00:00\",\"2019-02-27T00:00:00\",\"2019-02-26T00:00:00\",\"2019-02-25T00:00:00\",\"2019-02-24T00:00:00\",\"2019-02-23T00:00:00\",\"2019-02-22T00:00:00\",\"2019-02-21T00:00:00\",\"2019-02-20T00:00:00\",\"2019-02-19T00:00:00\",\"2019-02-18T00:00:00\",\"2019-02-17T00:00:00\",\"2019-02-16T00:00:00\",\"2019-02-15T00:00:00\",\"2019-02-14T00:00:00\",\"2019-02-13T00:00:00\",\"2019-02-12T00:00:00\",\"2019-02-11T00:00:00\",\"2019-02-10T00:00:00\",\"2019-02-09T00:00:00\",\"2019-02-08T00:00:00\",\"2019-02-07T00:00:00\",\"2019-02-06T00:00:00\",\"2019-02-05T00:00:00\",\"2019-02-04T00:00:00\",\"2019-02-03T00:00:00\",\"2019-02-02T00:00:00\",\"2019-02-01T00:00:00\",\"2019-01-31T00:00:00\",\"2019-01-30T00:00:00\",\"2019-01-29T00:00:00\",\"2019-01-28T00:00:00\",\"2019-01-27T00:00:00\",\"2019-01-26T00:00:00\",\"2019-01-25T00:00:00\",\"2019-01-24T00:00:00\",\"2019-01-23T00:00:00\",\"2019-01-22T00:00:00\",\"2019-01-21T00:00:00\",\"2019-01-20T00:00:00\",\"2019-01-19T00:00:00\",\"2019-01-18T00:00:00\",\"2019-01-17T00:00:00\",\"2019-01-16T00:00:00\",\"2019-01-15T00:00:00\",\"2019-01-14T00:00:00\",\"2019-01-13T00:00:00\",\"2019-01-12T00:00:00\",\"2019-01-11T00:00:00\",\"2019-01-10T00:00:00\",\"2019-01-09T00:00:00\",\"2019-01-08T00:00:00\",\"2019-01-07T00:00:00\",\"2019-01-06T00:00:00\",\"2019-01-05T00:00:00\",\"2019-01-04T00:00:00\",\"2019-01-03T00:00:00\",\"2019-01-02T00:00:00\",\"2019-01-01T00:00:00\",\"2018-12-31T00:00:00\",\"2018-12-30T00:00:00\",\"2018-12-29T00:00:00\",\"2018-12-28T00:00:00\",\"2018-12-27T00:00:00\",\"2018-12-26T00:00:00\",\"2018-12-25T00:00:00\",\"2018-12-24T00:00:00\",\"2018-12-23T00:00:00\",\"2018-12-22T00:00:00\",\"2018-12-21T00:00:00\",\"2018-12-20T00:00:00\",\"2018-12-19T00:00:00\",\"2018-12-18T00:00:00\",\"2018-12-17T00:00:00\",\"2018-12-16T00:00:00\",\"2018-12-15T00:00:00\",\"2018-12-14T00:00:00\",\"2018-12-13T00:00:00\",\"2018-12-12T00:00:00\",\"2018-12-11T00:00:00\",\"2018-12-10T00:00:00\",\"2018-12-09T00:00:00\",\"2018-12-08T00:00:00\",\"2018-12-07T00:00:00\",\"2018-12-06T00:00:00\",\"2018-12-05T00:00:00\",\"2018-12-04T00:00:00\",\"2018-12-03T00:00:00\",\"2018-12-02T00:00:00\",\"2018-12-01T00:00:00\",\"2018-11-30T00:00:00\",\"2018-11-29T00:00:00\",\"2018-11-28T00:00:00\",\"2018-11-27T00:00:00\",\"2018-11-26T00:00:00\",\"2018-11-25T00:00:00\",\"2018-11-24T00:00:00\",\"2018-11-23T00:00:00\",\"2018-11-22T00:00:00\",\"2018-11-21T00:00:00\",\"2018-11-20T00:00:00\",\"2018-11-19T00:00:00\",\"2018-11-18T00:00:00\",\"2018-11-17T00:00:00\",\"2018-11-16T00:00:00\",\"2018-11-15T00:00:00\",\"2018-11-14T00:00:00\",\"2018-11-13T00:00:00\",\"2018-11-12T00:00:00\",\"2018-11-11T00:00:00\",\"2018-11-10T00:00:00\",\"2018-11-09T00:00:00\",\"2018-11-08T00:00:00\",\"2018-11-07T00:00:00\",\"2018-11-06T00:00:00\",\"2018-11-05T00:00:00\",\"2018-11-04T00:00:00\",\"2018-11-03T00:00:00\",\"2018-11-02T00:00:00\",\"2018-11-01T00:00:00\",\"2018-10-31T00:00:00\",\"2018-10-30T00:00:00\",\"2018-10-29T00:00:00\",\"2018-10-28T00:00:00\",\"2018-10-27T00:00:00\",\"2018-10-26T00:00:00\",\"2018-10-25T00:00:00\",\"2018-10-24T00:00:00\",\"2018-10-23T00:00:00\",\"2018-10-22T00:00:00\",\"2018-10-21T00:00:00\",\"2018-10-20T00:00:00\",\"2018-10-19T00:00:00\",\"2018-10-18T00:00:00\",\"2018-10-17T00:00:00\",\"2018-10-16T00:00:00\",\"2018-10-15T00:00:00\",\"2018-10-14T00:00:00\",\"2018-10-13T00:00:00\",\"2018-10-12T00:00:00\",\"2018-10-11T00:00:00\",\"2018-10-10T00:00:00\",\"2018-10-09T00:00:00\",\"2018-10-08T00:00:00\",\"2018-10-07T00:00:00\",\"2018-10-06T00:00:00\",\"2018-10-05T00:00:00\",\"2018-10-04T00:00:00\",\"2018-10-03T00:00:00\",\"2018-10-02T00:00:00\",\"2018-10-01T00:00:00\",\"2018-09-30T00:00:00\",\"2018-09-29T00:00:00\",\"2018-09-28T00:00:00\",\"2018-09-27T00:00:00\",\"2018-09-26T00:00:00\",\"2018-09-25T00:00:00\",\"2018-09-24T00:00:00\",\"2018-09-23T00:00:00\",\"2018-09-22T00:00:00\",\"2018-09-21T00:00:00\",\"2018-09-20T00:00:00\",\"2018-09-19T00:00:00\",\"2018-09-18T00:00:00\",\"2018-09-17T00:00:00\",\"2018-09-16T00:00:00\",\"2018-09-15T00:00:00\",\"2018-09-14T00:00:00\",\"2018-09-13T00:00:00\",\"2018-09-12T00:00:00\",\"2018-09-11T00:00:00\",\"2018-09-10T00:00:00\",\"2018-09-09T00:00:00\",\"2018-09-08T00:00:00\",\"2018-09-07T00:00:00\",\"2018-09-06T00:00:00\",\"2018-09-05T00:00:00\",\"2018-09-04T00:00:00\",\"2018-09-03T00:00:00\",\"2018-09-02T00:00:00\",\"2018-09-01T00:00:00\",\"2018-08-31T00:00:00\",\"2018-08-30T00:00:00\",\"2018-08-29T00:00:00\",\"2018-08-28T00:00:00\",\"2018-08-27T00:00:00\",\"2018-08-26T00:00:00\",\"2018-08-25T00:00:00\",\"2018-08-24T00:00:00\",\"2018-08-23T00:00:00\",\"2018-08-22T00:00:00\",\"2018-08-21T00:00:00\",\"2018-08-20T00:00:00\",\"2018-08-19T00:00:00\",\"2018-08-18T00:00:00\",\"2018-08-17T00:00:00\",\"2018-08-16T00:00:00\",\"2018-08-15T00:00:00\",\"2018-08-14T00:00:00\",\"2018-08-13T00:00:00\",\"2018-08-12T00:00:00\",\"2018-08-11T00:00:00\",\"2018-08-10T00:00:00\",\"2018-08-09T00:00:00\",\"2018-08-08T00:00:00\",\"2018-08-07T00:00:00\",\"2018-08-06T00:00:00\",\"2018-08-05T00:00:00\",\"2018-08-04T00:00:00\",\"2018-08-03T00:00:00\",\"2018-08-02T00:00:00\",\"2018-08-01T00:00:00\",\"2018-07-31T00:00:00\",\"2018-07-30T00:00:00\",\"2018-07-29T00:00:00\",\"2018-07-28T00:00:00\",\"2018-07-27T00:00:00\",\"2018-07-26T00:00:00\",\"2018-07-25T00:00:00\",\"2018-07-24T00:00:00\",\"2018-07-23T00:00:00\",\"2018-07-22T00:00:00\",\"2018-07-21T00:00:00\",\"2018-07-20T00:00:00\",\"2018-07-19T00:00:00\",\"2018-07-18T00:00:00\",\"2018-07-17T00:00:00\",\"2018-07-16T00:00:00\",\"2018-07-15T00:00:00\",\"2018-07-14T00:00:00\",\"2018-07-13T00:00:00\",\"2018-07-12T00:00:00\",\"2018-07-11T00:00:00\",\"2018-07-10T00:00:00\",\"2018-07-09T00:00:00\",\"2018-07-08T00:00:00\",\"2018-07-07T00:00:00\",\"2018-07-06T00:00:00\",\"2018-07-05T00:00:00\",\"2018-07-04T00:00:00\",\"2018-07-03T00:00:00\",\"2018-07-02T00:00:00\",\"2018-07-01T00:00:00\",\"2018-06-30T00:00:00\",\"2018-06-29T00:00:00\",\"2018-06-28T00:00:00\",\"2018-06-27T00:00:00\",\"2018-06-26T00:00:00\",\"2018-06-25T00:00:00\",\"2018-06-24T00:00:00\",\"2018-06-23T00:00:00\",\"2018-06-22T00:00:00\",\"2018-06-21T00:00:00\",\"2018-06-20T00:00:00\",\"2018-06-19T00:00:00\",\"2018-06-18T00:00:00\",\"2018-06-17T00:00:00\",\"2018-06-16T00:00:00\",\"2018-06-15T00:00:00\",\"2018-06-14T00:00:00\",\"2018-06-13T00:00:00\",\"2018-06-12T00:00:00\",\"2018-06-11T00:00:00\",\"2018-06-10T00:00:00\",\"2018-06-09T00:00:00\",\"2018-06-08T00:00:00\",\"2018-06-07T00:00:00\",\"2018-06-06T00:00:00\",\"2018-06-05T00:00:00\",\"2018-06-04T00:00:00\",\"2018-06-03T00:00:00\",\"2018-06-02T00:00:00\",\"2018-06-01T00:00:00\",\"2018-05-31T00:00:00\",\"2018-05-30T00:00:00\",\"2018-05-29T00:00:00\",\"2018-05-28T00:00:00\",\"2018-05-27T00:00:00\",\"2018-05-26T00:00:00\",\"2018-05-25T00:00:00\",\"2018-05-24T00:00:00\",\"2018-05-23T00:00:00\",\"2018-05-22T00:00:00\",\"2018-05-21T00:00:00\",\"2018-05-20T00:00:00\",\"2018-05-19T00:00:00\",\"2018-05-18T00:00:00\",\"2018-05-17T00:00:00\",\"2018-05-16T00:00:00\",\"2018-05-15T00:00:00\",\"2018-05-14T00:00:00\",\"2018-05-13T00:00:00\",\"2018-05-12T00:00:00\",\"2018-05-11T00:00:00\",\"2018-05-10T00:00:00\",\"2018-05-09T00:00:00\",\"2018-05-08T00:00:00\",\"2018-05-07T00:00:00\",\"2018-05-06T00:00:00\",\"2018-05-05T00:00:00\",\"2018-05-04T00:00:00\",\"2018-05-03T00:00:00\",\"2018-05-02T00:00:00\",\"2018-05-01T00:00:00\",\"2018-04-30T00:00:00\",\"2018-04-29T00:00:00\",\"2018-04-28T00:00:00\",\"2018-04-27T00:00:00\",\"2018-04-26T00:00:00\",\"2018-04-25T00:00:00\",\"2018-04-24T00:00:00\",\"2018-04-23T00:00:00\",\"2018-04-22T00:00:00\",\"2018-04-21T00:00:00\",\"2018-04-20T00:00:00\",\"2018-04-19T00:00:00\",\"2018-04-18T00:00:00\",\"2018-04-17T00:00:00\",\"2018-04-13T00:00:00\",\"2018-04-12T00:00:00\",\"2018-04-11T00:00:00\",\"2018-04-10T00:00:00\",\"2018-04-09T00:00:00\",\"2018-04-08T00:00:00\",\"2018-04-07T00:00:00\",\"2018-04-06T00:00:00\",\"2018-04-05T00:00:00\",\"2018-04-04T00:00:00\",\"2018-04-03T00:00:00\",\"2018-04-02T00:00:00\",\"2018-04-01T00:00:00\",\"2018-03-31T00:00:00\",\"2018-03-30T00:00:00\",\"2018-03-29T00:00:00\",\"2018-03-28T00:00:00\",\"2018-03-27T00:00:00\",\"2018-03-26T00:00:00\",\"2018-03-25T00:00:00\",\"2018-03-24T00:00:00\",\"2018-03-23T00:00:00\",\"2018-03-22T00:00:00\",\"2018-03-21T00:00:00\",\"2018-03-20T00:00:00\",\"2018-03-19T00:00:00\",\"2018-03-18T00:00:00\",\"2018-03-17T00:00:00\",\"2018-03-16T00:00:00\",\"2018-03-15T00:00:00\",\"2018-03-14T00:00:00\",\"2018-03-13T00:00:00\",\"2018-03-12T00:00:00\",\"2018-03-11T00:00:00\",\"2018-03-10T00:00:00\",\"2018-03-09T00:00:00\",\"2018-03-08T00:00:00\",\"2018-03-07T00:00:00\",\"2018-03-06T00:00:00\",\"2018-03-05T00:00:00\",\"2018-03-04T00:00:00\",\"2018-03-03T00:00:00\",\"2018-03-02T00:00:00\",\"2018-03-01T00:00:00\",\"2018-02-28T00:00:00\",\"2018-02-27T00:00:00\",\"2018-02-26T00:00:00\",\"2018-02-25T00:00:00\",\"2018-02-24T00:00:00\",\"2018-02-23T00:00:00\",\"2018-02-22T00:00:00\",\"2018-02-21T00:00:00\",\"2018-02-20T00:00:00\",\"2018-02-19T00:00:00\",\"2018-02-18T00:00:00\",\"2018-02-17T00:00:00\",\"2018-02-16T00:00:00\",\"2018-02-15T00:00:00\",\"2018-02-14T00:00:00\",\"2018-02-13T00:00:00\",\"2018-02-12T00:00:00\",\"2018-02-11T00:00:00\",\"2018-02-10T00:00:00\",\"2018-02-09T00:00:00\",\"2018-02-08T00:00:00\",\"2018-02-07T00:00:00\",\"2018-02-06T00:00:00\",\"2018-02-05T00:00:00\",\"2018-02-04T00:00:00\",\"2018-02-03T00:00:00\",\"2018-02-02T00:00:00\",\"2018-02-01T00:00:00\"],\"y\":[73.0,71.99,72.33342221925936,72.505098990101,73.23231514650608,73.19163444818427,73.31415837144749,73.40600845195125,73.35720412340879,72.99047182387243,72.28953898629497,72.35547130556749,72.67068108241457,72.61630128814113,72.645615760537,72.74354761011817,72.89856625847143,73.62568193696619,74.15020991758854,74.2012505404017,74.4205829398433,74.6753256296072,74.8538731956995,74.65369215147344,74.4194935931696,74.20366884548878,74.38383102544981,74.2275663215053,74.08234842747486,73.99095950331684,73.99134693600539,74.0754885145914,73.82648881656729,73.23143993985155,72.47498243027387,71.56929787175984,70.90395398865114,69.27083159661296,67.46941101100873,65.90629686536155,64.45873776051316,63.118676056573456,61.87880217698138,60.73246958483587,59.80709302604357,58.72703854282013,57.50109632276774,56.52238436270724,56.315635706097694,56.21177121700593,56.01940018376304,55.77379173279209,55.68974915236876,55.489163249281745,54.732597825237704,54.417151078559435,53.76453645927359,53.107921940851895,52.90473996630005,52.68074811013424,52.52113834826238,53.25898442689984,53.97053250865726,54.49246383115842,54.969018343128866,55.483226598376525,55.979956014935716,56.380072070573306,56.81980077703656,57.24506464673577,57.630371161292004,58.158961972793584,58.490150109313916,58.913426804813184,59.27248056547402,59.77247333620946,60.257107513687544,60.651778191970585,61.084415065857726,61.30561928101883,61.52026007613246,61.802286085174586,62.05162801005777,62.29374777058056,62.50468056792403,62.8302009559962,63.00239983845353,63.16975751827851,63.332443234571514,63.514341881860894,63.549448721449465,63.7954585883857,63.91751912029916,63.63903781363632,63.321461399565074,62.82672744281908,62.48386077089019,62.15003214597588,62.10063787244283,62.05253095342816,61.84585853504044,61.57623001399839,61.31351610515353,60.650186245357744,59.86830415818046,59.128673899527726,58.29542370698867,57.50540158935759,56.69040001995198,55.65063707379549,54.83646154987474,54.15309365724418,53.37589817739748,52.52940288232262,51.85750134439167,51.15791410389863,50.4970756431774,49.83021276695539,49.28838267598448,48.65055710051106,48.02785184432297,47.419855728155966,46.82617102360704,46.41930620193144,45.84937251655045,45.48652984969678,45.08912034879557,44.63652957890596,44.130109295845116,43.78507659900945,43.44795990802319,43.054584470986775,42.67018206629651,42.2307450328469,41.75881908939975,41.44595742968072,41.03431125726366,40.46281038826871,39.819692013416216,39.46506598710566,39.07624739596921,38.73815442647877,38.44958746809392,38.188400735842656,38.079678455549406,38.07801072631848,37.86730831245233,37.55681850977239,37.35744904468107,37.016569464816726,36.6831395241329,36.21140538045727,35.72916474517363,35.298914273672544,34.919467528741315,34.69325247144622,34.534019511705715,34.31618421553509,34.08237946677125,33.791671848178055,33.465952746105216,32.98234239497815,32.67381995224461,32.4336178006724,32.32190140739751,32.109841606246356,31.90229263778329,31.452978580548596,31.09519478933229,30.704018777130898,30.464419031500835,30.066218273354597,29.92175317917329,29.73946977092551,29.6835339256661,29.48593257657209,29.43523547076983,29.36522008706144,29.39852011734918,30.184375782991072,30.811376905421795,31.64897956956919,32.48943607656429,33.19049418186297,33.81604737957115,34.44888567302919,34.723752983047575,35.3983947833112,35.917196215966385,36.52652472321336,37.16373264671475,37.443735641263444,37.73818107800891,38.16808389499853,38.40721918960228,38.17676173028427,38.0318293303621,38.01100004781376,38.35382086475981,38.89131114157682,39.57907649567683,40.25272996301053,40.93272031526955,41.69949020626628,42.3901527844126,43.106940543862876,43.82919292687359,44.456221661552895,45.05033475240693,45.632321454885115,46.24263108654009,46.71995008062582,47.18754372936421,47.705855265148145,48.19354371922573,48.73151860874799,49.17830230191251,49.67618224653264,50.14389746942751,50.62216655021335,51.09073193921497,51.58987172291763,51.99875968724388,52.39936338103157,52.83190312135131,53.075507751721,53.0940120024169,53.232209854301814,53.467649441700544,53.71833425549313,54.04395122165813,54.42297848878579,54.834337773612965,55.15744756948927,55.49402423767719,55.80383484500499,56.107401347622016,56.50471690209889,56.933969502517535,57.27471449692947,57.52874926362572,57.837551990274235,58.04036019158725,58.49848634914094,58.94740322771431,59.28756085920544,59.640829305999816,59.98700254692398,60.46579817172359,60.815365059727846,61.157916874571036,60.6963567410311,60.582837375247955,60.491520232147174,60.38211032617945,60.75299746057483,61.05669697567491,61.71280614368526,62.35577452243716,62.92613278084229,63.485072790312394,64.07264051034676,64.60863974084366,65.21352866775663,65.80631822525426,66.34745414857147,66.91756498533844,67.41659232838327,67.90564554632873,68.40481760148683,68.87412625900134,69.39372467324688,69.66430659365432,69.98913976019142,70.26772082564105,70.48109579574768,70.67033185154864,70.81603446794615,70.91907590904529,71.0399370922403,71.17826140217561,71.27408174748729,71.38786243575329,71.06223898407305,71.20008151906163,71.19610647427108,71.25180815207113,71.22694152937301,71.28202367860156,70.66069692807807,70.74687942759567,70.89092450042902,71.0718179035231,71.22925151530846,71.38355033289604,71.63405353789234,71.95898675017648,72.17818607854251,72.29376173503366,72.52614433703117,72.8730038657973,73.2923587421671,73.6835220115425,74.06690359316872,74.40296602322927,74.81172654085739,75.17266801385323,75.54627546054346,75.8926106826379,76.25190185316113,76.60404970441381,76.96903747328611,77.24741024317176,77.52024978397243,77.80750488817507,78.06921337640357,78.36539496086887,78.67552731913699,78.82081260617734,79.1020557961553,79.27854008180748,79.53085288658225,79.77815358255192,80.040374433763,80.33705058090652,80.56834084559722,80.79503772345304,80.99740264732824,81.2750670746891,81.46790227303451,81.6370802406317,81.78307140410288,82.02530104497454,82.10410689559181,82.35978576335926,82.59056343488578,82.83658574423632,83.03807499165823,83.215740684655,83.38988032211199,83.56056403810115,83.7873301303372,83.87083690707048,83.97250900265702,84.03251978351744,84.07151830282355,84.24849123846401,84.44177382314321,84.51229934228934,84.6210658411135,84.80695342178758,84.92969551987315,84.95090788041827,85.13024875208495,85.24657741069767,85.26150874299101,85.35541467944213,85.36818866891355,85.45997760111916,85.53012941634293,85.55925707509563,85.56799092114565,85.65581521218473,85.74189798593873,85.66775091908707,85.71396466273266,85.79889175809906,85.52547247049378,85.29710291643501,85.01381885213786,84.73615116551686,84.4838019881533,84.25626902039727,84.05305995071258,83.71518877069892,83.44345359468615,82.99879253858539,82.84031808250738,82.70479706499427,82.5125266680663,82.34387907586313,82.15876278091478,81.73957986573936,81.22964970029915,80.71001545221083,80.2006802196638,79.72125029665523,79.17208051072217,78.7130355946974,78.2036579174291,77.76380491456607,77.2534296934016,76.81259765827531,76.34088269965316,75.77946901594987,75.18956224328541,74.55191809629511,74.00614505193276,73.37214307864282,72.75070410866795,72.10196205208223,71.4858831008596,70.96124446528873,70.52623366329699,70.02061025470827,69.48538946508022,69.04000437252846,68.5638285982582,68.11689491362233,67.54016437930778,67.05408970744075,66.498416585468,66.13201655997891,65.85210369916287,65.49850884525785,65.17172611896137,64.8316107508192,64.39920045206003,64.05458279261047,63.558340882933486,63.052123576477165,62.61535352440175,62.18723608418652,61.7081815007802,61.23861704572476,60.83777243023253,60.444868466361264,60.059747790540285,59.6822561601322,59.292436765959735,59.68275595973531,60.144565228979914,60.43878325221221,60.72717317590674,61.00985048642127,61.366149232960765,61.61636453193953,61.88142858878477,62.16104724693246,62.41532225152358,62.723975321270245,62.98690496604082,63.284236171820424,63.6350921814562,63.86017055012208,64.17981385313543,64.53273505972224,64.89847043769105,65.23715721630666,65.50972238370146,65.75708452717157,65.94013425415608,66.11955838316125,66.47366686238827,66.70193656512471,66.94548922361048,67.14460980351257,67.33978656411445,67.57070567565854,67.71783527608278,67.80263901342029,67.94517484592828,68.18390696454097,68.31889169013981,68.45120295729886,68.60069747948448,68.64821259288627,68.7938050731582,68.5800483244341,68.3111142360745,68.047506447363,67.74951234542183,67.49702709035996,67.1505248544781,66.69206431399144,66.24268354533916,65.7427924864715,65.31221179703837,64.83074860344864,64.3984272806871,63.99447121852226,63.57871206916,63.17118683483265,62.73212599027499,62.36117007622357,61.93815120685619,61.582919382419234,61.23472267148083,60.87361863257869,60.46025673566396,60.015475008973496,59.619107858741636,59.25039340481076,58.90878397556051,58.57393977494621,58.285332718779706,57.94303240665771,57.5877080497743,57.29882916826565,56.95626254830985,56.67988861889458,56.54760782861104,56.23972124666402,55.878523515219406,55.504676014083905,55.1580348130901,54.838061102971224,54.544226747034074,54.216605877033636,53.91527575204653,53.58030759638832,53.31138101342485,53.008174739478065,52.71097296622814,52.696893820266865,52.72269875345545,52.70838742474887,52.714162114036476,52.73962504067279,52.76458371995077,52.76924556748065,52.79361765475459,52.698691813229985,52.76406608847185,52.70933059982837,52.675481555833024,52.582895313979535,52.49214255907314,52.26456959696942,52.001898310066835,51.744428691332224,51.53166263553877,51.362714858020134,51.13770542994665,50.95675668994424,50.918008176738844,50.939434221339575,50.92083116865248,50.90259650872899,50.68669910594165,50.49487944790213,50.36626545381061,50.16098892831839,49.979579792068,49.762158358685156,49.56884479587816,49.53777801154415,49.6657450270725,49.771375637609204,49.756100617482744,49.602511953167294,49.41236015141087,49.30518301769292,49.21993055492362,49.03735491452646,48.85839474149771,48.76218750864503,48.311444709636866,47.86962776206628,47.476164408293165,46.95187690033818,46.497378319474336,45.97267100411441,45.438551967420686,44.91500980958968,44.362230636578225,43.780793417560595,43.23067228862668,42.73104931123086,42.18191347639352,41.6040474646216,41.136635558333175,40.61907296372179,40.032550608176564,39.43784061357859,38.95391817440112,38.479578546128316,38.15324714603095,37.813575710585205,37.46082840504557,36.95664905705477,36.4624536360854,35.97804443364989,35.54283195192524,35.116237683487896,34.65848668275215,34.20980020413289,33.73039447680619,33.30008634246684,32.799090775433505,32.38722456328464,32.023118482307844,31.646420405545328,31.257379683669107,30.836438614884703,30.443635236794208,30.019006027219763,29.602785425432582,29.25421323291377,28.89274144387401,28.4790213008685,28.09329583065464,27.774614862020368,27.38303611002804,27.038815660269403,26.780619884308308,26.58694320892531,26.377299671947807,26.19160961694409,26.326429906421467,26.557590849609475,26.80397637956805,27.085087089409598,27.340829126226435,27.55190277715568,27.758796714171268,27.981395772124134,28.179784824734703,28.41384947465629,28.623477080745488,28.868557731502563,29.168191436858734,29.501495868987547,29.82820016267916,30.08902885384319,30.364494634832806,30.63450560844191,31.017982090205507,31.453271070392557,31.80073222034894,32.339333361782124,32.966279285929836,33.56100831663371,34.183564544444096,34.71458468783984,35.05687116281113,35.4913898387737,35.8975020975189,36.29557248361973,36.68576024387254,37.167231640409035,37.480752637210685,37.847471359830045,38.266334380120895,38.637298982051895,39.00091771395967,39.31773198463245,39.66787672911488,40.01108788201407,40.28809666862609,40.480412011982615,40.51050292855055,40.52019596049094,40.5098950288982,40.678016263111644,40.90221441013255,41.062566914991365,41.1999420920516,41.43360704604262,41.623040920295686,41.868129663288215,42.128167161811305,42.36325337012168,42.633288417954105,42.759362125644266,42.80373126525553,42.94623186539865,42.90769255979068,42.92932244351138,43.089138082705155,43.02796694075526,42.987809121119255,42.90884249124172,42.81163755353993,42.71635747141836,42.6427661355122,42.53102804511939,42.44130460170182,42.39296187516891,42.2861704184939,42.18149364932151,42.09869169623647,42.03733139297603,41.6405520993579,41.31103584650685,41.146460698263134,40.727718450878584,40.376674150246416,40.032581236448145,39.65569805708842,39.16746592657232,38.847317774183146,38.55331120054188,38.20572055400759,37.98382489366908,37.66731322465955,37.37687112230068,37.03277436676852,36.81430340198015,36.718970582111886,36.54631755864039,36.45629139647988,36.30864194632538,36.005500289064,35.76776743128689,35.613950141042885,35.46317874218051,35.2559869371764,35.31032386723149,35.22497086128485,35.16111000955523,34.860889813084086,34.58641657158316,34.23817048012539,33.976028329014284,33.758681102215625,33.486231810304595,33.41719747700097,33.38913414467414,33.361626522523785,33.453475552433694,33.543505787705335,33.691159215914276,33.77648283967806,33.91952285555385,34.00032442309245,34.099327947813975,34.21617299441812,34.310902286135246,34.383953759334766,34.534766623607794,34.920216958398576,35.278232617964484,35.64896084103449,35.91333796319773,36.3110938080069,36.60196335289245,36.84746912449764,37.1079153796756,37.42261024215395,37.7508755060354,38.033036488343974,38.27000614617377,38.561689293336954,38.27333891286512,37.91149049771114,37.8142332285575,37.83771376615723,37.82112536957382,37.80486545629397,37.868135466220146,37.91035061790405,37.95172982550399,37.99228964238722,38.01224430845452,37.9921998612674,37.99235431950118,37.992505719154465,38.012456106048354,38.071615405886135,38.05039529363215,38.069199351746136,37.85000723370115,37.734165479532614,37.60081563785265,37.450304403687,37.4413874828616,37.47225110364593,37.48270157902612,37.275123287393896,37.1904673637064,37.08768581151301,36.82852366621422,36.33686963921394,35.91435729077841,35.975459137711134,36.074955014097675,36.09327273978987,36.11122773811518,36.208035125881494,36.10490570048621,36.14243232632845,36.238621800413235,36.2735005820452,36.30768869452212,36.361001797614186,36.39345721229681,36.44507192834433,36.47586258754403,36.565449479305904,36.65326237272852,36.77894036213421,36.82292174679206,36.94524014355562,37.02553242792137,37.143838730892206,37.220198369103116,37.03762016220271,36.77944943629705,36.447183073454106,36.20070417353865,35.879898115632415,35.80306844183815,35.688156183534076,35.79334122030754,35.738027527258815,35.802621047886525,35.747123596074594,35.1382696062793,34.66028402550539,34.746219003054094,34.652234460024836,34.24327928673657,33.96123412837019,33.90259582391259,33.488683001514815,33.04336251038888,33.280127627772096,33.57161027142414,33.79791503558653,34.29696625988075,34.80593726189998,35.3246316103742,35.51622307696824,36.11986226513832,36.671944237398534,37.17348992893699,37.64530203986397,38.1077713355246,38.48187489652709,38.33371894901795,38.01027895064753,37.63383776142483,37.20544491005587,37.399396506827976,37.134061908008285,37.230417122921324,36.889220726302845,36.95082031905695,37.05080408016811,37.148807964623494,37.0864553286331,37.183753247548374,37.23952051257478,36.87834187204756,36.82134500073942,36.40904112122425,36.89599082296236,37.45250587966253,37.364337442753836,37.85217236466245,38.746188789021296,39.64230389742431,40.32265434128287,40.850918631529865,41.46773214661003,41.97332162723961,42.64711726233813,43.36697635132848,43.75574911001661,44.17642735943033,44.846201096884435,45.423504063878504,45.75175151842274,46.667558447119106,47.62463652642639,48.40434671718226,49.03000323589273,49.72247843893401,50.381439280201526,51.0471533719587,51.640279063566645,52.24146167206992,52.85054165455349,53.4673626273684,53.99276140014647,54.40874633294579,54.658078094621715,54.82326467083214,54.925774283638404,55.04605598366927,54.86692615830245,55.00817514828733,55.146627128451094,54.58926816396085,54.181559875275404,53.64331115424859,53.41275053287151,53.662003002294576,53.84691383736997,54.00836109105713,54.14680938875668,54.52013990244636,54.84647377136464,55.166345583253054,55.46008131912104,55.688594564019816,55.952186755046746,56.11154939603531,56.2875583215651,56.53928984370564,56.766234602594665,57.08769530814134,57.343384513552905,57.53460462482897,57.68243423821414,58.02535633704458,58.4010918599963,58.78918905582151,59.16960115846661,59.48307440668246,59.8101422441295,60.03172358843038,60.20931322238557,60.264574347317875,60.437553075025406,60.36948271636666,60.500780089714056,60.60967553461557,60.65700869282888,60.445978815612925,60.25892972832167,59.89736675993032,59.54296345441562,59.15597407550807,58.81625181351299,58.46345474476965,58.45427742301125,58.58389569296712,58.77035320555499,58.814504627588676,58.877583744380296,58.93941376973045,58.98021745777319,59.079619093024036,59.11764643799835,58.93709898246945,58.95814652752087,58.80055946647045,58.863914724993435,58.52997581730944,58.65809510889763,58.724271443801136,58.82874131686065,58.95094445985724,59.14993565987895,59.26577851878792,59.26051557779115,59.29496081407127,59.52674376954588,59.53611518010136,59.58490497877767,59.5139167610018,59.46413623082367,59.27672759164005,59.07322803435935,58.77474826984981,58.462377015491064,58.2155972714559,57.93410029449305,57.77698939686642,57.741801487862595,57.82612225084321,57.77015943375801,57.735106771557994,57.70074822148646,57.70667399930242,57.633274513880984,57.581130463901495,57.53001896937497,57.460117603387616,57.43120438341429,57.402863702454425,57.355282242835024,57.308642990343266,57.24312530714808,57.21850896435195,56.91715235023264,56.48314933203577,56.07754241332334,55.83838315689361,55.54455378658268,55.27634479993358,54.954040941594904,54.63811933791264,54.348255587857054,54.202745575827606,54.495760515687394,54.6641612979872,54.78962345081795,54.872997244076664,54.95472007112417,55.15363650583064,55.30901004072949,54.96625736587539,54.72930177394319,54.49703837197097,54.368384146507616,54.24227752948009,53.920648270808094,53.76380375027741,53.49125318042561,53.26370361205498,52.94165007457025,52.24973621041791,51.492315690016035,50.888507457449336,50.41546770498638,49.79337923451043,49.24301528834447,48.72335161840934,48.09516643682895,47.57843046696215,47.05212491234161,46.81346897311919,46.65874681500423,46.54669242246363,46.318045047432804,46.13352930365938,45.87345941609913,45.499727545967616,45.19280224762051,44.990964579088356,44.713915775188944,44.402749125786556,44.0779422120069,43.68035919743053,43.35005505451854,42.80846980528964,42.37661891756802,41.973121512812654,41.518208215035166,41.42873874533526,41.44005084939983,41.39173301074843,41.34437196098315,41.13953291204951,41.037759983,41.175626122080665,41.013732535354976,40.79563882158575,40.46305191393188,40.17665484607964,39.83652306665876,39.52292855022469,39.156137885562735,38.95502624410265,38.69849107074978,38.58564966332097,38.31662689750681,38.17174319645847,37.970322538956225,37.91150427081611,37.69543487916367,37.364832208062474,37.08038008493938,36.682748795866765,36.21378347287353,35.71450063151053,35.2053025988875,34.785395616475974,34.37380362382518,33.99016394788173,33.69332901805072,33.303362106583286,32.86171137155645,32.4288061956486,32.044077359887815,31.785778798172036,31.393981198009236,31.108951867213683,30.7899627211726,30.437686231475926,30.211197395102882,29.969391505979818,29.65316593146153,29.283796308893255,29.040552817522762,28.643710187304446,28.373537708235574,28.049309238633406,27.77110509518298,27.518211924882298,27.389138421369736,27.401234690258054,27.373487468658553,27.30668573658176,27.22140483087665,27.23682255700326,27.667776565922196,28.228810693516905,28.69952731360124,29.20052677289849,29.652001490408725,29.995526213476754,30.411456387592906,30.759744380020887,30.98232369929297,31.200495507289805,31.394545101258945,31.485742227991604,31.575133471025612,31.52414072901172,31.533563684875297,31.52299806735035,31.572047610583258,31.63992785593469,31.666859977605746,31.61405086912601,31.48307956475699,31.31509779115987,31.170244369520983,31.08766527307708,30.88790952505327,30.692109336397923,30.559592319808765,30.469303362962954,30.321396365647797,30.19622019996754,29.99431484943541,29.756803664254576,29.464589730256485,29.138558250392055,28.937794720646696,28.9192245281555,28.960428002852318,28.90180566615265,28.903750108407362,29.00466594786059,29.162989394461828,29.159761881699723,29.29521214148795,29.368574277310643,29.4800876579737,29.56959087267968,29.716727687102026,29.959960802241262,30.19837742004974,30.333063015709527,30.465081569870428,30.713297776438118,30.85758890959532,30.93961685198925,30.94081255789059,30.8033707250455,30.668650512653393,30.47719208663941,30.36873283738745,30.321827236642196,30.19664253887407,30.054134765812734,29.855042988252276,29.541081740929833,29.31254546881058,29.02912872682764,28.711720237158623,28.499606965116772,28.27189197568862,27.989280253373554,27.771670743387492,27.736588154406633,27.563586408760862,27.374208460057556,27.247986510343665,27.04505608438085,26.945153983692602,26.78782420182582,26.633609861184574,26.462647289663977,26.314872095799085,26.229429083995324,26.086272072421604,25.926147872957348,25.828600390318343,25.693380580600657,25.6994522522723,25.725205673020923,25.69104318444425,25.558547279794183,25.46827901682288,25.32039230361031,25.135830079766464,25.053932454420213,24.91425062363236,24.77733476969207,24.702536061377604,24.589614555206186,24.55813703926,24.566886800859223,24.575463299852505,24.54426600678471,24.672102323487703,24.896417128972928,25.175695997718016,25.449444591834023,25.895990243499124,26.432703308005788,26.978590371235025,27.513667789647005,27.899535754223006,28.396574650197365,28.903573171994008,29.301522218107273,29.592581184095483,29.91748056659973,30.1765403573688,30.509678172085295,30.776813257795162,30.99905457942998,31.15748914221844,31.25338044633583,31.26816499195338,31.22325083369557,31.179226064710242,31.215280994122928,31.171414043743056,31.286831587434413,31.43956759560805,31.56947714817362,31.617606313557534,31.664782426161523,31.770430298913364,31.794778213786948,31.779040031335352,31.68440557526714,31.591645068824125,31.40171150310066,31.096727116894076,30.876989946257872,30.622000046326693,30.431465391940122,30.145693800014833,29.84577907129582,29.59140720849302,29.559894194462867,29.707223022297992,29.792228507006495,29.835946754393277,29.77978939291917,29.645536137611565,29.49413938240882,29.424948503548116,29.17890991931551,28.977347346652643,28.77977611206243,28.50690925835412,28.41766353046461,28.627214747686157,28.852418416051993,29.03355864543962,29.2903198603849,29.225165011663538,29.458330060940575,29.667076000330564,29.61426261418474,29.503089097070802,29.41391901593961,29.583940421566577,29.31495150232452,29.170100977524367,28.968712839353326,28.850520505899492,28.774272575088787,28.739138464690622,28.684898099052624,28.710939720853826,28.954287449156155,29.01459858877741,29.053913468207934,29.211261716363694,29.246682276436022,29.30120341947738,29.513060777509388,29.720722940332767,29.924272981119973,30.203000248822867,30.41680222409543,31.062014061247172,31.496429624394167,32.10046072094542,32.57371892449459,33.25542746064821,33.84442889707524,34.28315307733426,34.693387669865125,35.036092864523575,35.45121973849615,35.917532218925,36.414214749246476,36.7624481205507,37.12358776173012,37.319160281300995,37.847493741080314,37.672295845216325,37.48076523441888,37.35243324957819,37.24644447235824,37.023742601617286,36.78564868871273,36.53246752655871,36.32390381316046,36.060064133690645,35.70243910133862,35.391499713191834,35.04711358025575,34.768952915298925,34.417092461529066,34.13160548209161,33.83196972996971,33.498663398681785,33.27096709375646,33.04777962655247,32.61118993097545,32.28225547689546,31.959834576361654,31.564590327323327,31.295984578266445,31.151509636122043,31.009895583921114,31.009699631764263,30.989705579650053,31.009711409756058,30.950113164018124,31.050110923146793,31.14812852862934,31.264007171627128,31.21917534644626,31.17523128017987,31.171761353839663,31.20796409930829,31.22364797852995,31.39743712747042,31.58758688732299,31.773971305396284,31.936862962715583,32.07672706246414,32.174217615682906,32.30938162329347,32.402265155505695,32.92895297420976,33.366003410365,33.576577600259235,34.02060576659169,34.27762347418448,34.351333900438405,34.48299065488544,34.67144628548215,34.717556260027145,34.68354524497703,34.61060375497735,34.697522492502706,34.88172996789903,35.26030957249576,36.02743215521994,36.640750330365144,37.162715670358786,37.89216684520436,38.468559580943804,39.112746519936024,39.42734559874965,39.33967538887329,39.3923550841432,39.226169834952,39.5187209273296,39.60745912678855,39.41721241140634,39.34954483890315,38.72876177278544,38.179677381244424,37.89889169052636,37.940497795664506,37.48623051258149,37.33798832421337]}],                        {\"template\":{\"data\":{\"bar\":[{\"error_x\":{\"color\":\"#2a3f5f\"},\"error_y\":{\"color\":\"#2a3f5f\"},\"marker\":{\"line\":{\"color\":\"#E5ECF6\",\"width\":0.5},\"pattern\":{\"fillmode\":\"overlay\",\"size\":10,\"solidity\":0.2}},\"type\":\"bar\"}],\"barpolar\":[{\"marker\":{\"line\":{\"color\":\"#E5ECF6\",\"width\":0.5},\"pattern\":{\"fillmode\":\"overlay\",\"size\":10,\"solidity\":0.2}},\"type\":\"barpolar\"}],\"carpet\":[{\"aaxis\":{\"endlinecolor\":\"#2a3f5f\",\"gridcolor\":\"white\",\"linecolor\":\"white\",\"minorgridcolor\":\"white\",\"startlinecolor\":\"#2a3f5f\"},\"baxis\":{\"endlinecolor\":\"#2a3f5f\",\"gridcolor\":\"white\",\"linecolor\":\"white\",\"minorgridcolor\":\"white\",\"startlinecolor\":\"#2a3f5f\"},\"type\":\"carpet\"}],\"choropleth\":[{\"colorbar\":{\"outlinewidth\":0,\"ticks\":\"\"},\"type\":\"choropleth\"}],\"contour\":[{\"colorbar\":{\"outlinewidth\":0,\"ticks\":\"\"},\"colorscale\":[[0.0,\"#0d0887\"],[0.1111111111111111,\"#46039f\"],[0.2222222222222222,\"#7201a8\"],[0.3333333333333333,\"#9c179e\"],[0.4444444444444444,\"#bd3786\"],[0.5555555555555556,\"#d8576b\"],[0.6666666666666666,\"#ed7953\"],[0.7777777777777778,\"#fb9f3a\"],[0.8888888888888888,\"#fdca26\"],[1.0,\"#f0f921\"]],\"type\":\"contour\"}],\"contourcarpet\":[{\"colorbar\":{\"outlinewidth\":0,\"ticks\":\"\"},\"type\":\"contourcarpet\"}],\"heatmap\":[{\"colorbar\":{\"outlinewidth\":0,\"ticks\":\"\"},\"colorscale\":[[0.0,\"#0d0887\"],[0.1111111111111111,\"#46039f\"],[0.2222222222222222,\"#7201a8\"],[0.3333333333333333,\"#9c179e\"],[0.4444444444444444,\"#bd3786\"],[0.5555555555555556,\"#d8576b\"],[0.6666666666666666,\"#ed7953\"],[0.7777777777777778,\"#fb9f3a\"],[0.8888888888888888,\"#fdca26\"],[1.0,\"#f0f921\"]],\"type\":\"heatmap\"}],\"heatmapgl\":[{\"colorbar\":{\"outlinewidth\":0,\"ticks\":\"\"},\"colorscale\":[[0.0,\"#0d0887\"],[0.1111111111111111,\"#46039f\"],[0.2222222222222222,\"#7201a8\"],[0.3333333333333333,\"#9c179e\"],[0.4444444444444444,\"#bd3786\"],[0.5555555555555556,\"#d8576b\"],[0.6666666666666666,\"#ed7953\"],[0.7777777777777778,\"#fb9f3a\"],[0.8888888888888888,\"#fdca26\"],[1.0,\"#f0f921\"]],\"type\":\"heatmapgl\"}],\"histogram\":[{\"marker\":{\"pattern\":{\"fillmode\":\"overlay\",\"size\":10,\"solidity\":0.2}},\"type\":\"histogram\"}],\"histogram2d\":[{\"colorbar\":{\"outlinewidth\":0,\"ticks\":\"\"},\"colorscale\":[[0.0,\"#0d0887\"],[0.1111111111111111,\"#46039f\"],[0.2222222222222222,\"#7201a8\"],[0.3333333333333333,\"#9c179e\"],[0.4444444444444444,\"#bd3786\"],[0.5555555555555556,\"#d8576b\"],[0.6666666666666666,\"#ed7953\"],[0.7777777777777778,\"#fb9f3a\"],[0.8888888888888888,\"#fdca26\"],[1.0,\"#f0f921\"]],\"type\":\"histogram2d\"}],\"histogram2dcontour\":[{\"colorbar\":{\"outlinewidth\":0,\"ticks\":\"\"},\"colorscale\":[[0.0,\"#0d0887\"],[0.1111111111111111,\"#46039f\"],[0.2222222222222222,\"#7201a8\"],[0.3333333333333333,\"#9c179e\"],[0.4444444444444444,\"#bd3786\"],[0.5555555555555556,\"#d8576b\"],[0.6666666666666666,\"#ed7953\"],[0.7777777777777778,\"#fb9f3a\"],[0.8888888888888888,\"#fdca26\"],[1.0,\"#f0f921\"]],\"type\":\"histogram2dcontour\"}],\"mesh3d\":[{\"colorbar\":{\"outlinewidth\":0,\"ticks\":\"\"},\"type\":\"mesh3d\"}],\"parcoords\":[{\"line\":{\"colorbar\":{\"outlinewidth\":0,\"ticks\":\"\"}},\"type\":\"parcoords\"}],\"pie\":[{\"automargin\":true,\"type\":\"pie\"}],\"scatter\":[{\"marker\":{\"colorbar\":{\"outlinewidth\":0,\"ticks\":\"\"}},\"type\":\"scatter\"}],\"scatter3d\":[{\"line\":{\"colorbar\":{\"outlinewidth\":0,\"ticks\":\"\"}},\"marker\":{\"colorbar\":{\"outlinewidth\":0,\"ticks\":\"\"}},\"type\":\"scatter3d\"}],\"scattercarpet\":[{\"marker\":{\"colorbar\":{\"outlinewidth\":0,\"ticks\":\"\"}},\"type\":\"scattercarpet\"}],\"scattergeo\":[{\"marker\":{\"colorbar\":{\"outlinewidth\":0,\"ticks\":\"\"}},\"type\":\"scattergeo\"}],\"scattergl\":[{\"marker\":{\"colorbar\":{\"outlinewidth\":0,\"ticks\":\"\"}},\"type\":\"scattergl\"}],\"scattermapbox\":[{\"marker\":{\"colorbar\":{\"outlinewidth\":0,\"ticks\":\"\"}},\"type\":\"scattermapbox\"}],\"scatterpolar\":[{\"marker\":{\"colorbar\":{\"outlinewidth\":0,\"ticks\":\"\"}},\"type\":\"scatterpolar\"}],\"scatterpolargl\":[{\"marker\":{\"colorbar\":{\"outlinewidth\":0,\"ticks\":\"\"}},\"type\":\"scatterpolargl\"}],\"scatterternary\":[{\"marker\":{\"colorbar\":{\"outlinewidth\":0,\"ticks\":\"\"}},\"type\":\"scatterternary\"}],\"surface\":[{\"colorbar\":{\"outlinewidth\":0,\"ticks\":\"\"},\"colorscale\":[[0.0,\"#0d0887\"],[0.1111111111111111,\"#46039f\"],[0.2222222222222222,\"#7201a8\"],[0.3333333333333333,\"#9c179e\"],[0.4444444444444444,\"#bd3786\"],[0.5555555555555556,\"#d8576b\"],[0.6666666666666666,\"#ed7953\"],[0.7777777777777778,\"#fb9f3a\"],[0.8888888888888888,\"#fdca26\"],[1.0,\"#f0f921\"]],\"type\":\"surface\"}],\"table\":[{\"cells\":{\"fill\":{\"color\":\"#EBF0F8\"},\"line\":{\"color\":\"white\"}},\"header\":{\"fill\":{\"color\":\"#C8D4E3\"},\"line\":{\"color\":\"white\"}},\"type\":\"table\"}]},\"layout\":{\"annotationdefaults\":{\"arrowcolor\":\"#2a3f5f\",\"arrowhead\":0,\"arrowwidth\":1},\"autotypenumbers\":\"strict\",\"coloraxis\":{\"colorbar\":{\"outlinewidth\":0,\"ticks\":\"\"}},\"colorscale\":{\"diverging\":[[0,\"#8e0152\"],[0.1,\"#c51b7d\"],[0.2,\"#de77ae\"],[0.3,\"#f1b6da\"],[0.4,\"#fde0ef\"],[0.5,\"#f7f7f7\"],[0.6,\"#e6f5d0\"],[0.7,\"#b8e186\"],[0.8,\"#7fbc41\"],[0.9,\"#4d9221\"],[1,\"#276419\"]],\"sequential\":[[0.0,\"#0d0887\"],[0.1111111111111111,\"#46039f\"],[0.2222222222222222,\"#7201a8\"],[0.3333333333333333,\"#9c179e\"],[0.4444444444444444,\"#bd3786\"],[0.5555555555555556,\"#d8576b\"],[0.6666666666666666,\"#ed7953\"],[0.7777777777777778,\"#fb9f3a\"],[0.8888888888888888,\"#fdca26\"],[1.0,\"#f0f921\"]],\"sequentialminus\":[[0.0,\"#0d0887\"],[0.1111111111111111,\"#46039f\"],[0.2222222222222222,\"#7201a8\"],[0.3333333333333333,\"#9c179e\"],[0.4444444444444444,\"#bd3786\"],[0.5555555555555556,\"#d8576b\"],[0.6666666666666666,\"#ed7953\"],[0.7777777777777778,\"#fb9f3a\"],[0.8888888888888888,\"#fdca26\"],[1.0,\"#f0f921\"]]},\"colorway\":[\"#636efa\",\"#EF553B\",\"#00cc96\",\"#ab63fa\",\"#FFA15A\",\"#19d3f3\",\"#FF6692\",\"#B6E880\",\"#FF97FF\",\"#FECB52\"],\"font\":{\"color\":\"#2a3f5f\"},\"geo\":{\"bgcolor\":\"white\",\"lakecolor\":\"white\",\"landcolor\":\"#E5ECF6\",\"showlakes\":true,\"showland\":true,\"subunitcolor\":\"white\"},\"hoverlabel\":{\"align\":\"left\"},\"hovermode\":\"closest\",\"mapbox\":{\"style\":\"light\"},\"paper_bgcolor\":\"white\",\"plot_bgcolor\":\"#E5ECF6\",\"polar\":{\"angularaxis\":{\"gridcolor\":\"white\",\"linecolor\":\"white\",\"ticks\":\"\"},\"bgcolor\":\"#E5ECF6\",\"radialaxis\":{\"gridcolor\":\"white\",\"linecolor\":\"white\",\"ticks\":\"\"}},\"scene\":{\"xaxis\":{\"backgroundcolor\":\"#E5ECF6\",\"gridcolor\":\"white\",\"gridwidth\":2,\"linecolor\":\"white\",\"showbackground\":true,\"ticks\":\"\",\"zerolinecolor\":\"white\"},\"yaxis\":{\"backgroundcolor\":\"#E5ECF6\",\"gridcolor\":\"white\",\"gridwidth\":2,\"linecolor\":\"white\",\"showbackground\":true,\"ticks\":\"\",\"zerolinecolor\":\"white\"},\"zaxis\":{\"backgroundcolor\":\"#E5ECF6\",\"gridcolor\":\"white\",\"gridwidth\":2,\"linecolor\":\"white\",\"showbackground\":true,\"ticks\":\"\",\"zerolinecolor\":\"white\"}},\"shapedefaults\":{\"line\":{\"color\":\"#2a3f5f\"}},\"ternary\":{\"aaxis\":{\"gridcolor\":\"white\",\"linecolor\":\"white\",\"ticks\":\"\"},\"baxis\":{\"gridcolor\":\"white\",\"linecolor\":\"white\",\"ticks\":\"\"},\"bgcolor\":\"#E5ECF6\",\"caxis\":{\"gridcolor\":\"white\",\"linecolor\":\"white\",\"ticks\":\"\"}},\"title\":{\"x\":0.05},\"xaxis\":{\"automargin\":true,\"gridcolor\":\"white\",\"linecolor\":\"white\",\"ticks\":\"\",\"title\":{\"standoff\":15},\"zerolinecolor\":\"white\",\"zerolinewidth\":2},\"yaxis\":{\"automargin\":true,\"gridcolor\":\"white\",\"linecolor\":\"white\",\"ticks\":\"\",\"title\":{\"standoff\":15},\"zerolinecolor\":\"white\",\"zerolinewidth\":2}}},\"title\":{\"text\":\"Crypto Greed Index\"},\"xaxis\":{\"title\":{\"text\":\"Date\"}},\"yaxis\":{\"title\":{\"text\":\"Greed Index\"}}},                        {\"responsive\": true}                    ).then(function(){\n",
       "                            \n",
       "var gd = document.getElementById('d941d5fb-aa29-4ec4-b983-2e039c80008c');\n",
       "var x = new MutationObserver(function (mutations, observer) {{\n",
       "        var display = window.getComputedStyle(gd).display;\n",
       "        if (!display || display === 'none') {{\n",
       "            console.log([gd, 'removed!']);\n",
       "            Plotly.purge(gd);\n",
       "            observer.disconnect();\n",
       "        }}\n",
       "}});\n",
       "\n",
       "// Listen for the removal of the full notebook cells\n",
       "var notebookContainer = gd.closest('#notebook-container');\n",
       "if (notebookContainer) {{\n",
       "    x.observe(notebookContainer, {childList: true});\n",
       "}}\n",
       "\n",
       "// Listen for the clearing of the current output cell\n",
       "var outputEl = gd.closest('.output');\n",
       "if (outputEl) {{\n",
       "    x.observe(outputEl, {childList: true});\n",
       "}}\n",
       "\n",
       "                        })                };                });            </script>        </div>"
      ]
     },
     "metadata": {},
     "output_type": "display_data"
    }
   ],
   "source": [
    "# read file\n",
    "with open('./Data/fear_greed_index.json', 'r') as myfile:\n",
    "    data=myfile.read()\n",
    "# parse file\n",
    "obj = json.loads(data)\n",
    "df = pd.json_normalize(obj['data'])\n",
    "df['timestamp'] = pd.to_datetime(df['timestamp'].astype(int), unit='s')\n",
    "# Order the values following the y axis\n",
    "df['value'] = df['value'].apply(pd.to_numeric).ewm(span = 100).mean()\n",
    "# Plot\n",
    "greed_idx_data = go.Scatter(x=df.timestamp, y=df.value)\n",
    "layout = go.Layout(title='Crypto Greed Index', xaxis=dict(title='Date'), yaxis=dict(title='Greed Index'))\n",
    "fig = go.Figure(\n",
    "    data=[greed_idx_data],\n",
    "    layout=layout)\n",
    "fig.show()"
   ]
  },
  {
   "cell_type": "markdown",
   "metadata": {
    "id": "z6FsWFOkdF38"
   },
   "source": [
    "Now, if we take the common period of the Quotebank dataset and greed/fear index dataset, say between February 2018 and April 2020, normalize them and put them in one plot, it gives the figure below. "
   ]
  },
  {
   "cell_type": "code",
   "execution_count": 18,
   "metadata": {
    "executionInfo": {
     "elapsed": 307,
     "status": "ok",
     "timestamp": 1636743026913,
     "user": {
      "displayName": "Taha Zakariya",
      "photoUrl": "https://lh3.googleusercontent.com/a/default-user=s64",
      "userId": "04695355770412779331"
     },
     "user_tz": -60
    },
    "id": "ZoXFIiiqdSKV"
   },
   "outputs": [],
   "source": [
    "# For some reason this function can't be called from helpers.py\n",
    "def normalize(column):\n",
    "\t'''\n",
    "\tNormalizes the data of the column\n",
    "\t'''\n",
    "\tmin_ = column.min()\n",
    "\tmax_min = column.max() - column.min()\n",
    "\treturn (column-min_)/max_min"
   ]
  },
  {
   "cell_type": "code",
   "execution_count": 19,
   "metadata": {
    "colab": {
     "base_uri": "https://localhost:8080/",
     "height": 542
    },
    "executionInfo": {
     "elapsed": 513,
     "status": "ok",
     "timestamp": 1636743148116,
     "user": {
      "displayName": "Taha Zakariya",
      "photoUrl": "https://lh3.googleusercontent.com/a/default-user=s64",
      "userId": "04695355770412779331"
     },
     "user_tz": -60
    },
    "id": "NXIhIJ7Lc7O6",
    "outputId": "14e7d921-f578-4e9c-e79a-dbc747d49928"
   },
   "outputs": [
    {
     "data": {
      "application/vnd.plotly.v1+json": {
       "config": {
        "plotlyServerURL": "https://plot.ly"
       },
       "data": [
        {
         "name": "Greed index",
         "type": "scatter",
         "x": [
          "2021-11-07T00:00:00",
          "2021-11-06T00:00:00",
          "2021-11-05T00:00:00",
          "2021-11-04T00:00:00",
          "2021-11-03T00:00:00",
          "2021-11-02T00:00:00",
          "2021-11-01T00:00:00",
          "2021-10-31T00:00:00",
          "2021-10-30T00:00:00",
          "2021-10-29T00:00:00",
          "2021-10-28T00:00:00",
          "2021-10-27T00:00:00",
          "2021-10-26T00:00:00",
          "2021-10-25T00:00:00",
          "2021-10-24T00:00:00",
          "2021-10-23T00:00:00",
          "2021-10-22T00:00:00",
          "2021-10-21T00:00:00",
          "2021-10-20T00:00:00",
          "2021-10-19T00:00:00",
          "2021-10-18T00:00:00",
          "2021-10-17T00:00:00",
          "2021-10-16T00:00:00",
          "2021-10-15T00:00:00",
          "2021-10-14T00:00:00",
          "2021-10-13T00:00:00",
          "2021-10-12T00:00:00",
          "2021-10-11T00:00:00",
          "2021-10-10T00:00:00",
          "2021-10-09T00:00:00",
          "2021-10-08T00:00:00",
          "2021-10-07T00:00:00",
          "2021-10-06T00:00:00",
          "2021-10-05T00:00:00",
          "2021-10-04T00:00:00",
          "2021-10-03T00:00:00",
          "2021-10-02T00:00:00",
          "2021-10-01T00:00:00",
          "2021-09-30T00:00:00",
          "2021-09-29T00:00:00",
          "2021-09-28T00:00:00",
          "2021-09-27T00:00:00",
          "2021-09-26T00:00:00",
          "2021-09-25T00:00:00",
          "2021-09-24T00:00:00",
          "2021-09-23T00:00:00",
          "2021-09-22T00:00:00",
          "2021-09-21T00:00:00",
          "2021-09-20T00:00:00",
          "2021-09-19T00:00:00",
          "2021-09-18T00:00:00",
          "2021-09-17T00:00:00",
          "2021-09-16T00:00:00",
          "2021-09-15T00:00:00",
          "2021-09-14T00:00:00",
          "2021-09-13T00:00:00",
          "2021-09-12T00:00:00",
          "2021-09-11T00:00:00",
          "2021-09-10T00:00:00",
          "2021-09-09T00:00:00",
          "2021-09-08T00:00:00",
          "2021-09-07T00:00:00",
          "2021-09-06T00:00:00",
          "2021-09-05T00:00:00",
          "2021-09-04T00:00:00",
          "2021-09-03T00:00:00",
          "2021-09-02T00:00:00",
          "2021-09-01T00:00:00",
          "2021-08-31T00:00:00",
          "2021-08-30T00:00:00",
          "2021-08-29T00:00:00",
          "2021-08-28T00:00:00",
          "2021-08-27T00:00:00",
          "2021-08-26T00:00:00",
          "2021-08-25T00:00:00",
          "2021-08-24T00:00:00",
          "2021-08-23T00:00:00",
          "2021-08-22T00:00:00",
          "2021-08-21T00:00:00",
          "2021-08-20T00:00:00",
          "2021-08-19T00:00:00",
          "2021-08-18T00:00:00",
          "2021-08-17T00:00:00",
          "2021-08-16T00:00:00",
          "2021-08-15T00:00:00",
          "2021-08-14T00:00:00",
          "2021-08-13T00:00:00",
          "2021-08-12T00:00:00",
          "2021-08-11T00:00:00",
          "2021-08-10T00:00:00",
          "2021-08-09T00:00:00",
          "2021-08-08T00:00:00",
          "2021-08-07T00:00:00",
          "2021-08-06T00:00:00",
          "2021-08-05T00:00:00",
          "2021-08-04T00:00:00",
          "2021-08-03T00:00:00",
          "2021-08-02T00:00:00",
          "2021-08-01T00:00:00",
          "2021-07-31T00:00:00",
          "2021-07-30T00:00:00",
          "2021-07-29T00:00:00",
          "2021-07-28T00:00:00",
          "2021-07-27T00:00:00",
          "2021-07-26T00:00:00",
          "2021-07-25T00:00:00",
          "2021-07-24T00:00:00",
          "2021-07-23T00:00:00",
          "2021-07-22T00:00:00",
          "2021-07-21T00:00:00",
          "2021-07-20T00:00:00",
          "2021-07-19T00:00:00",
          "2021-07-18T00:00:00",
          "2021-07-17T00:00:00",
          "2021-07-16T00:00:00",
          "2021-07-15T00:00:00",
          "2021-07-14T00:00:00",
          "2021-07-13T00:00:00",
          "2021-07-12T00:00:00",
          "2021-07-11T00:00:00",
          "2021-07-10T00:00:00",
          "2021-07-09T00:00:00",
          "2021-07-08T00:00:00",
          "2021-07-07T00:00:00",
          "2021-07-06T00:00:00",
          "2021-07-05T00:00:00",
          "2021-07-04T00:00:00",
          "2021-07-03T00:00:00",
          "2021-07-02T00:00:00",
          "2021-07-01T00:00:00",
          "2021-06-30T00:00:00",
          "2021-06-29T00:00:00",
          "2021-06-28T00:00:00",
          "2021-06-27T00:00:00",
          "2021-06-26T00:00:00",
          "2021-06-25T00:00:00",
          "2021-06-24T00:00:00",
          "2021-06-23T00:00:00",
          "2021-06-22T00:00:00",
          "2021-06-21T00:00:00",
          "2021-06-20T00:00:00",
          "2021-06-19T00:00:00",
          "2021-06-18T00:00:00",
          "2021-06-17T00:00:00",
          "2021-06-16T00:00:00",
          "2021-06-15T00:00:00",
          "2021-06-14T00:00:00",
          "2021-06-13T00:00:00",
          "2021-06-12T00:00:00",
          "2021-06-11T00:00:00",
          "2021-06-10T00:00:00",
          "2021-06-09T00:00:00",
          "2021-06-08T00:00:00",
          "2021-06-07T00:00:00",
          "2021-06-06T00:00:00",
          "2021-06-05T00:00:00",
          "2021-06-04T00:00:00",
          "2021-06-03T00:00:00",
          "2021-06-02T00:00:00",
          "2021-06-01T00:00:00",
          "2021-05-31T00:00:00",
          "2021-05-30T00:00:00",
          "2021-05-29T00:00:00",
          "2021-05-28T00:00:00",
          "2021-05-27T00:00:00",
          "2021-05-26T00:00:00",
          "2021-05-25T00:00:00",
          "2021-05-24T00:00:00",
          "2021-05-23T00:00:00",
          "2021-05-22T00:00:00",
          "2021-05-21T00:00:00",
          "2021-05-20T00:00:00",
          "2021-05-19T00:00:00",
          "2021-05-18T00:00:00",
          "2021-05-17T00:00:00",
          "2021-05-16T00:00:00",
          "2021-05-15T00:00:00",
          "2021-05-14T00:00:00",
          "2021-05-13T00:00:00",
          "2021-05-12T00:00:00",
          "2021-05-11T00:00:00",
          "2021-05-10T00:00:00",
          "2021-05-09T00:00:00",
          "2021-05-08T00:00:00",
          "2021-05-07T00:00:00",
          "2021-05-06T00:00:00",
          "2021-05-05T00:00:00",
          "2021-05-04T00:00:00",
          "2021-05-03T00:00:00",
          "2021-05-02T00:00:00",
          "2021-05-01T00:00:00",
          "2021-04-30T00:00:00",
          "2021-04-29T00:00:00",
          "2021-04-28T00:00:00",
          "2021-04-27T00:00:00",
          "2021-04-26T00:00:00",
          "2021-04-25T00:00:00",
          "2021-04-24T00:00:00",
          "2021-04-23T00:00:00",
          "2021-04-22T00:00:00",
          "2021-04-21T00:00:00",
          "2021-04-20T00:00:00",
          "2021-04-19T00:00:00",
          "2021-04-18T00:00:00",
          "2021-04-17T00:00:00",
          "2021-04-16T00:00:00",
          "2021-04-15T00:00:00",
          "2021-04-14T00:00:00",
          "2021-04-13T00:00:00",
          "2021-04-12T00:00:00",
          "2021-04-11T00:00:00",
          "2021-04-10T00:00:00",
          "2021-04-09T00:00:00",
          "2021-04-08T00:00:00",
          "2021-04-07T00:00:00",
          "2021-04-06T00:00:00",
          "2021-04-05T00:00:00",
          "2021-04-04T00:00:00",
          "2021-04-03T00:00:00",
          "2021-04-02T00:00:00",
          "2021-04-01T00:00:00",
          "2021-03-31T00:00:00",
          "2021-03-30T00:00:00",
          "2021-03-29T00:00:00",
          "2021-03-28T00:00:00",
          "2021-03-27T00:00:00",
          "2021-03-26T00:00:00",
          "2021-03-25T00:00:00",
          "2021-03-24T00:00:00",
          "2021-03-23T00:00:00",
          "2021-03-22T00:00:00",
          "2021-03-21T00:00:00",
          "2021-03-20T00:00:00",
          "2021-03-19T00:00:00",
          "2021-03-18T00:00:00",
          "2021-03-17T00:00:00",
          "2021-03-16T00:00:00",
          "2021-03-15T00:00:00",
          "2021-03-14T00:00:00",
          "2021-03-13T00:00:00",
          "2021-03-12T00:00:00",
          "2021-03-11T00:00:00",
          "2021-03-10T00:00:00",
          "2021-03-09T00:00:00",
          "2021-03-08T00:00:00",
          "2021-03-07T00:00:00",
          "2021-03-06T00:00:00",
          "2021-03-05T00:00:00",
          "2021-03-04T00:00:00",
          "2021-03-03T00:00:00",
          "2021-03-02T00:00:00",
          "2021-03-01T00:00:00",
          "2021-02-28T00:00:00",
          "2021-02-27T00:00:00",
          "2021-02-26T00:00:00",
          "2021-02-25T00:00:00",
          "2021-02-24T00:00:00",
          "2021-02-23T00:00:00",
          "2021-02-22T00:00:00",
          "2021-02-21T00:00:00",
          "2021-02-20T00:00:00",
          "2021-02-19T00:00:00",
          "2021-02-18T00:00:00",
          "2021-02-17T00:00:00",
          "2021-02-16T00:00:00",
          "2021-02-15T00:00:00",
          "2021-02-14T00:00:00",
          "2021-02-13T00:00:00",
          "2021-02-12T00:00:00",
          "2021-02-11T00:00:00",
          "2021-02-10T00:00:00",
          "2021-02-09T00:00:00",
          "2021-02-08T00:00:00",
          "2021-02-07T00:00:00",
          "2021-02-06T00:00:00",
          "2021-02-05T00:00:00",
          "2021-02-04T00:00:00",
          "2021-02-03T00:00:00",
          "2021-02-02T00:00:00",
          "2021-02-01T00:00:00",
          "2021-01-31T00:00:00",
          "2021-01-30T00:00:00",
          "2021-01-29T00:00:00",
          "2021-01-28T00:00:00",
          "2021-01-27T00:00:00",
          "2021-01-26T00:00:00",
          "2021-01-25T00:00:00",
          "2021-01-24T00:00:00",
          "2021-01-23T00:00:00",
          "2021-01-22T00:00:00",
          "2021-01-21T00:00:00",
          "2021-01-20T00:00:00",
          "2021-01-19T00:00:00",
          "2021-01-18T00:00:00",
          "2021-01-17T00:00:00",
          "2021-01-16T00:00:00",
          "2021-01-15T00:00:00",
          "2021-01-14T00:00:00",
          "2021-01-13T00:00:00",
          "2021-01-12T00:00:00",
          "2021-01-11T00:00:00",
          "2021-01-10T00:00:00",
          "2021-01-09T00:00:00",
          "2021-01-08T00:00:00",
          "2021-01-07T00:00:00",
          "2021-01-06T00:00:00",
          "2021-01-05T00:00:00",
          "2021-01-04T00:00:00",
          "2021-01-03T00:00:00",
          "2021-01-02T00:00:00",
          "2021-01-01T00:00:00",
          "2020-12-31T00:00:00",
          "2020-12-30T00:00:00",
          "2020-12-29T00:00:00",
          "2020-12-28T00:00:00",
          "2020-12-27T00:00:00",
          "2020-12-26T00:00:00",
          "2020-12-25T00:00:00",
          "2020-12-24T00:00:00",
          "2020-12-23T00:00:00",
          "2020-12-22T00:00:00",
          "2020-12-21T00:00:00",
          "2020-12-20T00:00:00",
          "2020-12-19T00:00:00",
          "2020-12-18T00:00:00",
          "2020-12-17T00:00:00",
          "2020-12-16T00:00:00",
          "2020-12-15T00:00:00",
          "2020-12-14T00:00:00",
          "2020-12-13T00:00:00",
          "2020-12-12T00:00:00",
          "2020-12-11T00:00:00",
          "2020-12-10T00:00:00",
          "2020-12-09T00:00:00",
          "2020-12-08T00:00:00",
          "2020-12-07T00:00:00",
          "2020-12-06T00:00:00",
          "2020-12-05T00:00:00",
          "2020-12-04T00:00:00",
          "2020-12-03T00:00:00",
          "2020-12-02T00:00:00",
          "2020-12-01T00:00:00",
          "2020-11-30T00:00:00",
          "2020-11-29T00:00:00",
          "2020-11-28T00:00:00",
          "2020-11-27T00:00:00",
          "2020-11-26T00:00:00",
          "2020-11-25T00:00:00",
          "2020-11-24T00:00:00",
          "2020-11-23T00:00:00",
          "2020-11-22T00:00:00",
          "2020-11-21T00:00:00",
          "2020-11-20T00:00:00",
          "2020-11-19T00:00:00",
          "2020-11-18T00:00:00",
          "2020-11-17T00:00:00",
          "2020-11-16T00:00:00",
          "2020-11-15T00:00:00",
          "2020-11-14T00:00:00",
          "2020-11-13T00:00:00",
          "2020-11-12T00:00:00",
          "2020-11-11T00:00:00",
          "2020-11-10T00:00:00",
          "2020-11-09T00:00:00",
          "2020-11-08T00:00:00",
          "2020-11-07T00:00:00",
          "2020-11-06T00:00:00",
          "2020-11-05T00:00:00",
          "2020-11-04T00:00:00",
          "2020-11-03T00:00:00",
          "2020-11-02T00:00:00",
          "2020-11-01T00:00:00",
          "2020-10-31T00:00:00",
          "2020-10-30T00:00:00",
          "2020-10-29T00:00:00",
          "2020-10-28T00:00:00",
          "2020-10-27T00:00:00",
          "2020-10-26T00:00:00",
          "2020-10-25T00:00:00",
          "2020-10-24T00:00:00",
          "2020-10-23T00:00:00",
          "2020-10-22T00:00:00",
          "2020-10-21T00:00:00",
          "2020-10-20T00:00:00",
          "2020-10-19T00:00:00",
          "2020-10-18T00:00:00",
          "2020-10-17T00:00:00",
          "2020-10-16T00:00:00",
          "2020-10-15T00:00:00",
          "2020-10-14T00:00:00",
          "2020-10-13T00:00:00",
          "2020-10-12T00:00:00",
          "2020-10-11T00:00:00",
          "2020-10-10T00:00:00",
          "2020-10-09T00:00:00",
          "2020-10-08T00:00:00",
          "2020-10-07T00:00:00",
          "2020-10-06T00:00:00",
          "2020-10-05T00:00:00",
          "2020-10-04T00:00:00",
          "2020-10-03T00:00:00",
          "2020-10-02T00:00:00",
          "2020-10-01T00:00:00",
          "2020-09-30T00:00:00",
          "2020-09-29T00:00:00",
          "2020-09-28T00:00:00",
          "2020-09-27T00:00:00",
          "2020-09-26T00:00:00",
          "2020-09-25T00:00:00",
          "2020-09-24T00:00:00",
          "2020-09-23T00:00:00",
          "2020-09-22T00:00:00",
          "2020-09-21T00:00:00",
          "2020-09-20T00:00:00",
          "2020-09-19T00:00:00",
          "2020-09-18T00:00:00",
          "2020-09-17T00:00:00",
          "2020-09-16T00:00:00",
          "2020-09-15T00:00:00",
          "2020-09-14T00:00:00",
          "2020-09-13T00:00:00",
          "2020-09-12T00:00:00",
          "2020-09-11T00:00:00",
          "2020-09-10T00:00:00",
          "2020-09-09T00:00:00",
          "2020-09-08T00:00:00",
          "2020-09-07T00:00:00",
          "2020-09-06T00:00:00",
          "2020-09-05T00:00:00",
          "2020-09-04T00:00:00",
          "2020-09-03T00:00:00",
          "2020-09-02T00:00:00",
          "2020-09-01T00:00:00",
          "2020-08-31T00:00:00",
          "2020-08-30T00:00:00",
          "2020-08-29T00:00:00",
          "2020-08-28T00:00:00",
          "2020-08-27T00:00:00",
          "2020-08-26T00:00:00",
          "2020-08-25T00:00:00",
          "2020-08-24T00:00:00",
          "2020-08-23T00:00:00",
          "2020-08-22T00:00:00",
          "2020-08-21T00:00:00",
          "2020-08-20T00:00:00",
          "2020-08-19T00:00:00",
          "2020-08-18T00:00:00",
          "2020-08-17T00:00:00",
          "2020-08-16T00:00:00",
          "2020-08-15T00:00:00",
          "2020-08-14T00:00:00",
          "2020-08-13T00:00:00",
          "2020-08-12T00:00:00",
          "2020-08-11T00:00:00",
          "2020-08-10T00:00:00",
          "2020-08-09T00:00:00",
          "2020-08-08T00:00:00",
          "2020-08-07T00:00:00",
          "2020-08-06T00:00:00",
          "2020-08-05T00:00:00",
          "2020-08-04T00:00:00",
          "2020-08-03T00:00:00",
          "2020-08-02T00:00:00",
          "2020-08-01T00:00:00",
          "2020-07-31T00:00:00",
          "2020-07-30T00:00:00",
          "2020-07-29T00:00:00",
          "2020-07-28T00:00:00",
          "2020-07-27T00:00:00",
          "2020-07-26T00:00:00",
          "2020-07-25T00:00:00",
          "2020-07-24T00:00:00",
          "2020-07-23T00:00:00",
          "2020-07-22T00:00:00",
          "2020-07-21T00:00:00",
          "2020-07-20T00:00:00",
          "2020-07-19T00:00:00",
          "2020-07-18T00:00:00",
          "2020-07-17T00:00:00",
          "2020-07-16T00:00:00",
          "2020-07-15T00:00:00",
          "2020-07-14T00:00:00",
          "2020-07-13T00:00:00",
          "2020-07-12T00:00:00",
          "2020-07-11T00:00:00",
          "2020-07-10T00:00:00",
          "2020-07-09T00:00:00",
          "2020-07-08T00:00:00",
          "2020-07-07T00:00:00",
          "2020-07-06T00:00:00",
          "2020-07-05T00:00:00",
          "2020-07-04T00:00:00",
          "2020-07-03T00:00:00",
          "2020-07-02T00:00:00",
          "2020-07-01T00:00:00",
          "2020-06-30T00:00:00",
          "2020-06-29T00:00:00",
          "2020-06-28T00:00:00",
          "2020-06-27T00:00:00",
          "2020-06-26T00:00:00",
          "2020-06-25T00:00:00",
          "2020-06-24T00:00:00",
          "2020-06-23T00:00:00",
          "2020-06-22T00:00:00",
          "2020-06-21T00:00:00",
          "2020-06-20T00:00:00",
          "2020-06-19T00:00:00",
          "2020-06-18T00:00:00",
          "2020-06-17T00:00:00",
          "2020-06-16T00:00:00",
          "2020-06-15T00:00:00",
          "2020-06-14T00:00:00",
          "2020-06-13T00:00:00",
          "2020-06-12T00:00:00",
          "2020-06-11T00:00:00",
          "2020-06-10T00:00:00",
          "2020-06-09T00:00:00",
          "2020-06-08T00:00:00",
          "2020-06-07T00:00:00",
          "2020-06-06T00:00:00",
          "2020-06-05T00:00:00",
          "2020-06-04T00:00:00",
          "2020-06-03T00:00:00",
          "2020-06-02T00:00:00",
          "2020-06-01T00:00:00",
          "2020-05-31T00:00:00",
          "2020-05-30T00:00:00",
          "2020-05-29T00:00:00",
          "2020-05-28T00:00:00",
          "2020-05-27T00:00:00",
          "2020-05-26T00:00:00",
          "2020-05-25T00:00:00",
          "2020-05-24T00:00:00",
          "2020-05-23T00:00:00",
          "2020-05-22T00:00:00",
          "2020-05-21T00:00:00",
          "2020-05-20T00:00:00",
          "2020-05-19T00:00:00",
          "2020-05-18T00:00:00",
          "2020-05-17T00:00:00",
          "2020-05-16T00:00:00",
          "2020-05-15T00:00:00",
          "2020-05-14T00:00:00",
          "2020-05-13T00:00:00",
          "2020-05-12T00:00:00",
          "2020-05-11T00:00:00",
          "2020-05-10T00:00:00",
          "2020-05-09T00:00:00",
          "2020-05-08T00:00:00",
          "2020-05-07T00:00:00",
          "2020-05-06T00:00:00",
          "2020-05-05T00:00:00",
          "2020-05-04T00:00:00",
          "2020-05-03T00:00:00",
          "2020-05-02T00:00:00",
          "2020-05-01T00:00:00",
          "2020-04-30T00:00:00",
          "2020-04-29T00:00:00",
          "2020-04-28T00:00:00",
          "2020-04-27T00:00:00",
          "2020-04-26T00:00:00",
          "2020-04-25T00:00:00",
          "2020-04-24T00:00:00",
          "2020-04-23T00:00:00",
          "2020-04-22T00:00:00",
          "2020-04-21T00:00:00",
          "2020-04-20T00:00:00",
          "2020-04-19T00:00:00",
          "2020-04-18T00:00:00",
          "2020-04-17T00:00:00",
          "2020-04-16T00:00:00",
          "2020-04-15T00:00:00",
          "2020-04-14T00:00:00",
          "2020-04-13T00:00:00",
          "2020-04-12T00:00:00",
          "2020-04-11T00:00:00",
          "2020-04-10T00:00:00",
          "2020-04-09T00:00:00",
          "2020-04-08T00:00:00",
          "2020-04-07T00:00:00",
          "2020-04-06T00:00:00",
          "2020-04-05T00:00:00",
          "2020-04-04T00:00:00",
          "2020-04-03T00:00:00",
          "2020-04-02T00:00:00",
          "2020-04-01T00:00:00",
          "2020-03-31T00:00:00",
          "2020-03-30T00:00:00",
          "2020-03-29T00:00:00",
          "2020-03-28T00:00:00",
          "2020-03-27T00:00:00",
          "2020-03-26T00:00:00",
          "2020-03-25T00:00:00",
          "2020-03-24T00:00:00",
          "2020-03-23T00:00:00",
          "2020-03-22T00:00:00",
          "2020-03-21T00:00:00",
          "2020-03-20T00:00:00",
          "2020-03-19T00:00:00",
          "2020-03-18T00:00:00",
          "2020-03-17T00:00:00",
          "2020-03-16T00:00:00",
          "2020-03-15T00:00:00",
          "2020-03-14T00:00:00",
          "2020-03-13T00:00:00",
          "2020-03-12T00:00:00",
          "2020-03-11T00:00:00",
          "2020-03-10T00:00:00",
          "2020-03-09T00:00:00",
          "2020-03-08T00:00:00",
          "2020-03-07T00:00:00",
          "2020-03-06T00:00:00",
          "2020-03-05T00:00:00",
          "2020-03-04T00:00:00",
          "2020-03-03T00:00:00",
          "2020-03-02T00:00:00",
          "2020-03-01T00:00:00",
          "2020-02-29T00:00:00",
          "2020-02-28T00:00:00",
          "2020-02-27T00:00:00",
          "2020-02-26T00:00:00",
          "2020-02-25T00:00:00",
          "2020-02-24T00:00:00",
          "2020-02-23T00:00:00",
          "2020-02-22T00:00:00",
          "2020-02-21T00:00:00",
          "2020-02-20T00:00:00",
          "2020-02-19T00:00:00",
          "2020-02-18T00:00:00",
          "2020-02-17T00:00:00",
          "2020-02-16T00:00:00",
          "2020-02-15T00:00:00",
          "2020-02-14T00:00:00",
          "2020-02-13T00:00:00",
          "2020-02-12T00:00:00",
          "2020-02-11T00:00:00",
          "2020-02-10T00:00:00",
          "2020-02-09T00:00:00",
          "2020-02-08T00:00:00",
          "2020-02-07T00:00:00",
          "2020-02-06T00:00:00",
          "2020-02-05T00:00:00",
          "2020-02-04T00:00:00",
          "2020-02-03T00:00:00",
          "2020-02-02T00:00:00",
          "2020-02-01T00:00:00",
          "2020-01-31T00:00:00",
          "2020-01-30T00:00:00",
          "2020-01-29T00:00:00",
          "2020-01-28T00:00:00",
          "2020-01-27T00:00:00",
          "2020-01-26T00:00:00",
          "2020-01-25T00:00:00",
          "2020-01-24T00:00:00",
          "2020-01-23T00:00:00",
          "2020-01-22T00:00:00",
          "2020-01-21T00:00:00",
          "2020-01-20T00:00:00",
          "2020-01-19T00:00:00",
          "2020-01-18T00:00:00",
          "2020-01-17T00:00:00",
          "2020-01-16T00:00:00",
          "2020-01-15T00:00:00",
          "2020-01-14T00:00:00",
          "2020-01-13T00:00:00",
          "2020-01-12T00:00:00",
          "2020-01-11T00:00:00",
          "2020-01-10T00:00:00",
          "2020-01-09T00:00:00",
          "2020-01-08T00:00:00",
          "2020-01-07T00:00:00",
          "2020-01-06T00:00:00",
          "2020-01-05T00:00:00",
          "2020-01-04T00:00:00",
          "2020-01-03T00:00:00",
          "2020-01-02T00:00:00",
          "2020-01-01T00:00:00",
          "2019-12-31T00:00:00",
          "2019-12-30T00:00:00",
          "2019-12-29T00:00:00",
          "2019-12-28T00:00:00",
          "2019-12-27T00:00:00",
          "2019-12-26T00:00:00",
          "2019-12-25T00:00:00",
          "2019-12-24T00:00:00",
          "2019-12-23T00:00:00",
          "2019-12-22T00:00:00",
          "2019-12-21T00:00:00",
          "2019-12-20T00:00:00",
          "2019-12-19T00:00:00",
          "2019-12-18T00:00:00",
          "2019-12-17T00:00:00",
          "2019-12-16T00:00:00",
          "2019-12-15T00:00:00",
          "2019-12-14T00:00:00",
          "2019-12-13T00:00:00",
          "2019-12-12T00:00:00",
          "2019-12-11T00:00:00",
          "2019-12-10T00:00:00",
          "2019-12-09T00:00:00",
          "2019-12-08T00:00:00",
          "2019-12-07T00:00:00",
          "2019-12-06T00:00:00",
          "2019-12-05T00:00:00",
          "2019-12-04T00:00:00",
          "2019-12-03T00:00:00",
          "2019-12-02T00:00:00",
          "2019-12-01T00:00:00",
          "2019-11-30T00:00:00",
          "2019-11-29T00:00:00",
          "2019-11-28T00:00:00",
          "2019-11-27T00:00:00",
          "2019-11-26T00:00:00",
          "2019-11-25T00:00:00",
          "2019-11-24T00:00:00",
          "2019-11-23T00:00:00",
          "2019-11-22T00:00:00",
          "2019-11-21T00:00:00",
          "2019-11-20T00:00:00",
          "2019-11-19T00:00:00",
          "2019-11-18T00:00:00",
          "2019-11-17T00:00:00",
          "2019-11-16T00:00:00",
          "2019-11-15T00:00:00",
          "2019-11-14T00:00:00",
          "2019-11-13T00:00:00",
          "2019-11-12T00:00:00",
          "2019-11-11T00:00:00",
          "2019-11-10T00:00:00",
          "2019-11-09T00:00:00",
          "2019-11-08T00:00:00",
          "2019-11-07T00:00:00",
          "2019-11-06T00:00:00",
          "2019-11-05T00:00:00",
          "2019-11-04T00:00:00",
          "2019-11-03T00:00:00",
          "2019-11-02T00:00:00",
          "2019-11-01T00:00:00",
          "2019-10-31T00:00:00",
          "2019-10-30T00:00:00",
          "2019-10-29T00:00:00",
          "2019-10-28T00:00:00",
          "2019-10-27T00:00:00",
          "2019-10-26T00:00:00",
          "2019-10-25T00:00:00",
          "2019-10-24T00:00:00",
          "2019-10-23T00:00:00",
          "2019-10-22T00:00:00",
          "2019-10-21T00:00:00",
          "2019-10-20T00:00:00",
          "2019-10-19T00:00:00",
          "2019-10-18T00:00:00",
          "2019-10-17T00:00:00",
          "2019-10-16T00:00:00",
          "2019-10-15T00:00:00",
          "2019-10-14T00:00:00",
          "2019-10-13T00:00:00",
          "2019-10-12T00:00:00",
          "2019-10-11T00:00:00",
          "2019-10-10T00:00:00",
          "2019-10-09T00:00:00",
          "2019-10-08T00:00:00",
          "2019-10-07T00:00:00",
          "2019-10-06T00:00:00",
          "2019-10-05T00:00:00",
          "2019-10-04T00:00:00",
          "2019-10-03T00:00:00",
          "2019-10-02T00:00:00",
          "2019-10-01T00:00:00",
          "2019-09-30T00:00:00",
          "2019-09-29T00:00:00",
          "2019-09-28T00:00:00",
          "2019-09-27T00:00:00",
          "2019-09-26T00:00:00",
          "2019-09-25T00:00:00",
          "2019-09-24T00:00:00",
          "2019-09-23T00:00:00",
          "2019-09-22T00:00:00",
          "2019-09-21T00:00:00",
          "2019-09-20T00:00:00",
          "2019-09-19T00:00:00",
          "2019-09-18T00:00:00",
          "2019-09-17T00:00:00",
          "2019-09-16T00:00:00",
          "2019-09-15T00:00:00",
          "2019-09-14T00:00:00",
          "2019-09-13T00:00:00",
          "2019-09-12T00:00:00",
          "2019-09-11T00:00:00",
          "2019-09-10T00:00:00",
          "2019-09-09T00:00:00",
          "2019-09-08T00:00:00",
          "2019-09-07T00:00:00",
          "2019-09-06T00:00:00",
          "2019-09-05T00:00:00",
          "2019-09-04T00:00:00",
          "2019-09-03T00:00:00",
          "2019-09-02T00:00:00",
          "2019-09-01T00:00:00",
          "2019-08-31T00:00:00",
          "2019-08-30T00:00:00",
          "2019-08-29T00:00:00",
          "2019-08-28T00:00:00",
          "2019-08-27T00:00:00",
          "2019-08-26T00:00:00",
          "2019-08-25T00:00:00",
          "2019-08-24T00:00:00",
          "2019-08-23T00:00:00",
          "2019-08-22T00:00:00",
          "2019-08-21T00:00:00",
          "2019-08-20T00:00:00",
          "2019-08-19T00:00:00",
          "2019-08-18T00:00:00",
          "2019-08-17T00:00:00",
          "2019-08-16T00:00:00",
          "2019-08-15T00:00:00",
          "2019-08-14T00:00:00",
          "2019-08-13T00:00:00",
          "2019-08-12T00:00:00",
          "2019-08-11T00:00:00",
          "2019-08-10T00:00:00",
          "2019-08-09T00:00:00",
          "2019-08-08T00:00:00",
          "2019-08-07T00:00:00",
          "2019-08-06T00:00:00",
          "2019-08-05T00:00:00",
          "2019-08-04T00:00:00",
          "2019-08-03T00:00:00",
          "2019-08-02T00:00:00",
          "2019-08-01T00:00:00",
          "2019-07-31T00:00:00",
          "2019-07-30T00:00:00",
          "2019-07-29T00:00:00",
          "2019-07-28T00:00:00",
          "2019-07-27T00:00:00",
          "2019-07-26T00:00:00",
          "2019-07-25T00:00:00",
          "2019-07-24T00:00:00",
          "2019-07-23T00:00:00",
          "2019-07-22T00:00:00",
          "2019-07-21T00:00:00",
          "2019-07-20T00:00:00",
          "2019-07-19T00:00:00",
          "2019-07-18T00:00:00",
          "2019-07-17T00:00:00",
          "2019-07-16T00:00:00",
          "2019-07-15T00:00:00",
          "2019-07-14T00:00:00",
          "2019-07-13T00:00:00",
          "2019-07-12T00:00:00",
          "2019-07-11T00:00:00",
          "2019-07-10T00:00:00",
          "2019-07-09T00:00:00",
          "2019-07-08T00:00:00",
          "2019-07-07T00:00:00",
          "2019-07-06T00:00:00",
          "2019-07-05T00:00:00",
          "2019-07-04T00:00:00",
          "2019-07-03T00:00:00",
          "2019-07-02T00:00:00",
          "2019-07-01T00:00:00",
          "2019-06-30T00:00:00",
          "2019-06-29T00:00:00",
          "2019-06-28T00:00:00",
          "2019-06-27T00:00:00",
          "2019-06-26T00:00:00",
          "2019-06-25T00:00:00",
          "2019-06-24T00:00:00",
          "2019-06-23T00:00:00",
          "2019-06-22T00:00:00",
          "2019-06-21T00:00:00",
          "2019-06-20T00:00:00",
          "2019-06-19T00:00:00",
          "2019-06-18T00:00:00",
          "2019-06-17T00:00:00",
          "2019-06-16T00:00:00",
          "2019-06-15T00:00:00",
          "2019-06-14T00:00:00",
          "2019-06-13T00:00:00",
          "2019-06-12T00:00:00",
          "2019-06-11T00:00:00",
          "2019-06-10T00:00:00",
          "2019-06-09T00:00:00",
          "2019-06-08T00:00:00",
          "2019-06-07T00:00:00",
          "2019-06-06T00:00:00",
          "2019-06-05T00:00:00",
          "2019-06-04T00:00:00",
          "2019-06-03T00:00:00",
          "2019-06-02T00:00:00",
          "2019-06-01T00:00:00",
          "2019-05-31T00:00:00",
          "2019-05-30T00:00:00",
          "2019-05-29T00:00:00",
          "2019-05-28T00:00:00",
          "2019-05-27T00:00:00",
          "2019-05-26T00:00:00",
          "2019-05-25T00:00:00",
          "2019-05-24T00:00:00",
          "2019-05-23T00:00:00",
          "2019-05-22T00:00:00",
          "2019-05-21T00:00:00",
          "2019-05-20T00:00:00",
          "2019-05-19T00:00:00",
          "2019-05-18T00:00:00",
          "2019-05-17T00:00:00",
          "2019-05-16T00:00:00",
          "2019-05-15T00:00:00",
          "2019-05-14T00:00:00",
          "2019-05-13T00:00:00",
          "2019-05-12T00:00:00",
          "2019-05-11T00:00:00",
          "2019-05-10T00:00:00",
          "2019-05-09T00:00:00",
          "2019-05-08T00:00:00",
          "2019-05-07T00:00:00",
          "2019-05-06T00:00:00",
          "2019-05-05T00:00:00",
          "2019-05-04T00:00:00",
          "2019-05-03T00:00:00",
          "2019-05-02T00:00:00",
          "2019-05-01T00:00:00",
          "2019-04-30T00:00:00",
          "2019-04-29T00:00:00",
          "2019-04-28T00:00:00",
          "2019-04-27T00:00:00",
          "2019-04-26T00:00:00",
          "2019-04-25T00:00:00",
          "2019-04-24T00:00:00",
          "2019-04-23T00:00:00",
          "2019-04-22T00:00:00",
          "2019-04-21T00:00:00",
          "2019-04-20T00:00:00",
          "2019-04-19T00:00:00",
          "2019-04-18T00:00:00",
          "2019-04-17T00:00:00",
          "2019-04-16T00:00:00",
          "2019-04-15T00:00:00",
          "2019-04-14T00:00:00",
          "2019-04-13T00:00:00",
          "2019-04-12T00:00:00",
          "2019-04-11T00:00:00",
          "2019-04-10T00:00:00",
          "2019-04-09T00:00:00",
          "2019-04-08T00:00:00",
          "2019-04-07T00:00:00",
          "2019-04-06T00:00:00",
          "2019-04-05T00:00:00",
          "2019-04-04T00:00:00",
          "2019-04-03T00:00:00",
          "2019-04-02T00:00:00",
          "2019-04-01T00:00:00",
          "2019-03-31T00:00:00",
          "2019-03-30T00:00:00",
          "2019-03-29T00:00:00",
          "2019-03-28T00:00:00",
          "2019-03-27T00:00:00",
          "2019-03-26T00:00:00",
          "2019-03-25T00:00:00",
          "2019-03-24T00:00:00",
          "2019-03-23T00:00:00",
          "2019-03-22T00:00:00",
          "2019-03-21T00:00:00",
          "2019-03-20T00:00:00",
          "2019-03-19T00:00:00",
          "2019-03-18T00:00:00",
          "2019-03-17T00:00:00",
          "2019-03-16T00:00:00",
          "2019-03-15T00:00:00",
          "2019-03-14T00:00:00",
          "2019-03-13T00:00:00",
          "2019-03-12T00:00:00",
          "2019-03-11T00:00:00",
          "2019-03-10T00:00:00",
          "2019-03-09T00:00:00",
          "2019-03-08T00:00:00",
          "2019-03-07T00:00:00",
          "2019-03-06T00:00:00",
          "2019-03-05T00:00:00",
          "2019-03-04T00:00:00",
          "2019-03-03T00:00:00",
          "2019-03-02T00:00:00",
          "2019-03-01T00:00:00",
          "2019-02-28T00:00:00",
          "2019-02-27T00:00:00",
          "2019-02-26T00:00:00",
          "2019-02-25T00:00:00",
          "2019-02-24T00:00:00",
          "2019-02-23T00:00:00",
          "2019-02-22T00:00:00",
          "2019-02-21T00:00:00",
          "2019-02-20T00:00:00",
          "2019-02-19T00:00:00",
          "2019-02-18T00:00:00",
          "2019-02-17T00:00:00",
          "2019-02-16T00:00:00",
          "2019-02-15T00:00:00",
          "2019-02-14T00:00:00",
          "2019-02-13T00:00:00",
          "2019-02-12T00:00:00",
          "2019-02-11T00:00:00",
          "2019-02-10T00:00:00",
          "2019-02-09T00:00:00",
          "2019-02-08T00:00:00",
          "2019-02-07T00:00:00",
          "2019-02-06T00:00:00",
          "2019-02-05T00:00:00",
          "2019-02-04T00:00:00",
          "2019-02-03T00:00:00",
          "2019-02-02T00:00:00",
          "2019-02-01T00:00:00",
          "2019-01-31T00:00:00",
          "2019-01-30T00:00:00",
          "2019-01-29T00:00:00",
          "2019-01-28T00:00:00",
          "2019-01-27T00:00:00",
          "2019-01-26T00:00:00",
          "2019-01-25T00:00:00",
          "2019-01-24T00:00:00",
          "2019-01-23T00:00:00",
          "2019-01-22T00:00:00",
          "2019-01-21T00:00:00",
          "2019-01-20T00:00:00",
          "2019-01-19T00:00:00",
          "2019-01-18T00:00:00",
          "2019-01-17T00:00:00",
          "2019-01-16T00:00:00",
          "2019-01-15T00:00:00",
          "2019-01-14T00:00:00",
          "2019-01-13T00:00:00",
          "2019-01-12T00:00:00",
          "2019-01-11T00:00:00",
          "2019-01-10T00:00:00",
          "2019-01-09T00:00:00",
          "2019-01-08T00:00:00",
          "2019-01-07T00:00:00",
          "2019-01-06T00:00:00",
          "2019-01-05T00:00:00",
          "2019-01-04T00:00:00",
          "2019-01-03T00:00:00",
          "2019-01-02T00:00:00",
          "2019-01-01T00:00:00",
          "2018-12-31T00:00:00",
          "2018-12-30T00:00:00",
          "2018-12-29T00:00:00",
          "2018-12-28T00:00:00",
          "2018-12-27T00:00:00",
          "2018-12-26T00:00:00",
          "2018-12-25T00:00:00",
          "2018-12-24T00:00:00",
          "2018-12-23T00:00:00",
          "2018-12-22T00:00:00",
          "2018-12-21T00:00:00",
          "2018-12-20T00:00:00",
          "2018-12-19T00:00:00",
          "2018-12-18T00:00:00",
          "2018-12-17T00:00:00",
          "2018-12-16T00:00:00",
          "2018-12-15T00:00:00",
          "2018-12-14T00:00:00",
          "2018-12-13T00:00:00",
          "2018-12-12T00:00:00",
          "2018-12-11T00:00:00",
          "2018-12-10T00:00:00",
          "2018-12-09T00:00:00",
          "2018-12-08T00:00:00",
          "2018-12-07T00:00:00",
          "2018-12-06T00:00:00",
          "2018-12-05T00:00:00",
          "2018-12-04T00:00:00",
          "2018-12-03T00:00:00",
          "2018-12-02T00:00:00",
          "2018-12-01T00:00:00",
          "2018-11-30T00:00:00",
          "2018-11-29T00:00:00",
          "2018-11-28T00:00:00",
          "2018-11-27T00:00:00",
          "2018-11-26T00:00:00",
          "2018-11-25T00:00:00",
          "2018-11-24T00:00:00",
          "2018-11-23T00:00:00",
          "2018-11-22T00:00:00",
          "2018-11-21T00:00:00",
          "2018-11-20T00:00:00",
          "2018-11-19T00:00:00",
          "2018-11-18T00:00:00",
          "2018-11-17T00:00:00",
          "2018-11-16T00:00:00",
          "2018-11-15T00:00:00",
          "2018-11-14T00:00:00",
          "2018-11-13T00:00:00",
          "2018-11-12T00:00:00",
          "2018-11-11T00:00:00",
          "2018-11-10T00:00:00",
          "2018-11-09T00:00:00",
          "2018-11-08T00:00:00",
          "2018-11-07T00:00:00",
          "2018-11-06T00:00:00",
          "2018-11-05T00:00:00",
          "2018-11-04T00:00:00",
          "2018-11-03T00:00:00",
          "2018-11-02T00:00:00",
          "2018-11-01T00:00:00",
          "2018-10-31T00:00:00",
          "2018-10-30T00:00:00",
          "2018-10-29T00:00:00",
          "2018-10-28T00:00:00",
          "2018-10-27T00:00:00",
          "2018-10-26T00:00:00",
          "2018-10-25T00:00:00",
          "2018-10-24T00:00:00",
          "2018-10-23T00:00:00",
          "2018-10-22T00:00:00",
          "2018-10-21T00:00:00",
          "2018-10-20T00:00:00",
          "2018-10-19T00:00:00",
          "2018-10-18T00:00:00",
          "2018-10-17T00:00:00",
          "2018-10-16T00:00:00",
          "2018-10-15T00:00:00",
          "2018-10-14T00:00:00",
          "2018-10-13T00:00:00",
          "2018-10-12T00:00:00",
          "2018-10-11T00:00:00",
          "2018-10-10T00:00:00",
          "2018-10-09T00:00:00",
          "2018-10-08T00:00:00",
          "2018-10-07T00:00:00",
          "2018-10-06T00:00:00",
          "2018-10-05T00:00:00",
          "2018-10-04T00:00:00",
          "2018-10-03T00:00:00",
          "2018-10-02T00:00:00",
          "2018-10-01T00:00:00",
          "2018-09-30T00:00:00",
          "2018-09-29T00:00:00",
          "2018-09-28T00:00:00",
          "2018-09-27T00:00:00",
          "2018-09-26T00:00:00",
          "2018-09-25T00:00:00",
          "2018-09-24T00:00:00",
          "2018-09-23T00:00:00",
          "2018-09-22T00:00:00",
          "2018-09-21T00:00:00",
          "2018-09-20T00:00:00",
          "2018-09-19T00:00:00",
          "2018-09-18T00:00:00",
          "2018-09-17T00:00:00",
          "2018-09-16T00:00:00",
          "2018-09-15T00:00:00",
          "2018-09-14T00:00:00",
          "2018-09-13T00:00:00",
          "2018-09-12T00:00:00",
          "2018-09-11T00:00:00",
          "2018-09-10T00:00:00",
          "2018-09-09T00:00:00",
          "2018-09-08T00:00:00",
          "2018-09-07T00:00:00",
          "2018-09-06T00:00:00",
          "2018-09-05T00:00:00",
          "2018-09-04T00:00:00",
          "2018-09-03T00:00:00",
          "2018-09-02T00:00:00",
          "2018-09-01T00:00:00",
          "2018-08-31T00:00:00",
          "2018-08-30T00:00:00",
          "2018-08-29T00:00:00",
          "2018-08-28T00:00:00",
          "2018-08-27T00:00:00",
          "2018-08-26T00:00:00",
          "2018-08-25T00:00:00",
          "2018-08-24T00:00:00",
          "2018-08-23T00:00:00",
          "2018-08-22T00:00:00",
          "2018-08-21T00:00:00",
          "2018-08-20T00:00:00",
          "2018-08-19T00:00:00",
          "2018-08-18T00:00:00",
          "2018-08-17T00:00:00",
          "2018-08-16T00:00:00",
          "2018-08-15T00:00:00",
          "2018-08-14T00:00:00",
          "2018-08-13T00:00:00",
          "2018-08-12T00:00:00",
          "2018-08-11T00:00:00",
          "2018-08-10T00:00:00",
          "2018-08-09T00:00:00",
          "2018-08-08T00:00:00",
          "2018-08-07T00:00:00",
          "2018-08-06T00:00:00",
          "2018-08-05T00:00:00",
          "2018-08-04T00:00:00",
          "2018-08-03T00:00:00",
          "2018-08-02T00:00:00",
          "2018-08-01T00:00:00",
          "2018-07-31T00:00:00",
          "2018-07-30T00:00:00",
          "2018-07-29T00:00:00",
          "2018-07-28T00:00:00",
          "2018-07-27T00:00:00",
          "2018-07-26T00:00:00",
          "2018-07-25T00:00:00",
          "2018-07-24T00:00:00",
          "2018-07-23T00:00:00",
          "2018-07-22T00:00:00",
          "2018-07-21T00:00:00",
          "2018-07-20T00:00:00",
          "2018-07-19T00:00:00",
          "2018-07-18T00:00:00",
          "2018-07-17T00:00:00",
          "2018-07-16T00:00:00",
          "2018-07-15T00:00:00",
          "2018-07-14T00:00:00",
          "2018-07-13T00:00:00",
          "2018-07-12T00:00:00",
          "2018-07-11T00:00:00",
          "2018-07-10T00:00:00",
          "2018-07-09T00:00:00",
          "2018-07-08T00:00:00",
          "2018-07-07T00:00:00",
          "2018-07-06T00:00:00",
          "2018-07-05T00:00:00",
          "2018-07-04T00:00:00",
          "2018-07-03T00:00:00",
          "2018-07-02T00:00:00",
          "2018-07-01T00:00:00",
          "2018-06-30T00:00:00",
          "2018-06-29T00:00:00",
          "2018-06-28T00:00:00",
          "2018-06-27T00:00:00",
          "2018-06-26T00:00:00",
          "2018-06-25T00:00:00",
          "2018-06-24T00:00:00",
          "2018-06-23T00:00:00",
          "2018-06-22T00:00:00",
          "2018-06-21T00:00:00",
          "2018-06-20T00:00:00",
          "2018-06-19T00:00:00",
          "2018-06-18T00:00:00",
          "2018-06-17T00:00:00",
          "2018-06-16T00:00:00",
          "2018-06-15T00:00:00",
          "2018-06-14T00:00:00",
          "2018-06-13T00:00:00",
          "2018-06-12T00:00:00",
          "2018-06-11T00:00:00",
          "2018-06-10T00:00:00",
          "2018-06-09T00:00:00",
          "2018-06-08T00:00:00",
          "2018-06-07T00:00:00",
          "2018-06-06T00:00:00",
          "2018-06-05T00:00:00",
          "2018-06-04T00:00:00",
          "2018-06-03T00:00:00",
          "2018-06-02T00:00:00",
          "2018-06-01T00:00:00",
          "2018-05-31T00:00:00",
          "2018-05-30T00:00:00",
          "2018-05-29T00:00:00",
          "2018-05-28T00:00:00",
          "2018-05-27T00:00:00",
          "2018-05-26T00:00:00",
          "2018-05-25T00:00:00",
          "2018-05-24T00:00:00",
          "2018-05-23T00:00:00",
          "2018-05-22T00:00:00",
          "2018-05-21T00:00:00",
          "2018-05-20T00:00:00",
          "2018-05-19T00:00:00",
          "2018-05-18T00:00:00",
          "2018-05-17T00:00:00",
          "2018-05-16T00:00:00",
          "2018-05-15T00:00:00",
          "2018-05-14T00:00:00",
          "2018-05-13T00:00:00",
          "2018-05-12T00:00:00",
          "2018-05-11T00:00:00",
          "2018-05-10T00:00:00",
          "2018-05-09T00:00:00",
          "2018-05-08T00:00:00",
          "2018-05-07T00:00:00",
          "2018-05-06T00:00:00",
          "2018-05-05T00:00:00",
          "2018-05-04T00:00:00",
          "2018-05-03T00:00:00",
          "2018-05-02T00:00:00",
          "2018-05-01T00:00:00",
          "2018-04-30T00:00:00",
          "2018-04-29T00:00:00",
          "2018-04-28T00:00:00",
          "2018-04-27T00:00:00",
          "2018-04-26T00:00:00",
          "2018-04-25T00:00:00",
          "2018-04-24T00:00:00",
          "2018-04-23T00:00:00",
          "2018-04-22T00:00:00",
          "2018-04-21T00:00:00",
          "2018-04-20T00:00:00",
          "2018-04-19T00:00:00",
          "2018-04-18T00:00:00",
          "2018-04-17T00:00:00",
          "2018-04-13T00:00:00",
          "2018-04-12T00:00:00",
          "2018-04-11T00:00:00",
          "2018-04-10T00:00:00",
          "2018-04-09T00:00:00",
          "2018-04-08T00:00:00",
          "2018-04-07T00:00:00",
          "2018-04-06T00:00:00",
          "2018-04-05T00:00:00",
          "2018-04-04T00:00:00",
          "2018-04-03T00:00:00",
          "2018-04-02T00:00:00",
          "2018-04-01T00:00:00",
          "2018-03-31T00:00:00",
          "2018-03-30T00:00:00",
          "2018-03-29T00:00:00",
          "2018-03-28T00:00:00",
          "2018-03-27T00:00:00",
          "2018-03-26T00:00:00",
          "2018-03-25T00:00:00",
          "2018-03-24T00:00:00",
          "2018-03-23T00:00:00",
          "2018-03-22T00:00:00",
          "2018-03-21T00:00:00",
          "2018-03-20T00:00:00",
          "2018-03-19T00:00:00",
          "2018-03-18T00:00:00",
          "2018-03-17T00:00:00",
          "2018-03-16T00:00:00",
          "2018-03-15T00:00:00",
          "2018-03-14T00:00:00",
          "2018-03-13T00:00:00",
          "2018-03-12T00:00:00",
          "2018-03-11T00:00:00",
          "2018-03-10T00:00:00",
          "2018-03-09T00:00:00",
          "2018-03-08T00:00:00",
          "2018-03-07T00:00:00",
          "2018-03-06T00:00:00",
          "2018-03-05T00:00:00",
          "2018-03-04T00:00:00",
          "2018-03-03T00:00:00",
          "2018-03-02T00:00:00",
          "2018-03-01T00:00:00",
          "2018-02-28T00:00:00",
          "2018-02-27T00:00:00",
          "2018-02-26T00:00:00",
          "2018-02-25T00:00:00",
          "2018-02-24T00:00:00",
          "2018-02-23T00:00:00",
          "2018-02-22T00:00:00",
          "2018-02-21T00:00:00",
          "2018-02-20T00:00:00",
          "2018-02-19T00:00:00",
          "2018-02-18T00:00:00",
          "2018-02-17T00:00:00",
          "2018-02-16T00:00:00",
          "2018-02-15T00:00:00",
          "2018-02-14T00:00:00",
          "2018-02-13T00:00:00",
          "2018-02-12T00:00:00",
          "2018-02-11T00:00:00",
          "2018-02-10T00:00:00",
          "2018-02-09T00:00:00",
          "2018-02-08T00:00:00",
          "2018-02-07T00:00:00",
          "2018-02-06T00:00:00",
          "2018-02-05T00:00:00",
          "2018-02-04T00:00:00",
          "2018-02-03T00:00:00",
          "2018-02-02T00:00:00",
          "2018-02-01T00:00:00"
         ],
         "y": [
          0.7910542820053973,
          0.7745657313431098,
          0.780172201304311,
          0.7829748756939747,
          0.794846895928944,
          0.7941827714187892,
          0.7961830109396484,
          0.7976824908463033,
          0.79688574565451,
          0.7908987316937154,
          0.7794557944627681,
          0.780532159201983,
          0.7856780526423706,
          0.784790286312784,
          0.785268853801138,
          0.7868676203984356,
          0.7893983459795961,
          0.8012687258827687,
          0.8098318013107676,
          0.8106650546722424,
          0.8142457213851867,
          0.8184044716287704,
          0.8213193137962368,
          0.8180512986582653,
          0.814227937476456,
          0.8107045342226831,
          0.8136457354422034,
          0.8110946676325832,
          0.8087239422832846,
          0.8072319908912536,
          0.8072383158452271,
          0.808611952163366,
          0.8045469579695396,
          0.7948326079197726,
          0.7824832138895356,
          0.7676976438626941,
          0.7568357069077625,
          0.7301744977009929,
          0.7007657703843365,
          0.6752474666403351,
          0.651615633336426,
          0.6297387271027617,
          0.6094974169260283,
          0.5907831961127387,
          0.5756761483193327,
          0.5580439373642235,
          0.5380300656767275,
          0.5220523015804464,
          0.5186770682152321,
          0.5169814495118636,
          0.5138409351281191,
          0.5098313040519603,
          0.5084592839082974,
          0.5051846593289004,
          0.49283350356287564,
          0.4876837415194515,
          0.4770296135857446,
          0.46631018610793307,
          0.46299317988906014,
          0.45933644615804053,
          0.4567307692819814,
          0.4687763261617674,
          0.48039256041395606,
          0.48891324462513924,
          0.4966931388963931,
          0.5050877417356183,
          0.5131969973300585,
          0.5197290110470635,
          0.5269077130809066,
          0.5338502723486054,
          0.5401405158988725,
          0.5487699182504204,
          0.5541766631689987,
          0.5610867812263306,
          0.566948440754193,
          0.5751109715770135,
          0.5830227687928783,
          0.5894658851035607,
          0.5965288108594634,
          0.600140035521241,
          0.603644110396909,
          0.6082482689495564,
          0.6123188500987333,
          0.6162715272647936,
          0.6197150679730468,
          0.6250292852110026,
          0.6278404832282175,
          0.6305726471713037,
          0.6332285399189549,
          0.6361980894845316,
          0.6367712190916098,
          0.6407874034028976,
          0.6427800779220272,
          0.638233787690928,
          0.6330492581933425,
          0.624972579074372,
          0.6193751785887192,
          0.6139253269110743,
          0.6131189506916915,
          0.612333590918048,
          0.6089596021645002,
          0.6045578362940056,
          0.6002689535260095,
          0.5894398961012067,
          0.5766754382731298,
          0.5646007541234701,
          0.5509976966838257,
          0.538100350435422,
          0.5247952072007803,
          0.5078207675824927,
          0.4945291097862931,
          0.4833729255104321,
          0.4706849779421618,
          0.45686569026074625,
          0.4458966976387232,
          0.43447572768074355,
          0.42368734308748623,
          0.4128006081177978,
          0.4039550705877724,
          0.39354237819678617,
          0.38337652951923173,
          0.37345081193121826,
          0.3637587323981687,
          0.3571165430665839,
          0.34781220599178336,
          0.34188869144242073,
          0.335400863037189,
          0.32801218398906185,
          0.31974472211415234,
          0.3141119606271023,
          0.3086084302920235,
          0.30218645918026665,
          0.2959109754927018,
          0.28873703510763327,
          0.28103270359537974,
          0.2759251438661079,
          0.2692048975603303,
          0.25987497574650403,
          0.24937587683006518,
          0.24358650138354315,
          0.23723892213760994,
          0.23171945376532646,
          0.22700851226751373,
          0.2227445611120264,
          0.2209696375212,
          0.22094241134504647,
          0.21750263171564224,
          0.21243379325860087,
          0.20917902739159946,
          0.20361406677542873,
          0.19817072373652894,
          0.1904695234126415,
          0.18259680148562366,
          0.17557283445907054,
          0.16937825339229964,
          0.16568522524102997,
          0.1630856997719336,
          0.15952947371555365,
          0.1557125415917161,
          0.15096665317875885,
          0.1456491918755878,
          0.1377541089296816,
          0.13271738820941958,
          0.12879601658032183,
          0.12697221320376634,
          0.12351027382285998,
          0.12012197512839588,
          0.11278678938978978,
          0.10694586249116077,
          0.10055979764457246,
          0.09664826047180763,
          0.09014751455650517,
          0.08778907888884122,
          0.08481324798608088,
          0.08390007866093471,
          0.0806741778139318,
          0.07984653246992,
          0.07870351048832075,
          0.079247143395702,
          0.09207647107509005,
          0.10231245104787226,
          0.11598656388219027,
          0.12970726655054451,
          0.1411522488143311,
          0.1513645909849918,
          0.16169586451243567,
          0.16618315517248006,
          0.17719688339282014,
          0.18566647122054525,
          0.1956139404895727,
          0.2060165495282495,
          0.21058768176706963,
          0.21539459117405665,
          0.2224128826372185,
          0.22631683750871845,
          0.22255455088152334,
          0.2201884863085297,
          0.21984844207035403,
          0.22544509395976167,
          0.2342197827318252,
          0.2454477568752351,
          0.2564453502662819,
          0.26754639519013285,
          0.2800641419168816,
          0.2913394141053089,
          0.3030411876556092,
          0.31483217281227255,
          0.32506860356323264,
          0.33476767663023754,
          0.3442687827971574,
          0.3542322692142118,
          0.3620246438835729,
          0.3696582493950449,
          0.37811983951051165,
          0.38608149870107683,
          0.3948640989198157,
          0.4021579757117237,
          0.41028601401925424,
          0.4179216042650216,
          0.4257294893825889,
          0.4333789588431311,
          0.44152756439871965,
          0.4482027821363365,
          0.45474275669130454,
          0.4618040967128042,
          0.46578101482113926,
          0.4660831022221958,
          0.46833922329370437,
          0.47218284464492416,
          0.47627534885530554,
          0.48159114275937676,
          0.4877788757261318,
          0.49449443850660235,
          0.49976930210936255,
          0.5052640164115015,
          0.5103217668022327,
          0.5152775803247814,
          0.5217638750266693,
          0.52877155151075,
          0.534334314979346,
          0.5384815081681118,
          0.5435228046067222,
          0.5468337088662044,
          0.554312754765752,
          0.5616414564444777,
          0.5671946310385423,
          0.572961843595331,
          0.5786132248041491,
          0.5864297059094856,
          0.5921364894171256,
          0.597728749767126,
          0.5901936431873583,
          0.5883404057478869,
          0.5868496262029833,
          0.585063476918325,
          0.5911183197950268,
          0.5960763047859573,
          0.606787482267868,
          0.617284132453313,
          0.6265954008091219,
          0.6357202628520202,
          0.6453124807919324,
          0.6540628277889573,
          0.6639378195874338,
          0.6736152855783987,
          0.6824494906148338,
          0.691756719738746,
          0.6999034896671236,
          0.7078874290341021,
          0.7160365614308074,
          0.7236981649710829,
          0.7321807637605202,
          0.7365980941594678,
          0.7419010923012879,
          0.7464490111242781,
          0.7499324210298892,
          0.7530217559736572,
          0.755400394559893,
          0.7570825767597724,
          0.7590556715540445,
          0.7613138570908706,
          0.7628781527524048,
          0.7647356563592008,
          0.7594197565771625,
          0.7616700769945658,
          0.7616051832050472,
          0.7625145296767112,
          0.7621085746587329,
          0.7630078071420425,
          0.7528644629798237,
          0.7542714179397233,
          0.7566229966338476,
          0.7595761352886894,
          0.7621462858667784,
          0.7646652599964059,
          0.7687547993891256,
          0.7740594308075481,
          0.7776379250955706,
          0.7795247320929779,
          0.7833184472475029,
          0.788981032309639,
          0.7958271255022139,
          0.8022129823183745,
          0.8084718007655347,
          0.8139581199771633,
          0.820631257109494,
          0.8265237341031697,
          0.8326229868878823,
          0.8382770124875246,
          0.8441425478020641,
          0.8498914663030497,
          0.855850000281432,
          0.8603945186173337,
          0.8648487053412617,
          0.8695382304290299,
          0.8738106994061646,
          0.878645951941504,
          0.8837089550121164,
          0.8860807805723637,
          0.8906721593707547,
          0.8935533178708275,
          0.8976723995186222,
          0.9017096569981419,
          0.9059904904534904,
          0.9108338168717757,
          0.914609699294594,
          0.9183105933099484,
          0.9216142609333012,
          0.9261472153666226,
          0.9292953073838408,
          0.9320571880666816,
          0.9344405372697913,
          0.9383950082652566,
          0.9396815372359374,
          0.9438555708641153,
          0.947623085050937,
          0.9516394724883421,
          0.9549288444329188,
          0.9578292897595798,
          0.9606721711798986,
          0.9634586336534775,
          0.9671606576141933,
          0.9685239306031153,
          0.9701837578298672,
          0.9711634516917489,
          0.9718001141287121,
          0.9746892499853077,
          0.9778446457176055,
          0.9789959958120859,
          0.9807716412835926,
          0.9838063113741219,
          0.9858101126639034,
          0.9861564107644133,
          0.9890842038815368,
          0.9909833038627366,
          0.9912270623072655,
          0.9927601046742595,
          0.9929686438550108,
          0.9944671254974956,
          0.9956123747641971,
          0.9960878924642146,
          0.99623047510092,
          0.9976642327961451,
          0.9990695597032669,
          0.9978590867644118,
          0.9986135398865844,
          1,
          0.9955363487369048,
          0.9918081477846057,
          0.9871834511054154,
          0.982650443463702,
          0.9785307680225679,
          0.9748162245907006,
          0.9714987760357181,
          0.9659829284426665,
          0.9615467708026545,
          0.9542875466926906,
          0.95170040402168,
          0.9494879830681456,
          0.9463491116022003,
          0.943595889455552,
          0.9405738108340957,
          0.9337305249592093,
          0.9254057632096158,
          0.9169225794220277,
          0.9086075301290182,
          0.9007806939165991,
          0.8918153336813963,
          0.8843212887763073,
          0.8760055465605878,
          0.8688248153510172,
          0.8604927879342386,
          0.8532960737315266,
          0.8455951866093484,
          0.8364299410982166,
          0.8267995374278161,
          0.8163898069108255,
          0.8074798994929251,
          0.7971296285458148,
          0.7869844523676461,
          0.7763935451728242,
          0.7663358728963854,
          0.7577709909934115,
          0.7506693101545174,
          0.7424148574925833,
          0.7336772187744727,
          0.7264061745539111,
          0.7186324632883575,
          0.7113361378410296,
          0.7019208401840656,
          0.6939855264684872,
          0.684913997336488,
          0.6789324078484283,
          0.6743627470696253,
          0.6685902058195886,
          0.6632553805343413,
          0.6577028959020296,
          0.6506436690525392,
          0.645017683174368,
          0.6369163862749034,
          0.6286522380534859,
          0.6215218369332726,
          0.6145326922774335,
          0.6067119835957541,
          0.5990462040844758,
          0.5925022964109624,
          0.5860880222389773,
          0.5798008125613846,
          0.5736381493212132,
          0.5672742316677925,
          0.573646308698517,
          0.5811854824928274,
          0.5859886793065143,
          0.5906967306603069,
          0.5953115219033742,
          0.6011282050055781,
          0.6052130442468561,
          0.6095402938805632,
          0.6141051517132255,
          0.6182562668571404,
          0.6232951201022775,
          0.6275875248234822,
          0.6324415452690031,
          0.6381693740710302,
          0.6418438454420523,
          0.6470621175169003,
          0.6528236612739323,
          0.6587944001933674,
          0.6643235626763876,
          0.6687732701727876,
          0.672811530801044,
          0.6757998720853033,
          0.6787290244032623,
          0.6845099507395794,
          0.6882365215893171,
          0.692212591241176,
          0.6954632939833736,
          0.6986496127014777,
          0.7024194359386908,
          0.7048213704639553,
          0.7062058167208275,
          0.7085327566173614,
          0.7124301295207877,
          0.7146337953491753,
          0.7167938161726837,
          0.7192343587497054,
          0.7200100571205467,
          0.7223868977017465,
          0.7188972551465553,
          0.7145068260963243,
          0.7102033504734104,
          0.7053385080507175,
          0.7012166111006499,
          0.6955598589512105,
          0.6880753541507411,
          0.680739079328384,
          0.6725782089820831,
          0.6655488510494882,
          0.6576888210895566,
          0.6506310467997143,
          0.6440363438330379,
          0.6372489519542566,
          0.6305959811895369,
          0.6234281822001153,
          0.617372216475054,
          0.6104663075060762,
          0.6046670422248034,
          0.5989826272656453,
          0.5930874963351557,
          0.5863392403162074,
          0.5790780462229447,
          0.5726072345026828,
          0.5665878612813393,
          0.5610109856566781,
          0.5555445544034088,
          0.5508329582973741,
          0.5452448038041658,
          0.5394440279031592,
          0.5347279941674955,
          0.5291354921196245,
          0.5246236054494273,
          0.5224640821699842,
          0.5174377420663486,
          0.5115410815772122,
          0.5054379098322198,
          0.4997788890359599,
          0.49455522296675686,
          0.48975828963587537,
          0.48440978140515767,
          0.4794904774131545,
          0.4740220225568937,
          0.46963171603448867,
          0.4646817833522165,
          0.4598298759312729,
          0.4596000296822984,
          0.4600213028983547,
          0.4597876661969458,
          0.4598819397186068,
          0.460297629575887,
          0.46070508744493527,
          0.4607811934936247,
          0.4611790750735871,
          0.45962938245265766,
          0.4606966369569505,
          0.4598030638108881,
          0.4592504680912967,
          0.45773897013146303,
          0.4562574043918429,
          0.452542208040344,
          0.44825402108824347,
          0.444050752917446,
          0.44057728371926247,
          0.43781916095797835,
          0.4341458150626497,
          0.43119177301630635,
          0.4305591920033603,
          0.4309089785596886,
          0.43060527818671396,
          0.4303075919352704,
          0.4267830025652552,
          0.42365148954584203,
          0.42155182780578554,
          0.4182006274192936,
          0.4152390692671487,
          0.4116895996439802,
          0.4085336981845243,
          0.4080265236821425,
          0.4101156233045592,
          0.41184007446626497,
          0.4115907052155495,
          0.40908332454949176,
          0.40597903978039673,
          0.4042293411673797,
          0.4028375693342546,
          0.3998569676546624,
          0.39693538955613145,
          0.3953647778403196,
          0.38800626746694605,
          0.38079347427538685,
          0.3743700678967319,
          0.3658109182566129,
          0.3583910936264038,
          0.3498250905054286,
          0.34110543823194683,
          0.33255845665448164,
          0.3235341721007622,
          0.314042036414909,
          0.30506114522201633,
          0.2969046513855472,
          0.2879398454120888,
          0.2785060107476183,
          0.27087537223574404,
          0.26242600880786804,
          0.2528508567544308,
          0.24314203905611656,
          0.2352418611798835,
          0.22749812554433235,
          0.22217066829363868,
          0.21662543099474857,
          0.2108667262240796,
          0.20263584828128223,
          0.19456796091917938,
          0.18665983648785653,
          0.17955486316728544,
          0.1725905847441463,
          0.16511766339133033,
          0.15779272306044226,
          0.14996628184973232,
          0.14294137346017916,
          0.1347624716892776,
          0.12803863316937567,
          0.12209449300835307,
          0.11594478476767489,
          0.10959357917128981,
          0.10272159091536005,
          0.09630895883618902,
          0.08937676058395608,
          0.08258183535697027,
          0.07689129054923657,
          0.0709901559882764,
          0.06423605149525154,
          0.057938968369156636,
          0.05273640668951999,
          0.04634376699595489,
          0.040724265684231487,
          0.03650914278054523,
          0.03334731340019278,
          0.029924820251207965,
          0.02689337482604783,
          0.02909435618580229,
          0.032868127396592006,
          0.03689044451854889,
          0.04147966053927558,
          0.045654725420989424,
          0.04910056560596052,
          0.05247817071705125,
          0.05611216660262876,
          0.059350926944027334,
          0.06317210203163388,
          0.06659433510412477,
          0.07059534968467365,
          0.0754869591212025,
          0.08092825319557959,
          0.08626179804520431,
          0.09051990407335897,
          0.09501696495016476,
          0.09942497447266699,
          0.10568534219282026,
          0.11279156437356241,
          0.11846397108072328,
          0.12725679504833404,
          0.13749187389271436,
          0.14720100236112416,
          0.15736441810604898,
          0.16603348002394583,
          0.17162140862154965,
          0.17871505535651885,
          0.1853449588742379,
          0.19184357642708919,
          0.19821350776642863,
          0.20607367164190815,
          0.2111919952453288,
          0.2171787875589116,
          0.2240168510545793,
          0.23007295861186106,
          0.2360091426542552,
          0.2411812299339817,
          0.2468974471206472,
          0.2525004713606871,
          0.257022722263609,
          0.26016232749338053,
          0.26065357066397965,
          0.26081181229588085,
          0.2606436465211921,
          0.263388275716969,
          0.2670483772076078,
          0.2696661795840328,
          0.2719088702441302,
          0.27572352017668655,
          0.27881608456557283,
          0.28281723125427444,
          0.28706242082703926,
          0.2909002731594459,
          0.2953086757008103,
          0.2973668665091585,
          0.2980912059213589,
          0.3004175706390482,
          0.2997884050024083,
          0.30014151929304994,
          0.30275055717767607,
          0.3017519200755862,
          0.30109633171563044,
          0.2998071779756643,
          0.2982202784311886,
          0.29666480272706147,
          0.2954634022613246,
          0.2936392446728603,
          0.29217448274970637,
          0.291385273348131,
          0.28964187102765054,
          0.2879329916101619,
          0.28658122507711337,
          0.28557949986031816,
          0.27910195977658636,
          0.27372250885660454,
          0.27103577056990164,
          0.2641996787278816,
          0.2584687760192868,
          0.25285135677008197,
          0.24669862667440204,
          0.23872809180413346,
          0.23350157791293882,
          0.22870183307677092,
          0.22302731229942654,
          0.21940479958929462,
          0.2142376523718008,
          0.20949609859040916,
          0.20387861662375503,
          0.20031201308796107,
          0.19875567642441994,
          0.1959370644199577,
          0.19446736052321026,
          0.1920569392963476,
          0.18710806150070008,
          0.18322700182788004,
          0.18071588877547998,
          0.17825450080660252,
          0.17487203291192827,
          0.17575909947039012,
          0.17436568623996473,
          0.17332313882503336,
          0.1684219547464627,
          0.1639410973722743,
          0.15825587626143772,
          0.15397632760864913,
          0.1504280694300577,
          0.1459802536354247,
          0.14485324759372756,
          0.14439510533944683,
          0.14394603521922392,
          0.14544549797462142,
          0.14691526836612054,
          0.1493257545359062,
          0.15071868809344988,
          0.15305385893355122,
          0.1543729685770685,
          0.1559892305900545,
          0.15789676075893552,
          0.15944324464574777,
          0.16063583169208936,
          0.16309789659613938,
          0.16939048805454873,
          0.17523520027300882,
          0.18128744887501827,
          0.18560348409555136,
          0.19209696666818193,
          0.1968454985760649,
          0.20085345338101165,
          0.20510531602784812,
          0.21024280333788356,
          0.21560183149053544,
          0.22020819352193713,
          0.22407679372842376,
          0.22883860793568672,
          0.22413120213677618,
          0.2182239190423853,
          0.21663616517137976,
          0.21701949193750938,
          0.2167486814251612,
          0.21648323350052828,
          0.21751613524713345,
          0.21820531016520892,
          0.21888083804726524,
          0.21954298913195064,
          0.2198687549957127,
          0.21954152342844307,
          0.2195440450050895,
          0.2195465166494988,
          0.21987221265448112,
          0.2208380058351947,
          0.22049158118573006,
          0.22079856303213508,
          0.21722018645475008,
          0.215329035333546,
          0.21315205947181518,
          0.21069491876905905,
          0.21054934738214698,
          0.21105320517910148,
          0.21122381230063736,
          0.20783503489670765,
          0.20645300174167394,
          0.20477506230554607,
          0.20054416313474777,
          0.19251776478572627,
          0.1856201249217449,
          0.18661763076205135,
          0.1882419305625347,
          0.18854097288737984,
          0.18883409357998204,
          0.19041450300341625,
          0.18873088443371064,
          0.18934351777171507,
          0.19091383957035435,
          0.19148324606340145,
          0.1920413771768902,
          0.19291172945540236,
          0.19344157376160034,
          0.19428419936602528,
          0.19478686604339102,
          0.19624939872011632,
          0.19768297034585972,
          0.19973470093541426,
          0.2004527101325713,
          0.20244959437214133,
          0.20376038981625558,
          0.20569177543031752,
          0.2069383692552626,
          0.20395772567674084,
          0.19974301172266662,
          0.19431866443839946,
          0.19029482302410153,
          0.18505756862949202,
          0.18380330133372594,
          0.18192732450920657,
          0.18364450154658657,
          0.18274148904148546,
          0.183795997494283,
          0.18288998507267026,
          0.17295026244229847,
          0.16514700554681977,
          0.16654991963689336,
          0.16501559399411134,
          0.15833927905018258,
          0.15373480787911623,
          0.1527775201030769,
          0.14602027006161544,
          0.13875028047856133,
          0.1426155415013688,
          0.14737408242912545,
          0.15106857507170812,
          0.15921573486859109,
          0.16752483798980816,
          0.17599267763640156,
          0.17912046536253795,
          0.18897505480400775,
          0.1979879573479167,
          0.20617584006512832,
          0.21387831322760387,
          0.22142826214963626,
          0.22753561414818238,
          0.2251169242012283,
          0.21983666994445525,
          0.21369115546933617,
          0.2066975146444264,
          0.20986383219829616,
          0.20553216588631976,
          0.207105193453319,
          0.20153506070932525,
          0.20254069239833747,
          0.2041729570621864,
          0.20577289965024928,
          0.20475497430623466,
          0.20634339179669964,
          0.20725380899935814,
          0.20135746017513123,
          0.20042696928388756,
          0.19369598571394347,
          0.201645584552651,
          0.21073085851970694,
          0.20929148254071317,
          0.2172555328622213,
          0.2318506171255459,
          0.24647996303063924,
          0.2575868865570467,
          0.2662109583519129,
          0.276280622601995,
          0.2845345213798964,
          0.29553443570202503,
          0.3072863496213572,
          0.3136331806389279,
          0.3205008782903937,
          0.3314351339362171,
          0.340859776727079,
          0.3462185141369994,
          0.36116933487034963,
          0.37679391942324364,
          0.3895229203956989,
          0.39973694931247905,
          0.4110418131419087,
          0.42179954503864425,
          0.4326675257599678,
          0.4423504792403459,
          0.45216496428746694,
          0.46210837631574964,
          0.47217816231557147,
          0.48075545368473466,
          0.4875465315453384,
          0.4916169467771313,
          0.49431366680740396,
          0.4959871667520847,
          0.49795080131119857,
          0.49502645358774555,
          0.4973323853970155,
          0.49959265518832663,
          0.49049360417537874,
          0.4838376449937703,
          0.475050574394204,
          0.47128660361568475,
          0.47535572437784557,
          0.47837444880571334,
          0.48101012328265197,
          0.4832703329566385,
          0.48936506472767816,
          0.4946925622826082,
          0.4999145648328654,
          0.50470988816176,
          0.5084404349097967,
          0.512743655895867,
          0.515345298449942,
          0.5182186965545091,
          0.5223282885902606,
          0.5260332293372727,
          0.5312811710494916,
          0.5354553734427873,
          0.5385770986828107,
          0.540990461128046,
          0.5465887664743664,
          0.5527227607375451,
          0.5590585629902735,
          0.5652689038090962,
          0.5703864479026397,
          0.5757259277122934,
          0.5793433091195437,
          0.5822425127597092,
          0.5831446670746611,
          0.5859685962977339,
          0.5848573274290757,
          0.5870007961342874,
          0.5887785466888923,
          0.5895512745871163,
          0.5861061490210454,
          0.5830525169892271,
          0.5771498938982096,
          0.5713641544349806,
          0.5650464376232139,
          0.5595003705657756,
          0.5537408533959923,
          0.5535910308863314,
          0.5557070877288319,
          0.5587510621275142,
          0.5594718472354494,
          0.5605016325948068,
          0.561511026164546,
          0.5621771585185072,
          0.563799919804396,
          0.5644207275312885,
          0.5614732365734316,
          0.5618168440119435,
          0.5592441883289231,
          0.5602784817842483,
          0.5548268297075588,
          0.5569184152819828,
          0.5579987636490134,
          0.5597042654258694,
          0.5616992681133842,
          0.5649478586905202,
          0.5668390278469407,
          0.5667531087684676,
          0.5673154375045856,
          0.5710993632511182,
          0.5712523543181688,
          0.572048862305572,
          0.5708899585182224,
          0.5700772765441258,
          0.5670177747206312,
          0.5636955838691701,
          0.5588228128604739,
          0.5537232591446952,
          0.5496945063605861,
          0.5450989844141181,
          0.5425341022407378,
          0.5419596491513224,
          0.5433362107080438,
          0.5424226010598124,
          0.5418503559147303,
          0.5412894423567726,
          0.5413861824436359,
          0.5401879139941734,
          0.5393366468557341,
          0.5385022364924412,
          0.5373610758840792,
          0.5368890589609703,
          0.5364263889076927,
          0.5356496074150985,
          0.5348882077343444,
          0.5338186120525231,
          0.5334167429284496,
          0.5284970064934778,
          0.5214117780250375,
          0.5147901243337858,
          0.5108857782783437,
          0.5060889263392944,
          0.5017103347903394,
          0.4964486283577969,
          0.49129111413242454,
          0.4865590021245511,
          0.48418350786195946,
          0.48896706398144973,
          0.4917162568829539,
          0.4937644638761712,
          0.49512556587028345,
          0.49645971534952915,
          0.4997070853606373,
          0.502243604570299,
          0.49664806512082743,
          0.49277969454430626,
          0.48898792536567837,
          0.4868876068365003,
          0.484828878773423,
          0.4795781853812575,
          0.4770176518932651,
          0.4725681827061,
          0.4688533682642577,
          0.46359574839417267,
          0.4523000485892074,
          0.43993493312059123,
          0.4300775839790247,
          0.4223550692030234,
          0.4121992897358278,
          0.40321443447933886,
          0.3947307703713432,
          0.3844754602804655,
          0.3760395917476191,
          0.36744749689494177,
          0.3635513676427392,
          0.36102548235297977,
          0.3591961610377941,
          0.355463424575423,
          0.3524511501306728,
          0.3482054317972346,
          0.34210414776280407,
          0.3370935009000972,
          0.33379844087717603,
          0.32927553668012494,
          0.3241956484988522,
          0.3188930789411126,
          0.31240241787348144,
          0.30701010441371135,
          0.2981685639980101,
          0.2911184697002361,
          0.2845312544523051,
          0.27710465944502555,
          0.2756440437184168,
          0.2758287171847195,
          0.27503991408521866,
          0.2742667308491059,
          0.27092267239766316,
          0.2692611990346115,
          0.27151190479584464,
          0.2688689437991853,
          0.265308498998581,
          0.25987891872485397,
          0.25520340133593106,
          0.24965064878460913,
          0.24453112495130347,
          0.2385431581624592,
          0.23525995074761719,
          0.2310719376758475,
          0.22922976810832893,
          0.22483789137225416,
          0.22247262182287278,
          0.21918436962915294,
          0.21822414389242395,
          0.21469674675298744,
          0.2092995597316611,
          0.20465579414442311,
          0.1981643449812702,
          0.19050834647926038,
          0.1823574054647806,
          0.17404459600137273,
          0.1671894895133127,
          0.16047012770834795,
          0.15420709579462807,
          0.1493611772017021,
          0.14299485128452738,
          0.135784771562224,
          0.1287174656959635,
          0.12243665292399865,
          0.11821985201226935,
          0.11182363955717337,
          0.1071704508828562,
          0.10196285811531344,
          0.09621183955343585,
          0.09251434187721858,
          0.08856678875519372,
          0.08340431211543557,
          0.07737424307105244,
          0.07340322066438508,
          0.06692464659180085,
          0.06251400044459007,
          0.0572208741602423,
          0.05267910870109315,
          0.048550552413321624,
          0.046443389045177266,
          0.0466408642356621,
          0.04618788258310656,
          0.04509732442105036,
          0.04370508824853112,
          0.04395678721718052,
          0.0509922397015129,
          0.06015128884618376,
          0.06783587779454144,
          0.07601484310781,
          0.0833853022686114,
          0.08899344563500293,
          0.09578362954380312,
          0.10146953470045175,
          0.10510320834618954,
          0.10866492805830703,
          0.11183284544559066,
          0.11332166568755749,
          0.11478100434055856,
          0.11394853264738526,
          0.11410236520693487,
          0.11392987835560968,
          0.11473062675022141,
          0.11583879196254379,
          0.11627846686612407,
          0.11541634244969007,
          0.11327819691761637,
          0.11053584445791637,
          0.10817106922890796,
          0.10682294089686714,
          0.10356186884600212,
          0.10036537247933962,
          0.09820199273513613,
          0.09672799863692105,
          0.09431337287599256,
          0.09226983470814132,
          0.08897366975642253,
          0.08509622895472543,
          0.0803257494943751,
          0.07500318853076601,
          0.07172566414329475,
          0.07142250022280015,
          0.07209515921289993,
          0.07113813211526217,
          0.07116987571390247,
          0.0728173568341518,
          0.07540203423050076,
          0.07534934412387585,
          0.07756060993648793,
          0.07875826864263254,
          0.08057875777786598,
          0.0820399244017443,
          0.08444197669767543,
          0.08841282970927868,
          0.09230505196815622,
          0.09450383441124209,
          0.09665907660791927,
          0.10071128007048574,
          0.10306687577264556,
          0.10440600635075,
          0.10442552660553363,
          0.10218174776990598,
          0.09998240019836006,
          0.0968567843992973,
          0.09508615486852053,
          0.09432040697324016,
          0.09227672951651453,
          0.08995024769880007,
          0.08670001516340357,
          0.08157450433917483,
          0.07784358166490889,
          0.07321671898300182,
          0.06803493090127143,
          0.06457211859215696,
          0.06085460360230716,
          0.05624088310612074,
          0.05268834307641707,
          0.05211560936772884,
          0.049291304369962076,
          0.046199652982323924,
          0.04413904207880889,
          0.0408261424655342,
          0.03919521093239846,
          0.036626755408639,
          0.034109160390307876,
          0.03131814551716698,
          0.02890567148680005,
          0.027510788883963678,
          0.025173708054265713,
          0.022559632831370066,
          0.0209671411388237,
          0.018759637492214862,
          0.01885875933970268,
          0.019279191599842135,
          0.018721478804152744,
          0.016558443718639643,
          0.015084787454086162,
          0.012670492837170668,
          0.009657459591434377,
          0.008320456477926765,
          0.00604010900906876,
          0.0038049169356382945,
          0.0025838057559187297,
          0.00074032855258287,
          0.0002264487343634182,
          0.00036929119714729946,
          0.0005093050963114441,
          0,
          0.002086965925185658,
          0.005748971899981965,
          0.010308282569496511,
          0.01477730985940912,
          0.022067300552977585,
          0.030829301102709903,
          0.03974106991255402,
          0.04847636805288261,
          0.05477577744185796,
          0.06289008537987836,
          0.07116698717428308,
          0.07766362381571625,
          0.08241524807948811,
          0.0877193272166833,
          0.0919485554193144,
          0.09738712941483581,
          0.10174818921127306,
          0.10537634494496555,
          0.1079628363461486,
          0.10952829043130935,
          0.10976965253965974,
          0.10903641553581034,
          0.10831769807659244,
          0.10890630553228181,
          0.10819016450877827,
          0.11007439026766117,
          0.11256785106838052,
          0.11468866318619483,
          0.1154743861384387,
          0.11624455022034033,
          0.11796928319284689,
          0.11836677015117773,
          0.11810983963762776,
          0.11656490397101514,
          0.11505056108988142,
          0.11194983908899009,
          0.10697087819475852,
          0.10338360347156769,
          0.09922081744841242,
          0.09611028249616053,
          0.09144497618794009,
          0.08654877896135629,
          0.08239608257830247,
          0.081881623243295,
          0.08428681021534931,
          0.08567455005811016,
          0.08638826346098477,
          0.08547147781769152,
          0.08327975345955642,
          0.080808156362263,
          0.07967859466774524,
          0.07566194153804548,
          0.07237137253708241,
          0.06914596331831864,
          0.064691330703043,
          0.06323436762809356,
          0.06665535362958018,
          0.07033187055550401,
          0.07328903872306462,
          0.07748074199111982,
          0.07641706969009421,
          0.08022355852938051,
          0.08363139813054743,
          0.08276920387994112,
          0.08095426311831952,
          0.07949853499921856,
          0.08227418505897459,
          0.07788286087826507,
          0.0755181329410114,
          0.07223041163505403,
          0.07030088660728423,
          0.06905611643890115,
          0.06848254162773826,
          0.0675970515121312,
          0.06802218874024728,
          0.07199491284585668,
          0.07297951015392139,
          0.0736213372640916,
          0.07619009425551578,
          0.0767683454428813,
          0.0776584193331815,
          0.08111705376990344,
          0.08450720039599596,
          0.08783021540572915,
          0.09238052102402629,
          0.09587090191608448,
          0.10640417722775182,
          0.11349614061531155,
          0.12335712807776932,
          0.13108320913278282,
          0.14221230392019135,
          0.15182792770701034,
          0.1589902305515365,
          0.16568743239546516,
          0.17128219671660863,
          0.17805926651143417,
          0.18567195656886776,
          0.19378044673152003,
          0.19946546018206346,
          0.20536117233032797,
          0.20855395193141266,
          0.2171791529394848,
          0.2143189951356437,
          0.21119220089850263,
          0.20909714304341584,
          0.20736684470398514,
          0.2037311703690362,
          0.1998442163637798,
          0.1957109585232715,
          0.19230609381566577,
          0.18799883250709173,
          0.1821604973941823,
          0.17708431932055962,
          0.17146211318164287,
          0.16692105752184475,
          0.16117683087032023,
          0.15651617094568862,
          0.15162452809509996,
          0.14618320301638507,
          0.14246599305660604,
          0.13882239121484302,
          0.13169493446815558,
          0.1263249815863043,
          0.12106136440508458,
          0.11460888438107844,
          0.11022381556770612,
          0.10786521912911304,
          0.10555332757049242,
          0.10555012859319973,
          0.10522371974049718,
          0.10555032087242192,
          0.10457736176922054,
          0.1062098549548723,
          0.10781002154278821,
          0.10970177488511113,
          0.10896988199325217,
          0.10825248202994493,
          0.10819583444949456,
          0.10878685504629981,
          0.10904289904345582,
          0.11188005863440703,
          0.11498431006881384,
          0.1180270911777866,
          0.12068634597399772,
          0.12296966903789795,
          0.12456123134071191,
          0.12676782400131048,
          0.1282841753147496,
          0.1368825107423848,
          0.14401748921616755,
          0.14745517555105978,
          0.15470406754715416,
          0.158899958134034,
          0.16010330278514948,
          0.1622526384937953,
          0.16532923276378253,
          0.16608199182449734,
          0.16552675187922053,
          0.16433596034135664,
          0.16575493460590013,
          0.16876217647762715,
          0.1749426012203023,
          0.18746610574449285,
          0.19747870752962485,
          0.20599994708649932,
          0.21790845466284217,
          0.22731823765750978,
          0.23783478120162568,
          0.2429707048148212,
          0.24153946254044514,
          0.2423994742477043,
          0.23968645058373017,
          0.24446243425499312,
          0.24591111177722974,
          0.24280527751493933,
          0.24170058425017413,
          0.23156611589772663,
          0.2226021497513947,
          0.21801823976461238,
          0.218697471816524,
          0.21128142319144094,
          0.20886132533679128
         ]
        },
        {
         "name": "Positive sentiment score btc",
         "type": "scatter",
         "x": [
          "2015-01",
          "2015-02",
          "2015-03",
          "2015-04",
          "2015-05",
          "2015-06",
          "2015-07",
          "2015-08",
          "2015-09",
          "2015-10",
          "2015-11",
          "2015-12",
          "2016-01",
          "2016-02",
          "2016-03",
          "2016-04",
          "2016-05",
          "2016-06",
          "2016-07",
          "2016-08",
          "2016-09",
          "2016-10",
          "2016-11",
          "2016-12",
          "2017-01",
          "2017-02",
          "2017-03",
          "2017-04",
          "2017-05",
          "2017-06",
          "2017-07",
          "2017-08",
          "2017-09",
          "2017-10",
          "2017-11",
          "2017-12",
          "2018-01",
          "2018-02",
          "2018-03",
          "2018-04",
          "2018-05",
          "2018-06",
          "2018-07",
          "2018-08",
          "2018-09",
          "2018-10",
          "2018-11",
          "2018-12",
          "2019-01",
          "2019-02",
          "2019-03",
          "2019-04",
          "2019-05",
          "2019-06",
          "2019-07",
          "2019-08",
          "2019-09",
          "2019-10",
          "2019-11",
          "2019-12",
          "2020-01",
          "2020-02",
          "2020-03",
          "2020-04"
         ],
         "y": [
          0.4110779795689863,
          0.4689454752361786,
          0.5001803547342039,
          0.49463062055579143,
          0.5074765941306366,
          0.5003831257333979,
          0.48103615156946755,
          0.4477390378830986,
          0.4035217612569425,
          0.384596122681829,
          0.3700871780437518,
          0.34548986889656075,
          0.3401551312849703,
          0.3803094889568309,
          0.4296179072786074,
          0.4342656239237699,
          0.5121073139117099,
          0.588802638981376,
          0.4623787977234736,
          0.3661158806100968,
          0.4628327033618049,
          0.5518393456659025,
          0.47648040042877937,
          0.3584078254312221,
          0.27136266874083503,
          0.30017900469088515,
          0.35290462813151513,
          0.36199780814362026,
          0.34789780050458874,
          0.3329093716000443,
          0.34363701317969647,
          0.35729791108720793,
          0.33152823020182665,
          0.31066677688056993,
          0.31456778580127326,
          0.29725918362291703,
          0.2616250722673492,
          0.2552933230808787,
          0.2779237775823735,
          0.28507131263917396,
          0.2807524454771295,
          0.28161091739456257,
          0.2899187691998452,
          0.29117405147661557,
          0.29890057686939003,
          0.3193404026814868,
          0.3126536163554764,
          0.3080589244680576,
          0.32097905596784626,
          0.34337827486203343,
          0.40109851058094403,
          0.45710841237803523,
          0.46565746514888595,
          0.4312050717368269,
          0.3864783704436696,
          0.3751448928181882,
          0.3687971884578634,
          0.35780658951934347,
          0.371985326016786,
          0.3941175782264809,
          0.4059952516476488,
          0.3775328489160027,
          0.33169198316254844,
          0.3321082629732091
         ]
        }
       ],
       "layout": {
        "template": {
         "data": {
          "bar": [
           {
            "error_x": {
             "color": "#2a3f5f"
            },
            "error_y": {
             "color": "#2a3f5f"
            },
            "marker": {
             "line": {
              "color": "#E5ECF6",
              "width": 0.5
             },
             "pattern": {
              "fillmode": "overlay",
              "size": 10,
              "solidity": 0.2
             }
            },
            "type": "bar"
           }
          ],
          "barpolar": [
           {
            "marker": {
             "line": {
              "color": "#E5ECF6",
              "width": 0.5
             },
             "pattern": {
              "fillmode": "overlay",
              "size": 10,
              "solidity": 0.2
             }
            },
            "type": "barpolar"
           }
          ],
          "carpet": [
           {
            "aaxis": {
             "endlinecolor": "#2a3f5f",
             "gridcolor": "white",
             "linecolor": "white",
             "minorgridcolor": "white",
             "startlinecolor": "#2a3f5f"
            },
            "baxis": {
             "endlinecolor": "#2a3f5f",
             "gridcolor": "white",
             "linecolor": "white",
             "minorgridcolor": "white",
             "startlinecolor": "#2a3f5f"
            },
            "type": "carpet"
           }
          ],
          "choropleth": [
           {
            "colorbar": {
             "outlinewidth": 0,
             "ticks": ""
            },
            "type": "choropleth"
           }
          ],
          "contour": [
           {
            "colorbar": {
             "outlinewidth": 0,
             "ticks": ""
            },
            "colorscale": [
             [
              0,
              "#0d0887"
             ],
             [
              0.1111111111111111,
              "#46039f"
             ],
             [
              0.2222222222222222,
              "#7201a8"
             ],
             [
              0.3333333333333333,
              "#9c179e"
             ],
             [
              0.4444444444444444,
              "#bd3786"
             ],
             [
              0.5555555555555556,
              "#d8576b"
             ],
             [
              0.6666666666666666,
              "#ed7953"
             ],
             [
              0.7777777777777778,
              "#fb9f3a"
             ],
             [
              0.8888888888888888,
              "#fdca26"
             ],
             [
              1,
              "#f0f921"
             ]
            ],
            "type": "contour"
           }
          ],
          "contourcarpet": [
           {
            "colorbar": {
             "outlinewidth": 0,
             "ticks": ""
            },
            "type": "contourcarpet"
           }
          ],
          "heatmap": [
           {
            "colorbar": {
             "outlinewidth": 0,
             "ticks": ""
            },
            "colorscale": [
             [
              0,
              "#0d0887"
             ],
             [
              0.1111111111111111,
              "#46039f"
             ],
             [
              0.2222222222222222,
              "#7201a8"
             ],
             [
              0.3333333333333333,
              "#9c179e"
             ],
             [
              0.4444444444444444,
              "#bd3786"
             ],
             [
              0.5555555555555556,
              "#d8576b"
             ],
             [
              0.6666666666666666,
              "#ed7953"
             ],
             [
              0.7777777777777778,
              "#fb9f3a"
             ],
             [
              0.8888888888888888,
              "#fdca26"
             ],
             [
              1,
              "#f0f921"
             ]
            ],
            "type": "heatmap"
           }
          ],
          "heatmapgl": [
           {
            "colorbar": {
             "outlinewidth": 0,
             "ticks": ""
            },
            "colorscale": [
             [
              0,
              "#0d0887"
             ],
             [
              0.1111111111111111,
              "#46039f"
             ],
             [
              0.2222222222222222,
              "#7201a8"
             ],
             [
              0.3333333333333333,
              "#9c179e"
             ],
             [
              0.4444444444444444,
              "#bd3786"
             ],
             [
              0.5555555555555556,
              "#d8576b"
             ],
             [
              0.6666666666666666,
              "#ed7953"
             ],
             [
              0.7777777777777778,
              "#fb9f3a"
             ],
             [
              0.8888888888888888,
              "#fdca26"
             ],
             [
              1,
              "#f0f921"
             ]
            ],
            "type": "heatmapgl"
           }
          ],
          "histogram": [
           {
            "marker": {
             "pattern": {
              "fillmode": "overlay",
              "size": 10,
              "solidity": 0.2
             }
            },
            "type": "histogram"
           }
          ],
          "histogram2d": [
           {
            "colorbar": {
             "outlinewidth": 0,
             "ticks": ""
            },
            "colorscale": [
             [
              0,
              "#0d0887"
             ],
             [
              0.1111111111111111,
              "#46039f"
             ],
             [
              0.2222222222222222,
              "#7201a8"
             ],
             [
              0.3333333333333333,
              "#9c179e"
             ],
             [
              0.4444444444444444,
              "#bd3786"
             ],
             [
              0.5555555555555556,
              "#d8576b"
             ],
             [
              0.6666666666666666,
              "#ed7953"
             ],
             [
              0.7777777777777778,
              "#fb9f3a"
             ],
             [
              0.8888888888888888,
              "#fdca26"
             ],
             [
              1,
              "#f0f921"
             ]
            ],
            "type": "histogram2d"
           }
          ],
          "histogram2dcontour": [
           {
            "colorbar": {
             "outlinewidth": 0,
             "ticks": ""
            },
            "colorscale": [
             [
              0,
              "#0d0887"
             ],
             [
              0.1111111111111111,
              "#46039f"
             ],
             [
              0.2222222222222222,
              "#7201a8"
             ],
             [
              0.3333333333333333,
              "#9c179e"
             ],
             [
              0.4444444444444444,
              "#bd3786"
             ],
             [
              0.5555555555555556,
              "#d8576b"
             ],
             [
              0.6666666666666666,
              "#ed7953"
             ],
             [
              0.7777777777777778,
              "#fb9f3a"
             ],
             [
              0.8888888888888888,
              "#fdca26"
             ],
             [
              1,
              "#f0f921"
             ]
            ],
            "type": "histogram2dcontour"
           }
          ],
          "mesh3d": [
           {
            "colorbar": {
             "outlinewidth": 0,
             "ticks": ""
            },
            "type": "mesh3d"
           }
          ],
          "parcoords": [
           {
            "line": {
             "colorbar": {
              "outlinewidth": 0,
              "ticks": ""
             }
            },
            "type": "parcoords"
           }
          ],
          "pie": [
           {
            "automargin": true,
            "type": "pie"
           }
          ],
          "scatter": [
           {
            "marker": {
             "colorbar": {
              "outlinewidth": 0,
              "ticks": ""
             }
            },
            "type": "scatter"
           }
          ],
          "scatter3d": [
           {
            "line": {
             "colorbar": {
              "outlinewidth": 0,
              "ticks": ""
             }
            },
            "marker": {
             "colorbar": {
              "outlinewidth": 0,
              "ticks": ""
             }
            },
            "type": "scatter3d"
           }
          ],
          "scattercarpet": [
           {
            "marker": {
             "colorbar": {
              "outlinewidth": 0,
              "ticks": ""
             }
            },
            "type": "scattercarpet"
           }
          ],
          "scattergeo": [
           {
            "marker": {
             "colorbar": {
              "outlinewidth": 0,
              "ticks": ""
             }
            },
            "type": "scattergeo"
           }
          ],
          "scattergl": [
           {
            "marker": {
             "colorbar": {
              "outlinewidth": 0,
              "ticks": ""
             }
            },
            "type": "scattergl"
           }
          ],
          "scattermapbox": [
           {
            "marker": {
             "colorbar": {
              "outlinewidth": 0,
              "ticks": ""
             }
            },
            "type": "scattermapbox"
           }
          ],
          "scatterpolar": [
           {
            "marker": {
             "colorbar": {
              "outlinewidth": 0,
              "ticks": ""
             }
            },
            "type": "scatterpolar"
           }
          ],
          "scatterpolargl": [
           {
            "marker": {
             "colorbar": {
              "outlinewidth": 0,
              "ticks": ""
             }
            },
            "type": "scatterpolargl"
           }
          ],
          "scatterternary": [
           {
            "marker": {
             "colorbar": {
              "outlinewidth": 0,
              "ticks": ""
             }
            },
            "type": "scatterternary"
           }
          ],
          "surface": [
           {
            "colorbar": {
             "outlinewidth": 0,
             "ticks": ""
            },
            "colorscale": [
             [
              0,
              "#0d0887"
             ],
             [
              0.1111111111111111,
              "#46039f"
             ],
             [
              0.2222222222222222,
              "#7201a8"
             ],
             [
              0.3333333333333333,
              "#9c179e"
             ],
             [
              0.4444444444444444,
              "#bd3786"
             ],
             [
              0.5555555555555556,
              "#d8576b"
             ],
             [
              0.6666666666666666,
              "#ed7953"
             ],
             [
              0.7777777777777778,
              "#fb9f3a"
             ],
             [
              0.8888888888888888,
              "#fdca26"
             ],
             [
              1,
              "#f0f921"
             ]
            ],
            "type": "surface"
           }
          ],
          "table": [
           {
            "cells": {
             "fill": {
              "color": "#EBF0F8"
             },
             "line": {
              "color": "white"
             }
            },
            "header": {
             "fill": {
              "color": "#C8D4E3"
             },
             "line": {
              "color": "white"
             }
            },
            "type": "table"
           }
          ]
         },
         "layout": {
          "annotationdefaults": {
           "arrowcolor": "#2a3f5f",
           "arrowhead": 0,
           "arrowwidth": 1
          },
          "autotypenumbers": "strict",
          "coloraxis": {
           "colorbar": {
            "outlinewidth": 0,
            "ticks": ""
           }
          },
          "colorscale": {
           "diverging": [
            [
             0,
             "#8e0152"
            ],
            [
             0.1,
             "#c51b7d"
            ],
            [
             0.2,
             "#de77ae"
            ],
            [
             0.3,
             "#f1b6da"
            ],
            [
             0.4,
             "#fde0ef"
            ],
            [
             0.5,
             "#f7f7f7"
            ],
            [
             0.6,
             "#e6f5d0"
            ],
            [
             0.7,
             "#b8e186"
            ],
            [
             0.8,
             "#7fbc41"
            ],
            [
             0.9,
             "#4d9221"
            ],
            [
             1,
             "#276419"
            ]
           ],
           "sequential": [
            [
             0,
             "#0d0887"
            ],
            [
             0.1111111111111111,
             "#46039f"
            ],
            [
             0.2222222222222222,
             "#7201a8"
            ],
            [
             0.3333333333333333,
             "#9c179e"
            ],
            [
             0.4444444444444444,
             "#bd3786"
            ],
            [
             0.5555555555555556,
             "#d8576b"
            ],
            [
             0.6666666666666666,
             "#ed7953"
            ],
            [
             0.7777777777777778,
             "#fb9f3a"
            ],
            [
             0.8888888888888888,
             "#fdca26"
            ],
            [
             1,
             "#f0f921"
            ]
           ],
           "sequentialminus": [
            [
             0,
             "#0d0887"
            ],
            [
             0.1111111111111111,
             "#46039f"
            ],
            [
             0.2222222222222222,
             "#7201a8"
            ],
            [
             0.3333333333333333,
             "#9c179e"
            ],
            [
             0.4444444444444444,
             "#bd3786"
            ],
            [
             0.5555555555555556,
             "#d8576b"
            ],
            [
             0.6666666666666666,
             "#ed7953"
            ],
            [
             0.7777777777777778,
             "#fb9f3a"
            ],
            [
             0.8888888888888888,
             "#fdca26"
            ],
            [
             1,
             "#f0f921"
            ]
           ]
          },
          "colorway": [
           "#636efa",
           "#EF553B",
           "#00cc96",
           "#ab63fa",
           "#FFA15A",
           "#19d3f3",
           "#FF6692",
           "#B6E880",
           "#FF97FF",
           "#FECB52"
          ],
          "font": {
           "color": "#2a3f5f"
          },
          "geo": {
           "bgcolor": "white",
           "lakecolor": "white",
           "landcolor": "#E5ECF6",
           "showlakes": true,
           "showland": true,
           "subunitcolor": "white"
          },
          "hoverlabel": {
           "align": "left"
          },
          "hovermode": "closest",
          "mapbox": {
           "style": "light"
          },
          "paper_bgcolor": "white",
          "plot_bgcolor": "#E5ECF6",
          "polar": {
           "angularaxis": {
            "gridcolor": "white",
            "linecolor": "white",
            "ticks": ""
           },
           "bgcolor": "#E5ECF6",
           "radialaxis": {
            "gridcolor": "white",
            "linecolor": "white",
            "ticks": ""
           }
          },
          "scene": {
           "xaxis": {
            "backgroundcolor": "#E5ECF6",
            "gridcolor": "white",
            "gridwidth": 2,
            "linecolor": "white",
            "showbackground": true,
            "ticks": "",
            "zerolinecolor": "white"
           },
           "yaxis": {
            "backgroundcolor": "#E5ECF6",
            "gridcolor": "white",
            "gridwidth": 2,
            "linecolor": "white",
            "showbackground": true,
            "ticks": "",
            "zerolinecolor": "white"
           },
           "zaxis": {
            "backgroundcolor": "#E5ECF6",
            "gridcolor": "white",
            "gridwidth": 2,
            "linecolor": "white",
            "showbackground": true,
            "ticks": "",
            "zerolinecolor": "white"
           }
          },
          "shapedefaults": {
           "line": {
            "color": "#2a3f5f"
           }
          },
          "ternary": {
           "aaxis": {
            "gridcolor": "white",
            "linecolor": "white",
            "ticks": ""
           },
           "baxis": {
            "gridcolor": "white",
            "linecolor": "white",
            "ticks": ""
           },
           "bgcolor": "#E5ECF6",
           "caxis": {
            "gridcolor": "white",
            "linecolor": "white",
            "ticks": ""
           }
          },
          "title": {
           "x": 0.05
          },
          "xaxis": {
           "automargin": true,
           "gridcolor": "white",
           "linecolor": "white",
           "ticks": "",
           "title": {
            "standoff": 15
           },
           "zerolinecolor": "white",
           "zerolinewidth": 2
          },
          "yaxis": {
           "automargin": true,
           "gridcolor": "white",
           "linecolor": "white",
           "ticks": "",
           "title": {
            "standoff": 15
           },
           "zerolinecolor": "white",
           "zerolinewidth": 2
          }
         }
        },
        "title": {
         "text": "Comparison between Greed index and positive sentiment score"
        },
        "xaxis": {
         "range": [
          "2018-02-01T00:00:00",
          "2020-04-01T00:00:00"
         ],
         "title": {
          "text": "Date"
         }
        },
        "yaxis": {
         "title": {
          "text": "Normalized values"
         }
        }
       }
      },
      "text/html": [
       "<div>                            <div id=\"36efd458-999f-43d8-a5de-5948fafa51ea\" class=\"plotly-graph-div\" style=\"height:525px; width:100%;\"></div>            <script type=\"text/javascript\">                require([\"plotly\"], function(Plotly) {                    window.PLOTLYENV=window.PLOTLYENV || {};                                    if (document.getElementById(\"36efd458-999f-43d8-a5de-5948fafa51ea\")) {                    Plotly.newPlot(                        \"36efd458-999f-43d8-a5de-5948fafa51ea\",                        [{\"name\":\"Greed index\",\"type\":\"scatter\",\"x\":[\"2021-11-07T00:00:00\",\"2021-11-06T00:00:00\",\"2021-11-05T00:00:00\",\"2021-11-04T00:00:00\",\"2021-11-03T00:00:00\",\"2021-11-02T00:00:00\",\"2021-11-01T00:00:00\",\"2021-10-31T00:00:00\",\"2021-10-30T00:00:00\",\"2021-10-29T00:00:00\",\"2021-10-28T00:00:00\",\"2021-10-27T00:00:00\",\"2021-10-26T00:00:00\",\"2021-10-25T00:00:00\",\"2021-10-24T00:00:00\",\"2021-10-23T00:00:00\",\"2021-10-22T00:00:00\",\"2021-10-21T00:00:00\",\"2021-10-20T00:00:00\",\"2021-10-19T00:00:00\",\"2021-10-18T00:00:00\",\"2021-10-17T00:00:00\",\"2021-10-16T00:00:00\",\"2021-10-15T00:00:00\",\"2021-10-14T00:00:00\",\"2021-10-13T00:00:00\",\"2021-10-12T00:00:00\",\"2021-10-11T00:00:00\",\"2021-10-10T00:00:00\",\"2021-10-09T00:00:00\",\"2021-10-08T00:00:00\",\"2021-10-07T00:00:00\",\"2021-10-06T00:00:00\",\"2021-10-05T00:00:00\",\"2021-10-04T00:00:00\",\"2021-10-03T00:00:00\",\"2021-10-02T00:00:00\",\"2021-10-01T00:00:00\",\"2021-09-30T00:00:00\",\"2021-09-29T00:00:00\",\"2021-09-28T00:00:00\",\"2021-09-27T00:00:00\",\"2021-09-26T00:00:00\",\"2021-09-25T00:00:00\",\"2021-09-24T00:00:00\",\"2021-09-23T00:00:00\",\"2021-09-22T00:00:00\",\"2021-09-21T00:00:00\",\"2021-09-20T00:00:00\",\"2021-09-19T00:00:00\",\"2021-09-18T00:00:00\",\"2021-09-17T00:00:00\",\"2021-09-16T00:00:00\",\"2021-09-15T00:00:00\",\"2021-09-14T00:00:00\",\"2021-09-13T00:00:00\",\"2021-09-12T00:00:00\",\"2021-09-11T00:00:00\",\"2021-09-10T00:00:00\",\"2021-09-09T00:00:00\",\"2021-09-08T00:00:00\",\"2021-09-07T00:00:00\",\"2021-09-06T00:00:00\",\"2021-09-05T00:00:00\",\"2021-09-04T00:00:00\",\"2021-09-03T00:00:00\",\"2021-09-02T00:00:00\",\"2021-09-01T00:00:00\",\"2021-08-31T00:00:00\",\"2021-08-30T00:00:00\",\"2021-08-29T00:00:00\",\"2021-08-28T00:00:00\",\"2021-08-27T00:00:00\",\"2021-08-26T00:00:00\",\"2021-08-25T00:00:00\",\"2021-08-24T00:00:00\",\"2021-08-23T00:00:00\",\"2021-08-22T00:00:00\",\"2021-08-21T00:00:00\",\"2021-08-20T00:00:00\",\"2021-08-19T00:00:00\",\"2021-08-18T00:00:00\",\"2021-08-17T00:00:00\",\"2021-08-16T00:00:00\",\"2021-08-15T00:00:00\",\"2021-08-14T00:00:00\",\"2021-08-13T00:00:00\",\"2021-08-12T00:00:00\",\"2021-08-11T00:00:00\",\"2021-08-10T00:00:00\",\"2021-08-09T00:00:00\",\"2021-08-08T00:00:00\",\"2021-08-07T00:00:00\",\"2021-08-06T00:00:00\",\"2021-08-05T00:00:00\",\"2021-08-04T00:00:00\",\"2021-08-03T00:00:00\",\"2021-08-02T00:00:00\",\"2021-08-01T00:00:00\",\"2021-07-31T00:00:00\",\"2021-07-30T00:00:00\",\"2021-07-29T00:00:00\",\"2021-07-28T00:00:00\",\"2021-07-27T00:00:00\",\"2021-07-26T00:00:00\",\"2021-07-25T00:00:00\",\"2021-07-24T00:00:00\",\"2021-07-23T00:00:00\",\"2021-07-22T00:00:00\",\"2021-07-21T00:00:00\",\"2021-07-20T00:00:00\",\"2021-07-19T00:00:00\",\"2021-07-18T00:00:00\",\"2021-07-17T00:00:00\",\"2021-07-16T00:00:00\",\"2021-07-15T00:00:00\",\"2021-07-14T00:00:00\",\"2021-07-13T00:00:00\",\"2021-07-12T00:00:00\",\"2021-07-11T00:00:00\",\"2021-07-10T00:00:00\",\"2021-07-09T00:00:00\",\"2021-07-08T00:00:00\",\"2021-07-07T00:00:00\",\"2021-07-06T00:00:00\",\"2021-07-05T00:00:00\",\"2021-07-04T00:00:00\",\"2021-07-03T00:00:00\",\"2021-07-02T00:00:00\",\"2021-07-01T00:00:00\",\"2021-06-30T00:00:00\",\"2021-06-29T00:00:00\",\"2021-06-28T00:00:00\",\"2021-06-27T00:00:00\",\"2021-06-26T00:00:00\",\"2021-06-25T00:00:00\",\"2021-06-24T00:00:00\",\"2021-06-23T00:00:00\",\"2021-06-22T00:00:00\",\"2021-06-21T00:00:00\",\"2021-06-20T00:00:00\",\"2021-06-19T00:00:00\",\"2021-06-18T00:00:00\",\"2021-06-17T00:00:00\",\"2021-06-16T00:00:00\",\"2021-06-15T00:00:00\",\"2021-06-14T00:00:00\",\"2021-06-13T00:00:00\",\"2021-06-12T00:00:00\",\"2021-06-11T00:00:00\",\"2021-06-10T00:00:00\",\"2021-06-09T00:00:00\",\"2021-06-08T00:00:00\",\"2021-06-07T00:00:00\",\"2021-06-06T00:00:00\",\"2021-06-05T00:00:00\",\"2021-06-04T00:00:00\",\"2021-06-03T00:00:00\",\"2021-06-02T00:00:00\",\"2021-06-01T00:00:00\",\"2021-05-31T00:00:00\",\"2021-05-30T00:00:00\",\"2021-05-29T00:00:00\",\"2021-05-28T00:00:00\",\"2021-05-27T00:00:00\",\"2021-05-26T00:00:00\",\"2021-05-25T00:00:00\",\"2021-05-24T00:00:00\",\"2021-05-23T00:00:00\",\"2021-05-22T00:00:00\",\"2021-05-21T00:00:00\",\"2021-05-20T00:00:00\",\"2021-05-19T00:00:00\",\"2021-05-18T00:00:00\",\"2021-05-17T00:00:00\",\"2021-05-16T00:00:00\",\"2021-05-15T00:00:00\",\"2021-05-14T00:00:00\",\"2021-05-13T00:00:00\",\"2021-05-12T00:00:00\",\"2021-05-11T00:00:00\",\"2021-05-10T00:00:00\",\"2021-05-09T00:00:00\",\"2021-05-08T00:00:00\",\"2021-05-07T00:00:00\",\"2021-05-06T00:00:00\",\"2021-05-05T00:00:00\",\"2021-05-04T00:00:00\",\"2021-05-03T00:00:00\",\"2021-05-02T00:00:00\",\"2021-05-01T00:00:00\",\"2021-04-30T00:00:00\",\"2021-04-29T00:00:00\",\"2021-04-28T00:00:00\",\"2021-04-27T00:00:00\",\"2021-04-26T00:00:00\",\"2021-04-25T00:00:00\",\"2021-04-24T00:00:00\",\"2021-04-23T00:00:00\",\"2021-04-22T00:00:00\",\"2021-04-21T00:00:00\",\"2021-04-20T00:00:00\",\"2021-04-19T00:00:00\",\"2021-04-18T00:00:00\",\"2021-04-17T00:00:00\",\"2021-04-16T00:00:00\",\"2021-04-15T00:00:00\",\"2021-04-14T00:00:00\",\"2021-04-13T00:00:00\",\"2021-04-12T00:00:00\",\"2021-04-11T00:00:00\",\"2021-04-10T00:00:00\",\"2021-04-09T00:00:00\",\"2021-04-08T00:00:00\",\"2021-04-07T00:00:00\",\"2021-04-06T00:00:00\",\"2021-04-05T00:00:00\",\"2021-04-04T00:00:00\",\"2021-04-03T00:00:00\",\"2021-04-02T00:00:00\",\"2021-04-01T00:00:00\",\"2021-03-31T00:00:00\",\"2021-03-30T00:00:00\",\"2021-03-29T00:00:00\",\"2021-03-28T00:00:00\",\"2021-03-27T00:00:00\",\"2021-03-26T00:00:00\",\"2021-03-25T00:00:00\",\"2021-03-24T00:00:00\",\"2021-03-23T00:00:00\",\"2021-03-22T00:00:00\",\"2021-03-21T00:00:00\",\"2021-03-20T00:00:00\",\"2021-03-19T00:00:00\",\"2021-03-18T00:00:00\",\"2021-03-17T00:00:00\",\"2021-03-16T00:00:00\",\"2021-03-15T00:00:00\",\"2021-03-14T00:00:00\",\"2021-03-13T00:00:00\",\"2021-03-12T00:00:00\",\"2021-03-11T00:00:00\",\"2021-03-10T00:00:00\",\"2021-03-09T00:00:00\",\"2021-03-08T00:00:00\",\"2021-03-07T00:00:00\",\"2021-03-06T00:00:00\",\"2021-03-05T00:00:00\",\"2021-03-04T00:00:00\",\"2021-03-03T00:00:00\",\"2021-03-02T00:00:00\",\"2021-03-01T00:00:00\",\"2021-02-28T00:00:00\",\"2021-02-27T00:00:00\",\"2021-02-26T00:00:00\",\"2021-02-25T00:00:00\",\"2021-02-24T00:00:00\",\"2021-02-23T00:00:00\",\"2021-02-22T00:00:00\",\"2021-02-21T00:00:00\",\"2021-02-20T00:00:00\",\"2021-02-19T00:00:00\",\"2021-02-18T00:00:00\",\"2021-02-17T00:00:00\",\"2021-02-16T00:00:00\",\"2021-02-15T00:00:00\",\"2021-02-14T00:00:00\",\"2021-02-13T00:00:00\",\"2021-02-12T00:00:00\",\"2021-02-11T00:00:00\",\"2021-02-10T00:00:00\",\"2021-02-09T00:00:00\",\"2021-02-08T00:00:00\",\"2021-02-07T00:00:00\",\"2021-02-06T00:00:00\",\"2021-02-05T00:00:00\",\"2021-02-04T00:00:00\",\"2021-02-03T00:00:00\",\"2021-02-02T00:00:00\",\"2021-02-01T00:00:00\",\"2021-01-31T00:00:00\",\"2021-01-30T00:00:00\",\"2021-01-29T00:00:00\",\"2021-01-28T00:00:00\",\"2021-01-27T00:00:00\",\"2021-01-26T00:00:00\",\"2021-01-25T00:00:00\",\"2021-01-24T00:00:00\",\"2021-01-23T00:00:00\",\"2021-01-22T00:00:00\",\"2021-01-21T00:00:00\",\"2021-01-20T00:00:00\",\"2021-01-19T00:00:00\",\"2021-01-18T00:00:00\",\"2021-01-17T00:00:00\",\"2021-01-16T00:00:00\",\"2021-01-15T00:00:00\",\"2021-01-14T00:00:00\",\"2021-01-13T00:00:00\",\"2021-01-12T00:00:00\",\"2021-01-11T00:00:00\",\"2021-01-10T00:00:00\",\"2021-01-09T00:00:00\",\"2021-01-08T00:00:00\",\"2021-01-07T00:00:00\",\"2021-01-06T00:00:00\",\"2021-01-05T00:00:00\",\"2021-01-04T00:00:00\",\"2021-01-03T00:00:00\",\"2021-01-02T00:00:00\",\"2021-01-01T00:00:00\",\"2020-12-31T00:00:00\",\"2020-12-30T00:00:00\",\"2020-12-29T00:00:00\",\"2020-12-28T00:00:00\",\"2020-12-27T00:00:00\",\"2020-12-26T00:00:00\",\"2020-12-25T00:00:00\",\"2020-12-24T00:00:00\",\"2020-12-23T00:00:00\",\"2020-12-22T00:00:00\",\"2020-12-21T00:00:00\",\"2020-12-20T00:00:00\",\"2020-12-19T00:00:00\",\"2020-12-18T00:00:00\",\"2020-12-17T00:00:00\",\"2020-12-16T00:00:00\",\"2020-12-15T00:00:00\",\"2020-12-14T00:00:00\",\"2020-12-13T00:00:00\",\"2020-12-12T00:00:00\",\"2020-12-11T00:00:00\",\"2020-12-10T00:00:00\",\"2020-12-09T00:00:00\",\"2020-12-08T00:00:00\",\"2020-12-07T00:00:00\",\"2020-12-06T00:00:00\",\"2020-12-05T00:00:00\",\"2020-12-04T00:00:00\",\"2020-12-03T00:00:00\",\"2020-12-02T00:00:00\",\"2020-12-01T00:00:00\",\"2020-11-30T00:00:00\",\"2020-11-29T00:00:00\",\"2020-11-28T00:00:00\",\"2020-11-27T00:00:00\",\"2020-11-26T00:00:00\",\"2020-11-25T00:00:00\",\"2020-11-24T00:00:00\",\"2020-11-23T00:00:00\",\"2020-11-22T00:00:00\",\"2020-11-21T00:00:00\",\"2020-11-20T00:00:00\",\"2020-11-19T00:00:00\",\"2020-11-18T00:00:00\",\"2020-11-17T00:00:00\",\"2020-11-16T00:00:00\",\"2020-11-15T00:00:00\",\"2020-11-14T00:00:00\",\"2020-11-13T00:00:00\",\"2020-11-12T00:00:00\",\"2020-11-11T00:00:00\",\"2020-11-10T00:00:00\",\"2020-11-09T00:00:00\",\"2020-11-08T00:00:00\",\"2020-11-07T00:00:00\",\"2020-11-06T00:00:00\",\"2020-11-05T00:00:00\",\"2020-11-04T00:00:00\",\"2020-11-03T00:00:00\",\"2020-11-02T00:00:00\",\"2020-11-01T00:00:00\",\"2020-10-31T00:00:00\",\"2020-10-30T00:00:00\",\"2020-10-29T00:00:00\",\"2020-10-28T00:00:00\",\"2020-10-27T00:00:00\",\"2020-10-26T00:00:00\",\"2020-10-25T00:00:00\",\"2020-10-24T00:00:00\",\"2020-10-23T00:00:00\",\"2020-10-22T00:00:00\",\"2020-10-21T00:00:00\",\"2020-10-20T00:00:00\",\"2020-10-19T00:00:00\",\"2020-10-18T00:00:00\",\"2020-10-17T00:00:00\",\"2020-10-16T00:00:00\",\"2020-10-15T00:00:00\",\"2020-10-14T00:00:00\",\"2020-10-13T00:00:00\",\"2020-10-12T00:00:00\",\"2020-10-11T00:00:00\",\"2020-10-10T00:00:00\",\"2020-10-09T00:00:00\",\"2020-10-08T00:00:00\",\"2020-10-07T00:00:00\",\"2020-10-06T00:00:00\",\"2020-10-05T00:00:00\",\"2020-10-04T00:00:00\",\"2020-10-03T00:00:00\",\"2020-10-02T00:00:00\",\"2020-10-01T00:00:00\",\"2020-09-30T00:00:00\",\"2020-09-29T00:00:00\",\"2020-09-28T00:00:00\",\"2020-09-27T00:00:00\",\"2020-09-26T00:00:00\",\"2020-09-25T00:00:00\",\"2020-09-24T00:00:00\",\"2020-09-23T00:00:00\",\"2020-09-22T00:00:00\",\"2020-09-21T00:00:00\",\"2020-09-20T00:00:00\",\"2020-09-19T00:00:00\",\"2020-09-18T00:00:00\",\"2020-09-17T00:00:00\",\"2020-09-16T00:00:00\",\"2020-09-15T00:00:00\",\"2020-09-14T00:00:00\",\"2020-09-13T00:00:00\",\"2020-09-12T00:00:00\",\"2020-09-11T00:00:00\",\"2020-09-10T00:00:00\",\"2020-09-09T00:00:00\",\"2020-09-08T00:00:00\",\"2020-09-07T00:00:00\",\"2020-09-06T00:00:00\",\"2020-09-05T00:00:00\",\"2020-09-04T00:00:00\",\"2020-09-03T00:00:00\",\"2020-09-02T00:00:00\",\"2020-09-01T00:00:00\",\"2020-08-31T00:00:00\",\"2020-08-30T00:00:00\",\"2020-08-29T00:00:00\",\"2020-08-28T00:00:00\",\"2020-08-27T00:00:00\",\"2020-08-26T00:00:00\",\"2020-08-25T00:00:00\",\"2020-08-24T00:00:00\",\"2020-08-23T00:00:00\",\"2020-08-22T00:00:00\",\"2020-08-21T00:00:00\",\"2020-08-20T00:00:00\",\"2020-08-19T00:00:00\",\"2020-08-18T00:00:00\",\"2020-08-17T00:00:00\",\"2020-08-16T00:00:00\",\"2020-08-15T00:00:00\",\"2020-08-14T00:00:00\",\"2020-08-13T00:00:00\",\"2020-08-12T00:00:00\",\"2020-08-11T00:00:00\",\"2020-08-10T00:00:00\",\"2020-08-09T00:00:00\",\"2020-08-08T00:00:00\",\"2020-08-07T00:00:00\",\"2020-08-06T00:00:00\",\"2020-08-05T00:00:00\",\"2020-08-04T00:00:00\",\"2020-08-03T00:00:00\",\"2020-08-02T00:00:00\",\"2020-08-01T00:00:00\",\"2020-07-31T00:00:00\",\"2020-07-30T00:00:00\",\"2020-07-29T00:00:00\",\"2020-07-28T00:00:00\",\"2020-07-27T00:00:00\",\"2020-07-26T00:00:00\",\"2020-07-25T00:00:00\",\"2020-07-24T00:00:00\",\"2020-07-23T00:00:00\",\"2020-07-22T00:00:00\",\"2020-07-21T00:00:00\",\"2020-07-20T00:00:00\",\"2020-07-19T00:00:00\",\"2020-07-18T00:00:00\",\"2020-07-17T00:00:00\",\"2020-07-16T00:00:00\",\"2020-07-15T00:00:00\",\"2020-07-14T00:00:00\",\"2020-07-13T00:00:00\",\"2020-07-12T00:00:00\",\"2020-07-11T00:00:00\",\"2020-07-10T00:00:00\",\"2020-07-09T00:00:00\",\"2020-07-08T00:00:00\",\"2020-07-07T00:00:00\",\"2020-07-06T00:00:00\",\"2020-07-05T00:00:00\",\"2020-07-04T00:00:00\",\"2020-07-03T00:00:00\",\"2020-07-02T00:00:00\",\"2020-07-01T00:00:00\",\"2020-06-30T00:00:00\",\"2020-06-29T00:00:00\",\"2020-06-28T00:00:00\",\"2020-06-27T00:00:00\",\"2020-06-26T00:00:00\",\"2020-06-25T00:00:00\",\"2020-06-24T00:00:00\",\"2020-06-23T00:00:00\",\"2020-06-22T00:00:00\",\"2020-06-21T00:00:00\",\"2020-06-20T00:00:00\",\"2020-06-19T00:00:00\",\"2020-06-18T00:00:00\",\"2020-06-17T00:00:00\",\"2020-06-16T00:00:00\",\"2020-06-15T00:00:00\",\"2020-06-14T00:00:00\",\"2020-06-13T00:00:00\",\"2020-06-12T00:00:00\",\"2020-06-11T00:00:00\",\"2020-06-10T00:00:00\",\"2020-06-09T00:00:00\",\"2020-06-08T00:00:00\",\"2020-06-07T00:00:00\",\"2020-06-06T00:00:00\",\"2020-06-05T00:00:00\",\"2020-06-04T00:00:00\",\"2020-06-03T00:00:00\",\"2020-06-02T00:00:00\",\"2020-06-01T00:00:00\",\"2020-05-31T00:00:00\",\"2020-05-30T00:00:00\",\"2020-05-29T00:00:00\",\"2020-05-28T00:00:00\",\"2020-05-27T00:00:00\",\"2020-05-26T00:00:00\",\"2020-05-25T00:00:00\",\"2020-05-24T00:00:00\",\"2020-05-23T00:00:00\",\"2020-05-22T00:00:00\",\"2020-05-21T00:00:00\",\"2020-05-20T00:00:00\",\"2020-05-19T00:00:00\",\"2020-05-18T00:00:00\",\"2020-05-17T00:00:00\",\"2020-05-16T00:00:00\",\"2020-05-15T00:00:00\",\"2020-05-14T00:00:00\",\"2020-05-13T00:00:00\",\"2020-05-12T00:00:00\",\"2020-05-11T00:00:00\",\"2020-05-10T00:00:00\",\"2020-05-09T00:00:00\",\"2020-05-08T00:00:00\",\"2020-05-07T00:00:00\",\"2020-05-06T00:00:00\",\"2020-05-05T00:00:00\",\"2020-05-04T00:00:00\",\"2020-05-03T00:00:00\",\"2020-05-02T00:00:00\",\"2020-05-01T00:00:00\",\"2020-04-30T00:00:00\",\"2020-04-29T00:00:00\",\"2020-04-28T00:00:00\",\"2020-04-27T00:00:00\",\"2020-04-26T00:00:00\",\"2020-04-25T00:00:00\",\"2020-04-24T00:00:00\",\"2020-04-23T00:00:00\",\"2020-04-22T00:00:00\",\"2020-04-21T00:00:00\",\"2020-04-20T00:00:00\",\"2020-04-19T00:00:00\",\"2020-04-18T00:00:00\",\"2020-04-17T00:00:00\",\"2020-04-16T00:00:00\",\"2020-04-15T00:00:00\",\"2020-04-14T00:00:00\",\"2020-04-13T00:00:00\",\"2020-04-12T00:00:00\",\"2020-04-11T00:00:00\",\"2020-04-10T00:00:00\",\"2020-04-09T00:00:00\",\"2020-04-08T00:00:00\",\"2020-04-07T00:00:00\",\"2020-04-06T00:00:00\",\"2020-04-05T00:00:00\",\"2020-04-04T00:00:00\",\"2020-04-03T00:00:00\",\"2020-04-02T00:00:00\",\"2020-04-01T00:00:00\",\"2020-03-31T00:00:00\",\"2020-03-30T00:00:00\",\"2020-03-29T00:00:00\",\"2020-03-28T00:00:00\",\"2020-03-27T00:00:00\",\"2020-03-26T00:00:00\",\"2020-03-25T00:00:00\",\"2020-03-24T00:00:00\",\"2020-03-23T00:00:00\",\"2020-03-22T00:00:00\",\"2020-03-21T00:00:00\",\"2020-03-20T00:00:00\",\"2020-03-19T00:00:00\",\"2020-03-18T00:00:00\",\"2020-03-17T00:00:00\",\"2020-03-16T00:00:00\",\"2020-03-15T00:00:00\",\"2020-03-14T00:00:00\",\"2020-03-13T00:00:00\",\"2020-03-12T00:00:00\",\"2020-03-11T00:00:00\",\"2020-03-10T00:00:00\",\"2020-03-09T00:00:00\",\"2020-03-08T00:00:00\",\"2020-03-07T00:00:00\",\"2020-03-06T00:00:00\",\"2020-03-05T00:00:00\",\"2020-03-04T00:00:00\",\"2020-03-03T00:00:00\",\"2020-03-02T00:00:00\",\"2020-03-01T00:00:00\",\"2020-02-29T00:00:00\",\"2020-02-28T00:00:00\",\"2020-02-27T00:00:00\",\"2020-02-26T00:00:00\",\"2020-02-25T00:00:00\",\"2020-02-24T00:00:00\",\"2020-02-23T00:00:00\",\"2020-02-22T00:00:00\",\"2020-02-21T00:00:00\",\"2020-02-20T00:00:00\",\"2020-02-19T00:00:00\",\"2020-02-18T00:00:00\",\"2020-02-17T00:00:00\",\"2020-02-16T00:00:00\",\"2020-02-15T00:00:00\",\"2020-02-14T00:00:00\",\"2020-02-13T00:00:00\",\"2020-02-12T00:00:00\",\"2020-02-11T00:00:00\",\"2020-02-10T00:00:00\",\"2020-02-09T00:00:00\",\"2020-02-08T00:00:00\",\"2020-02-07T00:00:00\",\"2020-02-06T00:00:00\",\"2020-02-05T00:00:00\",\"2020-02-04T00:00:00\",\"2020-02-03T00:00:00\",\"2020-02-02T00:00:00\",\"2020-02-01T00:00:00\",\"2020-01-31T00:00:00\",\"2020-01-30T00:00:00\",\"2020-01-29T00:00:00\",\"2020-01-28T00:00:00\",\"2020-01-27T00:00:00\",\"2020-01-26T00:00:00\",\"2020-01-25T00:00:00\",\"2020-01-24T00:00:00\",\"2020-01-23T00:00:00\",\"2020-01-22T00:00:00\",\"2020-01-21T00:00:00\",\"2020-01-20T00:00:00\",\"2020-01-19T00:00:00\",\"2020-01-18T00:00:00\",\"2020-01-17T00:00:00\",\"2020-01-16T00:00:00\",\"2020-01-15T00:00:00\",\"2020-01-14T00:00:00\",\"2020-01-13T00:00:00\",\"2020-01-12T00:00:00\",\"2020-01-11T00:00:00\",\"2020-01-10T00:00:00\",\"2020-01-09T00:00:00\",\"2020-01-08T00:00:00\",\"2020-01-07T00:00:00\",\"2020-01-06T00:00:00\",\"2020-01-05T00:00:00\",\"2020-01-04T00:00:00\",\"2020-01-03T00:00:00\",\"2020-01-02T00:00:00\",\"2020-01-01T00:00:00\",\"2019-12-31T00:00:00\",\"2019-12-30T00:00:00\",\"2019-12-29T00:00:00\",\"2019-12-28T00:00:00\",\"2019-12-27T00:00:00\",\"2019-12-26T00:00:00\",\"2019-12-25T00:00:00\",\"2019-12-24T00:00:00\",\"2019-12-23T00:00:00\",\"2019-12-22T00:00:00\",\"2019-12-21T00:00:00\",\"2019-12-20T00:00:00\",\"2019-12-19T00:00:00\",\"2019-12-18T00:00:00\",\"2019-12-17T00:00:00\",\"2019-12-16T00:00:00\",\"2019-12-15T00:00:00\",\"2019-12-14T00:00:00\",\"2019-12-13T00:00:00\",\"2019-12-12T00:00:00\",\"2019-12-11T00:00:00\",\"2019-12-10T00:00:00\",\"2019-12-09T00:00:00\",\"2019-12-08T00:00:00\",\"2019-12-07T00:00:00\",\"2019-12-06T00:00:00\",\"2019-12-05T00:00:00\",\"2019-12-04T00:00:00\",\"2019-12-03T00:00:00\",\"2019-12-02T00:00:00\",\"2019-12-01T00:00:00\",\"2019-11-30T00:00:00\",\"2019-11-29T00:00:00\",\"2019-11-28T00:00:00\",\"2019-11-27T00:00:00\",\"2019-11-26T00:00:00\",\"2019-11-25T00:00:00\",\"2019-11-24T00:00:00\",\"2019-11-23T00:00:00\",\"2019-11-22T00:00:00\",\"2019-11-21T00:00:00\",\"2019-11-20T00:00:00\",\"2019-11-19T00:00:00\",\"2019-11-18T00:00:00\",\"2019-11-17T00:00:00\",\"2019-11-16T00:00:00\",\"2019-11-15T00:00:00\",\"2019-11-14T00:00:00\",\"2019-11-13T00:00:00\",\"2019-11-12T00:00:00\",\"2019-11-11T00:00:00\",\"2019-11-10T00:00:00\",\"2019-11-09T00:00:00\",\"2019-11-08T00:00:00\",\"2019-11-07T00:00:00\",\"2019-11-06T00:00:00\",\"2019-11-05T00:00:00\",\"2019-11-04T00:00:00\",\"2019-11-03T00:00:00\",\"2019-11-02T00:00:00\",\"2019-11-01T00:00:00\",\"2019-10-31T00:00:00\",\"2019-10-30T00:00:00\",\"2019-10-29T00:00:00\",\"2019-10-28T00:00:00\",\"2019-10-27T00:00:00\",\"2019-10-26T00:00:00\",\"2019-10-25T00:00:00\",\"2019-10-24T00:00:00\",\"2019-10-23T00:00:00\",\"2019-10-22T00:00:00\",\"2019-10-21T00:00:00\",\"2019-10-20T00:00:00\",\"2019-10-19T00:00:00\",\"2019-10-18T00:00:00\",\"2019-10-17T00:00:00\",\"2019-10-16T00:00:00\",\"2019-10-15T00:00:00\",\"2019-10-14T00:00:00\",\"2019-10-13T00:00:00\",\"2019-10-12T00:00:00\",\"2019-10-11T00:00:00\",\"2019-10-10T00:00:00\",\"2019-10-09T00:00:00\",\"2019-10-08T00:00:00\",\"2019-10-07T00:00:00\",\"2019-10-06T00:00:00\",\"2019-10-05T00:00:00\",\"2019-10-04T00:00:00\",\"2019-10-03T00:00:00\",\"2019-10-02T00:00:00\",\"2019-10-01T00:00:00\",\"2019-09-30T00:00:00\",\"2019-09-29T00:00:00\",\"2019-09-28T00:00:00\",\"2019-09-27T00:00:00\",\"2019-09-26T00:00:00\",\"2019-09-25T00:00:00\",\"2019-09-24T00:00:00\",\"2019-09-23T00:00:00\",\"2019-09-22T00:00:00\",\"2019-09-21T00:00:00\",\"2019-09-20T00:00:00\",\"2019-09-19T00:00:00\",\"2019-09-18T00:00:00\",\"2019-09-17T00:00:00\",\"2019-09-16T00:00:00\",\"2019-09-15T00:00:00\",\"2019-09-14T00:00:00\",\"2019-09-13T00:00:00\",\"2019-09-12T00:00:00\",\"2019-09-11T00:00:00\",\"2019-09-10T00:00:00\",\"2019-09-09T00:00:00\",\"2019-09-08T00:00:00\",\"2019-09-07T00:00:00\",\"2019-09-06T00:00:00\",\"2019-09-05T00:00:00\",\"2019-09-04T00:00:00\",\"2019-09-03T00:00:00\",\"2019-09-02T00:00:00\",\"2019-09-01T00:00:00\",\"2019-08-31T00:00:00\",\"2019-08-30T00:00:00\",\"2019-08-29T00:00:00\",\"2019-08-28T00:00:00\",\"2019-08-27T00:00:00\",\"2019-08-26T00:00:00\",\"2019-08-25T00:00:00\",\"2019-08-24T00:00:00\",\"2019-08-23T00:00:00\",\"2019-08-22T00:00:00\",\"2019-08-21T00:00:00\",\"2019-08-20T00:00:00\",\"2019-08-19T00:00:00\",\"2019-08-18T00:00:00\",\"2019-08-17T00:00:00\",\"2019-08-16T00:00:00\",\"2019-08-15T00:00:00\",\"2019-08-14T00:00:00\",\"2019-08-13T00:00:00\",\"2019-08-12T00:00:00\",\"2019-08-11T00:00:00\",\"2019-08-10T00:00:00\",\"2019-08-09T00:00:00\",\"2019-08-08T00:00:00\",\"2019-08-07T00:00:00\",\"2019-08-06T00:00:00\",\"2019-08-05T00:00:00\",\"2019-08-04T00:00:00\",\"2019-08-03T00:00:00\",\"2019-08-02T00:00:00\",\"2019-08-01T00:00:00\",\"2019-07-31T00:00:00\",\"2019-07-30T00:00:00\",\"2019-07-29T00:00:00\",\"2019-07-28T00:00:00\",\"2019-07-27T00:00:00\",\"2019-07-26T00:00:00\",\"2019-07-25T00:00:00\",\"2019-07-24T00:00:00\",\"2019-07-23T00:00:00\",\"2019-07-22T00:00:00\",\"2019-07-21T00:00:00\",\"2019-07-20T00:00:00\",\"2019-07-19T00:00:00\",\"2019-07-18T00:00:00\",\"2019-07-17T00:00:00\",\"2019-07-16T00:00:00\",\"2019-07-15T00:00:00\",\"2019-07-14T00:00:00\",\"2019-07-13T00:00:00\",\"2019-07-12T00:00:00\",\"2019-07-11T00:00:00\",\"2019-07-10T00:00:00\",\"2019-07-09T00:00:00\",\"2019-07-08T00:00:00\",\"2019-07-07T00:00:00\",\"2019-07-06T00:00:00\",\"2019-07-05T00:00:00\",\"2019-07-04T00:00:00\",\"2019-07-03T00:00:00\",\"2019-07-02T00:00:00\",\"2019-07-01T00:00:00\",\"2019-06-30T00:00:00\",\"2019-06-29T00:00:00\",\"2019-06-28T00:00:00\",\"2019-06-27T00:00:00\",\"2019-06-26T00:00:00\",\"2019-06-25T00:00:00\",\"2019-06-24T00:00:00\",\"2019-06-23T00:00:00\",\"2019-06-22T00:00:00\",\"2019-06-21T00:00:00\",\"2019-06-20T00:00:00\",\"2019-06-19T00:00:00\",\"2019-06-18T00:00:00\",\"2019-06-17T00:00:00\",\"2019-06-16T00:00:00\",\"2019-06-15T00:00:00\",\"2019-06-14T00:00:00\",\"2019-06-13T00:00:00\",\"2019-06-12T00:00:00\",\"2019-06-11T00:00:00\",\"2019-06-10T00:00:00\",\"2019-06-09T00:00:00\",\"2019-06-08T00:00:00\",\"2019-06-07T00:00:00\",\"2019-06-06T00:00:00\",\"2019-06-05T00:00:00\",\"2019-06-04T00:00:00\",\"2019-06-03T00:00:00\",\"2019-06-02T00:00:00\",\"2019-06-01T00:00:00\",\"2019-05-31T00:00:00\",\"2019-05-30T00:00:00\",\"2019-05-29T00:00:00\",\"2019-05-28T00:00:00\",\"2019-05-27T00:00:00\",\"2019-05-26T00:00:00\",\"2019-05-25T00:00:00\",\"2019-05-24T00:00:00\",\"2019-05-23T00:00:00\",\"2019-05-22T00:00:00\",\"2019-05-21T00:00:00\",\"2019-05-20T00:00:00\",\"2019-05-19T00:00:00\",\"2019-05-18T00:00:00\",\"2019-05-17T00:00:00\",\"2019-05-16T00:00:00\",\"2019-05-15T00:00:00\",\"2019-05-14T00:00:00\",\"2019-05-13T00:00:00\",\"2019-05-12T00:00:00\",\"2019-05-11T00:00:00\",\"2019-05-10T00:00:00\",\"2019-05-09T00:00:00\",\"2019-05-08T00:00:00\",\"2019-05-07T00:00:00\",\"2019-05-06T00:00:00\",\"2019-05-05T00:00:00\",\"2019-05-04T00:00:00\",\"2019-05-03T00:00:00\",\"2019-05-02T00:00:00\",\"2019-05-01T00:00:00\",\"2019-04-30T00:00:00\",\"2019-04-29T00:00:00\",\"2019-04-28T00:00:00\",\"2019-04-27T00:00:00\",\"2019-04-26T00:00:00\",\"2019-04-25T00:00:00\",\"2019-04-24T00:00:00\",\"2019-04-23T00:00:00\",\"2019-04-22T00:00:00\",\"2019-04-21T00:00:00\",\"2019-04-20T00:00:00\",\"2019-04-19T00:00:00\",\"2019-04-18T00:00:00\",\"2019-04-17T00:00:00\",\"2019-04-16T00:00:00\",\"2019-04-15T00:00:00\",\"2019-04-14T00:00:00\",\"2019-04-13T00:00:00\",\"2019-04-12T00:00:00\",\"2019-04-11T00:00:00\",\"2019-04-10T00:00:00\",\"2019-04-09T00:00:00\",\"2019-04-08T00:00:00\",\"2019-04-07T00:00:00\",\"2019-04-06T00:00:00\",\"2019-04-05T00:00:00\",\"2019-04-04T00:00:00\",\"2019-04-03T00:00:00\",\"2019-04-02T00:00:00\",\"2019-04-01T00:00:00\",\"2019-03-31T00:00:00\",\"2019-03-30T00:00:00\",\"2019-03-29T00:00:00\",\"2019-03-28T00:00:00\",\"2019-03-27T00:00:00\",\"2019-03-26T00:00:00\",\"2019-03-25T00:00:00\",\"2019-03-24T00:00:00\",\"2019-03-23T00:00:00\",\"2019-03-22T00:00:00\",\"2019-03-21T00:00:00\",\"2019-03-20T00:00:00\",\"2019-03-19T00:00:00\",\"2019-03-18T00:00:00\",\"2019-03-17T00:00:00\",\"2019-03-16T00:00:00\",\"2019-03-15T00:00:00\",\"2019-03-14T00:00:00\",\"2019-03-13T00:00:00\",\"2019-03-12T00:00:00\",\"2019-03-11T00:00:00\",\"2019-03-10T00:00:00\",\"2019-03-09T00:00:00\",\"2019-03-08T00:00:00\",\"2019-03-07T00:00:00\",\"2019-03-06T00:00:00\",\"2019-03-05T00:00:00\",\"2019-03-04T00:00:00\",\"2019-03-03T00:00:00\",\"2019-03-02T00:00:00\",\"2019-03-01T00:00:00\",\"2019-02-28T00:00:00\",\"2019-02-27T00:00:00\",\"2019-02-26T00:00:00\",\"2019-02-25T00:00:00\",\"2019-02-24T00:00:00\",\"2019-02-23T00:00:00\",\"2019-02-22T00:00:00\",\"2019-02-21T00:00:00\",\"2019-02-20T00:00:00\",\"2019-02-19T00:00:00\",\"2019-02-18T00:00:00\",\"2019-02-17T00:00:00\",\"2019-02-16T00:00:00\",\"2019-02-15T00:00:00\",\"2019-02-14T00:00:00\",\"2019-02-13T00:00:00\",\"2019-02-12T00:00:00\",\"2019-02-11T00:00:00\",\"2019-02-10T00:00:00\",\"2019-02-09T00:00:00\",\"2019-02-08T00:00:00\",\"2019-02-07T00:00:00\",\"2019-02-06T00:00:00\",\"2019-02-05T00:00:00\",\"2019-02-04T00:00:00\",\"2019-02-03T00:00:00\",\"2019-02-02T00:00:00\",\"2019-02-01T00:00:00\",\"2019-01-31T00:00:00\",\"2019-01-30T00:00:00\",\"2019-01-29T00:00:00\",\"2019-01-28T00:00:00\",\"2019-01-27T00:00:00\",\"2019-01-26T00:00:00\",\"2019-01-25T00:00:00\",\"2019-01-24T00:00:00\",\"2019-01-23T00:00:00\",\"2019-01-22T00:00:00\",\"2019-01-21T00:00:00\",\"2019-01-20T00:00:00\",\"2019-01-19T00:00:00\",\"2019-01-18T00:00:00\",\"2019-01-17T00:00:00\",\"2019-01-16T00:00:00\",\"2019-01-15T00:00:00\",\"2019-01-14T00:00:00\",\"2019-01-13T00:00:00\",\"2019-01-12T00:00:00\",\"2019-01-11T00:00:00\",\"2019-01-10T00:00:00\",\"2019-01-09T00:00:00\",\"2019-01-08T00:00:00\",\"2019-01-07T00:00:00\",\"2019-01-06T00:00:00\",\"2019-01-05T00:00:00\",\"2019-01-04T00:00:00\",\"2019-01-03T00:00:00\",\"2019-01-02T00:00:00\",\"2019-01-01T00:00:00\",\"2018-12-31T00:00:00\",\"2018-12-30T00:00:00\",\"2018-12-29T00:00:00\",\"2018-12-28T00:00:00\",\"2018-12-27T00:00:00\",\"2018-12-26T00:00:00\",\"2018-12-25T00:00:00\",\"2018-12-24T00:00:00\",\"2018-12-23T00:00:00\",\"2018-12-22T00:00:00\",\"2018-12-21T00:00:00\",\"2018-12-20T00:00:00\",\"2018-12-19T00:00:00\",\"2018-12-18T00:00:00\",\"2018-12-17T00:00:00\",\"2018-12-16T00:00:00\",\"2018-12-15T00:00:00\",\"2018-12-14T00:00:00\",\"2018-12-13T00:00:00\",\"2018-12-12T00:00:00\",\"2018-12-11T00:00:00\",\"2018-12-10T00:00:00\",\"2018-12-09T00:00:00\",\"2018-12-08T00:00:00\",\"2018-12-07T00:00:00\",\"2018-12-06T00:00:00\",\"2018-12-05T00:00:00\",\"2018-12-04T00:00:00\",\"2018-12-03T00:00:00\",\"2018-12-02T00:00:00\",\"2018-12-01T00:00:00\",\"2018-11-30T00:00:00\",\"2018-11-29T00:00:00\",\"2018-11-28T00:00:00\",\"2018-11-27T00:00:00\",\"2018-11-26T00:00:00\",\"2018-11-25T00:00:00\",\"2018-11-24T00:00:00\",\"2018-11-23T00:00:00\",\"2018-11-22T00:00:00\",\"2018-11-21T00:00:00\",\"2018-11-20T00:00:00\",\"2018-11-19T00:00:00\",\"2018-11-18T00:00:00\",\"2018-11-17T00:00:00\",\"2018-11-16T00:00:00\",\"2018-11-15T00:00:00\",\"2018-11-14T00:00:00\",\"2018-11-13T00:00:00\",\"2018-11-12T00:00:00\",\"2018-11-11T00:00:00\",\"2018-11-10T00:00:00\",\"2018-11-09T00:00:00\",\"2018-11-08T00:00:00\",\"2018-11-07T00:00:00\",\"2018-11-06T00:00:00\",\"2018-11-05T00:00:00\",\"2018-11-04T00:00:00\",\"2018-11-03T00:00:00\",\"2018-11-02T00:00:00\",\"2018-11-01T00:00:00\",\"2018-10-31T00:00:00\",\"2018-10-30T00:00:00\",\"2018-10-29T00:00:00\",\"2018-10-28T00:00:00\",\"2018-10-27T00:00:00\",\"2018-10-26T00:00:00\",\"2018-10-25T00:00:00\",\"2018-10-24T00:00:00\",\"2018-10-23T00:00:00\",\"2018-10-22T00:00:00\",\"2018-10-21T00:00:00\",\"2018-10-20T00:00:00\",\"2018-10-19T00:00:00\",\"2018-10-18T00:00:00\",\"2018-10-17T00:00:00\",\"2018-10-16T00:00:00\",\"2018-10-15T00:00:00\",\"2018-10-14T00:00:00\",\"2018-10-13T00:00:00\",\"2018-10-12T00:00:00\",\"2018-10-11T00:00:00\",\"2018-10-10T00:00:00\",\"2018-10-09T00:00:00\",\"2018-10-08T00:00:00\",\"2018-10-07T00:00:00\",\"2018-10-06T00:00:00\",\"2018-10-05T00:00:00\",\"2018-10-04T00:00:00\",\"2018-10-03T00:00:00\",\"2018-10-02T00:00:00\",\"2018-10-01T00:00:00\",\"2018-09-30T00:00:00\",\"2018-09-29T00:00:00\",\"2018-09-28T00:00:00\",\"2018-09-27T00:00:00\",\"2018-09-26T00:00:00\",\"2018-09-25T00:00:00\",\"2018-09-24T00:00:00\",\"2018-09-23T00:00:00\",\"2018-09-22T00:00:00\",\"2018-09-21T00:00:00\",\"2018-09-20T00:00:00\",\"2018-09-19T00:00:00\",\"2018-09-18T00:00:00\",\"2018-09-17T00:00:00\",\"2018-09-16T00:00:00\",\"2018-09-15T00:00:00\",\"2018-09-14T00:00:00\",\"2018-09-13T00:00:00\",\"2018-09-12T00:00:00\",\"2018-09-11T00:00:00\",\"2018-09-10T00:00:00\",\"2018-09-09T00:00:00\",\"2018-09-08T00:00:00\",\"2018-09-07T00:00:00\",\"2018-09-06T00:00:00\",\"2018-09-05T00:00:00\",\"2018-09-04T00:00:00\",\"2018-09-03T00:00:00\",\"2018-09-02T00:00:00\",\"2018-09-01T00:00:00\",\"2018-08-31T00:00:00\",\"2018-08-30T00:00:00\",\"2018-08-29T00:00:00\",\"2018-08-28T00:00:00\",\"2018-08-27T00:00:00\",\"2018-08-26T00:00:00\",\"2018-08-25T00:00:00\",\"2018-08-24T00:00:00\",\"2018-08-23T00:00:00\",\"2018-08-22T00:00:00\",\"2018-08-21T00:00:00\",\"2018-08-20T00:00:00\",\"2018-08-19T00:00:00\",\"2018-08-18T00:00:00\",\"2018-08-17T00:00:00\",\"2018-08-16T00:00:00\",\"2018-08-15T00:00:00\",\"2018-08-14T00:00:00\",\"2018-08-13T00:00:00\",\"2018-08-12T00:00:00\",\"2018-08-11T00:00:00\",\"2018-08-10T00:00:00\",\"2018-08-09T00:00:00\",\"2018-08-08T00:00:00\",\"2018-08-07T00:00:00\",\"2018-08-06T00:00:00\",\"2018-08-05T00:00:00\",\"2018-08-04T00:00:00\",\"2018-08-03T00:00:00\",\"2018-08-02T00:00:00\",\"2018-08-01T00:00:00\",\"2018-07-31T00:00:00\",\"2018-07-30T00:00:00\",\"2018-07-29T00:00:00\",\"2018-07-28T00:00:00\",\"2018-07-27T00:00:00\",\"2018-07-26T00:00:00\",\"2018-07-25T00:00:00\",\"2018-07-24T00:00:00\",\"2018-07-23T00:00:00\",\"2018-07-22T00:00:00\",\"2018-07-21T00:00:00\",\"2018-07-20T00:00:00\",\"2018-07-19T00:00:00\",\"2018-07-18T00:00:00\",\"2018-07-17T00:00:00\",\"2018-07-16T00:00:00\",\"2018-07-15T00:00:00\",\"2018-07-14T00:00:00\",\"2018-07-13T00:00:00\",\"2018-07-12T00:00:00\",\"2018-07-11T00:00:00\",\"2018-07-10T00:00:00\",\"2018-07-09T00:00:00\",\"2018-07-08T00:00:00\",\"2018-07-07T00:00:00\",\"2018-07-06T00:00:00\",\"2018-07-05T00:00:00\",\"2018-07-04T00:00:00\",\"2018-07-03T00:00:00\",\"2018-07-02T00:00:00\",\"2018-07-01T00:00:00\",\"2018-06-30T00:00:00\",\"2018-06-29T00:00:00\",\"2018-06-28T00:00:00\",\"2018-06-27T00:00:00\",\"2018-06-26T00:00:00\",\"2018-06-25T00:00:00\",\"2018-06-24T00:00:00\",\"2018-06-23T00:00:00\",\"2018-06-22T00:00:00\",\"2018-06-21T00:00:00\",\"2018-06-20T00:00:00\",\"2018-06-19T00:00:00\",\"2018-06-18T00:00:00\",\"2018-06-17T00:00:00\",\"2018-06-16T00:00:00\",\"2018-06-15T00:00:00\",\"2018-06-14T00:00:00\",\"2018-06-13T00:00:00\",\"2018-06-12T00:00:00\",\"2018-06-11T00:00:00\",\"2018-06-10T00:00:00\",\"2018-06-09T00:00:00\",\"2018-06-08T00:00:00\",\"2018-06-07T00:00:00\",\"2018-06-06T00:00:00\",\"2018-06-05T00:00:00\",\"2018-06-04T00:00:00\",\"2018-06-03T00:00:00\",\"2018-06-02T00:00:00\",\"2018-06-01T00:00:00\",\"2018-05-31T00:00:00\",\"2018-05-30T00:00:00\",\"2018-05-29T00:00:00\",\"2018-05-28T00:00:00\",\"2018-05-27T00:00:00\",\"2018-05-26T00:00:00\",\"2018-05-25T00:00:00\",\"2018-05-24T00:00:00\",\"2018-05-23T00:00:00\",\"2018-05-22T00:00:00\",\"2018-05-21T00:00:00\",\"2018-05-20T00:00:00\",\"2018-05-19T00:00:00\",\"2018-05-18T00:00:00\",\"2018-05-17T00:00:00\",\"2018-05-16T00:00:00\",\"2018-05-15T00:00:00\",\"2018-05-14T00:00:00\",\"2018-05-13T00:00:00\",\"2018-05-12T00:00:00\",\"2018-05-11T00:00:00\",\"2018-05-10T00:00:00\",\"2018-05-09T00:00:00\",\"2018-05-08T00:00:00\",\"2018-05-07T00:00:00\",\"2018-05-06T00:00:00\",\"2018-05-05T00:00:00\",\"2018-05-04T00:00:00\",\"2018-05-03T00:00:00\",\"2018-05-02T00:00:00\",\"2018-05-01T00:00:00\",\"2018-04-30T00:00:00\",\"2018-04-29T00:00:00\",\"2018-04-28T00:00:00\",\"2018-04-27T00:00:00\",\"2018-04-26T00:00:00\",\"2018-04-25T00:00:00\",\"2018-04-24T00:00:00\",\"2018-04-23T00:00:00\",\"2018-04-22T00:00:00\",\"2018-04-21T00:00:00\",\"2018-04-20T00:00:00\",\"2018-04-19T00:00:00\",\"2018-04-18T00:00:00\",\"2018-04-17T00:00:00\",\"2018-04-13T00:00:00\",\"2018-04-12T00:00:00\",\"2018-04-11T00:00:00\",\"2018-04-10T00:00:00\",\"2018-04-09T00:00:00\",\"2018-04-08T00:00:00\",\"2018-04-07T00:00:00\",\"2018-04-06T00:00:00\",\"2018-04-05T00:00:00\",\"2018-04-04T00:00:00\",\"2018-04-03T00:00:00\",\"2018-04-02T00:00:00\",\"2018-04-01T00:00:00\",\"2018-03-31T00:00:00\",\"2018-03-30T00:00:00\",\"2018-03-29T00:00:00\",\"2018-03-28T00:00:00\",\"2018-03-27T00:00:00\",\"2018-03-26T00:00:00\",\"2018-03-25T00:00:00\",\"2018-03-24T00:00:00\",\"2018-03-23T00:00:00\",\"2018-03-22T00:00:00\",\"2018-03-21T00:00:00\",\"2018-03-20T00:00:00\",\"2018-03-19T00:00:00\",\"2018-03-18T00:00:00\",\"2018-03-17T00:00:00\",\"2018-03-16T00:00:00\",\"2018-03-15T00:00:00\",\"2018-03-14T00:00:00\",\"2018-03-13T00:00:00\",\"2018-03-12T00:00:00\",\"2018-03-11T00:00:00\",\"2018-03-10T00:00:00\",\"2018-03-09T00:00:00\",\"2018-03-08T00:00:00\",\"2018-03-07T00:00:00\",\"2018-03-06T00:00:00\",\"2018-03-05T00:00:00\",\"2018-03-04T00:00:00\",\"2018-03-03T00:00:00\",\"2018-03-02T00:00:00\",\"2018-03-01T00:00:00\",\"2018-02-28T00:00:00\",\"2018-02-27T00:00:00\",\"2018-02-26T00:00:00\",\"2018-02-25T00:00:00\",\"2018-02-24T00:00:00\",\"2018-02-23T00:00:00\",\"2018-02-22T00:00:00\",\"2018-02-21T00:00:00\",\"2018-02-20T00:00:00\",\"2018-02-19T00:00:00\",\"2018-02-18T00:00:00\",\"2018-02-17T00:00:00\",\"2018-02-16T00:00:00\",\"2018-02-15T00:00:00\",\"2018-02-14T00:00:00\",\"2018-02-13T00:00:00\",\"2018-02-12T00:00:00\",\"2018-02-11T00:00:00\",\"2018-02-10T00:00:00\",\"2018-02-09T00:00:00\",\"2018-02-08T00:00:00\",\"2018-02-07T00:00:00\",\"2018-02-06T00:00:00\",\"2018-02-05T00:00:00\",\"2018-02-04T00:00:00\",\"2018-02-03T00:00:00\",\"2018-02-02T00:00:00\",\"2018-02-01T00:00:00\"],\"y\":[0.7910542820053973,0.7745657313431098,0.780172201304311,0.7829748756939747,0.794846895928944,0.7941827714187892,0.7961830109396484,0.7976824908463033,0.79688574565451,0.7908987316937154,0.7794557944627681,0.780532159201983,0.7856780526423706,0.784790286312784,0.785268853801138,0.7868676203984356,0.7893983459795961,0.8012687258827687,0.8098318013107676,0.8106650546722424,0.8142457213851867,0.8184044716287704,0.8213193137962368,0.8180512986582653,0.814227937476456,0.8107045342226831,0.8136457354422034,0.8110946676325832,0.8087239422832846,0.8072319908912536,0.8072383158452271,0.808611952163366,0.8045469579695396,0.7948326079197726,0.7824832138895356,0.7676976438626941,0.7568357069077625,0.7301744977009929,0.7007657703843365,0.6752474666403351,0.651615633336426,0.6297387271027617,0.6094974169260283,0.5907831961127387,0.5756761483193327,0.5580439373642235,0.5380300656767275,0.5220523015804464,0.5186770682152321,0.5169814495118636,0.5138409351281191,0.5098313040519603,0.5084592839082974,0.5051846593289004,0.49283350356287564,0.4876837415194515,0.4770296135857446,0.46631018610793307,0.46299317988906014,0.45933644615804053,0.4567307692819814,0.4687763261617674,0.48039256041395606,0.48891324462513924,0.4966931388963931,0.5050877417356183,0.5131969973300585,0.5197290110470635,0.5269077130809066,0.5338502723486054,0.5401405158988725,0.5487699182504204,0.5541766631689987,0.5610867812263306,0.566948440754193,0.5751109715770135,0.5830227687928783,0.5894658851035607,0.5965288108594634,0.600140035521241,0.603644110396909,0.6082482689495564,0.6123188500987333,0.6162715272647936,0.6197150679730468,0.6250292852110026,0.6278404832282175,0.6305726471713037,0.6332285399189549,0.6361980894845316,0.6367712190916098,0.6407874034028976,0.6427800779220272,0.638233787690928,0.6330492581933425,0.624972579074372,0.6193751785887192,0.6139253269110743,0.6131189506916915,0.612333590918048,0.6089596021645002,0.6045578362940056,0.6002689535260095,0.5894398961012067,0.5766754382731298,0.5646007541234701,0.5509976966838257,0.538100350435422,0.5247952072007803,0.5078207675824927,0.4945291097862931,0.4833729255104321,0.4706849779421618,0.45686569026074625,0.4458966976387232,0.43447572768074355,0.42368734308748623,0.4128006081177978,0.4039550705877724,0.39354237819678617,0.38337652951923173,0.37345081193121826,0.3637587323981687,0.3571165430665839,0.34781220599178336,0.34188869144242073,0.335400863037189,0.32801218398906185,0.31974472211415234,0.3141119606271023,0.3086084302920235,0.30218645918026665,0.2959109754927018,0.28873703510763327,0.28103270359537974,0.2759251438661079,0.2692048975603303,0.25987497574650403,0.24937587683006518,0.24358650138354315,0.23723892213760994,0.23171945376532646,0.22700851226751373,0.2227445611120264,0.2209696375212,0.22094241134504647,0.21750263171564224,0.21243379325860087,0.20917902739159946,0.20361406677542873,0.19817072373652894,0.1904695234126415,0.18259680148562366,0.17557283445907054,0.16937825339229964,0.16568522524102997,0.1630856997719336,0.15952947371555365,0.1557125415917161,0.15096665317875885,0.1456491918755878,0.1377541089296816,0.13271738820941958,0.12879601658032183,0.12697221320376634,0.12351027382285998,0.12012197512839588,0.11278678938978978,0.10694586249116077,0.10055979764457246,0.09664826047180763,0.09014751455650517,0.08778907888884122,0.08481324798608088,0.08390007866093471,0.0806741778139318,0.07984653246992,0.07870351048832075,0.079247143395702,0.09207647107509005,0.10231245104787226,0.11598656388219027,0.12970726655054451,0.1411522488143311,0.1513645909849918,0.16169586451243567,0.16618315517248006,0.17719688339282014,0.18566647122054525,0.1956139404895727,0.2060165495282495,0.21058768176706963,0.21539459117405665,0.2224128826372185,0.22631683750871845,0.22255455088152334,0.2201884863085297,0.21984844207035403,0.22544509395976167,0.2342197827318252,0.2454477568752351,0.2564453502662819,0.26754639519013285,0.2800641419168816,0.2913394141053089,0.3030411876556092,0.31483217281227255,0.32506860356323264,0.33476767663023754,0.3442687827971574,0.3542322692142118,0.3620246438835729,0.3696582493950449,0.37811983951051165,0.38608149870107683,0.3948640989198157,0.4021579757117237,0.41028601401925424,0.4179216042650216,0.4257294893825889,0.4333789588431311,0.44152756439871965,0.4482027821363365,0.45474275669130454,0.4618040967128042,0.46578101482113926,0.4660831022221958,0.46833922329370437,0.47218284464492416,0.47627534885530554,0.48159114275937676,0.4877788757261318,0.49449443850660235,0.49976930210936255,0.5052640164115015,0.5103217668022327,0.5152775803247814,0.5217638750266693,0.52877155151075,0.534334314979346,0.5384815081681118,0.5435228046067222,0.5468337088662044,0.554312754765752,0.5616414564444777,0.5671946310385423,0.572961843595331,0.5786132248041491,0.5864297059094856,0.5921364894171256,0.597728749767126,0.5901936431873583,0.5883404057478869,0.5868496262029833,0.585063476918325,0.5911183197950268,0.5960763047859573,0.606787482267868,0.617284132453313,0.6265954008091219,0.6357202628520202,0.6453124807919324,0.6540628277889573,0.6639378195874338,0.6736152855783987,0.6824494906148338,0.691756719738746,0.6999034896671236,0.7078874290341021,0.7160365614308074,0.7236981649710829,0.7321807637605202,0.7365980941594678,0.7419010923012879,0.7464490111242781,0.7499324210298892,0.7530217559736572,0.755400394559893,0.7570825767597724,0.7590556715540445,0.7613138570908706,0.7628781527524048,0.7647356563592008,0.7594197565771625,0.7616700769945658,0.7616051832050472,0.7625145296767112,0.7621085746587329,0.7630078071420425,0.7528644629798237,0.7542714179397233,0.7566229966338476,0.7595761352886894,0.7621462858667784,0.7646652599964059,0.7687547993891256,0.7740594308075481,0.7776379250955706,0.7795247320929779,0.7833184472475029,0.788981032309639,0.7958271255022139,0.8022129823183745,0.8084718007655347,0.8139581199771633,0.820631257109494,0.8265237341031697,0.8326229868878823,0.8382770124875246,0.8441425478020641,0.8498914663030497,0.855850000281432,0.8603945186173337,0.8648487053412617,0.8695382304290299,0.8738106994061646,0.878645951941504,0.8837089550121164,0.8860807805723637,0.8906721593707547,0.8935533178708275,0.8976723995186222,0.9017096569981419,0.9059904904534904,0.9108338168717757,0.914609699294594,0.9183105933099484,0.9216142609333012,0.9261472153666226,0.9292953073838408,0.9320571880666816,0.9344405372697913,0.9383950082652566,0.9396815372359374,0.9438555708641153,0.947623085050937,0.9516394724883421,0.9549288444329188,0.9578292897595798,0.9606721711798986,0.9634586336534775,0.9671606576141933,0.9685239306031153,0.9701837578298672,0.9711634516917489,0.9718001141287121,0.9746892499853077,0.9778446457176055,0.9789959958120859,0.9807716412835926,0.9838063113741219,0.9858101126639034,0.9861564107644133,0.9890842038815368,0.9909833038627366,0.9912270623072655,0.9927601046742595,0.9929686438550108,0.9944671254974956,0.9956123747641971,0.9960878924642146,0.99623047510092,0.9976642327961451,0.9990695597032669,0.9978590867644118,0.9986135398865844,1.0,0.9955363487369048,0.9918081477846057,0.9871834511054154,0.982650443463702,0.9785307680225679,0.9748162245907006,0.9714987760357181,0.9659829284426665,0.9615467708026545,0.9542875466926906,0.95170040402168,0.9494879830681456,0.9463491116022003,0.943595889455552,0.9405738108340957,0.9337305249592093,0.9254057632096158,0.9169225794220277,0.9086075301290182,0.9007806939165991,0.8918153336813963,0.8843212887763073,0.8760055465605878,0.8688248153510172,0.8604927879342386,0.8532960737315266,0.8455951866093484,0.8364299410982166,0.8267995374278161,0.8163898069108255,0.8074798994929251,0.7971296285458148,0.7869844523676461,0.7763935451728242,0.7663358728963854,0.7577709909934115,0.7506693101545174,0.7424148574925833,0.7336772187744727,0.7264061745539111,0.7186324632883575,0.7113361378410296,0.7019208401840656,0.6939855264684872,0.684913997336488,0.6789324078484283,0.6743627470696253,0.6685902058195886,0.6632553805343413,0.6577028959020296,0.6506436690525392,0.645017683174368,0.6369163862749034,0.6286522380534859,0.6215218369332726,0.6145326922774335,0.6067119835957541,0.5990462040844758,0.5925022964109624,0.5860880222389773,0.5798008125613846,0.5736381493212132,0.5672742316677925,0.573646308698517,0.5811854824928274,0.5859886793065143,0.5906967306603069,0.5953115219033742,0.6011282050055781,0.6052130442468561,0.6095402938805632,0.6141051517132255,0.6182562668571404,0.6232951201022775,0.6275875248234822,0.6324415452690031,0.6381693740710302,0.6418438454420523,0.6470621175169003,0.6528236612739323,0.6587944001933674,0.6643235626763876,0.6687732701727876,0.672811530801044,0.6757998720853033,0.6787290244032623,0.6845099507395794,0.6882365215893171,0.692212591241176,0.6954632939833736,0.6986496127014777,0.7024194359386908,0.7048213704639553,0.7062058167208275,0.7085327566173614,0.7124301295207877,0.7146337953491753,0.7167938161726837,0.7192343587497054,0.7200100571205467,0.7223868977017465,0.7188972551465553,0.7145068260963243,0.7102033504734104,0.7053385080507175,0.7012166111006499,0.6955598589512105,0.6880753541507411,0.680739079328384,0.6725782089820831,0.6655488510494882,0.6576888210895566,0.6506310467997143,0.6440363438330379,0.6372489519542566,0.6305959811895369,0.6234281822001153,0.617372216475054,0.6104663075060762,0.6046670422248034,0.5989826272656453,0.5930874963351557,0.5863392403162074,0.5790780462229447,0.5726072345026828,0.5665878612813393,0.5610109856566781,0.5555445544034088,0.5508329582973741,0.5452448038041658,0.5394440279031592,0.5347279941674955,0.5291354921196245,0.5246236054494273,0.5224640821699842,0.5174377420663486,0.5115410815772122,0.5054379098322198,0.4997788890359599,0.49455522296675686,0.48975828963587537,0.48440978140515767,0.4794904774131545,0.4740220225568937,0.46963171603448867,0.4646817833522165,0.4598298759312729,0.4596000296822984,0.4600213028983547,0.4597876661969458,0.4598819397186068,0.460297629575887,0.46070508744493527,0.4607811934936247,0.4611790750735871,0.45962938245265766,0.4606966369569505,0.4598030638108881,0.4592504680912967,0.45773897013146303,0.4562574043918429,0.452542208040344,0.44825402108824347,0.444050752917446,0.44057728371926247,0.43781916095797835,0.4341458150626497,0.43119177301630635,0.4305591920033603,0.4309089785596886,0.43060527818671396,0.4303075919352704,0.4267830025652552,0.42365148954584203,0.42155182780578554,0.4182006274192936,0.4152390692671487,0.4116895996439802,0.4085336981845243,0.4080265236821425,0.4101156233045592,0.41184007446626497,0.4115907052155495,0.40908332454949176,0.40597903978039673,0.4042293411673797,0.4028375693342546,0.3998569676546624,0.39693538955613145,0.3953647778403196,0.38800626746694605,0.38079347427538685,0.3743700678967319,0.3658109182566129,0.3583910936264038,0.3498250905054286,0.34110543823194683,0.33255845665448164,0.3235341721007622,0.314042036414909,0.30506114522201633,0.2969046513855472,0.2879398454120888,0.2785060107476183,0.27087537223574404,0.26242600880786804,0.2528508567544308,0.24314203905611656,0.2352418611798835,0.22749812554433235,0.22217066829363868,0.21662543099474857,0.2108667262240796,0.20263584828128223,0.19456796091917938,0.18665983648785653,0.17955486316728544,0.1725905847441463,0.16511766339133033,0.15779272306044226,0.14996628184973232,0.14294137346017916,0.1347624716892776,0.12803863316937567,0.12209449300835307,0.11594478476767489,0.10959357917128981,0.10272159091536005,0.09630895883618902,0.08937676058395608,0.08258183535697027,0.07689129054923657,0.0709901559882764,0.06423605149525154,0.057938968369156636,0.05273640668951999,0.04634376699595489,0.040724265684231487,0.03650914278054523,0.03334731340019278,0.029924820251207965,0.02689337482604783,0.02909435618580229,0.032868127396592006,0.03689044451854889,0.04147966053927558,0.045654725420989424,0.04910056560596052,0.05247817071705125,0.05611216660262876,0.059350926944027334,0.06317210203163388,0.06659433510412477,0.07059534968467365,0.0754869591212025,0.08092825319557959,0.08626179804520431,0.09051990407335897,0.09501696495016476,0.09942497447266699,0.10568534219282026,0.11279156437356241,0.11846397108072328,0.12725679504833404,0.13749187389271436,0.14720100236112416,0.15736441810604898,0.16603348002394583,0.17162140862154965,0.17871505535651885,0.1853449588742379,0.19184357642708919,0.19821350776642863,0.20607367164190815,0.2111919952453288,0.2171787875589116,0.2240168510545793,0.23007295861186106,0.2360091426542552,0.2411812299339817,0.2468974471206472,0.2525004713606871,0.257022722263609,0.26016232749338053,0.26065357066397965,0.26081181229588085,0.2606436465211921,0.263388275716969,0.2670483772076078,0.2696661795840328,0.2719088702441302,0.27572352017668655,0.27881608456557283,0.28281723125427444,0.28706242082703926,0.2909002731594459,0.2953086757008103,0.2973668665091585,0.2980912059213589,0.3004175706390482,0.2997884050024083,0.30014151929304994,0.30275055717767607,0.3017519200755862,0.30109633171563044,0.2998071779756643,0.2982202784311886,0.29666480272706147,0.2954634022613246,0.2936392446728603,0.29217448274970637,0.291385273348131,0.28964187102765054,0.2879329916101619,0.28658122507711337,0.28557949986031816,0.27910195977658636,0.27372250885660454,0.27103577056990164,0.2641996787278816,0.2584687760192868,0.25285135677008197,0.24669862667440204,0.23872809180413346,0.23350157791293882,0.22870183307677092,0.22302731229942654,0.21940479958929462,0.2142376523718008,0.20949609859040916,0.20387861662375503,0.20031201308796107,0.19875567642441994,0.1959370644199577,0.19446736052321026,0.1920569392963476,0.18710806150070008,0.18322700182788004,0.18071588877547998,0.17825450080660252,0.17487203291192827,0.17575909947039012,0.17436568623996473,0.17332313882503336,0.1684219547464627,0.1639410973722743,0.15825587626143772,0.15397632760864913,0.1504280694300577,0.1459802536354247,0.14485324759372756,0.14439510533944683,0.14394603521922392,0.14544549797462142,0.14691526836612054,0.1493257545359062,0.15071868809344988,0.15305385893355122,0.1543729685770685,0.1559892305900545,0.15789676075893552,0.15944324464574777,0.16063583169208936,0.16309789659613938,0.16939048805454873,0.17523520027300882,0.18128744887501827,0.18560348409555136,0.19209696666818193,0.1968454985760649,0.20085345338101165,0.20510531602784812,0.21024280333788356,0.21560183149053544,0.22020819352193713,0.22407679372842376,0.22883860793568672,0.22413120213677618,0.2182239190423853,0.21663616517137976,0.21701949193750938,0.2167486814251612,0.21648323350052828,0.21751613524713345,0.21820531016520892,0.21888083804726524,0.21954298913195064,0.2198687549957127,0.21954152342844307,0.2195440450050895,0.2195465166494988,0.21987221265448112,0.2208380058351947,0.22049158118573006,0.22079856303213508,0.21722018645475008,0.215329035333546,0.21315205947181518,0.21069491876905905,0.21054934738214698,0.21105320517910148,0.21122381230063736,0.20783503489670765,0.20645300174167394,0.20477506230554607,0.20054416313474777,0.19251776478572627,0.1856201249217449,0.18661763076205135,0.1882419305625347,0.18854097288737984,0.18883409357998204,0.19041450300341625,0.18873088443371064,0.18934351777171507,0.19091383957035435,0.19148324606340145,0.1920413771768902,0.19291172945540236,0.19344157376160034,0.19428419936602528,0.19478686604339102,0.19624939872011632,0.19768297034585972,0.19973470093541426,0.2004527101325713,0.20244959437214133,0.20376038981625558,0.20569177543031752,0.2069383692552626,0.20395772567674084,0.19974301172266662,0.19431866443839946,0.19029482302410153,0.18505756862949202,0.18380330133372594,0.18192732450920657,0.18364450154658657,0.18274148904148546,0.183795997494283,0.18288998507267026,0.17295026244229847,0.16514700554681977,0.16654991963689336,0.16501559399411134,0.15833927905018258,0.15373480787911623,0.1527775201030769,0.14602027006161544,0.13875028047856133,0.1426155415013688,0.14737408242912545,0.15106857507170812,0.15921573486859109,0.16752483798980816,0.17599267763640156,0.17912046536253795,0.18897505480400775,0.1979879573479167,0.20617584006512832,0.21387831322760387,0.22142826214963626,0.22753561414818238,0.2251169242012283,0.21983666994445525,0.21369115546933617,0.2066975146444264,0.20986383219829616,0.20553216588631976,0.207105193453319,0.20153506070932525,0.20254069239833747,0.2041729570621864,0.20577289965024928,0.20475497430623466,0.20634339179669964,0.20725380899935814,0.20135746017513123,0.20042696928388756,0.19369598571394347,0.201645584552651,0.21073085851970694,0.20929148254071317,0.2172555328622213,0.2318506171255459,0.24647996303063924,0.2575868865570467,0.2662109583519129,0.276280622601995,0.2845345213798964,0.29553443570202503,0.3072863496213572,0.3136331806389279,0.3205008782903937,0.3314351339362171,0.340859776727079,0.3462185141369994,0.36116933487034963,0.37679391942324364,0.3895229203956989,0.39973694931247905,0.4110418131419087,0.42179954503864425,0.4326675257599678,0.4423504792403459,0.45216496428746694,0.46210837631574964,0.47217816231557147,0.48075545368473466,0.4875465315453384,0.4916169467771313,0.49431366680740396,0.4959871667520847,0.49795080131119857,0.49502645358774555,0.4973323853970155,0.49959265518832663,0.49049360417537874,0.4838376449937703,0.475050574394204,0.47128660361568475,0.47535572437784557,0.47837444880571334,0.48101012328265197,0.4832703329566385,0.48936506472767816,0.4946925622826082,0.4999145648328654,0.50470988816176,0.5084404349097967,0.512743655895867,0.515345298449942,0.5182186965545091,0.5223282885902606,0.5260332293372727,0.5312811710494916,0.5354553734427873,0.5385770986828107,0.540990461128046,0.5465887664743664,0.5527227607375451,0.5590585629902735,0.5652689038090962,0.5703864479026397,0.5757259277122934,0.5793433091195437,0.5822425127597092,0.5831446670746611,0.5859685962977339,0.5848573274290757,0.5870007961342874,0.5887785466888923,0.5895512745871163,0.5861061490210454,0.5830525169892271,0.5771498938982096,0.5713641544349806,0.5650464376232139,0.5595003705657756,0.5537408533959923,0.5535910308863314,0.5557070877288319,0.5587510621275142,0.5594718472354494,0.5605016325948068,0.561511026164546,0.5621771585185072,0.563799919804396,0.5644207275312885,0.5614732365734316,0.5618168440119435,0.5592441883289231,0.5602784817842483,0.5548268297075588,0.5569184152819828,0.5579987636490134,0.5597042654258694,0.5616992681133842,0.5649478586905202,0.5668390278469407,0.5667531087684676,0.5673154375045856,0.5710993632511182,0.5712523543181688,0.572048862305572,0.5708899585182224,0.5700772765441258,0.5670177747206312,0.5636955838691701,0.5588228128604739,0.5537232591446952,0.5496945063605861,0.5450989844141181,0.5425341022407378,0.5419596491513224,0.5433362107080438,0.5424226010598124,0.5418503559147303,0.5412894423567726,0.5413861824436359,0.5401879139941734,0.5393366468557341,0.5385022364924412,0.5373610758840792,0.5368890589609703,0.5364263889076927,0.5356496074150985,0.5348882077343444,0.5338186120525231,0.5334167429284496,0.5284970064934778,0.5214117780250375,0.5147901243337858,0.5108857782783437,0.5060889263392944,0.5017103347903394,0.4964486283577969,0.49129111413242454,0.4865590021245511,0.48418350786195946,0.48896706398144973,0.4917162568829539,0.4937644638761712,0.49512556587028345,0.49645971534952915,0.4997070853606373,0.502243604570299,0.49664806512082743,0.49277969454430626,0.48898792536567837,0.4868876068365003,0.484828878773423,0.4795781853812575,0.4770176518932651,0.4725681827061,0.4688533682642577,0.46359574839417267,0.4523000485892074,0.43993493312059123,0.4300775839790247,0.4223550692030234,0.4121992897358278,0.40321443447933886,0.3947307703713432,0.3844754602804655,0.3760395917476191,0.36744749689494177,0.3635513676427392,0.36102548235297977,0.3591961610377941,0.355463424575423,0.3524511501306728,0.3482054317972346,0.34210414776280407,0.3370935009000972,0.33379844087717603,0.32927553668012494,0.3241956484988522,0.3188930789411126,0.31240241787348144,0.30701010441371135,0.2981685639980101,0.2911184697002361,0.2845312544523051,0.27710465944502555,0.2756440437184168,0.2758287171847195,0.27503991408521866,0.2742667308491059,0.27092267239766316,0.2692611990346115,0.27151190479584464,0.2688689437991853,0.265308498998581,0.25987891872485397,0.25520340133593106,0.24965064878460913,0.24453112495130347,0.2385431581624592,0.23525995074761719,0.2310719376758475,0.22922976810832893,0.22483789137225416,0.22247262182287278,0.21918436962915294,0.21822414389242395,0.21469674675298744,0.2092995597316611,0.20465579414442311,0.1981643449812702,0.19050834647926038,0.1823574054647806,0.17404459600137273,0.1671894895133127,0.16047012770834795,0.15420709579462807,0.1493611772017021,0.14299485128452738,0.135784771562224,0.1287174656959635,0.12243665292399865,0.11821985201226935,0.11182363955717337,0.1071704508828562,0.10196285811531344,0.09621183955343585,0.09251434187721858,0.08856678875519372,0.08340431211543557,0.07737424307105244,0.07340322066438508,0.06692464659180085,0.06251400044459007,0.0572208741602423,0.05267910870109315,0.048550552413321624,0.046443389045177266,0.0466408642356621,0.04618788258310656,0.04509732442105036,0.04370508824853112,0.04395678721718052,0.0509922397015129,0.06015128884618376,0.06783587779454144,0.07601484310781,0.0833853022686114,0.08899344563500293,0.09578362954380312,0.10146953470045175,0.10510320834618954,0.10866492805830703,0.11183284544559066,0.11332166568755749,0.11478100434055856,0.11394853264738526,0.11410236520693487,0.11392987835560968,0.11473062675022141,0.11583879196254379,0.11627846686612407,0.11541634244969007,0.11327819691761637,0.11053584445791637,0.10817106922890796,0.10682294089686714,0.10356186884600212,0.10036537247933962,0.09820199273513613,0.09672799863692105,0.09431337287599256,0.09226983470814132,0.08897366975642253,0.08509622895472543,0.0803257494943751,0.07500318853076601,0.07172566414329475,0.07142250022280015,0.07209515921289993,0.07113813211526217,0.07116987571390247,0.0728173568341518,0.07540203423050076,0.07534934412387585,0.07756060993648793,0.07875826864263254,0.08057875777786598,0.0820399244017443,0.08444197669767543,0.08841282970927868,0.09230505196815622,0.09450383441124209,0.09665907660791927,0.10071128007048574,0.10306687577264556,0.10440600635075,0.10442552660553363,0.10218174776990598,0.09998240019836006,0.0968567843992973,0.09508615486852053,0.09432040697324016,0.09227672951651453,0.08995024769880007,0.08670001516340357,0.08157450433917483,0.07784358166490889,0.07321671898300182,0.06803493090127143,0.06457211859215696,0.06085460360230716,0.05624088310612074,0.05268834307641707,0.05211560936772884,0.049291304369962076,0.046199652982323924,0.04413904207880889,0.0408261424655342,0.03919521093239846,0.036626755408639,0.034109160390307876,0.03131814551716698,0.02890567148680005,0.027510788883963678,0.025173708054265713,0.022559632831370066,0.0209671411388237,0.018759637492214862,0.01885875933970268,0.019279191599842135,0.018721478804152744,0.016558443718639643,0.015084787454086162,0.012670492837170668,0.009657459591434377,0.008320456477926765,0.00604010900906876,0.0038049169356382945,0.0025838057559187297,0.00074032855258287,0.0002264487343634182,0.00036929119714729946,0.0005093050963114441,0.0,0.002086965925185658,0.005748971899981965,0.010308282569496511,0.01477730985940912,0.022067300552977585,0.030829301102709903,0.03974106991255402,0.04847636805288261,0.05477577744185796,0.06289008537987836,0.07116698717428308,0.07766362381571625,0.08241524807948811,0.0877193272166833,0.0919485554193144,0.09738712941483581,0.10174818921127306,0.10537634494496555,0.1079628363461486,0.10952829043130935,0.10976965253965974,0.10903641553581034,0.10831769807659244,0.10890630553228181,0.10819016450877827,0.11007439026766117,0.11256785106838052,0.11468866318619483,0.1154743861384387,0.11624455022034033,0.11796928319284689,0.11836677015117773,0.11810983963762776,0.11656490397101514,0.11505056108988142,0.11194983908899009,0.10697087819475852,0.10338360347156769,0.09922081744841242,0.09611028249616053,0.09144497618794009,0.08654877896135629,0.08239608257830247,0.081881623243295,0.08428681021534931,0.08567455005811016,0.08638826346098477,0.08547147781769152,0.08327975345955642,0.080808156362263,0.07967859466774524,0.07566194153804548,0.07237137253708241,0.06914596331831864,0.064691330703043,0.06323436762809356,0.06665535362958018,0.07033187055550401,0.07328903872306462,0.07748074199111982,0.07641706969009421,0.08022355852938051,0.08363139813054743,0.08276920387994112,0.08095426311831952,0.07949853499921856,0.08227418505897459,0.07788286087826507,0.0755181329410114,0.07223041163505403,0.07030088660728423,0.06905611643890115,0.06848254162773826,0.0675970515121312,0.06802218874024728,0.07199491284585668,0.07297951015392139,0.0736213372640916,0.07619009425551578,0.0767683454428813,0.0776584193331815,0.08111705376990344,0.08450720039599596,0.08783021540572915,0.09238052102402629,0.09587090191608448,0.10640417722775182,0.11349614061531155,0.12335712807776932,0.13108320913278282,0.14221230392019135,0.15182792770701034,0.1589902305515365,0.16568743239546516,0.17128219671660863,0.17805926651143417,0.18567195656886776,0.19378044673152003,0.19946546018206346,0.20536117233032797,0.20855395193141266,0.2171791529394848,0.2143189951356437,0.21119220089850263,0.20909714304341584,0.20736684470398514,0.2037311703690362,0.1998442163637798,0.1957109585232715,0.19230609381566577,0.18799883250709173,0.1821604973941823,0.17708431932055962,0.17146211318164287,0.16692105752184475,0.16117683087032023,0.15651617094568862,0.15162452809509996,0.14618320301638507,0.14246599305660604,0.13882239121484302,0.13169493446815558,0.1263249815863043,0.12106136440508458,0.11460888438107844,0.11022381556770612,0.10786521912911304,0.10555332757049242,0.10555012859319973,0.10522371974049718,0.10555032087242192,0.10457736176922054,0.1062098549548723,0.10781002154278821,0.10970177488511113,0.10896988199325217,0.10825248202994493,0.10819583444949456,0.10878685504629981,0.10904289904345582,0.11188005863440703,0.11498431006881384,0.1180270911777866,0.12068634597399772,0.12296966903789795,0.12456123134071191,0.12676782400131048,0.1282841753147496,0.1368825107423848,0.14401748921616755,0.14745517555105978,0.15470406754715416,0.158899958134034,0.16010330278514948,0.1622526384937953,0.16532923276378253,0.16608199182449734,0.16552675187922053,0.16433596034135664,0.16575493460590013,0.16876217647762715,0.1749426012203023,0.18746610574449285,0.19747870752962485,0.20599994708649932,0.21790845466284217,0.22731823765750978,0.23783478120162568,0.2429707048148212,0.24153946254044514,0.2423994742477043,0.23968645058373017,0.24446243425499312,0.24591111177722974,0.24280527751493933,0.24170058425017413,0.23156611589772663,0.2226021497513947,0.21801823976461238,0.218697471816524,0.21128142319144094,0.20886132533679128]},{\"name\":\"Positive sentiment score btc\",\"type\":\"scatter\",\"x\":[\"2015-01\",\"2015-02\",\"2015-03\",\"2015-04\",\"2015-05\",\"2015-06\",\"2015-07\",\"2015-08\",\"2015-09\",\"2015-10\",\"2015-11\",\"2015-12\",\"2016-01\",\"2016-02\",\"2016-03\",\"2016-04\",\"2016-05\",\"2016-06\",\"2016-07\",\"2016-08\",\"2016-09\",\"2016-10\",\"2016-11\",\"2016-12\",\"2017-01\",\"2017-02\",\"2017-03\",\"2017-04\",\"2017-05\",\"2017-06\",\"2017-07\",\"2017-08\",\"2017-09\",\"2017-10\",\"2017-11\",\"2017-12\",\"2018-01\",\"2018-02\",\"2018-03\",\"2018-04\",\"2018-05\",\"2018-06\",\"2018-07\",\"2018-08\",\"2018-09\",\"2018-10\",\"2018-11\",\"2018-12\",\"2019-01\",\"2019-02\",\"2019-03\",\"2019-04\",\"2019-05\",\"2019-06\",\"2019-07\",\"2019-08\",\"2019-09\",\"2019-10\",\"2019-11\",\"2019-12\",\"2020-01\",\"2020-02\",\"2020-03\",\"2020-04\"],\"y\":[0.4110779795689863,0.4689454752361786,0.5001803547342039,0.49463062055579143,0.5074765941306366,0.5003831257333979,0.48103615156946755,0.4477390378830986,0.4035217612569425,0.384596122681829,0.3700871780437518,0.34548986889656075,0.3401551312849703,0.3803094889568309,0.4296179072786074,0.4342656239237699,0.5121073139117099,0.588802638981376,0.4623787977234736,0.3661158806100968,0.4628327033618049,0.5518393456659025,0.47648040042877937,0.3584078254312221,0.27136266874083503,0.30017900469088515,0.35290462813151513,0.36199780814362026,0.34789780050458874,0.3329093716000443,0.34363701317969647,0.35729791108720793,0.33152823020182665,0.31066677688056993,0.31456778580127326,0.29725918362291703,0.2616250722673492,0.2552933230808787,0.2779237775823735,0.28507131263917396,0.2807524454771295,0.28161091739456257,0.2899187691998452,0.29117405147661557,0.29890057686939003,0.3193404026814868,0.3126536163554764,0.3080589244680576,0.32097905596784626,0.34337827486203343,0.40109851058094403,0.45710841237803523,0.46565746514888595,0.4312050717368269,0.3864783704436696,0.3751448928181882,0.3687971884578634,0.35780658951934347,0.371985326016786,0.3941175782264809,0.4059952516476488,0.3775328489160027,0.33169198316254844,0.3321082629732091]}],                        {\"template\":{\"data\":{\"bar\":[{\"error_x\":{\"color\":\"#2a3f5f\"},\"error_y\":{\"color\":\"#2a3f5f\"},\"marker\":{\"line\":{\"color\":\"#E5ECF6\",\"width\":0.5},\"pattern\":{\"fillmode\":\"overlay\",\"size\":10,\"solidity\":0.2}},\"type\":\"bar\"}],\"barpolar\":[{\"marker\":{\"line\":{\"color\":\"#E5ECF6\",\"width\":0.5},\"pattern\":{\"fillmode\":\"overlay\",\"size\":10,\"solidity\":0.2}},\"type\":\"barpolar\"}],\"carpet\":[{\"aaxis\":{\"endlinecolor\":\"#2a3f5f\",\"gridcolor\":\"white\",\"linecolor\":\"white\",\"minorgridcolor\":\"white\",\"startlinecolor\":\"#2a3f5f\"},\"baxis\":{\"endlinecolor\":\"#2a3f5f\",\"gridcolor\":\"white\",\"linecolor\":\"white\",\"minorgridcolor\":\"white\",\"startlinecolor\":\"#2a3f5f\"},\"type\":\"carpet\"}],\"choropleth\":[{\"colorbar\":{\"outlinewidth\":0,\"ticks\":\"\"},\"type\":\"choropleth\"}],\"contour\":[{\"colorbar\":{\"outlinewidth\":0,\"ticks\":\"\"},\"colorscale\":[[0.0,\"#0d0887\"],[0.1111111111111111,\"#46039f\"],[0.2222222222222222,\"#7201a8\"],[0.3333333333333333,\"#9c179e\"],[0.4444444444444444,\"#bd3786\"],[0.5555555555555556,\"#d8576b\"],[0.6666666666666666,\"#ed7953\"],[0.7777777777777778,\"#fb9f3a\"],[0.8888888888888888,\"#fdca26\"],[1.0,\"#f0f921\"]],\"type\":\"contour\"}],\"contourcarpet\":[{\"colorbar\":{\"outlinewidth\":0,\"ticks\":\"\"},\"type\":\"contourcarpet\"}],\"heatmap\":[{\"colorbar\":{\"outlinewidth\":0,\"ticks\":\"\"},\"colorscale\":[[0.0,\"#0d0887\"],[0.1111111111111111,\"#46039f\"],[0.2222222222222222,\"#7201a8\"],[0.3333333333333333,\"#9c179e\"],[0.4444444444444444,\"#bd3786\"],[0.5555555555555556,\"#d8576b\"],[0.6666666666666666,\"#ed7953\"],[0.7777777777777778,\"#fb9f3a\"],[0.8888888888888888,\"#fdca26\"],[1.0,\"#f0f921\"]],\"type\":\"heatmap\"}],\"heatmapgl\":[{\"colorbar\":{\"outlinewidth\":0,\"ticks\":\"\"},\"colorscale\":[[0.0,\"#0d0887\"],[0.1111111111111111,\"#46039f\"],[0.2222222222222222,\"#7201a8\"],[0.3333333333333333,\"#9c179e\"],[0.4444444444444444,\"#bd3786\"],[0.5555555555555556,\"#d8576b\"],[0.6666666666666666,\"#ed7953\"],[0.7777777777777778,\"#fb9f3a\"],[0.8888888888888888,\"#fdca26\"],[1.0,\"#f0f921\"]],\"type\":\"heatmapgl\"}],\"histogram\":[{\"marker\":{\"pattern\":{\"fillmode\":\"overlay\",\"size\":10,\"solidity\":0.2}},\"type\":\"histogram\"}],\"histogram2d\":[{\"colorbar\":{\"outlinewidth\":0,\"ticks\":\"\"},\"colorscale\":[[0.0,\"#0d0887\"],[0.1111111111111111,\"#46039f\"],[0.2222222222222222,\"#7201a8\"],[0.3333333333333333,\"#9c179e\"],[0.4444444444444444,\"#bd3786\"],[0.5555555555555556,\"#d8576b\"],[0.6666666666666666,\"#ed7953\"],[0.7777777777777778,\"#fb9f3a\"],[0.8888888888888888,\"#fdca26\"],[1.0,\"#f0f921\"]],\"type\":\"histogram2d\"}],\"histogram2dcontour\":[{\"colorbar\":{\"outlinewidth\":0,\"ticks\":\"\"},\"colorscale\":[[0.0,\"#0d0887\"],[0.1111111111111111,\"#46039f\"],[0.2222222222222222,\"#7201a8\"],[0.3333333333333333,\"#9c179e\"],[0.4444444444444444,\"#bd3786\"],[0.5555555555555556,\"#d8576b\"],[0.6666666666666666,\"#ed7953\"],[0.7777777777777778,\"#fb9f3a\"],[0.8888888888888888,\"#fdca26\"],[1.0,\"#f0f921\"]],\"type\":\"histogram2dcontour\"}],\"mesh3d\":[{\"colorbar\":{\"outlinewidth\":0,\"ticks\":\"\"},\"type\":\"mesh3d\"}],\"parcoords\":[{\"line\":{\"colorbar\":{\"outlinewidth\":0,\"ticks\":\"\"}},\"type\":\"parcoords\"}],\"pie\":[{\"automargin\":true,\"type\":\"pie\"}],\"scatter\":[{\"marker\":{\"colorbar\":{\"outlinewidth\":0,\"ticks\":\"\"}},\"type\":\"scatter\"}],\"scatter3d\":[{\"line\":{\"colorbar\":{\"outlinewidth\":0,\"ticks\":\"\"}},\"marker\":{\"colorbar\":{\"outlinewidth\":0,\"ticks\":\"\"}},\"type\":\"scatter3d\"}],\"scattercarpet\":[{\"marker\":{\"colorbar\":{\"outlinewidth\":0,\"ticks\":\"\"}},\"type\":\"scattercarpet\"}],\"scattergeo\":[{\"marker\":{\"colorbar\":{\"outlinewidth\":0,\"ticks\":\"\"}},\"type\":\"scattergeo\"}],\"scattergl\":[{\"marker\":{\"colorbar\":{\"outlinewidth\":0,\"ticks\":\"\"}},\"type\":\"scattergl\"}],\"scattermapbox\":[{\"marker\":{\"colorbar\":{\"outlinewidth\":0,\"ticks\":\"\"}},\"type\":\"scattermapbox\"}],\"scatterpolar\":[{\"marker\":{\"colorbar\":{\"outlinewidth\":0,\"ticks\":\"\"}},\"type\":\"scatterpolar\"}],\"scatterpolargl\":[{\"marker\":{\"colorbar\":{\"outlinewidth\":0,\"ticks\":\"\"}},\"type\":\"scatterpolargl\"}],\"scatterternary\":[{\"marker\":{\"colorbar\":{\"outlinewidth\":0,\"ticks\":\"\"}},\"type\":\"scatterternary\"}],\"surface\":[{\"colorbar\":{\"outlinewidth\":0,\"ticks\":\"\"},\"colorscale\":[[0.0,\"#0d0887\"],[0.1111111111111111,\"#46039f\"],[0.2222222222222222,\"#7201a8\"],[0.3333333333333333,\"#9c179e\"],[0.4444444444444444,\"#bd3786\"],[0.5555555555555556,\"#d8576b\"],[0.6666666666666666,\"#ed7953\"],[0.7777777777777778,\"#fb9f3a\"],[0.8888888888888888,\"#fdca26\"],[1.0,\"#f0f921\"]],\"type\":\"surface\"}],\"table\":[{\"cells\":{\"fill\":{\"color\":\"#EBF0F8\"},\"line\":{\"color\":\"white\"}},\"header\":{\"fill\":{\"color\":\"#C8D4E3\"},\"line\":{\"color\":\"white\"}},\"type\":\"table\"}]},\"layout\":{\"annotationdefaults\":{\"arrowcolor\":\"#2a3f5f\",\"arrowhead\":0,\"arrowwidth\":1},\"autotypenumbers\":\"strict\",\"coloraxis\":{\"colorbar\":{\"outlinewidth\":0,\"ticks\":\"\"}},\"colorscale\":{\"diverging\":[[0,\"#8e0152\"],[0.1,\"#c51b7d\"],[0.2,\"#de77ae\"],[0.3,\"#f1b6da\"],[0.4,\"#fde0ef\"],[0.5,\"#f7f7f7\"],[0.6,\"#e6f5d0\"],[0.7,\"#b8e186\"],[0.8,\"#7fbc41\"],[0.9,\"#4d9221\"],[1,\"#276419\"]],\"sequential\":[[0.0,\"#0d0887\"],[0.1111111111111111,\"#46039f\"],[0.2222222222222222,\"#7201a8\"],[0.3333333333333333,\"#9c179e\"],[0.4444444444444444,\"#bd3786\"],[0.5555555555555556,\"#d8576b\"],[0.6666666666666666,\"#ed7953\"],[0.7777777777777778,\"#fb9f3a\"],[0.8888888888888888,\"#fdca26\"],[1.0,\"#f0f921\"]],\"sequentialminus\":[[0.0,\"#0d0887\"],[0.1111111111111111,\"#46039f\"],[0.2222222222222222,\"#7201a8\"],[0.3333333333333333,\"#9c179e\"],[0.4444444444444444,\"#bd3786\"],[0.5555555555555556,\"#d8576b\"],[0.6666666666666666,\"#ed7953\"],[0.7777777777777778,\"#fb9f3a\"],[0.8888888888888888,\"#fdca26\"],[1.0,\"#f0f921\"]]},\"colorway\":[\"#636efa\",\"#EF553B\",\"#00cc96\",\"#ab63fa\",\"#FFA15A\",\"#19d3f3\",\"#FF6692\",\"#B6E880\",\"#FF97FF\",\"#FECB52\"],\"font\":{\"color\":\"#2a3f5f\"},\"geo\":{\"bgcolor\":\"white\",\"lakecolor\":\"white\",\"landcolor\":\"#E5ECF6\",\"showlakes\":true,\"showland\":true,\"subunitcolor\":\"white\"},\"hoverlabel\":{\"align\":\"left\"},\"hovermode\":\"closest\",\"mapbox\":{\"style\":\"light\"},\"paper_bgcolor\":\"white\",\"plot_bgcolor\":\"#E5ECF6\",\"polar\":{\"angularaxis\":{\"gridcolor\":\"white\",\"linecolor\":\"white\",\"ticks\":\"\"},\"bgcolor\":\"#E5ECF6\",\"radialaxis\":{\"gridcolor\":\"white\",\"linecolor\":\"white\",\"ticks\":\"\"}},\"scene\":{\"xaxis\":{\"backgroundcolor\":\"#E5ECF6\",\"gridcolor\":\"white\",\"gridwidth\":2,\"linecolor\":\"white\",\"showbackground\":true,\"ticks\":\"\",\"zerolinecolor\":\"white\"},\"yaxis\":{\"backgroundcolor\":\"#E5ECF6\",\"gridcolor\":\"white\",\"gridwidth\":2,\"linecolor\":\"white\",\"showbackground\":true,\"ticks\":\"\",\"zerolinecolor\":\"white\"},\"zaxis\":{\"backgroundcolor\":\"#E5ECF6\",\"gridcolor\":\"white\",\"gridwidth\":2,\"linecolor\":\"white\",\"showbackground\":true,\"ticks\":\"\",\"zerolinecolor\":\"white\"}},\"shapedefaults\":{\"line\":{\"color\":\"#2a3f5f\"}},\"ternary\":{\"aaxis\":{\"gridcolor\":\"white\",\"linecolor\":\"white\",\"ticks\":\"\"},\"baxis\":{\"gridcolor\":\"white\",\"linecolor\":\"white\",\"ticks\":\"\"},\"bgcolor\":\"#E5ECF6\",\"caxis\":{\"gridcolor\":\"white\",\"linecolor\":\"white\",\"ticks\":\"\"}},\"title\":{\"x\":0.05},\"xaxis\":{\"automargin\":true,\"gridcolor\":\"white\",\"linecolor\":\"white\",\"ticks\":\"\",\"title\":{\"standoff\":15},\"zerolinecolor\":\"white\",\"zerolinewidth\":2},\"yaxis\":{\"automargin\":true,\"gridcolor\":\"white\",\"linecolor\":\"white\",\"ticks\":\"\",\"title\":{\"standoff\":15},\"zerolinecolor\":\"white\",\"zerolinewidth\":2}}},\"title\":{\"text\":\"Comparison between Greed index and positive sentiment score\"},\"xaxis\":{\"range\":[\"2018-02-01T00:00:00\",\"2020-04-01T00:00:00\"],\"title\":{\"text\":\"Date\"}},\"yaxis\":{\"title\":{\"text\":\"Normalized values\"}}},                        {\"responsive\": true}                    ).then(function(){\n",
       "                            \n",
       "var gd = document.getElementById('36efd458-999f-43d8-a5de-5948fafa51ea');\n",
       "var x = new MutationObserver(function (mutations, observer) {{\n",
       "        var display = window.getComputedStyle(gd).display;\n",
       "        if (!display || display === 'none') {{\n",
       "            console.log([gd, 'removed!']);\n",
       "            Plotly.purge(gd);\n",
       "            observer.disconnect();\n",
       "        }}\n",
       "}});\n",
       "\n",
       "// Listen for the removal of the full notebook cells\n",
       "var notebookContainer = gd.closest('#notebook-container');\n",
       "if (notebookContainer) {{\n",
       "    x.observe(notebookContainer, {childList: true});\n",
       "}}\n",
       "\n",
       "// Listen for the clearing of the current output cell\n",
       "var outputEl = gd.closest('.output');\n",
       "if (outputEl) {{\n",
       "    x.observe(outputEl, {childList: true});\n",
       "}}\n",
       "\n",
       "                        })                };                });            </script>        </div>"
      ]
     },
     "metadata": {},
     "output_type": "display_data"
    }
   ],
   "source": [
    "greed_idx_data = go.Scatter(x=df.timestamp, y=normalize(df.value), name='Greed index')\n",
    "layout = go.Layout(title='Comparison between greed index and the positive score of quotations', xaxis=dict(title='Date'))\n",
    "fig = go.Figure(\n",
    "    data=[greed_idx_data],\n",
    "    layout=layout)\n",
    "smoothed_pos_scores = gaussian_filter1d(normalize(pos_neg_comp['positive_score_btc'].values), sigma=1)\n",
    "fig.add_trace(go.Scatter(x=pos_neg_comp.index, y=smoothed_pos_scores, name='Positive sentiment score btc'))\n",
    "fig.update_xaxes(range=[datetime(2018,2,1), datetime(2020,4,1)])\n",
    "fig.update_layout(\n",
    "  title=\"Comparison between Greed index and positive sentiment score\",\n",
    "  xaxis_title=\"Date\",\n",
    "  yaxis_title=\"Normalized values\",\n",
    "  )\n",
    "fig.show()"
   ]
  },
  {
   "cell_type": "markdown",
   "metadata": {
    "id": "aT3WoM5NiVeA"
   },
   "source": [
    "As we can see above, when focusing on the common period, standardizing the values and smoothing the functions to avoid too much noise, we see that the variations are analoguous, which means that our dataset is a quite interesting data too look at to see how the bitcoin and volume price may evolve."
   ]
  },
  {
   "cell_type": "markdown",
   "metadata": {
    "id": "EgBWCrLPkMUT"
   },
   "source": [
    "## BTC volume check"
   ]
  },
  {
   "cell_type": "markdown",
   "metadata": {
    "id": "Mmfn_7ZBgR5J"
   },
   "source": [
    "In this section we look for possible patterns between BTC volume, BTC closing price and the number of quotations. We will explore this information in more depth later on."
   ]
  },
  {
   "cell_type": "code",
   "execution_count": 20,
   "metadata": {
    "colab": {
     "base_uri": "https://localhost:8080/",
     "height": 419
    },
    "executionInfo": {
     "elapsed": 567,
     "status": "ok",
     "timestamp": 1636743456720,
     "user": {
      "displayName": "Taha Zakariya",
      "photoUrl": "https://lh3.googleusercontent.com/a/default-user=s64",
      "userId": "04695355770412779331"
     },
     "user_tz": -60
    },
    "id": "9E-bi6jdkOux",
    "outputId": "5f90dfcc-559b-4158-84ec-3081fb587400"
   },
   "outputs": [
    {
     "data": {
      "text/html": [
       "<div>\n",
       "<style scoped>\n",
       "    .dataframe tbody tr th:only-of-type {\n",
       "        vertical-align: middle;\n",
       "    }\n",
       "\n",
       "    .dataframe tbody tr th {\n",
       "        vertical-align: top;\n",
       "    }\n",
       "\n",
       "    .dataframe thead th {\n",
       "        text-align: right;\n",
       "    }\n",
       "</style>\n",
       "<table border=\"1\" class=\"dataframe\">\n",
       "  <thead>\n",
       "    <tr style=\"text-align: right;\">\n",
       "      <th></th>\n",
       "      <th>Date</th>\n",
       "      <th>Symbol</th>\n",
       "      <th>Open</th>\n",
       "      <th>High</th>\n",
       "      <th>Low</th>\n",
       "      <th>Close</th>\n",
       "      <th>Volume BTC</th>\n",
       "      <th>Volume USD</th>\n",
       "    </tr>\n",
       "  </thead>\n",
       "  <tbody>\n",
       "    <tr>\n",
       "      <th>0</th>\n",
       "      <td>2020-04-10</td>\n",
       "      <td>BTCUSD</td>\n",
       "      <td>7315.25</td>\n",
       "      <td>7315.25</td>\n",
       "      <td>7315.25</td>\n",
       "      <td>7315.25</td>\n",
       "      <td>0.00</td>\n",
       "      <td>0.00</td>\n",
       "    </tr>\n",
       "    <tr>\n",
       "      <th>1</th>\n",
       "      <td>2020-04-09</td>\n",
       "      <td>BTCUSD</td>\n",
       "      <td>7369.60</td>\n",
       "      <td>7378.85</td>\n",
       "      <td>7115.04</td>\n",
       "      <td>7315.25</td>\n",
       "      <td>2237.13</td>\n",
       "      <td>16310014.53</td>\n",
       "    </tr>\n",
       "    <tr>\n",
       "      <th>2</th>\n",
       "      <td>2020-04-08</td>\n",
       "      <td>BTCUSD</td>\n",
       "      <td>7201.81</td>\n",
       "      <td>7432.23</td>\n",
       "      <td>7152.80</td>\n",
       "      <td>7369.60</td>\n",
       "      <td>2483.60</td>\n",
       "      <td>18138080.27</td>\n",
       "    </tr>\n",
       "    <tr>\n",
       "      <th>3</th>\n",
       "      <td>2020-04-07</td>\n",
       "      <td>BTCUSD</td>\n",
       "      <td>7336.96</td>\n",
       "      <td>7468.42</td>\n",
       "      <td>7078.00</td>\n",
       "      <td>7201.81</td>\n",
       "      <td>2333.34</td>\n",
       "      <td>17047120.32</td>\n",
       "    </tr>\n",
       "    <tr>\n",
       "      <th>4</th>\n",
       "      <td>2020-04-06</td>\n",
       "      <td>BTCUSD</td>\n",
       "      <td>6775.21</td>\n",
       "      <td>7369.76</td>\n",
       "      <td>6771.01</td>\n",
       "      <td>7336.96</td>\n",
       "      <td>3727.47</td>\n",
       "      <td>26533750.17</td>\n",
       "    </tr>\n",
       "    <tr>\n",
       "      <th>...</th>\n",
       "      <td>...</td>\n",
       "      <td>...</td>\n",
       "      <td>...</td>\n",
       "      <td>...</td>\n",
       "      <td>...</td>\n",
       "      <td>...</td>\n",
       "      <td>...</td>\n",
       "      <td>...</td>\n",
       "    </tr>\n",
       "    <tr>\n",
       "      <th>1642</th>\n",
       "      <td>2015-10-12</td>\n",
       "      <td>BTCUSD</td>\n",
       "      <td>249.50</td>\n",
       "      <td>249.50</td>\n",
       "      <td>247.60</td>\n",
       "      <td>247.60</td>\n",
       "      <td>38.28</td>\n",
       "      <td>9493.89</td>\n",
       "    </tr>\n",
       "    <tr>\n",
       "      <th>1643</th>\n",
       "      <td>2015-10-11</td>\n",
       "      <td>BTCUSD</td>\n",
       "      <td>246.30</td>\n",
       "      <td>249.50</td>\n",
       "      <td>246.30</td>\n",
       "      <td>249.50</td>\n",
       "      <td>12.22</td>\n",
       "      <td>3021.12</td>\n",
       "    </tr>\n",
       "    <tr>\n",
       "      <th>1644</th>\n",
       "      <td>2015-10-10</td>\n",
       "      <td>BTCUSD</td>\n",
       "      <td>245.39</td>\n",
       "      <td>246.30</td>\n",
       "      <td>244.60</td>\n",
       "      <td>246.30</td>\n",
       "      <td>12.17</td>\n",
       "      <td>2984.44</td>\n",
       "    </tr>\n",
       "    <tr>\n",
       "      <th>1645</th>\n",
       "      <td>2015-10-09</td>\n",
       "      <td>BTCUSD</td>\n",
       "      <td>243.95</td>\n",
       "      <td>249.97</td>\n",
       "      <td>243.60</td>\n",
       "      <td>245.39</td>\n",
       "      <td>30.99</td>\n",
       "      <td>7651.63</td>\n",
       "    </tr>\n",
       "    <tr>\n",
       "      <th>1646</th>\n",
       "      <td>2015-10-08</td>\n",
       "      <td>BTCUSD</td>\n",
       "      <td>242.50</td>\n",
       "      <td>245.00</td>\n",
       "      <td>242.50</td>\n",
       "      <td>243.95</td>\n",
       "      <td>18.80</td>\n",
       "      <td>4595.84</td>\n",
       "    </tr>\n",
       "  </tbody>\n",
       "</table>\n",
       "<p>1647 rows × 8 columns</p>\n",
       "</div>"
      ],
      "text/plain": [
       "            Date  Symbol     Open     High      Low    Close  Volume BTC  \\\n",
       "0     2020-04-10  BTCUSD  7315.25  7315.25  7315.25  7315.25        0.00   \n",
       "1     2020-04-09  BTCUSD  7369.60  7378.85  7115.04  7315.25     2237.13   \n",
       "2     2020-04-08  BTCUSD  7201.81  7432.23  7152.80  7369.60     2483.60   \n",
       "3     2020-04-07  BTCUSD  7336.96  7468.42  7078.00  7201.81     2333.34   \n",
       "4     2020-04-06  BTCUSD  6775.21  7369.76  6771.01  7336.96     3727.47   \n",
       "...          ...     ...      ...      ...      ...      ...         ...   \n",
       "1642  2015-10-12  BTCUSD   249.50   249.50   247.60   247.60       38.28   \n",
       "1643  2015-10-11  BTCUSD   246.30   249.50   246.30   249.50       12.22   \n",
       "1644  2015-10-10  BTCUSD   245.39   246.30   244.60   246.30       12.17   \n",
       "1645  2015-10-09  BTCUSD   243.95   249.97   243.60   245.39       30.99   \n",
       "1646  2015-10-08  BTCUSD   242.50   245.00   242.50   243.95       18.80   \n",
       "\n",
       "       Volume USD  \n",
       "0            0.00  \n",
       "1     16310014.53  \n",
       "2     18138080.27  \n",
       "3     17047120.32  \n",
       "4     26533750.17  \n",
       "...           ...  \n",
       "1642      9493.89  \n",
       "1643      3021.12  \n",
       "1644      2984.44  \n",
       "1645      7651.63  \n",
       "1646      4595.84  \n",
       "\n",
       "[1647 rows x 8 columns]"
      ]
     },
     "execution_count": 20,
     "metadata": {},
     "output_type": "execute_result"
    }
   ],
   "source": [
    "bitcoin_price = pd.read_csv('./Data/BTCUSD_day.csv')\n",
    "bitcoin_price['Date'] = pd.to_datetime(bitcoin_price['Date']).dt.to_period('D')\n",
    "bitcoin_price"
   ]
  },
  {
   "cell_type": "code",
   "execution_count": 21,
   "metadata": {
    "colab": {
     "base_uri": "https://localhost:8080/",
     "height": 419
    },
    "executionInfo": {
     "elapsed": 6,
     "status": "ok",
     "timestamp": 1636743458706,
     "user": {
      "displayName": "Taha Zakariya",
      "photoUrl": "https://lh3.googleusercontent.com/a/default-user=s64",
      "userId": "04695355770412779331"
     },
     "user_tz": -60
    },
    "id": "lsOLLQtCnIiZ",
    "outputId": "98baa1e6-e29c-4f9a-824d-04a30817aca1"
   },
   "outputs": [
    {
     "data": {
      "text/html": [
       "<div>\n",
       "<style scoped>\n",
       "    .dataframe tbody tr th:only-of-type {\n",
       "        vertical-align: middle;\n",
       "    }\n",
       "\n",
       "    .dataframe tbody tr th {\n",
       "        vertical-align: top;\n",
       "    }\n",
       "\n",
       "    .dataframe thead th {\n",
       "        text-align: right;\n",
       "    }\n",
       "</style>\n",
       "<table border=\"1\" class=\"dataframe\">\n",
       "  <thead>\n",
       "    <tr style=\"text-align: right;\">\n",
       "      <th></th>\n",
       "      <th>day</th>\n",
       "      <th>numOccurrences</th>\n",
       "      <th>Date</th>\n",
       "      <th>Symbol</th>\n",
       "      <th>Open</th>\n",
       "      <th>High</th>\n",
       "      <th>Low</th>\n",
       "      <th>Close</th>\n",
       "      <th>Volume BTC</th>\n",
       "      <th>Volume USD</th>\n",
       "      <th>value</th>\n",
       "      <th>value_classification</th>\n",
       "      <th>timestamp</th>\n",
       "      <th>time_until_update</th>\n",
       "      <th>year</th>\n",
       "    </tr>\n",
       "  </thead>\n",
       "  <tbody>\n",
       "    <tr>\n",
       "      <th>0</th>\n",
       "      <td>2018-02-01</td>\n",
       "      <td>142</td>\n",
       "      <td>2018-02-01</td>\n",
       "      <td>BTCUSD</td>\n",
       "      <td>10112.60</td>\n",
       "      <td>10164.68</td>\n",
       "      <td>8411.11</td>\n",
       "      <td>9000.73</td>\n",
       "      <td>17746.53</td>\n",
       "      <td>1.622576e+08</td>\n",
       "      <td>37.337988</td>\n",
       "      <td>Fear</td>\n",
       "      <td>2018-02-01</td>\n",
       "      <td>NaN</td>\n",
       "      <td>2018</td>\n",
       "    </tr>\n",
       "    <tr>\n",
       "      <th>1</th>\n",
       "      <td>2018-02-02</td>\n",
       "      <td>236</td>\n",
       "      <td>2018-02-02</td>\n",
       "      <td>BTCUSD</td>\n",
       "      <td>9000.73</td>\n",
       "      <td>9090.00</td>\n",
       "      <td>7603.00</td>\n",
       "      <td>8845.07</td>\n",
       "      <td>21886.74</td>\n",
       "      <td>1.858238e+08</td>\n",
       "      <td>37.486231</td>\n",
       "      <td>Extreme Fear</td>\n",
       "      <td>2018-02-02</td>\n",
       "      <td>NaN</td>\n",
       "      <td>2018</td>\n",
       "    </tr>\n",
       "    <tr>\n",
       "      <th>2</th>\n",
       "      <td>2018-02-03</td>\n",
       "      <td>10</td>\n",
       "      <td>2018-02-03</td>\n",
       "      <td>BTCUSD</td>\n",
       "      <td>8845.07</td>\n",
       "      <td>9494.86</td>\n",
       "      <td>8123.62</td>\n",
       "      <td>9221.14</td>\n",
       "      <td>7572.00</td>\n",
       "      <td>6.697851e+07</td>\n",
       "      <td>37.940498</td>\n",
       "      <td>Fear</td>\n",
       "      <td>2018-02-03</td>\n",
       "      <td>NaN</td>\n",
       "      <td>2018</td>\n",
       "    </tr>\n",
       "    <tr>\n",
       "      <th>3</th>\n",
       "      <td>2018-02-04</td>\n",
       "      <td>37</td>\n",
       "      <td>2018-02-04</td>\n",
       "      <td>BTCUSD</td>\n",
       "      <td>9221.14</td>\n",
       "      <td>9353.45</td>\n",
       "      <td>7847.39</td>\n",
       "      <td>8162.94</td>\n",
       "      <td>8182.52</td>\n",
       "      <td>6.899481e+07</td>\n",
       "      <td>37.898892</td>\n",
       "      <td>Extreme Fear</td>\n",
       "      <td>2018-02-04</td>\n",
       "      <td>NaN</td>\n",
       "      <td>2018</td>\n",
       "    </tr>\n",
       "    <tr>\n",
       "      <th>4</th>\n",
       "      <td>2018-02-05</td>\n",
       "      <td>102</td>\n",
       "      <td>2018-02-05</td>\n",
       "      <td>BTCUSD</td>\n",
       "      <td>8162.94</td>\n",
       "      <td>8334.00</td>\n",
       "      <td>6500.00</td>\n",
       "      <td>6892.67</td>\n",
       "      <td>22800.02</td>\n",
       "      <td>1.663154e+08</td>\n",
       "      <td>38.179677</td>\n",
       "      <td>Extreme Fear</td>\n",
       "      <td>2018-02-05</td>\n",
       "      <td>NaN</td>\n",
       "      <td>2018</td>\n",
       "    </tr>\n",
       "    <tr>\n",
       "      <th>...</th>\n",
       "      <td>...</td>\n",
       "      <td>...</td>\n",
       "      <td>...</td>\n",
       "      <td>...</td>\n",
       "      <td>...</td>\n",
       "      <td>...</td>\n",
       "      <td>...</td>\n",
       "      <td>...</td>\n",
       "      <td>...</td>\n",
       "      <td>...</td>\n",
       "      <td>...</td>\n",
       "      <td>...</td>\n",
       "      <td>...</td>\n",
       "      <td>...</td>\n",
       "      <td>...</td>\n",
       "    </tr>\n",
       "    <tr>\n",
       "      <th>776</th>\n",
       "      <td>2020-04-06</td>\n",
       "      <td>1</td>\n",
       "      <td>2020-04-06</td>\n",
       "      <td>BTCUSD</td>\n",
       "      <td>6775.21</td>\n",
       "      <td>7369.76</td>\n",
       "      <td>6771.01</td>\n",
       "      <td>7336.96</td>\n",
       "      <td>3727.47</td>\n",
       "      <td>2.653375e+07</td>\n",
       "      <td>36.956649</td>\n",
       "      <td>Extreme Fear</td>\n",
       "      <td>2020-04-06</td>\n",
       "      <td>NaN</td>\n",
       "      <td>2020</td>\n",
       "    </tr>\n",
       "    <tr>\n",
       "      <th>777</th>\n",
       "      <td>2020-04-07</td>\n",
       "      <td>13</td>\n",
       "      <td>2020-04-07</td>\n",
       "      <td>BTCUSD</td>\n",
       "      <td>7336.96</td>\n",
       "      <td>7468.42</td>\n",
       "      <td>7078.00</td>\n",
       "      <td>7201.81</td>\n",
       "      <td>2333.34</td>\n",
       "      <td>1.704712e+07</td>\n",
       "      <td>37.460828</td>\n",
       "      <td>Extreme Fear</td>\n",
       "      <td>2020-04-07</td>\n",
       "      <td>NaN</td>\n",
       "      <td>2020</td>\n",
       "    </tr>\n",
       "    <tr>\n",
       "      <th>778</th>\n",
       "      <td>2020-04-08</td>\n",
       "      <td>5</td>\n",
       "      <td>2020-04-08</td>\n",
       "      <td>BTCUSD</td>\n",
       "      <td>7201.81</td>\n",
       "      <td>7432.23</td>\n",
       "      <td>7152.80</td>\n",
       "      <td>7369.60</td>\n",
       "      <td>2483.60</td>\n",
       "      <td>1.813808e+07</td>\n",
       "      <td>37.813576</td>\n",
       "      <td>Extreme Fear</td>\n",
       "      <td>2020-04-08</td>\n",
       "      <td>NaN</td>\n",
       "      <td>2020</td>\n",
       "    </tr>\n",
       "    <tr>\n",
       "      <th>779</th>\n",
       "      <td>2020-04-09</td>\n",
       "      <td>10</td>\n",
       "      <td>2020-04-09</td>\n",
       "      <td>BTCUSD</td>\n",
       "      <td>7369.60</td>\n",
       "      <td>7378.85</td>\n",
       "      <td>7115.04</td>\n",
       "      <td>7315.25</td>\n",
       "      <td>2237.13</td>\n",
       "      <td>1.631001e+07</td>\n",
       "      <td>38.153247</td>\n",
       "      <td>Extreme Fear</td>\n",
       "      <td>2020-04-09</td>\n",
       "      <td>NaN</td>\n",
       "      <td>2020</td>\n",
       "    </tr>\n",
       "    <tr>\n",
       "      <th>780</th>\n",
       "      <td>2020-04-10</td>\n",
       "      <td>2</td>\n",
       "      <td>2020-04-10</td>\n",
       "      <td>BTCUSD</td>\n",
       "      <td>7315.25</td>\n",
       "      <td>7315.25</td>\n",
       "      <td>7315.25</td>\n",
       "      <td>7315.25</td>\n",
       "      <td>0.00</td>\n",
       "      <td>0.000000e+00</td>\n",
       "      <td>38.479579</td>\n",
       "      <td>Extreme Fear</td>\n",
       "      <td>2020-04-10</td>\n",
       "      <td>NaN</td>\n",
       "      <td>2020</td>\n",
       "    </tr>\n",
       "  </tbody>\n",
       "</table>\n",
       "<p>781 rows × 15 columns</p>\n",
       "</div>"
      ],
      "text/plain": [
       "           day  numOccurrences       Date  Symbol      Open      High  \\\n",
       "0   2018-02-01             142 2018-02-01  BTCUSD  10112.60  10164.68   \n",
       "1   2018-02-02             236 2018-02-02  BTCUSD   9000.73   9090.00   \n",
       "2   2018-02-03              10 2018-02-03  BTCUSD   8845.07   9494.86   \n",
       "3   2018-02-04              37 2018-02-04  BTCUSD   9221.14   9353.45   \n",
       "4   2018-02-05             102 2018-02-05  BTCUSD   8162.94   8334.00   \n",
       "..         ...             ...        ...     ...       ...       ...   \n",
       "776 2020-04-06               1 2020-04-06  BTCUSD   6775.21   7369.76   \n",
       "777 2020-04-07              13 2020-04-07  BTCUSD   7336.96   7468.42   \n",
       "778 2020-04-08               5 2020-04-08  BTCUSD   7201.81   7432.23   \n",
       "779 2020-04-09              10 2020-04-09  BTCUSD   7369.60   7378.85   \n",
       "780 2020-04-10               2 2020-04-10  BTCUSD   7315.25   7315.25   \n",
       "\n",
       "         Low    Close  Volume BTC    Volume USD      value  \\\n",
       "0    8411.11  9000.73    17746.53  1.622576e+08  37.337988   \n",
       "1    7603.00  8845.07    21886.74  1.858238e+08  37.486231   \n",
       "2    8123.62  9221.14     7572.00  6.697851e+07  37.940498   \n",
       "3    7847.39  8162.94     8182.52  6.899481e+07  37.898892   \n",
       "4    6500.00  6892.67    22800.02  1.663154e+08  38.179677   \n",
       "..       ...      ...         ...           ...        ...   \n",
       "776  6771.01  7336.96     3727.47  2.653375e+07  36.956649   \n",
       "777  7078.00  7201.81     2333.34  1.704712e+07  37.460828   \n",
       "778  7152.80  7369.60     2483.60  1.813808e+07  37.813576   \n",
       "779  7115.04  7315.25     2237.13  1.631001e+07  38.153247   \n",
       "780  7315.25  7315.25        0.00  0.000000e+00  38.479579   \n",
       "\n",
       "    value_classification  timestamp time_until_update  year  \n",
       "0                   Fear 2018-02-01               NaN  2018  \n",
       "1           Extreme Fear 2018-02-02               NaN  2018  \n",
       "2                   Fear 2018-02-03               NaN  2018  \n",
       "3           Extreme Fear 2018-02-04               NaN  2018  \n",
       "4           Extreme Fear 2018-02-05               NaN  2018  \n",
       "..                   ...        ...               ...   ...  \n",
       "776         Extreme Fear 2020-04-06               NaN  2020  \n",
       "777         Extreme Fear 2020-04-07               NaN  2020  \n",
       "778         Extreme Fear 2020-04-08               NaN  2020  \n",
       "779         Extreme Fear 2020-04-09               NaN  2020  \n",
       "780         Extreme Fear 2020-04-10               NaN  2020  \n",
       "\n",
       "[781 rows x 15 columns]"
      ]
     },
     "execution_count": 21,
     "metadata": {},
     "output_type": "execute_result"
    }
   ],
   "source": [
    "df_bitcoin_by_day = df_lemmatized.groupby('day',as_index=False).agg({'numOccurrences': 'sum'})\n",
    "bitcoin_price['Date'] = bitcoin_price['Date'].apply(lambda x: x.to_timestamp())\n",
    "df_bitcoin_by_day['day'] = df_bitcoin_by_day['day'].astype('datetime64')\n",
    "join_df = df_bitcoin_by_day.merge(bitcoin_price, left_on='day', right_on='Date')\n",
    "join_df = join_df.merge(df, left_on='day', right_on='timestamp')\n",
    "join_df['year'] = join_df['day'].apply(lambda x:x.year)\n",
    "\n",
    "join_df"
   ]
  },
  {
   "cell_type": "code",
   "execution_count": 22,
   "metadata": {
    "colab": {
     "base_uri": "https://localhost:8080/",
     "height": 277
    },
    "executionInfo": {
     "elapsed": 895,
     "status": "ok",
     "timestamp": 1636743460671,
     "user": {
      "displayName": "Taha Zakariya",
      "photoUrl": "https://lh3.googleusercontent.com/a/default-user=s64",
      "userId": "04695355770412779331"
     },
     "user_tz": -60
    },
    "id": "vYg2OQFNl5x7",
    "outputId": "1e0c5b91-beec-44af-d817-a7785cbef7ce"
   },
   "outputs": [
    {
     "data": {
      "image/png": "[encoded data removed]",
      "text/plain": [
       "<Figure size 432x288 with 1 Axes>"
      ]
     },
     "metadata": {
      "needs_background": "light"
     },
     "output_type": "display_data"
    }
   ],
   "source": [
    "plot_df = join_df[join_df['year'].isin([2018,2019,2020])].copy()\n",
    "for col in ['Close', 'numOccurrences', 'Volume BTC']:\n",
    "    if col in ['Close', 'Volume BTC']:\n",
    "        plot_df[col]=plot_df[col].apply(np.log)\n",
    "    plot_df[col]=plot_df[col].ewm(span = 100).mean()\n",
    "    plot_df[col]=(plot_df[col]-plot_df[col].min())/(plot_df[col].max()-plot_df[col].min())\n",
    "plot_df.plot(x=\"day\", y=['numOccurrences','Volume BTC','Close']);"
   ]
  },
  {
   "cell_type": "markdown",
   "metadata": {
    "id": "3edCEyMhpYsJ"
   },
   "source": [
    "Again, the BTC volume traded and the number of quotes have an analoguous shape."
   ]
  },
  {
   "cell_type": "markdown",
   "metadata": {
    "id": "Q-F3I_QXpm6a"
   },
   "source": [
    "For the next milestone we will explore these metrics and others further and deeper."
   ]
  }
 ],
 "metadata": {
  "accelerator": "GPU",
  "colab": {
   "authorship_tag": "ABX9TyNtl1jBTJkBoRnA3ggalusZ",
   "collapsed_sections": [],
   "mount_file_id": "1Juixq0SnJ9Ft1fV_u5Y_wat9vwJAwq5L",
   "name": "Data_analysis.ipynb",
   "provenance": []
  },
  "kernelspec": {
   "display_name": "Python 3",
   "language": "python",
   "name": "python3"
  },
  "language_info": {
   "codemirror_mode": {
    "name": "ipython",
    "version": 3
   },
   "file_extension": ".py",
   "mimetype": "text/x-python",
   "name": "python",
   "nbconvert_exporter": "python",
   "pygments_lexer": "ipython3",
   "version": "3.8.5"
  },
  "widgets": {
   "application/vnd.jupyter.widget-state+json": {
    "00591ed9ec7f442f8247b99008d5f93b": {
     "model_module": "@jupyter-widgets/controls",
     "model_module_version": "1.5.0",
     "model_name": "FloatProgressModel",
     "state": {
      "_dom_classes": [],
      "_model_module": "@jupyter-widgets/controls",
      "_model_module_version": "1.5.0",
      "_model_name": "FloatProgressModel",
      "_view_count": null,
      "_view_module": "@jupyter-widgets/controls",
      "_view_module_version": "1.5.0",
      "_view_name": "ProgressView",
      "bar_style": "success",
      "description": "",
      "description_tooltip": null,
      "layout": "IPY_MODEL_b13458b570744e3fbcb59a220596fa02",
      "max": 898822,
      "min": 0,
      "orientation": "horizontal",
      "style": "IPY_MODEL_62497a9f9a8c42d993482c47afb5a4ab",
      "value": 898822
     }
    },
    "0190b0d50e5a495496ea09a7ff96b3d0": {
     "model_module": "@jupyter-widgets/controls",
     "model_module_version": "1.5.0",
     "model_name": "HTMLModel",
     "state": {
      "_dom_classes": [],
      "_model_module": "@jupyter-widgets/controls",
      "_model_module_version": "1.5.0",
      "_model_name": "HTMLModel",
      "_view_count": null,
      "_view_module": "@jupyter-widgets/controls",
      "_view_module_version": "1.5.0",
      "_view_name": "HTMLView",
      "description": "",
      "description_tooltip": null,
      "layout": "IPY_MODEL_63eb24d2e9f942d3bb5f78354fbd230e",
      "placeholder": "​",
      "style": "IPY_MODEL_5afbb10062ec410ca8ed707536abd97e",
      "value": "Downloading: 100%"
     }
    },
    "04947c2f22544e0784975951526badea": {
     "model_module": "@jupyter-widgets/controls",
     "model_module_version": "1.5.0",
     "model_name": "HTMLModel",
     "state": {
      "_dom_classes": [],
      "_model_module": "@jupyter-widgets/controls",
      "_model_module_version": "1.5.0",
      "_model_name": "HTMLModel",
      "_view_count": null,
      "_view_module": "@jupyter-widgets/controls",
      "_view_module_version": "1.5.0",
      "_view_name": "HTMLView",
      "description": "",
      "description_tooltip": null,
      "layout": "IPY_MODEL_a47423e121134574871abda5a531a5ae",
      "placeholder": "​",
      "style": "IPY_MODEL_767170bd54084e0aa54a1b3f34d22dfb",
      "value": " 878k/878k [00:00&lt;00:00, 4.87MB/s]"
     }
    },
    "099bc0ca014746258f63ec14caf3d707": {
     "model_module": "@jupyter-widgets/controls",
     "model_module_version": "1.5.0",
     "model_name": "ProgressStyleModel",
     "state": {
      "_model_module": "@jupyter-widgets/controls",
      "_model_module_version": "1.5.0",
      "_model_name": "ProgressStyleModel",
      "_view_count": null,
      "_view_module": "@jupyter-widgets/base",
      "_view_module_version": "1.2.0",
      "_view_name": "StyleView",
      "bar_color": null,
      "description_width": ""
     }
    },
    "0dfcced65f3e4ae59e3fde99146fe976": {
     "model_module": "@jupyter-widgets/controls",
     "model_module_version": "1.5.0",
     "model_name": "DescriptionStyleModel",
     "state": {
      "_model_module": "@jupyter-widgets/controls",
      "_model_module_version": "1.5.0",
      "_model_name": "DescriptionStyleModel",
      "_view_count": null,
      "_view_module": "@jupyter-widgets/base",
      "_view_module_version": "1.2.0",
      "_view_name": "StyleView",
      "description_width": ""
     }
    },
    "0eda545e6fce43bda8d0ea9e4afbf0b5": {
     "model_module": "@jupyter-widgets/base",
     "model_module_version": "1.2.0",
     "model_name": "LayoutModel",
     "state": {
      "_model_module": "@jupyter-widgets/base",
      "_model_module_version": "1.2.0",
      "_model_name": "LayoutModel",
      "_view_count": null,
      "_view_module": "@jupyter-widgets/base",
      "_view_module_version": "1.2.0",
      "_view_name": "LayoutView",
      "align_content": null,
      "align_items": null,
      "align_self": null,
      "border": null,
      "bottom": null,
      "display": null,
      "flex": null,
      "flex_flow": null,
      "grid_area": null,
      "grid_auto_columns": null,
      "grid_auto_flow": null,
      "grid_auto_rows": null,
      "grid_column": null,
      "grid_gap": null,
      "grid_row": null,
      "grid_template_areas": null,
      "grid_template_columns": null,
      "grid_template_rows": null,
      "height": null,
      "justify_content": null,
      "justify_items": null,
      "left": null,
      "margin": null,
      "max_height": null,
      "max_width": null,
      "min_height": null,
      "min_width": null,
      "object_fit": null,
      "object_position": null,
      "order": null,
      "overflow": null,
      "overflow_x": null,
      "overflow_y": null,
      "padding": null,
      "right": null,
      "top": null,
      "visibility": null,
      "width": null
     }
    },
    "0f9a374b51e142e5a7901444239e9a5e": {
     "model_module": "@jupyter-widgets/controls",
     "model_module_version": "1.5.0",
     "model_name": "HTMLModel",
     "state": {
      "_dom_classes": [],
      "_model_module": "@jupyter-widgets/controls",
      "_model_module_version": "1.5.0",
      "_model_name": "HTMLModel",
      "_view_count": null,
      "_view_module": "@jupyter-widgets/controls",
      "_view_module_version": "1.5.0",
      "_view_name": "HTMLView",
      "description": "",
      "description_tooltip": null,
      "layout": "IPY_MODEL_9034b48590684745b62edf747013b679",
      "placeholder": "​",
      "style": "IPY_MODEL_9a8b1e1574564b7fa42bfd46b2863328",
      "value": "Downloading: 100%"
     }
    },
    "1323a57d2385429b8684e7d649bbb8e1": {
     "model_module": "@jupyter-widgets/base",
     "model_module_version": "1.2.0",
     "model_name": "LayoutModel",
     "state": {
      "_model_module": "@jupyter-widgets/base",
      "_model_module_version": "1.2.0",
      "_model_name": "LayoutModel",
      "_view_count": null,
      "_view_module": "@jupyter-widgets/base",
      "_view_module_version": "1.2.0",
      "_view_name": "LayoutView",
      "align_content": null,
      "align_items": null,
      "align_self": null,
      "border": null,
      "bottom": null,
      "display": null,
      "flex": null,
      "flex_flow": null,
      "grid_area": null,
      "grid_auto_columns": null,
      "grid_auto_flow": null,
      "grid_auto_rows": null,
      "grid_column": null,
      "grid_gap": null,
      "grid_row": null,
      "grid_template_areas": null,
      "grid_template_columns": null,
      "grid_template_rows": null,
      "height": null,
      "justify_content": null,
      "justify_items": null,
      "left": null,
      "margin": null,
      "max_height": null,
      "max_width": null,
      "min_height": null,
      "min_width": null,
      "object_fit": null,
      "object_position": null,
      "order": null,
      "overflow": null,
      "overflow_x": null,
      "overflow_y": null,
      "padding": null,
      "right": null,
      "top": null,
      "visibility": null,
      "width": null
     }
    },
    "1410cc62f5c74502aaead6d1cd788351": {
     "model_module": "@jupyter-widgets/controls",
     "model_module_version": "1.5.0",
     "model_name": "ProgressStyleModel",
     "state": {
      "_model_module": "@jupyter-widgets/controls",
      "_model_module_version": "1.5.0",
      "_model_name": "ProgressStyleModel",
      "_view_count": null,
      "_view_module": "@jupyter-widgets/base",
      "_view_module_version": "1.2.0",
      "_view_name": "StyleView",
      "bar_color": null,
      "description_width": ""
     }
    },
    "18c610d7e96245d2a45bec5e1dbed135": {
     "model_module": "@jupyter-widgets/controls",
     "model_module_version": "1.5.0",
     "model_name": "DescriptionStyleModel",
     "state": {
      "_model_module": "@jupyter-widgets/controls",
      "_model_module_version": "1.5.0",
      "_model_name": "DescriptionStyleModel",
      "_view_count": null,
      "_view_module": "@jupyter-widgets/base",
      "_view_module_version": "1.2.0",
      "_view_name": "StyleView",
      "description_width": ""
     }
    },
    "1da704f8965c4bc198413bb9029c0828": {
     "model_module": "@jupyter-widgets/controls",
     "model_module_version": "1.5.0",
     "model_name": "HBoxModel",
     "state": {
      "_dom_classes": [],
      "_model_module": "@jupyter-widgets/controls",
      "_model_module_version": "1.5.0",
      "_model_name": "HBoxModel",
      "_view_count": null,
      "_view_module": "@jupyter-widgets/controls",
      "_view_module_version": "1.5.0",
      "_view_name": "HBoxView",
      "box_style": "",
      "children": [
       "IPY_MODEL_c7fb01e48ef74094bfa72bec82061e1d",
       "IPY_MODEL_c174dd0f984244098541958d8b0bebbd",
       "IPY_MODEL_4a8cc930d1ad44a0805244e59293546e"
      ],
      "layout": "IPY_MODEL_c5644db15e1a46b685aaf65ddbaf63d4"
     }
    },
    "20e9efbdea3e4b8aaadd50ed371ba2d0": {
     "model_module": "@jupyter-widgets/controls",
     "model_module_version": "1.5.0",
     "model_name": "HTMLModel",
     "state": {
      "_dom_classes": [],
      "_model_module": "@jupyter-widgets/controls",
      "_model_module_version": "1.5.0",
      "_model_name": "HTMLModel",
      "_view_count": null,
      "_view_module": "@jupyter-widgets/controls",
      "_view_module_version": "1.5.0",
      "_view_name": "HTMLView",
      "description": "",
      "description_tooltip": null,
      "layout": "IPY_MODEL_aa0a0756da4847f49d8e84d9fc553a4d",
      "placeholder": "​",
      "style": "IPY_MODEL_0dfcced65f3e4ae59e3fde99146fe976",
      "value": "Downloading: 100%"
     }
    },
    "29e199878e5f409f981dbf3cf3b61e2c": {
     "model_module": "@jupyter-widgets/controls",
     "model_module_version": "1.5.0",
     "model_name": "HBoxModel",
     "state": {
      "_dom_classes": [],
      "_model_module": "@jupyter-widgets/controls",
      "_model_module_version": "1.5.0",
      "_model_name": "HBoxModel",
      "_view_count": null,
      "_view_module": "@jupyter-widgets/controls",
      "_view_module_version": "1.5.0",
      "_view_name": "HBoxView",
      "box_style": "",
      "children": [
       "IPY_MODEL_0190b0d50e5a495496ea09a7ff96b3d0",
       "IPY_MODEL_00591ed9ec7f442f8247b99008d5f93b",
       "IPY_MODEL_04947c2f22544e0784975951526badea"
      ],
      "layout": "IPY_MODEL_846a041e5afe4bba9db44dad9570fdf4"
     }
    },
    "42ac3a761f2e467b96ac5833fd9c9f49": {
     "model_module": "@jupyter-widgets/base",
     "model_module_version": "1.2.0",
     "model_name": "LayoutModel",
     "state": {
      "_model_module": "@jupyter-widgets/base",
      "_model_module_version": "1.2.0",
      "_model_name": "LayoutModel",
      "_view_count": null,
      "_view_module": "@jupyter-widgets/base",
      "_view_module_version": "1.2.0",
      "_view_name": "LayoutView",
      "align_content": null,
      "align_items": null,
      "align_self": null,
      "border": null,
      "bottom": null,
      "display": null,
      "flex": null,
      "flex_flow": null,
      "grid_area": null,
      "grid_auto_columns": null,
      "grid_auto_flow": null,
      "grid_auto_rows": null,
      "grid_column": null,
      "grid_gap": null,
      "grid_row": null,
      "grid_template_areas": null,
      "grid_template_columns": null,
      "grid_template_rows": null,
      "height": null,
      "justify_content": null,
      "justify_items": null,
      "left": null,
      "margin": null,
      "max_height": null,
      "max_width": null,
      "min_height": null,
      "min_width": null,
      "object_fit": null,
      "object_position": null,
      "order": null,
      "overflow": null,
      "overflow_x": null,
      "overflow_y": null,
      "padding": null,
      "right": null,
      "top": null,
      "visibility": null,
      "width": null
     }
    },
    "437fee24ffc34267b23048d1deb927cc": {
     "model_module": "@jupyter-widgets/base",
     "model_module_version": "1.2.0",
     "model_name": "LayoutModel",
     "state": {
      "_model_module": "@jupyter-widgets/base",
      "_model_module_version": "1.2.0",
      "_model_name": "LayoutModel",
      "_view_count": null,
      "_view_module": "@jupyter-widgets/base",
      "_view_module_version": "1.2.0",
      "_view_name": "LayoutView",
      "align_content": null,
      "align_items": null,
      "align_self": null,
      "border": null,
      "bottom": null,
      "display": null,
      "flex": null,
      "flex_flow": null,
      "grid_area": null,
      "grid_auto_columns": null,
      "grid_auto_flow": null,
      "grid_auto_rows": null,
      "grid_column": null,
      "grid_gap": null,
      "grid_row": null,
      "grid_template_areas": null,
      "grid_template_columns": null,
      "grid_template_rows": null,
      "height": null,
      "justify_content": null,
      "justify_items": null,
      "left": null,
      "margin": null,
      "max_height": null,
      "max_width": null,
      "min_height": null,
      "min_width": null,
      "object_fit": null,
      "object_position": null,
      "order": null,
      "overflow": null,
      "overflow_x": null,
      "overflow_y": null,
      "padding": null,
      "right": null,
      "top": null,
      "visibility": null,
      "width": null
     }
    },
    "438bad4996ca4496a40db6b72c23f4f5": {
     "model_module": "@jupyter-widgets/controls",
     "model_module_version": "1.5.0",
     "model_name": "DescriptionStyleModel",
     "state": {
      "_model_module": "@jupyter-widgets/controls",
      "_model_module_version": "1.5.0",
      "_model_name": "DescriptionStyleModel",
      "_view_count": null,
      "_view_module": "@jupyter-widgets/base",
      "_view_module_version": "1.2.0",
      "_view_name": "StyleView",
      "description_width": ""
     }
    },
    "4435297dcdc74407b298268f8f665ffc": {
     "model_module": "@jupyter-widgets/controls",
     "model_module_version": "1.5.0",
     "model_name": "HBoxModel",
     "state": {
      "_dom_classes": [],
      "_model_module": "@jupyter-widgets/controls",
      "_model_module_version": "1.5.0",
      "_model_name": "HBoxModel",
      "_view_count": null,
      "_view_module": "@jupyter-widgets/controls",
      "_view_module_version": "1.5.0",
      "_view_name": "HBoxView",
      "box_style": "",
      "children": [
       "IPY_MODEL_e0fcd28a38f74020962296ac936f3e12",
       "IPY_MODEL_8ef79ae23c9549f0810c0f292e05a109",
       "IPY_MODEL_564c0d2dd2aa432986789e0c23e8c0cc"
      ],
      "layout": "IPY_MODEL_62ff4a7357b947889293a94091fb05f9"
     }
    },
    "4967e10393184868839170bdb60e0d76": {
     "model_module": "@jupyter-widgets/controls",
     "model_module_version": "1.5.0",
     "model_name": "ProgressStyleModel",
     "state": {
      "_model_module": "@jupyter-widgets/controls",
      "_model_module_version": "1.5.0",
      "_model_name": "ProgressStyleModel",
      "_view_count": null,
      "_view_module": "@jupyter-widgets/base",
      "_view_module_version": "1.2.0",
      "_view_name": "StyleView",
      "bar_color": null,
      "description_width": ""
     }
    },
    "4a8cc930d1ad44a0805244e59293546e": {
     "model_module": "@jupyter-widgets/controls",
     "model_module_version": "1.5.0",
     "model_name": "HTMLModel",
     "state": {
      "_dom_classes": [],
      "_model_module": "@jupyter-widgets/controls",
      "_model_module_version": "1.5.0",
      "_model_name": "HTMLModel",
      "_view_count": null,
      "_view_module": "@jupyter-widgets/controls",
      "_view_module_version": "1.5.0",
      "_view_name": "HTMLView",
      "description": "",
      "description_tooltip": null,
      "layout": "IPY_MODEL_4c0106561ead454d9a0d089ae33f7466",
      "placeholder": "​",
      "style": "IPY_MODEL_9d673768c61c4ac49e9e7722d3966bba",
      "value": " 1.13k/1.13k [00:00&lt;00:00, 22.5kB/s]"
     }
    },
    "4c0106561ead454d9a0d089ae33f7466": {
     "model_module": "@jupyter-widgets/base",
     "model_module_version": "1.2.0",
     "model_name": "LayoutModel",
     "state": {
      "_model_module": "@jupyter-widgets/base",
      "_model_module_version": "1.2.0",
      "_model_name": "LayoutModel",
      "_view_count": null,
      "_view_module": "@jupyter-widgets/base",
      "_view_module_version": "1.2.0",
      "_view_name": "LayoutView",
      "align_content": null,
      "align_items": null,
      "align_self": null,
      "border": null,
      "bottom": null,
      "display": null,
      "flex": null,
      "flex_flow": null,
      "grid_area": null,
      "grid_auto_columns": null,
      "grid_auto_flow": null,
      "grid_auto_rows": null,
      "grid_column": null,
      "grid_gap": null,
      "grid_row": null,
      "grid_template_areas": null,
      "grid_template_columns": null,
      "grid_template_rows": null,
      "height": null,
      "justify_content": null,
      "justify_items": null,
      "left": null,
      "margin": null,
      "max_height": null,
      "max_width": null,
      "min_height": null,
      "min_width": null,
      "object_fit": null,
      "object_position": null,
      "order": null,
      "overflow": null,
      "overflow_x": null,
      "overflow_y": null,
      "padding": null,
      "right": null,
      "top": null,
      "visibility": null,
      "width": null
     }
    },
    "4f3955d8f5bb4dc7af4088d0f31d0a94": {
     "model_module": "@jupyter-widgets/base",
     "model_module_version": "1.2.0",
     "model_name": "LayoutModel",
     "state": {
      "_model_module": "@jupyter-widgets/base",
      "_model_module_version": "1.2.0",
      "_model_name": "LayoutModel",
      "_view_count": null,
      "_view_module": "@jupyter-widgets/base",
      "_view_module_version": "1.2.0",
      "_view_name": "LayoutView",
      "align_content": null,
      "align_items": null,
      "align_self": null,
      "border": null,
      "bottom": null,
      "display": null,
      "flex": null,
      "flex_flow": null,
      "grid_area": null,
      "grid_auto_columns": null,
      "grid_auto_flow": null,
      "grid_auto_rows": null,
      "grid_column": null,
      "grid_gap": null,
      "grid_row": null,
      "grid_template_areas": null,
      "grid_template_columns": null,
      "grid_template_rows": null,
      "height": null,
      "justify_content": null,
      "justify_items": null,
      "left": null,
      "margin": null,
      "max_height": null,
      "max_width": null,
      "min_height": null,
      "min_width": null,
      "object_fit": null,
      "object_position": null,
      "order": null,
      "overflow": null,
      "overflow_x": null,
      "overflow_y": null,
      "padding": null,
      "right": null,
      "top": null,
      "visibility": null,
      "width": null
     }
    },
    "511c45fff608433db4c08cf8e28ad54b": {
     "model_module": "@jupyter-widgets/controls",
     "model_module_version": "1.5.0",
     "model_name": "FloatProgressModel",
     "state": {
      "_dom_classes": [],
      "_model_module": "@jupyter-widgets/controls",
      "_model_module_version": "1.5.0",
      "_model_name": "FloatProgressModel",
      "_view_count": null,
      "_view_module": "@jupyter-widgets/controls",
      "_view_module_version": "1.5.0",
      "_view_name": "ProgressView",
      "bar_style": "success",
      "description": "",
      "description_tooltip": null,
      "layout": "IPY_MODEL_db3f2c8951774db5922d1cf37809ab25",
      "max": 1629486723,
      "min": 0,
      "orientation": "horizontal",
      "style": "IPY_MODEL_fa9f81f4575242eda96f987f5111416c",
      "value": 1629486723
     }
    },
    "544553ec05094d78b36c0451cb508cdf": {
     "model_module": "@jupyter-widgets/controls",
     "model_module_version": "1.5.0",
     "model_name": "ProgressStyleModel",
     "state": {
      "_model_module": "@jupyter-widgets/controls",
      "_model_module_version": "1.5.0",
      "_model_name": "ProgressStyleModel",
      "_view_count": null,
      "_view_module": "@jupyter-widgets/base",
      "_view_module_version": "1.2.0",
      "_view_name": "StyleView",
      "bar_color": null,
      "description_width": ""
     }
    },
    "564c0d2dd2aa432986789e0c23e8c0cc": {
     "model_module": "@jupyter-widgets/controls",
     "model_module_version": "1.5.0",
     "model_name": "HTMLModel",
     "state": {
      "_dom_classes": [],
      "_model_module": "@jupyter-widgets/controls",
      "_model_module_version": "1.5.0",
      "_model_name": "HTMLModel",
      "_view_count": null,
      "_view_module": "@jupyter-widgets/controls",
      "_view_module_version": "1.5.0",
      "_view_name": "HTMLView",
      "description": "",
      "description_tooltip": null,
      "layout": "IPY_MODEL_b581aa2264324944b0912796b2b67ec8",
      "placeholder": "​",
      "style": "IPY_MODEL_6ebf87b07e1042e6b117a6fb3e559219",
      "value": " 26.0/26.0 [00:00&lt;00:00, 689B/s]"
     }
    },
    "5afbb10062ec410ca8ed707536abd97e": {
     "model_module": "@jupyter-widgets/controls",
     "model_module_version": "1.5.0",
     "model_name": "DescriptionStyleModel",
     "state": {
      "_model_module": "@jupyter-widgets/controls",
      "_model_module_version": "1.5.0",
      "_model_name": "DescriptionStyleModel",
      "_view_count": null,
      "_view_module": "@jupyter-widgets/base",
      "_view_module_version": "1.2.0",
      "_view_name": "StyleView",
      "description_width": ""
     }
    },
    "62497a9f9a8c42d993482c47afb5a4ab": {
     "model_module": "@jupyter-widgets/controls",
     "model_module_version": "1.5.0",
     "model_name": "ProgressStyleModel",
     "state": {
      "_model_module": "@jupyter-widgets/controls",
      "_model_module_version": "1.5.0",
      "_model_name": "ProgressStyleModel",
      "_view_count": null,
      "_view_module": "@jupyter-widgets/base",
      "_view_module_version": "1.2.0",
      "_view_name": "StyleView",
      "bar_color": null,
      "description_width": ""
     }
    },
    "62ff4a7357b947889293a94091fb05f9": {
     "model_module": "@jupyter-widgets/base",
     "model_module_version": "1.2.0",
     "model_name": "LayoutModel",
     "state": {
      "_model_module": "@jupyter-widgets/base",
      "_model_module_version": "1.2.0",
      "_model_name": "LayoutModel",
      "_view_count": null,
      "_view_module": "@jupyter-widgets/base",
      "_view_module_version": "1.2.0",
      "_view_name": "LayoutView",
      "align_content": null,
      "align_items": null,
      "align_self": null,
      "border": null,
      "bottom": null,
      "display": null,
      "flex": null,
      "flex_flow": null,
      "grid_area": null,
      "grid_auto_columns": null,
      "grid_auto_flow": null,
      "grid_auto_rows": null,
      "grid_column": null,
      "grid_gap": null,
      "grid_row": null,
      "grid_template_areas": null,
      "grid_template_columns": null,
      "grid_template_rows": null,
      "height": null,
      "justify_content": null,
      "justify_items": null,
      "left": null,
      "margin": null,
      "max_height": null,
      "max_width": null,
      "min_height": null,
      "min_width": null,
      "object_fit": null,
      "object_position": null,
      "order": null,
      "overflow": null,
      "overflow_x": null,
      "overflow_y": null,
      "padding": null,
      "right": null,
      "top": null,
      "visibility": null,
      "width": null
     }
    },
    "63eb24d2e9f942d3bb5f78354fbd230e": {
     "model_module": "@jupyter-widgets/base",
     "model_module_version": "1.2.0",
     "model_name": "LayoutModel",
     "state": {
      "_model_module": "@jupyter-widgets/base",
      "_model_module_version": "1.2.0",
      "_model_name": "LayoutModel",
      "_view_count": null,
      "_view_module": "@jupyter-widgets/base",
      "_view_module_version": "1.2.0",
      "_view_name": "LayoutView",
      "align_content": null,
      "align_items": null,
      "align_self": null,
      "border": null,
      "bottom": null,
      "display": null,
      "flex": null,
      "flex_flow": null,
      "grid_area": null,
      "grid_auto_columns": null,
      "grid_auto_flow": null,
      "grid_auto_rows": null,
      "grid_column": null,
      "grid_gap": null,
      "grid_row": null,
      "grid_template_areas": null,
      "grid_template_columns": null,
      "grid_template_rows": null,
      "height": null,
      "justify_content": null,
      "justify_items": null,
      "left": null,
      "margin": null,
      "max_height": null,
      "max_width": null,
      "min_height": null,
      "min_width": null,
      "object_fit": null,
      "object_position": null,
      "order": null,
      "overflow": null,
      "overflow_x": null,
      "overflow_y": null,
      "padding": null,
      "right": null,
      "top": null,
      "visibility": null,
      "width": null
     }
    },
    "6ebf87b07e1042e6b117a6fb3e559219": {
     "model_module": "@jupyter-widgets/controls",
     "model_module_version": "1.5.0",
     "model_name": "DescriptionStyleModel",
     "state": {
      "_model_module": "@jupyter-widgets/controls",
      "_model_module_version": "1.5.0",
      "_model_name": "DescriptionStyleModel",
      "_view_count": null,
      "_view_module": "@jupyter-widgets/base",
      "_view_module_version": "1.2.0",
      "_view_name": "StyleView",
      "description_width": ""
     }
    },
    "767170bd54084e0aa54a1b3f34d22dfb": {
     "model_module": "@jupyter-widgets/controls",
     "model_module_version": "1.5.0",
     "model_name": "DescriptionStyleModel",
     "state": {
      "_model_module": "@jupyter-widgets/controls",
      "_model_module_version": "1.5.0",
      "_model_name": "DescriptionStyleModel",
      "_view_count": null,
      "_view_module": "@jupyter-widgets/base",
      "_view_module_version": "1.2.0",
      "_view_name": "StyleView",
      "description_width": ""
     }
    },
    "7729380ee9cd429f8961f40a60c3efe8": {
     "model_module": "@jupyter-widgets/controls",
     "model_module_version": "1.5.0",
     "model_name": "HTMLModel",
     "state": {
      "_dom_classes": [],
      "_model_module": "@jupyter-widgets/controls",
      "_model_module_version": "1.5.0",
      "_model_name": "HTMLModel",
      "_view_count": null,
      "_view_module": "@jupyter-widgets/controls",
      "_view_module_version": "1.5.0",
      "_view_name": "HTMLView",
      "description": "",
      "description_tooltip": null,
      "layout": "IPY_MODEL_4f3955d8f5bb4dc7af4088d0f31d0a94",
      "placeholder": "​",
      "style": "IPY_MODEL_e8846ea40bc74bca8416c350fce3d6ba",
      "value": "Downloading: 100%"
     }
    },
    "77a5d234b61f402daca9f7acea9a8cd3": {
     "model_module": "@jupyter-widgets/base",
     "model_module_version": "1.2.0",
     "model_name": "LayoutModel",
     "state": {
      "_model_module": "@jupyter-widgets/base",
      "_model_module_version": "1.2.0",
      "_model_name": "LayoutModel",
      "_view_count": null,
      "_view_module": "@jupyter-widgets/base",
      "_view_module_version": "1.2.0",
      "_view_name": "LayoutView",
      "align_content": null,
      "align_items": null,
      "align_self": null,
      "border": null,
      "bottom": null,
      "display": null,
      "flex": null,
      "flex_flow": null,
      "grid_area": null,
      "grid_auto_columns": null,
      "grid_auto_flow": null,
      "grid_auto_rows": null,
      "grid_column": null,
      "grid_gap": null,
      "grid_row": null,
      "grid_template_areas": null,
      "grid_template_columns": null,
      "grid_template_rows": null,
      "height": null,
      "justify_content": null,
      "justify_items": null,
      "left": null,
      "margin": null,
      "max_height": null,
      "max_width": null,
      "min_height": null,
      "min_width": null,
      "object_fit": null,
      "object_position": null,
      "order": null,
      "overflow": null,
      "overflow_x": null,
      "overflow_y": null,
      "padding": null,
      "right": null,
      "top": null,
      "visibility": null,
      "width": null
     }
    },
    "7847ed9c7aec40e29789a5c5ad40f43f": {
     "model_module": "@jupyter-widgets/controls",
     "model_module_version": "1.5.0",
     "model_name": "HBoxModel",
     "state": {
      "_dom_classes": [],
      "_model_module": "@jupyter-widgets/controls",
      "_model_module_version": "1.5.0",
      "_model_name": "HBoxModel",
      "_view_count": null,
      "_view_module": "@jupyter-widgets/controls",
      "_view_module_version": "1.5.0",
      "_view_name": "HBoxView",
      "box_style": "",
      "children": [
       "IPY_MODEL_0f9a374b51e142e5a7901444239e9a5e",
       "IPY_MODEL_821b2c4cd83d4165b803bd0db4e088dc",
       "IPY_MODEL_f01a29cc8c7d4cf8bb5cd5b64bc59566"
      ],
      "layout": "IPY_MODEL_0eda545e6fce43bda8d0ea9e4afbf0b5"
     }
    },
    "78cb8889a45646868bf0989b6b0b3666": {
     "model_module": "@jupyter-widgets/base",
     "model_module_version": "1.2.0",
     "model_name": "LayoutModel",
     "state": {
      "_model_module": "@jupyter-widgets/base",
      "_model_module_version": "1.2.0",
      "_model_name": "LayoutModel",
      "_view_count": null,
      "_view_module": "@jupyter-widgets/base",
      "_view_module_version": "1.2.0",
      "_view_name": "LayoutView",
      "align_content": null,
      "align_items": null,
      "align_self": null,
      "border": null,
      "bottom": null,
      "display": null,
      "flex": null,
      "flex_flow": null,
      "grid_area": null,
      "grid_auto_columns": null,
      "grid_auto_flow": null,
      "grid_auto_rows": null,
      "grid_column": null,
      "grid_gap": null,
      "grid_row": null,
      "grid_template_areas": null,
      "grid_template_columns": null,
      "grid_template_rows": null,
      "height": null,
      "justify_content": null,
      "justify_items": null,
      "left": null,
      "margin": null,
      "max_height": null,
      "max_width": null,
      "min_height": null,
      "min_width": null,
      "object_fit": null,
      "object_position": null,
      "order": null,
      "overflow": null,
      "overflow_x": null,
      "overflow_y": null,
      "padding": null,
      "right": null,
      "top": null,
      "visibility": null,
      "width": null
     }
    },
    "794b5b10bbe9403092c32e56fa58fb4d": {
     "model_module": "@jupyter-widgets/base",
     "model_module_version": "1.2.0",
     "model_name": "LayoutModel",
     "state": {
      "_model_module": "@jupyter-widgets/base",
      "_model_module_version": "1.2.0",
      "_model_name": "LayoutModel",
      "_view_count": null,
      "_view_module": "@jupyter-widgets/base",
      "_view_module_version": "1.2.0",
      "_view_name": "LayoutView",
      "align_content": null,
      "align_items": null,
      "align_self": null,
      "border": null,
      "bottom": null,
      "display": null,
      "flex": null,
      "flex_flow": null,
      "grid_area": null,
      "grid_auto_columns": null,
      "grid_auto_flow": null,
      "grid_auto_rows": null,
      "grid_column": null,
      "grid_gap": null,
      "grid_row": null,
      "grid_template_areas": null,
      "grid_template_columns": null,
      "grid_template_rows": null,
      "height": null,
      "justify_content": null,
      "justify_items": null,
      "left": null,
      "margin": null,
      "max_height": null,
      "max_width": null,
      "min_height": null,
      "min_width": null,
      "object_fit": null,
      "object_position": null,
      "order": null,
      "overflow": null,
      "overflow_x": null,
      "overflow_y": null,
      "padding": null,
      "right": null,
      "top": null,
      "visibility": null,
      "width": null
     }
    },
    "7baeab9f739b434b83706542b418c9e3": {
     "model_module": "@jupyter-widgets/controls",
     "model_module_version": "1.5.0",
     "model_name": "HTMLModel",
     "state": {
      "_dom_classes": [],
      "_model_module": "@jupyter-widgets/controls",
      "_model_module_version": "1.5.0",
      "_model_name": "HTMLModel",
      "_view_count": null,
      "_view_module": "@jupyter-widgets/controls",
      "_view_module_version": "1.5.0",
      "_view_name": "HTMLView",
      "description": "",
      "description_tooltip": null,
      "layout": "IPY_MODEL_437fee24ffc34267b23048d1deb927cc",
      "placeholder": "​",
      "style": "IPY_MODEL_438bad4996ca4496a40db6b72c23f4f5",
      "value": " 1.52G/1.52G [00:59&lt;00:00, 27.6MB/s]"
     }
    },
    "821b2c4cd83d4165b803bd0db4e088dc": {
     "model_module": "@jupyter-widgets/controls",
     "model_module_version": "1.5.0",
     "model_name": "FloatProgressModel",
     "state": {
      "_dom_classes": [],
      "_model_module": "@jupyter-widgets/controls",
      "_model_module_version": "1.5.0",
      "_model_name": "FloatProgressModel",
      "_view_count": null,
      "_view_module": "@jupyter-widgets/controls",
      "_view_module_version": "1.5.0",
      "_view_name": "ProgressView",
      "bar_style": "success",
      "description": "",
      "description_tooltip": null,
      "layout": "IPY_MODEL_77a5d234b61f402daca9f7acea9a8cd3",
      "max": 1355863,
      "min": 0,
      "orientation": "horizontal",
      "style": "IPY_MODEL_544553ec05094d78b36c0451cb508cdf",
      "value": 1355863
     }
    },
    "846a041e5afe4bba9db44dad9570fdf4": {
     "model_module": "@jupyter-widgets/base",
     "model_module_version": "1.2.0",
     "model_name": "LayoutModel",
     "state": {
      "_model_module": "@jupyter-widgets/base",
      "_model_module_version": "1.2.0",
      "_model_name": "LayoutModel",
      "_view_count": null,
      "_view_module": "@jupyter-widgets/base",
      "_view_module_version": "1.2.0",
      "_view_name": "LayoutView",
      "align_content": null,
      "align_items": null,
      "align_self": null,
      "border": null,
      "bottom": null,
      "display": null,
      "flex": null,
      "flex_flow": null,
      "grid_area": null,
      "grid_auto_columns": null,
      "grid_auto_flow": null,
      "grid_auto_rows": null,
      "grid_column": null,
      "grid_gap": null,
      "grid_row": null,
      "grid_template_areas": null,
      "grid_template_columns": null,
      "grid_template_rows": null,
      "height": null,
      "justify_content": null,
      "justify_items": null,
      "left": null,
      "margin": null,
      "max_height": null,
      "max_width": null,
      "min_height": null,
      "min_width": null,
      "object_fit": null,
      "object_position": null,
      "order": null,
      "overflow": null,
      "overflow_x": null,
      "overflow_y": null,
      "padding": null,
      "right": null,
      "top": null,
      "visibility": null,
      "width": null
     }
    },
    "86eba3e64c864ea99a18fb393a33df5f": {
     "model_module": "@jupyter-widgets/controls",
     "model_module_version": "1.5.0",
     "model_name": "HTMLModel",
     "state": {
      "_dom_classes": [],
      "_model_module": "@jupyter-widgets/controls",
      "_model_module_version": "1.5.0",
      "_model_name": "HTMLModel",
      "_view_count": null,
      "_view_module": "@jupyter-widgets/controls",
      "_view_module_version": "1.5.0",
      "_view_name": "HTMLView",
      "description": "",
      "description_tooltip": null,
      "layout": "IPY_MODEL_9bfa05d7950d4b058eb10a1f72bc87a3",
      "placeholder": "​",
      "style": "IPY_MODEL_89e781b9fc734a01b7c744d4ceeda910",
      "value": " 446k/446k [00:00&lt;00:00, 1.18MB/s]"
     }
    },
    "89e781b9fc734a01b7c744d4ceeda910": {
     "model_module": "@jupyter-widgets/controls",
     "model_module_version": "1.5.0",
     "model_name": "DescriptionStyleModel",
     "state": {
      "_model_module": "@jupyter-widgets/controls",
      "_model_module_version": "1.5.0",
      "_model_name": "DescriptionStyleModel",
      "_view_count": null,
      "_view_module": "@jupyter-widgets/base",
      "_view_module_version": "1.2.0",
      "_view_name": "StyleView",
      "description_width": ""
     }
    },
    "8ef79ae23c9549f0810c0f292e05a109": {
     "model_module": "@jupyter-widgets/controls",
     "model_module_version": "1.5.0",
     "model_name": "FloatProgressModel",
     "state": {
      "_dom_classes": [],
      "_model_module": "@jupyter-widgets/controls",
      "_model_module_version": "1.5.0",
      "_model_name": "FloatProgressModel",
      "_view_count": null,
      "_view_module": "@jupyter-widgets/controls",
      "_view_module_version": "1.5.0",
      "_view_name": "ProgressView",
      "bar_style": "success",
      "description": "",
      "description_tooltip": null,
      "layout": "IPY_MODEL_1323a57d2385429b8684e7d649bbb8e1",
      "max": 26,
      "min": 0,
      "orientation": "horizontal",
      "style": "IPY_MODEL_4967e10393184868839170bdb60e0d76",
      "value": 26
     }
    },
    "9034b48590684745b62edf747013b679": {
     "model_module": "@jupyter-widgets/base",
     "model_module_version": "1.2.0",
     "model_name": "LayoutModel",
     "state": {
      "_model_module": "@jupyter-widgets/base",
      "_model_module_version": "1.2.0",
      "_model_name": "LayoutModel",
      "_view_count": null,
      "_view_module": "@jupyter-widgets/base",
      "_view_module_version": "1.2.0",
      "_view_name": "LayoutView",
      "align_content": null,
      "align_items": null,
      "align_self": null,
      "border": null,
      "bottom": null,
      "display": null,
      "flex": null,
      "flex_flow": null,
      "grid_area": null,
      "grid_auto_columns": null,
      "grid_auto_flow": null,
      "grid_auto_rows": null,
      "grid_column": null,
      "grid_gap": null,
      "grid_row": null,
      "grid_template_areas": null,
      "grid_template_columns": null,
      "grid_template_rows": null,
      "height": null,
      "justify_content": null,
      "justify_items": null,
      "left": null,
      "margin": null,
      "max_height": null,
      "max_width": null,
      "min_height": null,
      "min_width": null,
      "object_fit": null,
      "object_position": null,
      "order": null,
      "overflow": null,
      "overflow_x": null,
      "overflow_y": null,
      "padding": null,
      "right": null,
      "top": null,
      "visibility": null,
      "width": null
     }
    },
    "9a8b1e1574564b7fa42bfd46b2863328": {
     "model_module": "@jupyter-widgets/controls",
     "model_module_version": "1.5.0",
     "model_name": "DescriptionStyleModel",
     "state": {
      "_model_module": "@jupyter-widgets/controls",
      "_model_module_version": "1.5.0",
      "_model_name": "DescriptionStyleModel",
      "_view_count": null,
      "_view_module": "@jupyter-widgets/base",
      "_view_module_version": "1.2.0",
      "_view_name": "StyleView",
      "description_width": ""
     }
    },
    "9bfa05d7950d4b058eb10a1f72bc87a3": {
     "model_module": "@jupyter-widgets/base",
     "model_module_version": "1.2.0",
     "model_name": "LayoutModel",
     "state": {
      "_model_module": "@jupyter-widgets/base",
      "_model_module_version": "1.2.0",
      "_model_name": "LayoutModel",
      "_view_count": null,
      "_view_module": "@jupyter-widgets/base",
      "_view_module_version": "1.2.0",
      "_view_name": "LayoutView",
      "align_content": null,
      "align_items": null,
      "align_self": null,
      "border": null,
      "bottom": null,
      "display": null,
      "flex": null,
      "flex_flow": null,
      "grid_area": null,
      "grid_auto_columns": null,
      "grid_auto_flow": null,
      "grid_auto_rows": null,
      "grid_column": null,
      "grid_gap": null,
      "grid_row": null,
      "grid_template_areas": null,
      "grid_template_columns": null,
      "grid_template_rows": null,
      "height": null,
      "justify_content": null,
      "justify_items": null,
      "left": null,
      "margin": null,
      "max_height": null,
      "max_width": null,
      "min_height": null,
      "min_width": null,
      "object_fit": null,
      "object_position": null,
      "order": null,
      "overflow": null,
      "overflow_x": null,
      "overflow_y": null,
      "padding": null,
      "right": null,
      "top": null,
      "visibility": null,
      "width": null
     }
    },
    "9d673768c61c4ac49e9e7722d3966bba": {
     "model_module": "@jupyter-widgets/controls",
     "model_module_version": "1.5.0",
     "model_name": "DescriptionStyleModel",
     "state": {
      "_model_module": "@jupyter-widgets/controls",
      "_model_module_version": "1.5.0",
      "_model_name": "DescriptionStyleModel",
      "_view_count": null,
      "_view_module": "@jupyter-widgets/base",
      "_view_module_version": "1.2.0",
      "_view_name": "StyleView",
      "description_width": ""
     }
    },
    "9f176141c03d4800a57da44843b3cb87": {
     "model_module": "@jupyter-widgets/base",
     "model_module_version": "1.2.0",
     "model_name": "LayoutModel",
     "state": {
      "_model_module": "@jupyter-widgets/base",
      "_model_module_version": "1.2.0",
      "_model_name": "LayoutModel",
      "_view_count": null,
      "_view_module": "@jupyter-widgets/base",
      "_view_module_version": "1.2.0",
      "_view_name": "LayoutView",
      "align_content": null,
      "align_items": null,
      "align_self": null,
      "border": null,
      "bottom": null,
      "display": null,
      "flex": null,
      "flex_flow": null,
      "grid_area": null,
      "grid_auto_columns": null,
      "grid_auto_flow": null,
      "grid_auto_rows": null,
      "grid_column": null,
      "grid_gap": null,
      "grid_row": null,
      "grid_template_areas": null,
      "grid_template_columns": null,
      "grid_template_rows": null,
      "height": null,
      "justify_content": null,
      "justify_items": null,
      "left": null,
      "margin": null,
      "max_height": null,
      "max_width": null,
      "min_height": null,
      "min_width": null,
      "object_fit": null,
      "object_position": null,
      "order": null,
      "overflow": null,
      "overflow_x": null,
      "overflow_y": null,
      "padding": null,
      "right": null,
      "top": null,
      "visibility": null,
      "width": null
     }
    },
    "a0eb47fd14af45bfa9a1e488b6e7de5a": {
     "model_module": "@jupyter-widgets/controls",
     "model_module_version": "1.5.0",
     "model_name": "HBoxModel",
     "state": {
      "_dom_classes": [],
      "_model_module": "@jupyter-widgets/controls",
      "_model_module_version": "1.5.0",
      "_model_name": "HBoxModel",
      "_view_count": null,
      "_view_module": "@jupyter-widgets/controls",
      "_view_module_version": "1.5.0",
      "_view_name": "HBoxView",
      "box_style": "",
      "children": [
       "IPY_MODEL_20e9efbdea3e4b8aaadd50ed371ba2d0",
       "IPY_MODEL_bf926fdbf6cb40da99ef45dbf65d7ec7",
       "IPY_MODEL_86eba3e64c864ea99a18fb393a33df5f"
      ],
      "layout": "IPY_MODEL_42ac3a761f2e467b96ac5833fd9c9f49"
     }
    },
    "a42d682ffe8e4c04ba939a02731f63ed": {
     "model_module": "@jupyter-widgets/controls",
     "model_module_version": "1.5.0",
     "model_name": "DescriptionStyleModel",
     "state": {
      "_model_module": "@jupyter-widgets/controls",
      "_model_module_version": "1.5.0",
      "_model_name": "DescriptionStyleModel",
      "_view_count": null,
      "_view_module": "@jupyter-widgets/base",
      "_view_module_version": "1.2.0",
      "_view_name": "StyleView",
      "description_width": ""
     }
    },
    "a47423e121134574871abda5a531a5ae": {
     "model_module": "@jupyter-widgets/base",
     "model_module_version": "1.2.0",
     "model_name": "LayoutModel",
     "state": {
      "_model_module": "@jupyter-widgets/base",
      "_model_module_version": "1.2.0",
      "_model_name": "LayoutModel",
      "_view_count": null,
      "_view_module": "@jupyter-widgets/base",
      "_view_module_version": "1.2.0",
      "_view_name": "LayoutView",
      "align_content": null,
      "align_items": null,
      "align_self": null,
      "border": null,
      "bottom": null,
      "display": null,
      "flex": null,
      "flex_flow": null,
      "grid_area": null,
      "grid_auto_columns": null,
      "grid_auto_flow": null,
      "grid_auto_rows": null,
      "grid_column": null,
      "grid_gap": null,
      "grid_row": null,
      "grid_template_areas": null,
      "grid_template_columns": null,
      "grid_template_rows": null,
      "height": null,
      "justify_content": null,
      "justify_items": null,
      "left": null,
      "margin": null,
      "max_height": null,
      "max_width": null,
      "min_height": null,
      "min_width": null,
      "object_fit": null,
      "object_position": null,
      "order": null,
      "overflow": null,
      "overflow_x": null,
      "overflow_y": null,
      "padding": null,
      "right": null,
      "top": null,
      "visibility": null,
      "width": null
     }
    },
    "aa0a0756da4847f49d8e84d9fc553a4d": {
     "model_module": "@jupyter-widgets/base",
     "model_module_version": "1.2.0",
     "model_name": "LayoutModel",
     "state": {
      "_model_module": "@jupyter-widgets/base",
      "_model_module_version": "1.2.0",
      "_model_name": "LayoutModel",
      "_view_count": null,
      "_view_module": "@jupyter-widgets/base",
      "_view_module_version": "1.2.0",
      "_view_name": "LayoutView",
      "align_content": null,
      "align_items": null,
      "align_self": null,
      "border": null,
      "bottom": null,
      "display": null,
      "flex": null,
      "flex_flow": null,
      "grid_area": null,
      "grid_auto_columns": null,
      "grid_auto_flow": null,
      "grid_auto_rows": null,
      "grid_column": null,
      "grid_gap": null,
      "grid_row": null,
      "grid_template_areas": null,
      "grid_template_columns": null,
      "grid_template_rows": null,
      "height": null,
      "justify_content": null,
      "justify_items": null,
      "left": null,
      "margin": null,
      "max_height": null,
      "max_width": null,
      "min_height": null,
      "min_width": null,
      "object_fit": null,
      "object_position": null,
      "order": null,
      "overflow": null,
      "overflow_x": null,
      "overflow_y": null,
      "padding": null,
      "right": null,
      "top": null,
      "visibility": null,
      "width": null
     }
    },
    "b13458b570744e3fbcb59a220596fa02": {
     "model_module": "@jupyter-widgets/base",
     "model_module_version": "1.2.0",
     "model_name": "LayoutModel",
     "state": {
      "_model_module": "@jupyter-widgets/base",
      "_model_module_version": "1.2.0",
      "_model_name": "LayoutModel",
      "_view_count": null,
      "_view_module": "@jupyter-widgets/base",
      "_view_module_version": "1.2.0",
      "_view_name": "LayoutView",
      "align_content": null,
      "align_items": null,
      "align_self": null,
      "border": null,
      "bottom": null,
      "display": null,
      "flex": null,
      "flex_flow": null,
      "grid_area": null,
      "grid_auto_columns": null,
      "grid_auto_flow": null,
      "grid_auto_rows": null,
      "grid_column": null,
      "grid_gap": null,
      "grid_row": null,
      "grid_template_areas": null,
      "grid_template_columns": null,
      "grid_template_rows": null,
      "height": null,
      "justify_content": null,
      "justify_items": null,
      "left": null,
      "margin": null,
      "max_height": null,
      "max_width": null,
      "min_height": null,
      "min_width": null,
      "object_fit": null,
      "object_position": null,
      "order": null,
      "overflow": null,
      "overflow_x": null,
      "overflow_y": null,
      "padding": null,
      "right": null,
      "top": null,
      "visibility": null,
      "width": null
     }
    },
    "b581aa2264324944b0912796b2b67ec8": {
     "model_module": "@jupyter-widgets/base",
     "model_module_version": "1.2.0",
     "model_name": "LayoutModel",
     "state": {
      "_model_module": "@jupyter-widgets/base",
      "_model_module_version": "1.2.0",
      "_model_name": "LayoutModel",
      "_view_count": null,
      "_view_module": "@jupyter-widgets/base",
      "_view_module_version": "1.2.0",
      "_view_name": "LayoutView",
      "align_content": null,
      "align_items": null,
      "align_self": null,
      "border": null,
      "bottom": null,
      "display": null,
      "flex": null,
      "flex_flow": null,
      "grid_area": null,
      "grid_auto_columns": null,
      "grid_auto_flow": null,
      "grid_auto_rows": null,
      "grid_column": null,
      "grid_gap": null,
      "grid_row": null,
      "grid_template_areas": null,
      "grid_template_columns": null,
      "grid_template_rows": null,
      "height": null,
      "justify_content": null,
      "justify_items": null,
      "left": null,
      "margin": null,
      "max_height": null,
      "max_width": null,
      "min_height": null,
      "min_width": null,
      "object_fit": null,
      "object_position": null,
      "order": null,
      "overflow": null,
      "overflow_x": null,
      "overflow_y": null,
      "padding": null,
      "right": null,
      "top": null,
      "visibility": null,
      "width": null
     }
    },
    "b6b68c3fef6d44009637515d816633bc": {
     "model_module": "@jupyter-widgets/base",
     "model_module_version": "1.2.0",
     "model_name": "LayoutModel",
     "state": {
      "_model_module": "@jupyter-widgets/base",
      "_model_module_version": "1.2.0",
      "_model_name": "LayoutModel",
      "_view_count": null,
      "_view_module": "@jupyter-widgets/base",
      "_view_module_version": "1.2.0",
      "_view_name": "LayoutView",
      "align_content": null,
      "align_items": null,
      "align_self": null,
      "border": null,
      "bottom": null,
      "display": null,
      "flex": null,
      "flex_flow": null,
      "grid_area": null,
      "grid_auto_columns": null,
      "grid_auto_flow": null,
      "grid_auto_rows": null,
      "grid_column": null,
      "grid_gap": null,
      "grid_row": null,
      "grid_template_areas": null,
      "grid_template_columns": null,
      "grid_template_rows": null,
      "height": null,
      "justify_content": null,
      "justify_items": null,
      "left": null,
      "margin": null,
      "max_height": null,
      "max_width": null,
      "min_height": null,
      "min_width": null,
      "object_fit": null,
      "object_position": null,
      "order": null,
      "overflow": null,
      "overflow_x": null,
      "overflow_y": null,
      "padding": null,
      "right": null,
      "top": null,
      "visibility": null,
      "width": null
     }
    },
    "bf926fdbf6cb40da99ef45dbf65d7ec7": {
     "model_module": "@jupyter-widgets/controls",
     "model_module_version": "1.5.0",
     "model_name": "FloatProgressModel",
     "state": {
      "_dom_classes": [],
      "_model_module": "@jupyter-widgets/controls",
      "_model_module_version": "1.5.0",
      "_model_name": "FloatProgressModel",
      "_view_count": null,
      "_view_module": "@jupyter-widgets/controls",
      "_view_module_version": "1.5.0",
      "_view_name": "ProgressView",
      "bar_style": "success",
      "description": "",
      "description_tooltip": null,
      "layout": "IPY_MODEL_794b5b10bbe9403092c32e56fa58fb4d",
      "max": 456318,
      "min": 0,
      "orientation": "horizontal",
      "style": "IPY_MODEL_099bc0ca014746258f63ec14caf3d707",
      "value": 456318
     }
    },
    "c0f5a2ae438f4d2f91a463772985d087": {
     "model_module": "@jupyter-widgets/base",
     "model_module_version": "1.2.0",
     "model_name": "LayoutModel",
     "state": {
      "_model_module": "@jupyter-widgets/base",
      "_model_module_version": "1.2.0",
      "_model_name": "LayoutModel",
      "_view_count": null,
      "_view_module": "@jupyter-widgets/base",
      "_view_module_version": "1.2.0",
      "_view_name": "LayoutView",
      "align_content": null,
      "align_items": null,
      "align_self": null,
      "border": null,
      "bottom": null,
      "display": null,
      "flex": null,
      "flex_flow": null,
      "grid_area": null,
      "grid_auto_columns": null,
      "grid_auto_flow": null,
      "grid_auto_rows": null,
      "grid_column": null,
      "grid_gap": null,
      "grid_row": null,
      "grid_template_areas": null,
      "grid_template_columns": null,
      "grid_template_rows": null,
      "height": null,
      "justify_content": null,
      "justify_items": null,
      "left": null,
      "margin": null,
      "max_height": null,
      "max_width": null,
      "min_height": null,
      "min_width": null,
      "object_fit": null,
      "object_position": null,
      "order": null,
      "overflow": null,
      "overflow_x": null,
      "overflow_y": null,
      "padding": null,
      "right": null,
      "top": null,
      "visibility": null,
      "width": null
     }
    },
    "c174dd0f984244098541958d8b0bebbd": {
     "model_module": "@jupyter-widgets/controls",
     "model_module_version": "1.5.0",
     "model_name": "FloatProgressModel",
     "state": {
      "_dom_classes": [],
      "_model_module": "@jupyter-widgets/controls",
      "_model_module_version": "1.5.0",
      "_model_name": "FloatProgressModel",
      "_view_count": null,
      "_view_module": "@jupyter-widgets/controls",
      "_view_module_version": "1.5.0",
      "_view_name": "ProgressView",
      "bar_style": "success",
      "description": "",
      "description_tooltip": null,
      "layout": "IPY_MODEL_c0f5a2ae438f4d2f91a463772985d087",
      "max": 1154,
      "min": 0,
      "orientation": "horizontal",
      "style": "IPY_MODEL_1410cc62f5c74502aaead6d1cd788351",
      "value": 1154
     }
    },
    "c5644db15e1a46b685aaf65ddbaf63d4": {
     "model_module": "@jupyter-widgets/base",
     "model_module_version": "1.2.0",
     "model_name": "LayoutModel",
     "state": {
      "_model_module": "@jupyter-widgets/base",
      "_model_module_version": "1.2.0",
      "_model_name": "LayoutModel",
      "_view_count": null,
      "_view_module": "@jupyter-widgets/base",
      "_view_module_version": "1.2.0",
      "_view_name": "LayoutView",
      "align_content": null,
      "align_items": null,
      "align_self": null,
      "border": null,
      "bottom": null,
      "display": null,
      "flex": null,
      "flex_flow": null,
      "grid_area": null,
      "grid_auto_columns": null,
      "grid_auto_flow": null,
      "grid_auto_rows": null,
      "grid_column": null,
      "grid_gap": null,
      "grid_row": null,
      "grid_template_areas": null,
      "grid_template_columns": null,
      "grid_template_rows": null,
      "height": null,
      "justify_content": null,
      "justify_items": null,
      "left": null,
      "margin": null,
      "max_height": null,
      "max_width": null,
      "min_height": null,
      "min_width": null,
      "object_fit": null,
      "object_position": null,
      "order": null,
      "overflow": null,
      "overflow_x": null,
      "overflow_y": null,
      "padding": null,
      "right": null,
      "top": null,
      "visibility": null,
      "width": null
     }
    },
    "c7fb01e48ef74094bfa72bec82061e1d": {
     "model_module": "@jupyter-widgets/controls",
     "model_module_version": "1.5.0",
     "model_name": "HTMLModel",
     "state": {
      "_dom_classes": [],
      "_model_module": "@jupyter-widgets/controls",
      "_model_module_version": "1.5.0",
      "_model_name": "HTMLModel",
      "_view_count": null,
      "_view_module": "@jupyter-widgets/controls",
      "_view_module_version": "1.5.0",
      "_view_name": "HTMLView",
      "description": "",
      "description_tooltip": null,
      "layout": "IPY_MODEL_dc89498eba4646e3af2ed75f359b4923",
      "placeholder": "​",
      "style": "IPY_MODEL_d4356335097344119689f12a1ae906fe",
      "value": "Downloading: 100%"
     }
    },
    "c873982133014b12b143d7def0ba2a6d": {
     "model_module": "@jupyter-widgets/controls",
     "model_module_version": "1.5.0",
     "model_name": "HBoxModel",
     "state": {
      "_dom_classes": [],
      "_model_module": "@jupyter-widgets/controls",
      "_model_module_version": "1.5.0",
      "_model_name": "HBoxModel",
      "_view_count": null,
      "_view_module": "@jupyter-widgets/controls",
      "_view_module_version": "1.5.0",
      "_view_name": "HBoxView",
      "box_style": "",
      "children": [
       "IPY_MODEL_7729380ee9cd429f8961f40a60c3efe8",
       "IPY_MODEL_511c45fff608433db4c08cf8e28ad54b",
       "IPY_MODEL_7baeab9f739b434b83706542b418c9e3"
      ],
      "layout": "IPY_MODEL_78cb8889a45646868bf0989b6b0b3666"
     }
    },
    "d4356335097344119689f12a1ae906fe": {
     "model_module": "@jupyter-widgets/controls",
     "model_module_version": "1.5.0",
     "model_name": "DescriptionStyleModel",
     "state": {
      "_model_module": "@jupyter-widgets/controls",
      "_model_module_version": "1.5.0",
      "_model_name": "DescriptionStyleModel",
      "_view_count": null,
      "_view_module": "@jupyter-widgets/base",
      "_view_module_version": "1.2.0",
      "_view_name": "StyleView",
      "description_width": ""
     }
    },
    "db3f2c8951774db5922d1cf37809ab25": {
     "model_module": "@jupyter-widgets/base",
     "model_module_version": "1.2.0",
     "model_name": "LayoutModel",
     "state": {
      "_model_module": "@jupyter-widgets/base",
      "_model_module_version": "1.2.0",
      "_model_name": "LayoutModel",
      "_view_count": null,
      "_view_module": "@jupyter-widgets/base",
      "_view_module_version": "1.2.0",
      "_view_name": "LayoutView",
      "align_content": null,
      "align_items": null,
      "align_self": null,
      "border": null,
      "bottom": null,
      "display": null,
      "flex": null,
      "flex_flow": null,
      "grid_area": null,
      "grid_auto_columns": null,
      "grid_auto_flow": null,
      "grid_auto_rows": null,
      "grid_column": null,
      "grid_gap": null,
      "grid_row": null,
      "grid_template_areas": null,
      "grid_template_columns": null,
      "grid_template_rows": null,
      "height": null,
      "justify_content": null,
      "justify_items": null,
      "left": null,
      "margin": null,
      "max_height": null,
      "max_width": null,
      "min_height": null,
      "min_width": null,
      "object_fit": null,
      "object_position": null,
      "order": null,
      "overflow": null,
      "overflow_x": null,
      "overflow_y": null,
      "padding": null,
      "right": null,
      "top": null,
      "visibility": null,
      "width": null
     }
    },
    "dc89498eba4646e3af2ed75f359b4923": {
     "model_module": "@jupyter-widgets/base",
     "model_module_version": "1.2.0",
     "model_name": "LayoutModel",
     "state": {
      "_model_module": "@jupyter-widgets/base",
      "_model_module_version": "1.2.0",
      "_model_name": "LayoutModel",
      "_view_count": null,
      "_view_module": "@jupyter-widgets/base",
      "_view_module_version": "1.2.0",
      "_view_name": "LayoutView",
      "align_content": null,
      "align_items": null,
      "align_self": null,
      "border": null,
      "bottom": null,
      "display": null,
      "flex": null,
      "flex_flow": null,
      "grid_area": null,
      "grid_auto_columns": null,
      "grid_auto_flow": null,
      "grid_auto_rows": null,
      "grid_column": null,
      "grid_gap": null,
      "grid_row": null,
      "grid_template_areas": null,
      "grid_template_columns": null,
      "grid_template_rows": null,
      "height": null,
      "justify_content": null,
      "justify_items": null,
      "left": null,
      "margin": null,
      "max_height": null,
      "max_width": null,
      "min_height": null,
      "min_width": null,
      "object_fit": null,
      "object_position": null,
      "order": null,
      "overflow": null,
      "overflow_x": null,
      "overflow_y": null,
      "padding": null,
      "right": null,
      "top": null,
      "visibility": null,
      "width": null
     }
    },
    "e0fcd28a38f74020962296ac936f3e12": {
     "model_module": "@jupyter-widgets/controls",
     "model_module_version": "1.5.0",
     "model_name": "HTMLModel",
     "state": {
      "_dom_classes": [],
      "_model_module": "@jupyter-widgets/controls",
      "_model_module_version": "1.5.0",
      "_model_name": "HTMLModel",
      "_view_count": null,
      "_view_module": "@jupyter-widgets/controls",
      "_view_module_version": "1.5.0",
      "_view_name": "HTMLView",
      "description": "",
      "description_tooltip": null,
      "layout": "IPY_MODEL_b6b68c3fef6d44009637515d816633bc",
      "placeholder": "​",
      "style": "IPY_MODEL_18c610d7e96245d2a45bec5e1dbed135",
      "value": "Downloading: 100%"
     }
    },
    "e8846ea40bc74bca8416c350fce3d6ba": {
     "model_module": "@jupyter-widgets/controls",
     "model_module_version": "1.5.0",
     "model_name": "DescriptionStyleModel",
     "state": {
      "_model_module": "@jupyter-widgets/controls",
      "_model_module_version": "1.5.0",
      "_model_name": "DescriptionStyleModel",
      "_view_count": null,
      "_view_module": "@jupyter-widgets/base",
      "_view_module_version": "1.2.0",
      "_view_name": "StyleView",
      "description_width": ""
     }
    },
    "f01a29cc8c7d4cf8bb5cd5b64bc59566": {
     "model_module": "@jupyter-widgets/controls",
     "model_module_version": "1.5.0",
     "model_name": "HTMLModel",
     "state": {
      "_dom_classes": [],
      "_model_module": "@jupyter-widgets/controls",
      "_model_module_version": "1.5.0",
      "_model_name": "HTMLModel",
      "_view_count": null,
      "_view_module": "@jupyter-widgets/controls",
      "_view_module_version": "1.5.0",
      "_view_name": "HTMLView",
      "description": "",
      "description_tooltip": null,
      "layout": "IPY_MODEL_9f176141c03d4800a57da44843b3cb87",
      "placeholder": "​",
      "style": "IPY_MODEL_a42d682ffe8e4c04ba939a02731f63ed",
      "value": " 1.29M/1.29M [00:00&lt;00:00, 1.12MB/s]"
     }
    },
    "fa9f81f4575242eda96f987f5111416c": {
     "model_module": "@jupyter-widgets/controls",
     "model_module_version": "1.5.0",
     "model_name": "ProgressStyleModel",
     "state": {
      "_model_module": "@jupyter-widgets/controls",
      "_model_module_version": "1.5.0",
      "_model_name": "ProgressStyleModel",
      "_view_count": null,
      "_view_module": "@jupyter-widgets/base",
      "_view_module_version": "1.2.0",
      "_view_name": "StyleView",
      "bar_color": null,
      "description_width": ""
     }
    }
   }
  }
 },
 "nbformat": 4,
 "nbformat_minor": 1
}
